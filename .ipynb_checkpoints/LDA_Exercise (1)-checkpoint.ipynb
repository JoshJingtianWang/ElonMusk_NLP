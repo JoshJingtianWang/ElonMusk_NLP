{
 "cells": [
  {
   "cell_type": "markdown",
   "metadata": {},
   "source": [
    "# Topic Modeling with gensim\n",
    "We'll try out [Latent Dirichlet Allocation (LDA)](https://en.wikipedia.org/wiki/Latent_Dirichlet_allocation) in [gensim](http://radimrehurek.com/gensim/index.html) on the [20 Newsgroups dataset](http://scikit-learn.org/stable/modules/generated/sklearn.datasets.fetch_20newsgroups.html) with some simple preprocessing."
   ]
  },
  {
   "cell_type": "markdown",
   "metadata": {},
   "source": [
    "#### Install gensim"
   ]
  },
  {
   "cell_type": "code",
   "execution_count": 1,
   "metadata": {},
   "outputs": [
    {
     "name": "stdout",
     "output_type": "stream",
     "text": [
      "Collecting package metadata (current_repodata.json): done\n",
      "Solving environment: failed with initial frozen solve. Retrying with flexible solve.\n",
      "Solving environment: failed with repodata from current_repodata.json, will retry with next repodata source.\n",
      "Collecting package metadata (repodata.json): done\n",
      "Solving environment: done\n",
      "\n",
      "## Package Plan ##\n",
      "\n",
      "  environment location: /opt/anaconda3\n",
      "\n",
      "  added / updated specs:\n",
      "    - gensim\n",
      "\n",
      "\n",
      "The following packages will be downloaded:\n",
      "\n",
      "    package                    |            build\n",
      "    ---------------------------|-----------------\n",
      "    aiohttp-3.7.4.post0        |   py37h9ed2024_2         523 KB\n",
      "    async-timeout-3.0.1        |   py37hecd8cb5_0          13 KB\n",
      "    boto3-1.18.21              |     pyhd3eb1b0_0          70 KB\n",
      "    botocore-1.21.41           |     pyhd3eb1b0_1         3.9 MB\n",
      "    ca-certificates-2021.10.26 |       hecd8cb5_2         115 KB\n",
      "    cachetools-4.2.2           |     pyhd3eb1b0_0          13 KB\n",
      "    certifi-2021.10.8          |   py37hecd8cb5_0         151 KB\n",
      "    conda-4.10.3               |   py37hecd8cb5_0         2.9 MB\n",
      "    gensim-3.8.0               |   py37h6440ff4_0        18.4 MB\n",
      "    google-api-core-1.25.1     |     pyhd3eb1b0_0          64 KB\n",
      "    google-auth-1.28.0         |     pyhd3eb1b0_0          72 KB\n",
      "    google-cloud-core-1.6.0    |     pyhd3eb1b0_0          25 KB\n",
      "    google-cloud-storage-1.40.0|     pyhd3eb1b0_0          71 KB\n",
      "    google-crc32c-1.1.2        |   py37h9ed2024_0          21 KB\n",
      "    google-resumable-media-1.3.1|     pyhd3eb1b0_1          41 KB\n",
      "    googleapis-common-protos-1.53.0|   py37hecd8cb5_0         134 KB\n",
      "    jmespath-0.10.0            |     pyhd3eb1b0_0          22 KB\n",
      "    libcrc32c-1.1.1            |       hb1e8313_2          20 KB\n",
      "    multidict-5.1.0            |   py37h9ed2024_2          59 KB\n",
      "    openssl-1.1.1l             |       h9ed2024_0         2.2 MB\n",
      "    pyasn1-0.4.8               |     pyhd3eb1b0_0          54 KB\n",
      "    pyasn1-modules-0.2.8       |             py_0          72 KB\n",
      "    rsa-4.7.2                  |     pyhd3eb1b0_1          28 KB\n",
      "    s3transfer-0.5.0           |     pyhd3eb1b0_0          57 KB\n",
      "    smart_open-5.1.0           |     pyhd3eb1b0_0          43 KB\n",
      "    typing-extensions-3.7.4.2  |                0          12 KB\n",
      "    yarl-1.5.1                 |   py37haf1e3a3_0         128 KB\n",
      "    ------------------------------------------------------------\n",
      "                                           Total:        29.1 MB\n",
      "\n",
      "The following NEW packages will be INSTALLED:\n",
      "\n",
      "  aiohttp            pkgs/main/osx-64::aiohttp-3.7.4.post0-py37h9ed2024_2\n",
      "  async-timeout      pkgs/main/osx-64::async-timeout-3.0.1-py37hecd8cb5_0\n",
      "  boto3              pkgs/main/noarch::boto3-1.18.21-pyhd3eb1b0_0\n",
      "  botocore           pkgs/main/noarch::botocore-1.21.41-pyhd3eb1b0_1\n",
      "  cachetools         pkgs/main/noarch::cachetools-4.2.2-pyhd3eb1b0_0\n",
      "  gensim             pkgs/main/osx-64::gensim-3.8.0-py37h6440ff4_0\n",
      "  google-api-core    pkgs/main/noarch::google-api-core-1.25.1-pyhd3eb1b0_0\n",
      "  google-auth        pkgs/main/noarch::google-auth-1.28.0-pyhd3eb1b0_0\n",
      "  google-cloud-core  pkgs/main/noarch::google-cloud-core-1.6.0-pyhd3eb1b0_0\n",
      "  google-cloud-stor~ pkgs/main/noarch::google-cloud-storage-1.40.0-pyhd3eb1b0_0\n",
      "  google-crc32c      pkgs/main/osx-64::google-crc32c-1.1.2-py37h9ed2024_0\n",
      "  google-resumable-~ pkgs/main/noarch::google-resumable-media-1.3.1-pyhd3eb1b0_1\n",
      "  googleapis-common~ pkgs/main/osx-64::googleapis-common-protos-1.53.0-py37hecd8cb5_0\n",
      "  jmespath           pkgs/main/noarch::jmespath-0.10.0-pyhd3eb1b0_0\n",
      "  libcrc32c          pkgs/main/osx-64::libcrc32c-1.1.1-hb1e8313_2\n",
      "  multidict          pkgs/main/osx-64::multidict-5.1.0-py37h9ed2024_2\n",
      "  pyasn1             pkgs/main/noarch::pyasn1-0.4.8-pyhd3eb1b0_0\n",
      "  pyasn1-modules     pkgs/main/noarch::pyasn1-modules-0.2.8-py_0\n",
      "  rsa                pkgs/main/noarch::rsa-4.7.2-pyhd3eb1b0_1\n",
      "  s3transfer         pkgs/main/noarch::s3transfer-0.5.0-pyhd3eb1b0_0\n",
      "  smart_open         pkgs/main/noarch::smart_open-5.1.0-pyhd3eb1b0_0\n",
      "  typing-extensions  pkgs/main/noarch::typing-extensions-3.7.4.2-0\n",
      "  yarl               pkgs/main/osx-64::yarl-1.5.1-py37haf1e3a3_0\n",
      "\n",
      "The following packages will be UPDATED:\n",
      "\n",
      "  ca-certificates    conda-forge::ca-certificates-2021.5.3~ --> pkgs/main::ca-certificates-2021.10.26-hecd8cb5_2\n",
      "  certifi            conda-forge::certifi-2021.5.30-py37hf~ --> pkgs/main::certifi-2021.10.8-py37hecd8cb5_0\n",
      "\n",
      "The following packages will be SUPERSEDED by a higher-priority channel:\n",
      "\n",
      "  conda              conda-forge::conda-4.10.3-py37hf98548~ --> pkgs/main::conda-4.10.3-py37hecd8cb5_0\n",
      "  openssl            conda-forge::openssl-1.1.1l-h0d85af4_0 --> pkgs/main::openssl-1.1.1l-h9ed2024_0\n",
      "\n",
      "\n",
      "\n",
      "Downloading and Extracting Packages\n",
      "libcrc32c-1.1.1      | 20 KB     | ##################################### | 100% \n",
      "cachetools-4.2.2     | 13 KB     | ##################################### | 100% \n",
      "openssl-1.1.1l       | 2.2 MB    | ##################################### | 100% \n",
      "conda-4.10.3         | 2.9 MB    | ##################################### | 100% \n",
      "jmespath-0.10.0      | 22 KB     | ##################################### | 100% \n",
      "google-resumable-med | 41 KB     | ##################################### | 100% \n",
      "pyasn1-modules-0.2.8 | 72 KB     | ##################################### | 100% \n",
      "google-cloud-storage | 71 KB     | ##################################### | 100% \n",
      "google-auth-1.28.0   | 72 KB     | ##################################### | 100% \n",
      "yarl-1.5.1           | 128 KB    | ##################################### | 100% \n",
      "pyasn1-0.4.8         | 54 KB     | ##################################### | 100% \n",
      "typing-extensions-3. | 12 KB     | ##################################### | 100% \n",
      "s3transfer-0.5.0     | 57 KB     | ##################################### | 100% \n",
      "botocore-1.21.41     | 3.9 MB    | ##################################### | 100% \n",
      "rsa-4.7.2            | 28 KB     | ##################################### | 100% \n",
      "ca-certificates-2021 | 115 KB    | ##################################### | 100% \n",
      "async-timeout-3.0.1  | 13 KB     | ##################################### | 100% \n",
      "google-crc32c-1.1.2  | 21 KB     | ##################################### | 100% \n",
      "google-api-core-1.25 | 64 KB     | ##################################### | 100% \n",
      "certifi-2021.10.8    | 151 KB    | ##################################### | 100% \n",
      "gensim-3.8.0         | 18.4 MB   | ##################################### | 100% \n",
      "boto3-1.18.21        | 70 KB     | ##################################### | 100% \n",
      "googleapis-common-pr | 134 KB    | ##################################### | 100% \n",
      "smart_open-5.1.0     | 43 KB     | ##################################### | 100% \n",
      "multidict-5.1.0      | 59 KB     | ##################################### | 100% \n",
      "aiohttp-3.7.4.post0  | 523 KB    | ##################################### | 100% \n",
      "google-cloud-core-1. | 25 KB     | ##################################### | 100% \n",
      "Preparing transaction: done\n",
      "Verifying transaction: done\n",
      "Executing transaction: done\n"
     ]
    }
   ],
   "source": [
    "# !conda install gensim -y"
   ]
  },
  {
   "cell_type": "markdown",
   "metadata": {},
   "source": [
    "##### imports"
   ]
  },
  {
   "cell_type": "code",
   "execution_count": 2,
   "metadata": {},
   "outputs": [],
   "source": [
    "# gensim\n",
    "from gensim import corpora, models, similarities, matutils\n",
    "\n",
    "# sklearn\n",
    "from sklearn import datasets\n",
    "from sklearn.feature_extraction.text import CountVectorizer\n",
    "\n",
    "# logging for gensim (set to INFO)\n",
    "import logging\n",
    "logging.basicConfig(format='%(asctime)s : %(levelname)s : %(message)s', level=logging.INFO)"
   ]
  },
  {
   "cell_type": "markdown",
   "metadata": {},
   "source": [
    "Let's retain only a subset of the 20 categories in the original 20 Newsgroups Dataset."
   ]
  },
  {
   "cell_type": "code",
   "execution_count": 3,
   "metadata": {},
   "outputs": [],
   "source": [
    "# Set categories\n",
    "categories = ['alt.atheism', 'comp.graphics', 'rec.sport.baseball', \n",
    "              'rec.motorcycles', 'sci.space', 'talk.politics.mideast']\n",
    "\n",
    "# Download the training subset of the 20 NG dataset, with headers, footers, quotes removed\n",
    "# Only keep docs from the 6 categories above\n",
    "ng_train = datasets.fetch_20newsgroups(subset='train', categories=categories, \n",
    "                                      remove=('headers', 'footers', 'quotes'))"
   ]
  },
  {
   "cell_type": "code",
   "execution_count": 4,
   "metadata": {},
   "outputs": [
    {
     "data": {
      "text/plain": [
       "'Well, the Red Sox have apparenly resigned Herm Winningham to a AAA contract.\\nTed \"Larry\" Simmons signed him to a AAA contract then released him from\\nBuffalo, allowing Lou \"Curly\" Gorman to circumvent the rule about not\\nresigning free agents until May 1. Clearly, neither of these guys is bright\\nenough to be Moe.\\n\\n Mike Jones | AIX High-End Development | mjones@donald.aix.kingston.ibm.com'"
      ]
     },
     "execution_count": 4,
     "metadata": {},
     "output_type": "execute_result"
    }
   ],
   "source": [
    "# Take a look at the first doc\n",
    "ng_train.data[0]"
   ]
  },
  {
   "cell_type": "markdown",
   "metadata": {},
   "source": [
    "## Document Preprocessing\n",
    "We'll need to generate a term-document matrix of word (token) counts for use in LDA.\n",
    "\n",
    "We'll use `sklearn`'s `CountVectorizer` to generate our term-document matrix of counts. We'll make use of a few parameters to accomplish the following preprocessing of the text documents all within the `CountVectorizer`:\n",
    "* `analyzer=word`: Tokenize by word\n",
    "* `ngram_range=(1,2)`: Keep all 1 and 2-word grams\n",
    "* `stop_words=english`: Remove all English stop words\n",
    "* `token_pattern=\\\\b[a-z][a-z]+\\\\b`: Match all tokens with 2 or more (strictly) alphabet characters"
   ]
  },
  {
   "cell_type": "code",
   "execution_count": 5,
   "metadata": {},
   "outputs": [
    {
     "data": {
      "text/plain": [
       "CountVectorizer(ngram_range=(1, 2), stop_words='english',\n",
       "                token_pattern='\\\\b[a-z][a-z]+\\\\b')"
      ]
     },
     "execution_count": 5,
     "metadata": {},
     "output_type": "execute_result"
    }
   ],
   "source": [
    "# Create a CountVectorizer for parsing/counting words\n",
    "count_vectorizer = CountVectorizer(ngram_range=(1, 2),  \n",
    "                                   stop_words='english', token_pattern=\"\\\\b[a-z][a-z]+\\\\b\")\n",
    "\n",
    "count_vectorizer.fit(ng_train.data)"
   ]
  },
  {
   "cell_type": "code",
   "execution_count": 6,
   "metadata": {},
   "outputs": [],
   "source": [
    "# Create the term-document matrix\n",
    "# Transpose it so the terms are the rows\n",
    "doc_word = count_vectorizer.transform(ng_train.data).transpose()"
   ]
  },
  {
   "cell_type": "code",
   "execution_count": 7,
   "metadata": {},
   "outputs": [
    {
     "data": {
      "text/html": [
       "<div>\n",
       "<style scoped>\n",
       "    .dataframe tbody tr th:only-of-type {\n",
       "        vertical-align: middle;\n",
       "    }\n",
       "\n",
       "    .dataframe tbody tr th {\n",
       "        vertical-align: top;\n",
       "    }\n",
       "\n",
       "    .dataframe thead th {\n",
       "        text-align: right;\n",
       "    }\n",
       "</style>\n",
       "<table border=\"1\" class=\"dataframe\">\n",
       "  <thead>\n",
       "    <tr style=\"text-align: right;\">\n",
       "      <th></th>\n",
       "      <th>0</th>\n",
       "      <th>1</th>\n",
       "      <th>2</th>\n",
       "      <th>3</th>\n",
       "      <th>4</th>\n",
       "      <th>5</th>\n",
       "      <th>6</th>\n",
       "      <th>7</th>\n",
       "      <th>8</th>\n",
       "      <th>9</th>\n",
       "      <th>...</th>\n",
       "      <th>3406</th>\n",
       "      <th>3407</th>\n",
       "      <th>3408</th>\n",
       "      <th>3409</th>\n",
       "      <th>3410</th>\n",
       "      <th>3411</th>\n",
       "      <th>3412</th>\n",
       "      <th>3413</th>\n",
       "      <th>3414</th>\n",
       "      <th>3415</th>\n",
       "    </tr>\n",
       "  </thead>\n",
       "  <tbody>\n",
       "    <tr>\n",
       "      <th>aa</th>\n",
       "      <td>0</td>\n",
       "      <td>0</td>\n",
       "      <td>0</td>\n",
       "      <td>0</td>\n",
       "      <td>0</td>\n",
       "      <td>0</td>\n",
       "      <td>0</td>\n",
       "      <td>0</td>\n",
       "      <td>0</td>\n",
       "      <td>0</td>\n",
       "      <td>...</td>\n",
       "      <td>0</td>\n",
       "      <td>0</td>\n",
       "      <td>0</td>\n",
       "      <td>0</td>\n",
       "      <td>0</td>\n",
       "      <td>0</td>\n",
       "      <td>0</td>\n",
       "      <td>0</td>\n",
       "      <td>0</td>\n",
       "      <td>0</td>\n",
       "    </tr>\n",
       "    <tr>\n",
       "      <th>aa aaa</th>\n",
       "      <td>0</td>\n",
       "      <td>0</td>\n",
       "      <td>0</td>\n",
       "      <td>0</td>\n",
       "      <td>0</td>\n",
       "      <td>0</td>\n",
       "      <td>0</td>\n",
       "      <td>0</td>\n",
       "      <td>0</td>\n",
       "      <td>0</td>\n",
       "      <td>...</td>\n",
       "      <td>0</td>\n",
       "      <td>0</td>\n",
       "      <td>0</td>\n",
       "      <td>0</td>\n",
       "      <td>0</td>\n",
       "      <td>0</td>\n",
       "      <td>0</td>\n",
       "      <td>0</td>\n",
       "      <td>0</td>\n",
       "      <td>0</td>\n",
       "    </tr>\n",
       "    <tr>\n",
       "      <th>aa albany</th>\n",
       "      <td>0</td>\n",
       "      <td>0</td>\n",
       "      <td>0</td>\n",
       "      <td>0</td>\n",
       "      <td>0</td>\n",
       "      <td>0</td>\n",
       "      <td>0</td>\n",
       "      <td>0</td>\n",
       "      <td>0</td>\n",
       "      <td>0</td>\n",
       "      <td>...</td>\n",
       "      <td>0</td>\n",
       "      <td>0</td>\n",
       "      <td>0</td>\n",
       "      <td>0</td>\n",
       "      <td>0</td>\n",
       "      <td>0</td>\n",
       "      <td>0</td>\n",
       "      <td>0</td>\n",
       "      <td>0</td>\n",
       "      <td>0</td>\n",
       "    </tr>\n",
       "    <tr>\n",
       "      <th>aa atlanta</th>\n",
       "      <td>0</td>\n",
       "      <td>0</td>\n",
       "      <td>0</td>\n",
       "      <td>0</td>\n",
       "      <td>0</td>\n",
       "      <td>0</td>\n",
       "      <td>0</td>\n",
       "      <td>0</td>\n",
       "      <td>0</td>\n",
       "      <td>0</td>\n",
       "      <td>...</td>\n",
       "      <td>0</td>\n",
       "      <td>0</td>\n",
       "      <td>0</td>\n",
       "      <td>0</td>\n",
       "      <td>0</td>\n",
       "      <td>0</td>\n",
       "      <td>0</td>\n",
       "      <td>0</td>\n",
       "      <td>0</td>\n",
       "      <td>0</td>\n",
       "    </tr>\n",
       "    <tr>\n",
       "      <th>aa does</th>\n",
       "      <td>0</td>\n",
       "      <td>0</td>\n",
       "      <td>0</td>\n",
       "      <td>0</td>\n",
       "      <td>0</td>\n",
       "      <td>0</td>\n",
       "      <td>0</td>\n",
       "      <td>0</td>\n",
       "      <td>0</td>\n",
       "      <td>0</td>\n",
       "      <td>...</td>\n",
       "      <td>0</td>\n",
       "      <td>0</td>\n",
       "      <td>0</td>\n",
       "      <td>0</td>\n",
       "      <td>0</td>\n",
       "      <td>0</td>\n",
       "      <td>0</td>\n",
       "      <td>0</td>\n",
       "      <td>0</td>\n",
       "      <td>0</td>\n",
       "    </tr>\n",
       "  </tbody>\n",
       "</table>\n",
       "<p>5 rows × 3416 columns</p>\n",
       "</div>"
      ],
      "text/plain": [
       "            0     1     2     3     4     5     6     7     8     9     ...  \\\n",
       "aa             0     0     0     0     0     0     0     0     0     0  ...   \n",
       "aa aaa         0     0     0     0     0     0     0     0     0     0  ...   \n",
       "aa albany      0     0     0     0     0     0     0     0     0     0  ...   \n",
       "aa atlanta     0     0     0     0     0     0     0     0     0     0  ...   \n",
       "aa does        0     0     0     0     0     0     0     0     0     0  ...   \n",
       "\n",
       "            3406  3407  3408  3409  3410  3411  3412  3413  3414  3415  \n",
       "aa             0     0     0     0     0     0     0     0     0     0  \n",
       "aa aaa         0     0     0     0     0     0     0     0     0     0  \n",
       "aa albany      0     0     0     0     0     0     0     0     0     0  \n",
       "aa atlanta     0     0     0     0     0     0     0     0     0     0  \n",
       "aa does        0     0     0     0     0     0     0     0     0     0  \n",
       "\n",
       "[5 rows x 3416 columns]"
      ]
     },
     "execution_count": 7,
     "metadata": {},
     "output_type": "execute_result"
    }
   ],
   "source": [
    "import pandas as pd\n",
    "\n",
    "pd.DataFrame(doc_word.toarray(), count_vectorizer.get_feature_names()).head()"
   ]
  },
  {
   "cell_type": "code",
   "execution_count": 8,
   "metadata": {},
   "outputs": [
    {
     "data": {
      "text/plain": [
       "(272502, 3416)"
      ]
     },
     "execution_count": 8,
     "metadata": {},
     "output_type": "execute_result"
    }
   ],
   "source": [
    "doc_word.shape"
   ]
  },
  {
   "cell_type": "markdown",
   "metadata": {},
   "source": [
    "##### Convert to gensim\n",
    "We need to convert our sparse `scipy` matrix to a `gensim`-friendly object called a Corpus:"
   ]
  },
  {
   "cell_type": "code",
   "execution_count": 9,
   "metadata": {},
   "outputs": [],
   "source": [
    "# Convert sparse matrix of counts to a gensim corpus\n",
    "corpus = matutils.Sparse2Corpus(doc_word)"
   ]
  },
  {
   "cell_type": "markdown",
   "metadata": {},
   "source": [
    "##### Map matrix rows to words (tokens)\n",
    "We need to save a mapping (dict) of row id to word (token) for later use by gensim:"
   ]
  },
  {
   "cell_type": "code",
   "execution_count": 10,
   "metadata": {},
   "outputs": [],
   "source": [
    "id2word = dict((v, k) for k, v in count_vectorizer.vocabulary_.items())"
   ]
  },
  {
   "cell_type": "code",
   "execution_count": 11,
   "metadata": {},
   "outputs": [
    {
     "data": {
      "text/plain": [
       "272502"
      ]
     },
     "execution_count": 11,
     "metadata": {},
     "output_type": "execute_result"
    }
   ],
   "source": [
    "len(id2word)"
   ]
  },
  {
   "cell_type": "markdown",
   "metadata": {},
   "source": [
    "## LDA\n",
    "At this point we can simply plow ahead in creating an LDA model.  It requires our corpus of word counts, mapping of row ids to words, and the number of topics (3)."
   ]
  },
  {
   "cell_type": "code",
   "execution_count": 12,
   "metadata": {},
   "outputs": [
    {
     "name": "stderr",
     "output_type": "stream",
     "text": [
      "2021-11-03 15:44:20,062 : INFO : using symmetric alpha at 0.3333333333333333\n",
      "2021-11-03 15:44:20,063 : INFO : using symmetric eta at 0.3333333333333333\n",
      "2021-11-03 15:44:20,111 : INFO : using serial LDA version on this node\n",
      "2021-11-03 15:44:20,259 : INFO : running online (multi-pass) LDA training, 3 topics, 5 passes over the supplied corpus of 3416 documents, updating model once every 2000 documents, evaluating perplexity every 3416 documents, iterating 50x with a convergence threshold of 0.001000\n",
      "2021-11-03 15:44:20,260 : WARNING : too few updates, training might not converge; consider increasing the number of passes or iterations to improve accuracy\n",
      "2021-11-03 15:44:20,409 : INFO : PROGRESS: pass 0, at document #2000/3416\n",
      "2021-11-03 15:44:22,455 : INFO : merging changes from 2000 documents into a model of 3416 documents\n",
      "2021-11-03 15:44:22,504 : INFO : topic #0 (0.333): 0.002*\"like\" + 0.001*\"people\" + 0.001*\"don\" + 0.001*\"good\" + 0.001*\"just\" + 0.001*\"time\" + 0.001*\"know\" + 0.001*\"does\" + 0.001*\"edu\" + 0.001*\"said\"\n",
      "2021-11-03 15:44:22,508 : INFO : topic #1 (0.333): 0.002*\"don\" + 0.002*\"just\" + 0.002*\"space\" + 0.001*\"people\" + 0.001*\"think\" + 0.001*\"know\" + 0.001*\"like\" + 0.001*\"time\" + 0.001*\"israel\" + 0.001*\"said\"\n",
      "2021-11-03 15:44:22,513 : INFO : topic #2 (0.333): 0.002*\"people\" + 0.001*\"know\" + 0.001*\"just\" + 0.001*\"space\" + 0.001*\"year\" + 0.001*\"edu\" + 0.001*\"don\" + 0.001*\"like\" + 0.001*\"time\" + 0.001*\"think\"\n",
      "2021-11-03 15:44:22,517 : INFO : topic diff=1.437011, rho=1.000000\n",
      "2021-11-03 15:44:25,903 : INFO : -13.128 per-word bound, 8955.0 perplexity estimate based on a held-out corpus of 1416 documents with 254128 words\n",
      "2021-11-03 15:44:25,904 : INFO : PROGRESS: pass 0, at document #3416/3416\n",
      "2021-11-03 15:44:27,395 : INFO : merging changes from 1416 documents into a model of 3416 documents\n",
      "2021-11-03 15:44:27,439 : INFO : topic #0 (0.333): 0.002*\"like\" + 0.002*\"people\" + 0.002*\"don\" + 0.001*\"image\" + 0.001*\"just\" + 0.001*\"jpeg\" + 0.001*\"good\" + 0.001*\"know\" + 0.001*\"time\" + 0.001*\"said\"\n",
      "2021-11-03 15:44:27,442 : INFO : topic #1 (0.333): 0.002*\"don\" + 0.002*\"people\" + 0.002*\"just\" + 0.002*\"think\" + 0.002*\"space\" + 0.002*\"like\" + 0.001*\"israel\" + 0.001*\"time\" + 0.001*\"god\" + 0.001*\"know\"\n",
      "2021-11-03 15:44:27,446 : INFO : topic #2 (0.333): 0.002*\"people\" + 0.002*\"space\" + 0.001*\"know\" + 0.001*\"just\" + 0.001*\"year\" + 0.001*\"don\" + 0.001*\"like\" + 0.001*\"time\" + 0.001*\"think\" + 0.001*\"said\"\n",
      "2021-11-03 15:44:27,449 : INFO : topic diff=1.255258, rho=0.707107\n",
      "2021-11-03 15:44:27,561 : INFO : PROGRESS: pass 1, at document #2000/3416\n",
      "2021-11-03 15:44:29,040 : INFO : merging changes from 2000 documents into a model of 3416 documents\n",
      "2021-11-03 15:44:29,085 : INFO : topic #0 (0.333): 0.002*\"like\" + 0.001*\"people\" + 0.001*\"don\" + 0.001*\"graphics\" + 0.001*\"just\" + 0.001*\"edu\" + 0.001*\"image\" + 0.001*\"time\" + 0.001*\"know\" + 0.001*\"good\"\n",
      "2021-11-03 15:44:29,089 : INFO : topic #1 (0.333): 0.002*\"don\" + 0.002*\"people\" + 0.002*\"just\" + 0.002*\"think\" + 0.001*\"israel\" + 0.001*\"like\" + 0.001*\"know\" + 0.001*\"space\" + 0.001*\"time\" + 0.001*\"god\"\n",
      "2021-11-03 15:44:29,094 : INFO : topic #2 (0.333): 0.002*\"people\" + 0.002*\"space\" + 0.001*\"know\" + 0.001*\"just\" + 0.001*\"year\" + 0.001*\"don\" + 0.001*\"like\" + 0.001*\"time\" + 0.001*\"think\" + 0.001*\"armenian\"\n",
      "2021-11-03 15:44:29,096 : INFO : topic diff=0.631926, rho=0.519314\n",
      "2021-11-03 15:44:32,009 : INFO : -12.074 per-word bound, 4311.3 perplexity estimate based on a held-out corpus of 1416 documents with 254128 words\n",
      "2021-11-03 15:44:32,010 : INFO : PROGRESS: pass 1, at document #3416/3416\n",
      "2021-11-03 15:44:33,021 : INFO : merging changes from 1416 documents into a model of 3416 documents\n",
      "2021-11-03 15:44:33,064 : INFO : topic #0 (0.333): 0.002*\"image\" + 0.002*\"like\" + 0.001*\"people\" + 0.001*\"don\" + 0.001*\"jpeg\" + 0.001*\"just\" + 0.001*\"know\" + 0.001*\"graphics\" + 0.001*\"time\" + 0.001*\"use\"\n",
      "2021-11-03 15:44:33,068 : INFO : topic #1 (0.333): 0.002*\"people\" + 0.002*\"don\" + 0.002*\"just\" + 0.002*\"think\" + 0.002*\"god\" + 0.002*\"israel\" + 0.002*\"like\" + 0.001*\"time\" + 0.001*\"know\" + 0.001*\"does\"\n",
      "2021-11-03 15:44:33,072 : INFO : topic #2 (0.333): 0.002*\"people\" + 0.002*\"space\" + 0.001*\"year\" + 0.001*\"know\" + 0.001*\"just\" + 0.001*\"like\" + 0.001*\"don\" + 0.001*\"said\" + 0.001*\"time\" + 0.001*\"armenian\"\n",
      "2021-11-03 15:44:33,075 : INFO : topic diff=0.574145, rho=0.519314\n",
      "2021-11-03 15:44:33,192 : INFO : PROGRESS: pass 2, at document #2000/3416\n",
      "2021-11-03 15:44:34,449 : INFO : merging changes from 2000 documents into a model of 3416 documents\n",
      "2021-11-03 15:44:34,493 : INFO : topic #0 (0.333): 0.002*\"like\" + 0.002*\"image\" + 0.001*\"graphics\" + 0.001*\"edu\" + 0.001*\"people\" + 0.001*\"don\" + 0.001*\"just\" + 0.001*\"time\" + 0.001*\"know\" + 0.001*\"data\"\n",
      "2021-11-03 15:44:34,497 : INFO : topic #1 (0.333): 0.002*\"people\" + 0.002*\"don\" + 0.002*\"just\" + 0.002*\"think\" + 0.002*\"israel\" + 0.001*\"like\" + 0.001*\"god\" + 0.001*\"know\" + 0.001*\"time\" + 0.001*\"does\"\n",
      "2021-11-03 15:44:34,501 : INFO : topic #2 (0.333): 0.002*\"people\" + 0.002*\"space\" + 0.001*\"know\" + 0.001*\"just\" + 0.001*\"year\" + 0.001*\"don\" + 0.001*\"like\" + 0.001*\"time\" + 0.001*\"said\" + 0.001*\"armenian\"\n",
      "2021-11-03 15:44:34,504 : INFO : topic diff=0.395499, rho=0.460874\n",
      "2021-11-03 15:44:37,303 : INFO : -11.725 per-word bound, 3385.6 perplexity estimate based on a held-out corpus of 1416 documents with 254128 words\n",
      "2021-11-03 15:44:37,304 : INFO : PROGRESS: pass 2, at document #3416/3416\n",
      "2021-11-03 15:44:38,114 : INFO : merging changes from 1416 documents into a model of 3416 documents\n",
      "2021-11-03 15:44:38,159 : INFO : topic #0 (0.333): 0.002*\"image\" + 0.002*\"like\" + 0.001*\"people\" + 0.001*\"jpeg\" + 0.001*\"don\" + 0.001*\"just\" + 0.001*\"graphics\" + 0.001*\"know\" + 0.001*\"time\" + 0.001*\"use\"\n",
      "2021-11-03 15:44:38,163 : INFO : topic #1 (0.333): 0.002*\"people\" + 0.002*\"don\" + 0.002*\"just\" + 0.002*\"god\" + 0.002*\"israel\" + 0.002*\"think\" + 0.002*\"like\" + 0.001*\"know\" + 0.001*\"time\" + 0.001*\"does\"\n",
      "2021-11-03 15:44:38,169 : INFO : topic #2 (0.333): 0.002*\"space\" + 0.002*\"people\" + 0.001*\"like\" + 0.001*\"don\" + 0.001*\"just\" + 0.001*\"know\" + 0.001*\"year\" + 0.001*\"said\" + 0.001*\"time\" + 0.001*\"armenian\"\n",
      "2021-11-03 15:44:38,171 : INFO : topic diff=0.348801, rho=0.460874\n",
      "2021-11-03 15:44:38,284 : INFO : PROGRESS: pass 3, at document #2000/3416\n",
      "2021-11-03 15:44:39,427 : INFO : merging changes from 2000 documents into a model of 3416 documents\n",
      "2021-11-03 15:44:39,470 : INFO : topic #0 (0.333): 0.002*\"like\" + 0.002*\"image\" + 0.001*\"graphics\" + 0.001*\"edu\" + 0.001*\"people\" + 0.001*\"just\" + 0.001*\"don\" + 0.001*\"time\" + 0.001*\"know\" + 0.001*\"data\"\n",
      "2021-11-03 15:44:39,474 : INFO : topic #1 (0.333): 0.002*\"people\" + 0.002*\"don\" + 0.002*\"just\" + 0.002*\"think\" + 0.002*\"israel\" + 0.001*\"like\" + 0.001*\"god\" + 0.001*\"know\" + 0.001*\"time\" + 0.001*\"does\"\n",
      "2021-11-03 15:44:39,480 : INFO : topic #2 (0.333): 0.002*\"space\" + 0.002*\"people\" + 0.001*\"know\" + 0.001*\"just\" + 0.001*\"don\" + 0.001*\"like\" + 0.001*\"year\" + 0.001*\"said\" + 0.001*\"time\" + 0.001*\"armenian\"\n",
      "2021-11-03 15:44:39,485 : INFO : topic diff=0.271813, rho=0.418560\n",
      "2021-11-03 15:44:42,244 : INFO : -11.624 per-word bound, 3157.3 perplexity estimate based on a held-out corpus of 1416 documents with 254128 words\n",
      "2021-11-03 15:44:42,245 : INFO : PROGRESS: pass 3, at document #3416/3416\n",
      "2021-11-03 15:44:43,061 : INFO : merging changes from 1416 documents into a model of 3416 documents\n",
      "2021-11-03 15:44:43,103 : INFO : topic #0 (0.333): 0.002*\"image\" + 0.002*\"like\" + 0.001*\"people\" + 0.001*\"jpeg\" + 0.001*\"don\" + 0.001*\"just\" + 0.001*\"graphics\" + 0.001*\"know\" + 0.001*\"time\" + 0.001*\"edu\"\n",
      "2021-11-03 15:44:43,108 : INFO : topic #1 (0.333): 0.002*\"people\" + 0.002*\"don\" + 0.002*\"just\" + 0.002*\"god\" + 0.002*\"israel\" + 0.002*\"think\" + 0.001*\"like\" + 0.001*\"know\" + 0.001*\"does\" + 0.001*\"time\"\n",
      "2021-11-03 15:44:43,111 : INFO : topic #2 (0.333): 0.002*\"space\" + 0.002*\"people\" + 0.001*\"like\" + 0.001*\"don\" + 0.001*\"just\" + 0.001*\"know\" + 0.001*\"year\" + 0.001*\"said\" + 0.001*\"armenian\" + 0.001*\"time\"\n",
      "2021-11-03 15:44:43,114 : INFO : topic diff=0.249093, rho=0.418560\n",
      "2021-11-03 15:44:43,288 : INFO : PROGRESS: pass 4, at document #2000/3416\n",
      "2021-11-03 15:44:44,405 : INFO : merging changes from 2000 documents into a model of 3416 documents\n"
     ]
    },
    {
     "name": "stderr",
     "output_type": "stream",
     "text": [
      "2021-11-03 15:44:44,449 : INFO : topic #0 (0.333): 0.002*\"image\" + 0.002*\"like\" + 0.001*\"graphics\" + 0.001*\"edu\" + 0.001*\"people\" + 0.001*\"just\" + 0.001*\"don\" + 0.001*\"know\" + 0.001*\"time\" + 0.001*\"data\"\n",
      "2021-11-03 15:44:44,453 : INFO : topic #1 (0.333): 0.002*\"people\" + 0.002*\"don\" + 0.002*\"just\" + 0.002*\"israel\" + 0.002*\"think\" + 0.001*\"god\" + 0.001*\"like\" + 0.001*\"know\" + 0.001*\"time\" + 0.001*\"does\"\n",
      "2021-11-03 15:44:44,459 : INFO : topic #2 (0.333): 0.002*\"space\" + 0.002*\"people\" + 0.001*\"know\" + 0.001*\"just\" + 0.001*\"like\" + 0.001*\"don\" + 0.001*\"year\" + 0.001*\"said\" + 0.001*\"armenian\" + 0.001*\"time\"\n",
      "2021-11-03 15:44:44,463 : INFO : topic diff=0.216207, rho=0.386103\n",
      "2021-11-03 15:44:47,171 : INFO : -11.589 per-word bound, 3080.4 perplexity estimate based on a held-out corpus of 1416 documents with 254128 words\n",
      "2021-11-03 15:44:47,172 : INFO : PROGRESS: pass 4, at document #3416/3416\n",
      "2021-11-03 15:44:47,916 : INFO : merging changes from 1416 documents into a model of 3416 documents\n",
      "2021-11-03 15:44:47,959 : INFO : topic #0 (0.333): 0.002*\"image\" + 0.002*\"like\" + 0.001*\"people\" + 0.001*\"jpeg\" + 0.001*\"don\" + 0.001*\"graphics\" + 0.001*\"just\" + 0.001*\"know\" + 0.001*\"time\" + 0.001*\"edu\"\n",
      "2021-11-03 15:44:47,964 : INFO : topic #1 (0.333): 0.002*\"people\" + 0.002*\"don\" + 0.002*\"just\" + 0.002*\"god\" + 0.002*\"israel\" + 0.002*\"think\" + 0.001*\"like\" + 0.001*\"know\" + 0.001*\"does\" + 0.001*\"time\"\n",
      "2021-11-03 15:44:47,969 : INFO : topic #2 (0.333): 0.002*\"space\" + 0.002*\"people\" + 0.001*\"like\" + 0.001*\"don\" + 0.001*\"just\" + 0.001*\"know\" + 0.001*\"year\" + 0.001*\"said\" + 0.001*\"armenian\" + 0.001*\"time\"\n",
      "2021-11-03 15:44:47,972 : INFO : topic diff=0.203031, rho=0.386103\n"
     ]
    }
   ],
   "source": [
    "# Create lda model (equivalent to \"fit\" in sklearn)\n",
    "lda = models.LdaModel(corpus=corpus, num_topics=3, id2word=id2word, passes=5)"
   ]
  },
  {
   "cell_type": "markdown",
   "metadata": {},
   "source": [
    "Let's take a look at what happened.  Here are the 5 most important words for each of the 3 topics we found:"
   ]
  },
  {
   "cell_type": "code",
   "execution_count": 13,
   "metadata": {},
   "outputs": [
    {
     "name": "stderr",
     "output_type": "stream",
     "text": [
      "2021-11-03 15:44:48,038 : INFO : topic #0 (0.333): 0.002*\"image\" + 0.002*\"like\" + 0.001*\"people\" + 0.001*\"jpeg\" + 0.001*\"don\" + 0.001*\"graphics\" + 0.001*\"just\" + 0.001*\"know\" + 0.001*\"time\" + 0.001*\"edu\"\n",
      "2021-11-03 15:44:48,044 : INFO : topic #1 (0.333): 0.002*\"people\" + 0.002*\"don\" + 0.002*\"just\" + 0.002*\"god\" + 0.002*\"israel\" + 0.002*\"think\" + 0.001*\"like\" + 0.001*\"know\" + 0.001*\"does\" + 0.001*\"time\"\n",
      "2021-11-03 15:44:48,051 : INFO : topic #2 (0.333): 0.002*\"space\" + 0.002*\"people\" + 0.001*\"like\" + 0.001*\"don\" + 0.001*\"just\" + 0.001*\"know\" + 0.001*\"year\" + 0.001*\"said\" + 0.001*\"armenian\" + 0.001*\"time\"\n"
     ]
    },
    {
     "data": {
      "text/plain": [
       "[(0,\n",
       "  '0.002*\"image\" + 0.002*\"like\" + 0.001*\"people\" + 0.001*\"jpeg\" + 0.001*\"don\" + 0.001*\"graphics\" + 0.001*\"just\" + 0.001*\"know\" + 0.001*\"time\" + 0.001*\"edu\"'),\n",
       " (1,\n",
       "  '0.002*\"people\" + 0.002*\"don\" + 0.002*\"just\" + 0.002*\"god\" + 0.002*\"israel\" + 0.002*\"think\" + 0.001*\"like\" + 0.001*\"know\" + 0.001*\"does\" + 0.001*\"time\"'),\n",
       " (2,\n",
       "  '0.002*\"space\" + 0.002*\"people\" + 0.001*\"like\" + 0.001*\"don\" + 0.001*\"just\" + 0.001*\"know\" + 0.001*\"year\" + 0.001*\"said\" + 0.001*\"armenian\" + 0.001*\"time\"')]"
      ]
     },
     "execution_count": 13,
     "metadata": {},
     "output_type": "execute_result"
    }
   ],
   "source": [
    "lda.print_topics()"
   ]
  },
  {
   "cell_type": "markdown",
   "metadata": {},
   "source": [
    "#### Topic Space\n",
    "If we want to map our documents to the topic space we need to actually use the LdaModel transformer that we created above, like so:"
   ]
  },
  {
   "cell_type": "code",
   "execution_count": 14,
   "metadata": {},
   "outputs": [
    {
     "data": {
      "text/plain": [
       "<gensim.interfaces.TransformedCorpus at 0x7fdaeee31210>"
      ]
     },
     "execution_count": 14,
     "metadata": {},
     "output_type": "execute_result"
    }
   ],
   "source": [
    "# Transform the docs from the word space to the topic space (like \"transform\" in sklearn)\n",
    "lda_corpus = lda[corpus]\n",
    "lda_corpus"
   ]
  },
  {
   "cell_type": "code",
   "execution_count": 15,
   "metadata": {},
   "outputs": [],
   "source": [
    "# Store the documents' topic vectors in a list so we can take a peak\n",
    "lda_docs = [doc for doc in lda_corpus]"
   ]
  },
  {
   "cell_type": "markdown",
   "metadata": {},
   "source": [
    "Now we can take a look at the document vectors in the topic space, which are measures of the component of each document along each topic.  Thus, at most a document vector can have num_topics=3 nonzero components in the topic space, and most have far fewer."
   ]
  },
  {
   "cell_type": "code",
   "execution_count": 16,
   "metadata": {},
   "outputs": [
    {
     "data": {
      "text/plain": [
       "[[(2, 0.99101186)],\n",
       " [(0, 0.18163577), (2, 0.8087812)],\n",
       " [(0, 0.23370005), (1, 0.75574636), (2, 0.01055352)],\n",
       " [(0, 0.5337716), (1, 0.4598092)],\n",
       " [(0, 0.9925558)]]"
      ]
     },
     "execution_count": 16,
     "metadata": {},
     "output_type": "execute_result"
    }
   ],
   "source": [
    "# Check out the document vectors in the topic space for the first 5 documents\n",
    "lda_docs[0:5]"
   ]
  },
  {
   "cell_type": "code",
   "execution_count": 17,
   "metadata": {},
   "outputs": [
    {
     "data": {
      "text/plain": [
       "'Well, the Red Sox have apparenly resigned Herm Winningham to a AAA contract.\\nTed \"Larry\" Simmons signed him to a AAA contract then released him from\\nBuffalo, allowing Lou \"Curly\" Gorman to circumvent the rule about not\\nresigning free agents until May 1. Clearly, neither of these guys is bright\\nenough to be Moe.\\n\\n Mike Jones | AIX High-End Development | mjones@donald.aix.kingston.ibm.com'"
      ]
     },
     "execution_count": 17,
     "metadata": {},
     "output_type": "execute_result"
    }
   ],
   "source": [
    "ng_train.data[0]"
   ]
  },
  {
   "cell_type": "markdown",
   "metadata": {},
   "source": [
    "## On your own...\n",
    "- Pick a few subsets of the 20newsgroups dataset  \n",
    "- Try performing LDA on this data with gensim\n",
    "- Play with some of the preprocessing options and parameters for LDA, observe what happens\n",
    "- See if you can use the resulting topic space to extract topic vectors\n",
    "- How do your results look?\n",
    "- Can you think of how you could cluster this data?"
   ]
  },
  {
   "cell_type": "code",
   "execution_count": null,
   "metadata": {},
   "outputs": [],
   "source": []
  }
 ],
 "metadata": {
  "kernelspec": {
   "display_name": "Python 3",
   "language": "python",
   "name": "python3"
  },
  "language_info": {
   "codemirror_mode": {
    "name": "ipython",
    "version": 3
   },
   "file_extension": ".py",
   "mimetype": "text/x-python",
   "name": "python",
   "nbconvert_exporter": "python",
   "pygments_lexer": "ipython3",
   "version": "3.7.6"
  }
 },
 "nbformat": 4,
 "nbformat_minor": 1
}
