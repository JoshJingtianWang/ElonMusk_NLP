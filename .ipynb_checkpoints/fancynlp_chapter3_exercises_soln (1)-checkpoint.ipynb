{
 "cells": [
  {
   "cell_type": "markdown",
   "metadata": {
    "id": "rFN4O9DUirak"
   },
   "source": [
    "# Chapter 3 - spaCy Application\n",
    "\n",
    "## Instructions\n",
    "\n",
    "- Run the cells with \"assert\" statements to see if your answer's output matches what the output should be. If it runs without error, your answer matches! If your output is different, you'll get a hint."
   ]
  },
  {
   "cell_type": "code",
   "execution_count": 1,
   "metadata": {
    "id": "Ccp0LCX0imMt"
   },
   "outputs": [],
   "source": [
    "import pandas as pd\n",
    "\n",
    "import spacy\n",
    "nlp = spacy.load('en_core_web_sm')"
   ]
  },
  {
   "cell_type": "markdown",
   "metadata": {},
   "source": [
    "_If you're gettting an error about being unable to find `en_core_web_sm`, uncomment and run this line first:_"
   ]
  },
  {
   "cell_type": "code",
   "execution_count": 2,
   "metadata": {},
   "outputs": [],
   "source": [
    "#!python3 -m spacy download en_core_web_sm"
   ]
  },
  {
   "cell_type": "markdown",
   "metadata": {
    "id": "MsSbPBfcplPL"
   },
   "source": [
    "Please perform calculations on this dataframe called `df` for the exercises in this chapter.  These data include [reviews for AirBnB properties](https://www.kaggle.com/broach/denverairbnb?select=reviews.csv) in the Denver, Colorado, USA, area."
   ]
  },
  {
   "cell_type": "code",
   "execution_count": 3,
   "metadata": {
    "id": "2uKpIgJopkY_"
   },
   "outputs": [],
   "source": [
    "df = pd.read_csv('https://github.com/kimfetti/Projects/blob/master/Etc/airbnb_reviews10K.csv?raw=True')"
   ]
  },
  {
   "cell_type": "code",
   "execution_count": 4,
   "metadata": {
    "colab": {
     "base_uri": "https://localhost:8080/",
     "height": 198
    },
    "id": "1pjeJCybv2CZ",
    "outputId": "7716caa8-3ddb-4154-cf10-a8ac92759caa"
   },
   "outputs": [
    {
     "data": {
      "text/html": [
       "<div>\n",
       "<style scoped>\n",
       "    .dataframe tbody tr th:only-of-type {\n",
       "        vertical-align: middle;\n",
       "    }\n",
       "\n",
       "    .dataframe tbody tr th {\n",
       "        vertical-align: top;\n",
       "    }\n",
       "\n",
       "    .dataframe thead th {\n",
       "        text-align: right;\n",
       "    }\n",
       "</style>\n",
       "<table border=\"1\" class=\"dataframe\">\n",
       "  <thead>\n",
       "    <tr style=\"text-align: right;\">\n",
       "      <th></th>\n",
       "      <th>listing_id</th>\n",
       "      <th>id</th>\n",
       "      <th>date</th>\n",
       "      <th>reviewer_id</th>\n",
       "      <th>reviewer_name</th>\n",
       "      <th>comments</th>\n",
       "    </tr>\n",
       "  </thead>\n",
       "  <tbody>\n",
       "    <tr>\n",
       "      <th>0</th>\n",
       "      <td>34283811</td>\n",
       "      <td>563042535</td>\n",
       "      <td>2019-11-11</td>\n",
       "      <td>64422953</td>\n",
       "      <td>Latisha</td>\n",
       "      <td>Mitzi’s place is so AWESOME and she is a great...</td>\n",
       "    </tr>\n",
       "    <tr>\n",
       "      <th>1</th>\n",
       "      <td>28316749</td>\n",
       "      <td>368346030</td>\n",
       "      <td>2019-01-06</td>\n",
       "      <td>230355204</td>\n",
       "      <td>Dustin</td>\n",
       "      <td>We really enjoyed staying here. Great location...</td>\n",
       "    </tr>\n",
       "    <tr>\n",
       "      <th>2</th>\n",
       "      <td>4909321</td>\n",
       "      <td>73216678</td>\n",
       "      <td>2016-05-07</td>\n",
       "      <td>8332410</td>\n",
       "      <td>Ben</td>\n",
       "      <td>Rebecca and her family were very hospitable an...</td>\n",
       "    </tr>\n",
       "    <tr>\n",
       "      <th>3</th>\n",
       "      <td>875596</td>\n",
       "      <td>4841584</td>\n",
       "      <td>2013-05-28</td>\n",
       "      <td>6213025</td>\n",
       "      <td>Mari</td>\n",
       "      <td>Great house, very well located.  Clean and quiet.</td>\n",
       "    </tr>\n",
       "    <tr>\n",
       "      <th>4</th>\n",
       "      <td>15766497</td>\n",
       "      <td>142924541</td>\n",
       "      <td>2017-04-09</td>\n",
       "      <td>57826718</td>\n",
       "      <td>Mackenzie</td>\n",
       "      <td>This place is located in a great, fun area! Yo...</td>\n",
       "    </tr>\n",
       "  </tbody>\n",
       "</table>\n",
       "</div>"
      ],
      "text/plain": [
       "   listing_id         id        date  reviewer_id reviewer_name  \\\n",
       "0    34283811  563042535  2019-11-11     64422953       Latisha   \n",
       "1    28316749  368346030  2019-01-06    230355204        Dustin   \n",
       "2     4909321   73216678  2016-05-07      8332410           Ben   \n",
       "3      875596    4841584  2013-05-28      6213025          Mari   \n",
       "4    15766497  142924541  2017-04-09     57826718     Mackenzie   \n",
       "\n",
       "                                            comments  \n",
       "0  Mitzi’s place is so AWESOME and she is a great...  \n",
       "1  We really enjoyed staying here. Great location...  \n",
       "2  Rebecca and her family were very hospitable an...  \n",
       "3  Great house, very well located.  Clean and quiet.  \n",
       "4  This place is located in a great, fun area! Yo...  "
      ]
     },
     "execution_count": 4,
     "metadata": {},
     "output_type": "execute_result"
    }
   ],
   "source": [
    "df.head()"
   ]
  },
  {
   "cell_type": "code",
   "execution_count": 5,
   "metadata": {
    "colab": {
     "base_uri": "https://localhost:8080/"
    },
    "id": "Z5hY4DFI0vtp",
    "outputId": "070a4e42-2678-475d-ce65-c00e87aff2ab"
   },
   "outputs": [
    {
     "data": {
      "text/plain": [
       "(10000, 6)"
      ]
     },
     "execution_count": 5,
     "metadata": {},
     "output_type": "execute_result"
    }
   ],
   "source": [
    "df.shape"
   ]
  },
  {
   "cell_type": "markdown",
   "metadata": {
    "id": "Eh2ESeYMzPN-"
   },
   "source": [
    "## Exercise 1\n",
    "\n",
    "Create a new column in `df` called \"spacy_doc\".  This column should be the parsed spaCy document for the text in the \"comments\" column of `df`.\n",
    "\n",
    "_Hint_: You should be able to accomplish this with one line of code.  This calculation may take a few minutes."
   ]
  },
  {
   "cell_type": "code",
   "execution_count": 6,
   "metadata": {
    "colab": {
     "base_uri": "https://localhost:8080/",
     "height": 198
    },
    "id": "SgDjKTmRv235",
    "outputId": "4b007cf2-63b4-47bb-82b5-0935fadee0da"
   },
   "outputs": [
    {
     "data": {
      "text/html": [
       "<div>\n",
       "<style scoped>\n",
       "    .dataframe tbody tr th:only-of-type {\n",
       "        vertical-align: middle;\n",
       "    }\n",
       "\n",
       "    .dataframe tbody tr th {\n",
       "        vertical-align: top;\n",
       "    }\n",
       "\n",
       "    .dataframe thead th {\n",
       "        text-align: right;\n",
       "    }\n",
       "</style>\n",
       "<table border=\"1\" class=\"dataframe\">\n",
       "  <thead>\n",
       "    <tr style=\"text-align: right;\">\n",
       "      <th></th>\n",
       "      <th>listing_id</th>\n",
       "      <th>id</th>\n",
       "      <th>date</th>\n",
       "      <th>reviewer_id</th>\n",
       "      <th>reviewer_name</th>\n",
       "      <th>comments</th>\n",
       "      <th>spacy_doc</th>\n",
       "    </tr>\n",
       "  </thead>\n",
       "  <tbody>\n",
       "    <tr>\n",
       "      <th>0</th>\n",
       "      <td>34283811</td>\n",
       "      <td>563042535</td>\n",
       "      <td>2019-11-11</td>\n",
       "      <td>64422953</td>\n",
       "      <td>Latisha</td>\n",
       "      <td>Mitzi’s place is so AWESOME and she is a great...</td>\n",
       "      <td>(Mitzi, ’s, place, is, so, AWESOME, and, she, ...</td>\n",
       "    </tr>\n",
       "    <tr>\n",
       "      <th>1</th>\n",
       "      <td>28316749</td>\n",
       "      <td>368346030</td>\n",
       "      <td>2019-01-06</td>\n",
       "      <td>230355204</td>\n",
       "      <td>Dustin</td>\n",
       "      <td>We really enjoyed staying here. Great location...</td>\n",
       "      <td>(We, really, enjoyed, staying, here, ., Great,...</td>\n",
       "    </tr>\n",
       "    <tr>\n",
       "      <th>2</th>\n",
       "      <td>4909321</td>\n",
       "      <td>73216678</td>\n",
       "      <td>2016-05-07</td>\n",
       "      <td>8332410</td>\n",
       "      <td>Ben</td>\n",
       "      <td>Rebecca and her family were very hospitable an...</td>\n",
       "      <td>(Rebecca, and, her, family, were, very, hospit...</td>\n",
       "    </tr>\n",
       "    <tr>\n",
       "      <th>3</th>\n",
       "      <td>875596</td>\n",
       "      <td>4841584</td>\n",
       "      <td>2013-05-28</td>\n",
       "      <td>6213025</td>\n",
       "      <td>Mari</td>\n",
       "      <td>Great house, very well located.  Clean and quiet.</td>\n",
       "      <td>(Great, house, ,, very, well, located, .,  , C...</td>\n",
       "    </tr>\n",
       "    <tr>\n",
       "      <th>4</th>\n",
       "      <td>15766497</td>\n",
       "      <td>142924541</td>\n",
       "      <td>2017-04-09</td>\n",
       "      <td>57826718</td>\n",
       "      <td>Mackenzie</td>\n",
       "      <td>This place is located in a great, fun area! Yo...</td>\n",
       "      <td>(This, place, is, located, in, a, great, ,, fu...</td>\n",
       "    </tr>\n",
       "  </tbody>\n",
       "</table>\n",
       "</div>"
      ],
      "text/plain": [
       "   listing_id         id        date  reviewer_id reviewer_name  \\\n",
       "0    34283811  563042535  2019-11-11     64422953       Latisha   \n",
       "1    28316749  368346030  2019-01-06    230355204        Dustin   \n",
       "2     4909321   73216678  2016-05-07      8332410           Ben   \n",
       "3      875596    4841584  2013-05-28      6213025          Mari   \n",
       "4    15766497  142924541  2017-04-09     57826718     Mackenzie   \n",
       "\n",
       "                                            comments  \\\n",
       "0  Mitzi’s place is so AWESOME and she is a great...   \n",
       "1  We really enjoyed staying here. Great location...   \n",
       "2  Rebecca and her family were very hospitable an...   \n",
       "3  Great house, very well located.  Clean and quiet.   \n",
       "4  This place is located in a great, fun area! Yo...   \n",
       "\n",
       "                                           spacy_doc  \n",
       "0  (Mitzi, ’s, place, is, so, AWESOME, and, she, ...  \n",
       "1  (We, really, enjoyed, staying, here, ., Great,...  \n",
       "2  (Rebecca, and, her, family, were, very, hospit...  \n",
       "3  (Great, house, ,, very, well, located, .,  , C...  \n",
       "4  (This, place, is, located, in, a, great, ,, fu...  "
      ]
     },
     "execution_count": 6,
     "metadata": {},
     "output_type": "execute_result"
    }
   ],
   "source": [
    "### BEGIN SOLUTION\n",
    "df['spacy_doc'] = list(nlp.pipe(df.comments))\n",
    "### END SOLUTION\n",
    "\n",
    "df.head()"
   ]
  },
  {
   "cell_type": "code",
   "execution_count": 7,
   "metadata": {
    "id": "BANIA23Ez-3y"
   },
   "outputs": [],
   "source": [
    "### CHECK YOUR OUTPUT WITH THE ANSWER\n",
    "assert 'spacy_doc' in df.columns, \"Be sure to create a column in df called 'spacy_doc'.\"\n",
    "assert type(df.spacy_doc[0]) == spacy.tokens.doc.Doc, \"Be sure that each entry in the spacy_doc column of df is a spaCy document.\""
   ]
  },
  {
   "cell_type": "code",
   "execution_count": 8,
   "metadata": {
    "id": "SESsjMMMDx-R"
   },
   "outputs": [],
   "source": [
    "### BEGIN HIDDEN TESTS\n",
    "\n",
    "# test first document text\n",
    "assert df.spacy_doc[0].text == df.comments[0]\n",
    "\n",
    "# test last document dependencies\n",
    "last_doc = nlp(df.comments.iloc[-1])\n",
    "for token, test_token in zip(df.spacy_doc.iloc[-1], last_doc):\n",
    "    assert token.dep_ == test_token.dep_\n",
    "\n",
    "### END HIDDEN TESTS"
   ]
  },
  {
   "cell_type": "markdown",
   "metadata": {
    "id": "K2rGalfwEjeP"
   },
   "source": [
    "## Exercise 2 - Popular Adjectives\n",
    "\n",
    "Now it's time to find the most popular adjectives in this collection of AirBnB reviews.  Complete the following steps:\n",
    "\n",
    "1. Create a list called `adj_list` that contains the TEXT strings of all the tokens that spaCy has identified as adjectives in documents of the \"spacy_doc\" column.  Be sure to also make all the adjective text lowercase!  (You can create this list either with a double list comprehension or with a double `for` loop.)\n",
    "2. Use a counter to find the 20 most common adjectives and the number of times these adjectives were used. Call this result `top_adj`, which should be structured as a Python list of tuples:\n",
    "\n",
    "  ```[(adj1, int1), (adj2, int2), ..., (adj20, int20)]```\n",
    "\n",
    "  See the example below to see how a Python counter object works.  \n",
    "\n",
    "Do your top adjectives make sense given that these reviews are about AirBnB rentals?"
   ]
  },
  {
   "cell_type": "markdown",
   "metadata": {
    "id": "R0H3XsrkF244"
   },
   "source": [
    "#### Counter Demo"
   ]
  },
  {
   "cell_type": "code",
   "execution_count": 9,
   "metadata": {
    "id": "hQHSprIUEPKc"
   },
   "outputs": [],
   "source": [
    "word_list = ['hi', 'bye', 'hello', 'hello', 'hiya', 'hello', 'bye']"
   ]
  },
  {
   "cell_type": "markdown",
   "metadata": {
    "id": "0b7f7IMfF2BI"
   },
   "source": [
    "First we import `Counter` from the `collections` module.  Then we apply it to `word_list` to tally up the strings."
   ]
  },
  {
   "cell_type": "code",
   "execution_count": 10,
   "metadata": {
    "colab": {
     "base_uri": "https://localhost:8080/"
    },
    "id": "3oBxr--fFX-p",
    "outputId": "834f16e8-38b9-4cf2-9506-a559e085af6b"
   },
   "outputs": [
    {
     "data": {
      "text/plain": [
       "Counter({'hi': 1, 'bye': 2, 'hello': 3, 'hiya': 1})"
      ]
     },
     "execution_count": 10,
     "metadata": {},
     "output_type": "execute_result"
    }
   ],
   "source": [
    "from collections import Counter\n",
    "\n",
    "Counter(word_list)"
   ]
  },
  {
   "cell_type": "markdown",
   "metadata": {
    "id": "yeJAASw1Gddb"
   },
   "source": [
    "Then we can apply the `.most_common()` method to sort these words descending by popularity."
   ]
  },
  {
   "cell_type": "code",
   "execution_count": 11,
   "metadata": {
    "colab": {
     "base_uri": "https://localhost:8080/"
    },
    "id": "aywAwYVwFsZr",
    "outputId": "35285380-6c0a-4a96-8a5a-72e319bb8545"
   },
   "outputs": [
    {
     "data": {
      "text/plain": [
       "[('hello', 3), ('bye', 2), ('hi', 1), ('hiya', 1)]"
      ]
     },
     "execution_count": 11,
     "metadata": {},
     "output_type": "execute_result"
    }
   ],
   "source": [
    "Counter(word_list).most_common()"
   ]
  },
  {
   "cell_type": "markdown",
   "metadata": {
    "id": "RS0T5AqYGlZ9"
   },
   "source": [
    "If we supply an integer, $n$, into `.most_common()` we will be returned the top $n$ most popular items."
   ]
  },
  {
   "cell_type": "code",
   "execution_count": 12,
   "metadata": {
    "colab": {
     "base_uri": "https://localhost:8080/"
    },
    "id": "wUhb3BIXFubW",
    "outputId": "73e8fb4d-d204-4dfb-95c4-2d6455540ab4"
   },
   "outputs": [
    {
     "data": {
      "text/plain": [
       "[('hello', 3), ('bye', 2)]"
      ]
     },
     "execution_count": 12,
     "metadata": {},
     "output_type": "execute_result"
    }
   ],
   "source": [
    "Counter(word_list).most_common(2)"
   ]
  },
  {
   "cell_type": "markdown",
   "metadata": {
    "id": "_Ojx-mbKG08j"
   },
   "source": [
    "#### spaCy Lowercase Text Demo\n",
    "\n",
    "Also remember that you can make spaCy text lowercase by using `.lower()`"
   ]
  },
  {
   "cell_type": "code",
   "execution_count": 13,
   "metadata": {
    "colab": {
     "base_uri": "https://localhost:8080/",
     "height": 35
    },
    "id": "pJzXdmhxFwbr",
    "outputId": "9db0d77c-b58c-4351-98f4-6b9219e84d9d"
   },
   "outputs": [
    {
     "data": {
      "text/plain": [
       "'hiya!'"
      ]
     },
     "execution_count": 13,
     "metadata": {},
     "output_type": "execute_result"
    }
   ],
   "source": [
    "my_phrase = \"HiYa!\"\n",
    "\n",
    "my_doc = nlp(my_phrase)\n",
    "\n",
    "my_doc.text.lower()"
   ]
  },
  {
   "cell_type": "markdown",
   "metadata": {},
   "source": [
    "Okay, time to put what you learned in these demos into practice! Follow the directions above."
   ]
  },
  {
   "cell_type": "code",
   "execution_count": 14,
   "metadata": {
    "colab": {
     "base_uri": "https://localhost:8080/"
    },
    "id": "01DC525IHCs6",
    "outputId": "663501bd-315b-4beb-f38d-dc0fa5e42b90"
   },
   "outputs": [
    {
     "data": {
      "text/plain": [
       "['great',\n",
       " 'beautiful',\n",
       " 'easy',\n",
       " 'keyless',\n",
       " 'safe',\n",
       " 'lovely',\n",
       " 'close',\n",
       " 'good',\n",
       " 'comfortable',\n",
       " 'more',\n",
       " 'laundry',\n",
       " 'great',\n",
       " 'great',\n",
       " 'entire',\n",
       " 'great']"
      ]
     },
     "execution_count": 14,
     "metadata": {},
     "output_type": "execute_result"
    }
   ],
   "source": [
    "### BEGIN SOLUTION\n",
    "adj_list = []\n",
    "for doc in df.spacy_doc:\n",
    "    for token in doc:\n",
    "        if token.pos_ == 'ADJ':\n",
    "            adj_list.append(token.text.lower())\n",
    "\n",
    "top_adj = Counter(adj_list).most_common(20)\n",
    "### END SOLUTION\n",
    "\n",
    "adj_list[:15]"
   ]
  },
  {
   "cell_type": "code",
   "execution_count": 15,
   "metadata": {
    "colab": {
     "base_uri": "https://localhost:8080/"
    },
    "id": "TtxzPv6tHETR",
    "outputId": "4aec71dd-fd4a-4f45-f2aa-841bbfb72fb4"
   },
   "outputs": [
    {
     "data": {
      "text/plain": [
       "[('great', 6868),\n",
       " ('clean', 2879),\n",
       " ('nice', 1835),\n",
       " ('comfortable', 1709),\n",
       " ('perfect', 1661),\n",
       " ('easy', 1445),\n",
       " ('amazing', 874),\n",
       " ('good', 871),\n",
       " ('close', 870),\n",
       " ('beautiful', 848),\n",
       " ('wonderful', 836),\n",
       " ('quiet', 784),\n",
       " ('cozy', 673),\n",
       " ('quick', 664),\n",
       " ('awesome', 657),\n",
       " ('friendly', 630),\n",
       " ('little', 606),\n",
       " ('helpful', 582),\n",
       " ('lovely', 523),\n",
       " ('cute', 503)]"
      ]
     },
     "execution_count": 15,
     "metadata": {},
     "output_type": "execute_result"
    }
   ],
   "source": [
    "top_adj"
   ]
  },
  {
   "cell_type": "code",
   "execution_count": 16,
   "metadata": {
    "id": "sVCof77GHhQC"
   },
   "outputs": [],
   "source": [
    "### CHECK YOUR OUTPUT WITH THE ANSWER\n",
    "assert type(adj_list) == list, \"Be sure that adj_list is a Python list.\"\n",
    "assert type(adj_list[0]) == str, \"Be sure that the elements of adj_list are Python strings.\"\n",
    "for adj in adj_list[:15]:\n",
    "    assert adj == adj.lower(), \"Be sure to make all of your adjectives lowercase.\"\n",
    "assert len(adj_list) > 10000, \"You should find well over 10,000 adjectives in these AirBnB reviews.\"\n",
    "\n",
    "assert type(top_adj) == list, \"Be sure that top_adj is a Python list.\"\n",
    "assert type(top_adj[0]) == tuple, \"The elements of top_adj should be tuples.  Have you looked for the most common adjectives?\"\n",
    "assert len(top_adj) == 20, \"Be sure that top_adj contains the 20 most popular adjectives for this dataset.\"\n",
    "assert top_adj[0][1] > 5000, \"You should find that the top adjective was used over 5,000 times.\""
   ]
  },
  {
   "cell_type": "code",
   "execution_count": 17,
   "metadata": {
    "id": "Fvis-slvIGJz"
   },
   "outputs": [],
   "source": [
    "### BEGIN HIDDEN TESTS\n",
    "\n",
    "## this trusts that they have created spacy_doc correctly...\n",
    "### ... but recreating the spaCy docs seems super inefficient/slow\n",
    "test_adj_list = []\n",
    "for doc in df.spacy_doc:\n",
    "    for token in doc:\n",
    "        if token.pos_ == 'ADJ':\n",
    "            test_adj_list.append(token.text.lower())\n",
    "\n",
    "assert adj_list == test_adj_list\n",
    "\n",
    "assert top_adj == Counter(test_adj_list).most_common(20)\n",
    "### END HIDDEN TESTS"
   ]
  },
  {
   "cell_type": "markdown",
   "metadata": {
    "id": "BgjKSPJFJ7Rc"
   },
   "source": [
    "## Exercise 3 - Adjective Modifiers\n",
    "\n",
    "Now let's find out how customers who left these AirBnB reviews describe the \"neighborhood\" of their rental.  \n",
    "\n",
    "You will be creating a list of adjective modifiers for the noun \"neighborhood\" and saving this list as `adj_modifiers`.  To do this, you will want to cycle through all the documents in `df.spacy_doc` and cycle through all of the tokens in each doc to look for the LOWERCASE token text \"neighborhood\".  If the token text is \"neighborhood\" you will look for adjective modifier children and collect the LOWERCASE text of these in your `adj_modifiers` list.\n",
    "\n",
    "Then extract the top 10 adjectives and their count in a list of tuples, the same structure as Exercise 2.  (Again, a Python counter works best.) Save this in a variable called `top_adj_mod`.\n",
    "\n",
    "Do the adjective modifiers you collected about \"neighborhood\" seem to make sense?"
   ]
  },
  {
   "cell_type": "code",
   "execution_count": 18,
   "metadata": {
    "colab": {
     "base_uri": "https://localhost:8080/"
    },
    "id": "xzAlolaZKJbO",
    "outputId": "7b00dc0c-b270-4578-8dd8-d7644441c349"
   },
   "outputs": [
    {
     "data": {
      "text/plain": [
       "['nice',\n",
       " 'nice',\n",
       " 'quiet',\n",
       " 'quiet',\n",
       " 'nice',\n",
       " 'mature',\n",
       " 'quiet',\n",
       " 'quiet',\n",
       " 'close',\n",
       " 'lovely',\n",
       " 'safe',\n",
       " 'nice',\n",
       " 'quiet',\n",
       " 'full',\n",
       " 'quiet']"
      ]
     },
     "execution_count": 18,
     "metadata": {},
     "output_type": "execute_result"
    }
   ],
   "source": [
    "noun_str = 'neighborhood'\n",
    "adj_modifiers = []\n",
    "top_adj_mod = []\n",
    "\n",
    "## BEGIN SOLUTION\n",
    "\n",
    "for doc in df.spacy_doc:\n",
    "    for token in doc:\n",
    "        if token.text.lower() == noun_str:\n",
    "            for child in token.children:\n",
    "                if child.dep_ == 'amod':\n",
    "                    adj_modifiers.append(child.text.lower())\n",
    "\n",
    "top_adj_mod = Counter(adj_modifiers).most_common(10)\n",
    "\n",
    "### END SOLUTION\n",
    "\n",
    "adj_modifiers[:15]"
   ]
  },
  {
   "cell_type": "code",
   "execution_count": 19,
   "metadata": {
    "colab": {
     "base_uri": "https://localhost:8080/"
    },
    "id": "oWh42hwyKm5S",
    "outputId": "5229e443-de3a-4b30-9663-c4ec27083fdb"
   },
   "outputs": [
    {
     "data": {
      "text/plain": [
       "[('quiet', 162),\n",
       " ('great', 102),\n",
       " ('nice', 83),\n",
       " ('safe', 35),\n",
       " ('beautiful', 32),\n",
       " ('close', 23),\n",
       " ('residential', 18),\n",
       " ('walkable', 18),\n",
       " ('cool', 17),\n",
       " ('cute', 16)]"
      ]
     },
     "execution_count": 19,
     "metadata": {},
     "output_type": "execute_result"
    }
   ],
   "source": [
    "top_adj_mod"
   ]
  },
  {
   "cell_type": "code",
   "execution_count": 20,
   "metadata": {
    "id": "s3Jn3cIJONZk"
   },
   "outputs": [],
   "source": [
    "### CHECK YOUR OUTPUT WITH THE ANSWER\n",
    "assert type(adj_modifiers) == list, \"Be sure that adj_modifiers is a Python list.\"\n",
    "assert type(adj_modifiers[0]) == str, \"Be sure that the elements of adj_modifiers are Python strings.\"\n",
    "for adj in adj_modifiers[:5]:\n",
    "    assert adj == adj.lower(), \"Be sure to make all of your adjectives lowercase.\"\n",
    "assert len(adj_modifiers) > 500, \"You should find over 500 adjective modifiers for 'neighborhood' in these AirBnB reviews.\"\n",
    "\n",
    "assert type(top_adj_mod) == list, \"Be sure that top_adj_mod is a Python list.\"\n",
    "assert type(top_adj_mod[0]) == tuple, \"The elements of top_adj_mod should be tuples.  Have you looked for the most common adjective modifiers?\"\n",
    "assert len(top_adj_mod) == 10, \"Be sure that top_adj contains the 10 most popular adjective modifiers for 'neighborhood'.\"\n",
    "assert top_adj_mod[0][1] > 100, \"You should find that the top adjective modifier was used over 100 times to describe 'neighborhood'.\""
   ]
  },
  {
   "cell_type": "code",
   "execution_count": 21,
   "metadata": {
    "id": "4HajiFmYOjjO"
   },
   "outputs": [],
   "source": [
    "### BEGIN HIDDEN TESTS\n",
    "# These tests asssume you have created the spacy doc correctly\n",
    "test_adj_modifiers = []\n",
    "\n",
    "for doc in df.spacy_doc:\n",
    "    for token in doc:\n",
    "        if token.text.lower() == noun_str:\n",
    "            for child in token.children:\n",
    "                if child.dep_ == 'amod':\n",
    "                    test_adj_modifiers.append(child.text.lower())\n",
    "assert adj_modifiers == test_adj_modifiers\n",
    "\n",
    "assert top_adj_mod == Counter(test_adj_modifiers).most_common(10)\n",
    "### END HIDDEN TESTS"
   ]
  },
  {
   "cell_type": "code",
   "execution_count": null,
   "metadata": {
    "id": "OhfEP3keOkmw"
   },
   "outputs": [],
   "source": []
  }
 ],
 "metadata": {
  "colab": {
   "name": "fancynlp-chapter3-exercises.ipynb",
   "provenance": []
  },
  "kernelspec": {
   "display_name": "Python [conda env:metis] *",
   "language": "python",
   "name": "conda-env-metis-py"
  },
  "language_info": {
   "codemirror_mode": {
    "name": "ipython",
    "version": 3
   },
   "file_extension": ".py",
   "mimetype": "text/x-python",
   "name": "python",
   "nbconvert_exporter": "python",
   "pygments_lexer": "ipython3",
   "version": "3.9.7"
  }
 },
 "nbformat": 4,
 "nbformat_minor": 1
}
