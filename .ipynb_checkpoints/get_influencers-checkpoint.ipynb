{
 "cells": [
  {
   "cell_type": "markdown",
   "id": "a7619387-646e-4dd8-aa43-b53f3195421f",
   "metadata": {},
   "source": [
    "# Scrape left/right-wing \"influencer\" handles"
   ]
  },
  {
   "cell_type": "markdown",
   "id": "61da2195-7c44-4cf1-869a-27b3ff5b3756",
   "metadata": {},
   "source": [
    "### Getting related influencers"
   ]
  },
  {
   "cell_type": "code",
   "execution_count": 282,
   "id": "59781dc0-62b3-4158-9a7c-1b27717bf4e6",
   "metadata": {},
   "outputs": [],
   "source": [
    "import pandas as pd\n",
    "import requests, bs4, re\n",
    "from bs4 import BeautifulSoup as bs\n",
    "from bs4 import NavigableString, Tag\n",
    "from time import sleep\n",
    "from selenium import webdriver\n",
    "import random"
   ]
  },
  {
   "cell_type": "code",
   "execution_count": 360,
   "id": "f5a69c3c-5cbf-4a40-9751-a73ff1245156",
   "metadata": {},
   "outputs": [
    {
     "name": "stderr",
     "output_type": "stream",
     "text": [
      "\n",
      "\n",
      "====== WebDriver manager ======\n",
      "Current google-chrome version is 101.0.4951\n",
      "Get LATEST chromedriver version for 101.0.4951 google-chrome\n",
      "Trying to download new driver from https://chromedriver.storage.googleapis.com/101.0.4951.41/chromedriver_win32.zip\n",
      "Driver has been saved in cache [C:\\Users\\Josh_Wang\\.wdm\\drivers\\chromedriver\\win32\\101.0.4951.41]\n",
      "C:\\Users\\Josh_Wang\\AppData\\Local\\Temp\\ipykernel_24044\\2478506619.py:4: DeprecationWarning: executable_path has been deprecated, please pass in a Service object\n",
      "  d = webdriver.Chrome(ChromeDriverManager().install())\n"
     ]
    }
   ],
   "source": [
    "from selenium import webdriver\n",
    "from webdriver_manager.chrome import ChromeDriverManager\n",
    "\n",
    "d = webdriver.Chrome(ChromeDriverManager().install())\n",
    "\n",
    "sleep(2)"
   ]
  },
  {
   "cell_type": "code",
   "execution_count": 332,
   "id": "5fa5e281-4c59-45e9-b234-d788a5043455",
   "metadata": {},
   "outputs": [],
   "source": [
    "#input user_id, return a list of related user handles (including the handle of the starter ID)\n",
    "\n",
    "def get_related(user_id):\n",
    "    \n",
    "    #get webpage\n",
    "    url=f'https://twitter.com/i/connect_people?user_id={user_id}'\n",
    "    d.get(url)\n",
    "    sleep(random.uniform(3, 5))\n",
    "    s = bs(d.page_source, 'html.parser')\n",
    "    \n",
    "    #parse related\n",
    "    influencerlist = []\n",
    "\n",
    "    endElem = s.find(\"div\", string=\"Suggested for you\")\n",
    "\n",
    "    for tag in s.find('div', {'aria-label':'Timeline: Connect',\n",
    "                                  'class':'css-1dbjc4n'\n",
    "                                 }).descendants:\n",
    "        if isinstance(tag, NavigableString):\n",
    "            continue\n",
    "        if tag == endElem:\n",
    "            break\n",
    "        if tag.get('dir') == 'ltr':\n",
    "            if tag.text.startswith('@') and tag.name == 'div':\n",
    "                influencerlist.append(tag.text.strip('@'))\n",
    "    \n",
    "    return influencerlist"
   ]
  },
  {
   "cell_type": "code",
   "execution_count": 320,
   "id": "97e1b4d1-0a85-4e73-b652-92b1307ba8ba",
   "metadata": {},
   "outputs": [
    {
     "data": {
      "text/plain": [
       "['AOC',\n",
       " 'BernieSanders',\n",
       " 'KamalaHarris',\n",
       " 'JoeBiden',\n",
       " 'SenSanders',\n",
       " 'IlhanMN',\n",
       " 'VP',\n",
       " 'ewarren',\n",
       " 'SpeakerPelosi',\n",
       " 'SenWarren',\n",
       " 'BarackObama',\n",
       " 'HillaryClinton',\n",
       " 'POTUS',\n",
       " 'RashidaTlaib',\n",
       " 'SenSchumer']"
      ]
     },
     "execution_count": 320,
     "metadata": {},
     "output_type": "execute_result"
    }
   ],
   "source": [
    "get_related('138203134')"
   ]
  },
  {
   "cell_type": "code",
   "execution_count": 225,
   "id": "d1648756-dcfb-42bd-9600-c20701bb32a1",
   "metadata": {},
   "outputs": [],
   "source": [
    "from tqdm import tqdm\n",
    "import snscrape.modules.twitter as sntwitter\n",
    "import pandas as pd\n",
    "pd.set_option('display.max_colwidth', None)"
   ]
  },
  {
   "cell_type": "code",
   "execution_count": 220,
   "id": "1b47d00b-8aa6-4d50-98cf-67cefb778ec1",
   "metadata": {},
   "outputs": [],
   "source": [
    "#input user handle, return user ID\n",
    "def get_id(handle):\n",
    "    for i,tweet in enumerate(sntwitter.TwitterSearchScraper(f'from:{handle}').get_items()):\n",
    "        if i>0:\n",
    "            break\n",
    "    user_id = tweet.user.id\n",
    "    return user_id"
   ]
  },
  {
   "cell_type": "code",
   "execution_count": 221,
   "id": "7d9172c2-464a-4414-a897-8d0cc418731e",
   "metadata": {},
   "outputs": [
    {
     "data": {
      "text/plain": [
       "138203134"
      ]
     },
     "execution_count": 221,
     "metadata": {},
     "output_type": "execute_result"
    }
   ],
   "source": [
    "get_id('aoc')"
   ]
  },
  {
   "cell_type": "code",
   "execution_count": 333,
   "id": "df35950a-984f-4513-a084-6b2e714e342c",
   "metadata": {},
   "outputs": [],
   "source": [
    "#recursive function\n",
    "#input list of (related) handles, get big list of related handles\n",
    "\n",
    "def get_biglist(handle_list, n = 2):\n",
    "    bighandlelist = []\n",
    "    for handle in handle_list:\n",
    "        if handle in bighandlelist:\n",
    "            continue\n",
    "        ID = get_id(handle)\n",
    "        print(handle)\n",
    "        print(ID)\n",
    "        try: #try block because twitter will rate limit your IP addresses\n",
    "            relatedlist = get_related(ID)\n",
    "        except:\n",
    "            return bighandlelist\n",
    "        bighandlelist.extend(relatedlist)\n",
    "    print(n)\n",
    "    n -= 1\n",
    "    if n == 0:\n",
    "        return bighandlelist\n",
    "    return get_biglist(bighandlelist)"
   ]
  },
  {
   "cell_type": "code",
   "execution_count": 321,
   "id": "419c9f0c-f6d8-474b-b41c-9e5bd4f25df7",
   "metadata": {},
   "outputs": [
    {
     "name": "stdout",
     "output_type": "stream",
     "text": [
      "aoc\n",
      "138203134\n",
      "2\n",
      "AOC\n",
      "138203134\n",
      "2\n",
      "AOC\n",
      "138203134\n",
      "2\n",
      "AOC\n",
      "138203134\n",
      "RashidaTlaib\n",
      "435331179\n",
      "SenSchumer\n",
      "17494010\n",
      "2\n",
      "AOC\n",
      "138203134\n",
      "RoKhanna\n",
      "771152516\n",
      "PramilaJayapal\n",
      "193441812\n",
      "ReverendWarnock\n",
      "1221242033530195970\n",
      "AyannaPressley\n",
      "31013444\n",
      "RepRashida\n",
      "1079769536730140672\n",
      "ACLU\n",
      "13393052\n",
      "SenatorDurbin\n",
      "247334603\n",
      "MarkWarner\n",
      "7429102\n",
      "SenFeinstein\n",
      "476256944\n",
      "Sen_JoeManchin\n",
      "234374703\n"
     ]
    }
   ],
   "source": [
    "#left wing influencer list started with a politician\n",
    "aoclist = get_biglist(['aoc'])"
   ]
  },
  {
   "cell_type": "code",
   "execution_count": 326,
   "id": "828c6afd-5872-4dd3-b909-a3cc41fc1f64",
   "metadata": {},
   "outputs": [
    {
     "data": {
      "text/plain": [
       "157"
      ]
     },
     "execution_count": 326,
     "metadata": {},
     "output_type": "execute_result"
    }
   ],
   "source": [
    "len(aoclist)"
   ]
  },
  {
   "cell_type": "code",
   "execution_count": 335,
   "id": "dcc1c7ad-a1da-488d-88e0-da8bea9c77f2",
   "metadata": {},
   "outputs": [
    {
     "name": "stdout",
     "output_type": "stream",
     "text": [
      "briantylercohen\n",
      "455684839\n",
      "2\n",
      "briantylercohen\n",
      "455684839\n",
      "glennkirschner2\n",
      "1003107003693137921\n",
      "NatashaBertrand\n",
      "372536101\n",
      "RepRaskin\n",
      "806906355214852096\n",
      "MeidasTouch\n",
      "1243560408025198593\n",
      "chipfranklin\n",
      "48325671\n",
      "B52Malmet\n",
      "2876041031\n",
      "OccupyDemocrats\n",
      "878284831\n",
      "joelockhart\n",
      "101816065\n"
     ]
    }
   ],
   "source": [
    "#left wing influencer list started with a political commentator\n",
    "btclist = get_biglist(['briantylercohen'])"
   ]
  },
  {
   "cell_type": "code",
   "execution_count": 352,
   "id": "a2ddf4e5-96b0-47ec-86dd-a0d36e675a98",
   "metadata": {},
   "outputs": [
    {
     "data": {
      "text/plain": [
       "120"
      ]
     },
     "execution_count": 352,
     "metadata": {},
     "output_type": "execute_result"
    }
   ],
   "source": [
    "len(btclist)"
   ]
  },
  {
   "cell_type": "code",
   "execution_count": 340,
   "id": "4f3a4525-14b8-4a0e-9b1b-aaf6d32de89e",
   "metadata": {},
   "outputs": [
    {
     "name": "stdout",
     "output_type": "stream",
     "text": [
      "benshapiro\n",
      "17995040\n",
      "2\n",
      "benshapiro\n",
      "17995040\n",
      "2\n",
      "benshapiro\n",
      "17995040\n",
      "marklevinshow\n",
      "38495835\n",
      "2\n",
      "benshapiro\n",
      "17995040\n",
      "scrowder\n",
      "19091173\n",
      "RubinReport\n",
      "18379614\n",
      "seanhannity\n",
      "41634520\n",
      "tedcruz\n",
      "23022687\n",
      "realDailyWire\n",
      "4081106480\n",
      "marklevinshow\n",
      "38495835\n",
      "2\n",
      "benshapiro\n",
      "17995040\n",
      "Timcast\n",
      "27000730\n",
      "DineshDSouza\n",
      "91882544\n",
      "kayleighmcenany\n",
      "259001548\n",
      "michaeljknowles\n",
      "31047836\n",
      "SenTedCruz\n",
      "1074480192\n",
      "greggutfeld\n",
      "28628850\n",
      "scrowder\n",
      "19091173\n",
      "RubinReport\n",
      "18379614\n"
     ]
    }
   ],
   "source": [
    "#right wing influencer list started with a political commentator\n",
    "bslist = get_biglist(['benshapiro'])"
   ]
  },
  {
   "cell_type": "code",
   "execution_count": 350,
   "id": "f6da9113-b390-47bf-847f-a1a2d46d8588",
   "metadata": {},
   "outputs": [
    {
     "data": {
      "text/plain": [
       "128"
      ]
     },
     "execution_count": 350,
     "metadata": {},
     "output_type": "execute_result"
    }
   ],
   "source": [
    "len(bslist)"
   ]
  },
  {
   "cell_type": "code",
   "execution_count": 372,
   "id": "89197300-2679-42e8-a1cf-dce2ac05013b",
   "metadata": {
    "tags": []
   },
   "outputs": [
    {
     "name": "stdout",
     "output_type": "stream",
     "text": [
      "RepMTG\n",
      "1344356576786866176\n",
      "2\n",
      "RepMTG\n",
      "1344356576786866176\n",
      "2\n",
      "RepMTG\n",
      "1344356576786866176\n",
      "GOPLeader\n",
      "19739126\n",
      "SenTedCruz\n",
      "1074480192\n",
      "SarahHuckabee\n",
      "5509762\n",
      "RonDeSantisFL\n",
      "487297085\n",
      "RandPaul\n",
      "216881337\n",
      "DonaldJTrumpJr\n",
      "39344374\n",
      "2\n",
      "RepMTG\n",
      "1344356576786866176\n",
      "MarshaBlackburn\n",
      "278145569\n",
      "VernonForGA\n",
      "900021957424447488\n",
      "gregkellyusa\n",
      "44385628\n",
      "LindseyGrahamSC\n",
      "432895323\n",
      "mikepompeo\n",
      "1163992520252153857\n",
      "TGowdySC\n",
      "237348797\n",
      "GOP\n",
      "11134252\n",
      "marcorubio\n",
      "15745368\n",
      "RepStefanik\n",
      "2962813893\n",
      "LaraLeaTrump\n",
      "75541946\n"
     ]
    }
   ],
   "source": [
    "#right wing influencer list started with a politician\n",
    "mtglist = get_biglist(['RepMTG'])"
   ]
  },
  {
   "cell_type": "code",
   "execution_count": 374,
   "id": "2fe88c2b-f1d3-43f4-b343-3a4560a099e9",
   "metadata": {},
   "outputs": [
    {
     "data": {
      "text/plain": [
       "160"
      ]
     },
     "execution_count": 374,
     "metadata": {},
     "output_type": "execute_result"
    }
   ],
   "source": [
    "len(mtglist)"
   ]
  },
  {
   "cell_type": "code",
   "execution_count": 369,
   "id": "bcb1e686-7282-40c0-8983-0792ed544e9e",
   "metadata": {},
   "outputs": [],
   "source": [
    "leftlist=list(set(aoclist + btclist))"
   ]
  },
  {
   "cell_type": "code",
   "execution_count": 375,
   "id": "b66e6efa-b06f-4e39-be82-efc32121b44c",
   "metadata": {},
   "outputs": [],
   "source": [
    "rightlist=list(set(bslist + mtglist))"
   ]
  },
  {
   "cell_type": "code",
   "execution_count": 376,
   "id": "5703e50f-a1b7-4294-b0e2-3c1bfea817f0",
   "metadata": {},
   "outputs": [],
   "source": [
    "import pickle"
   ]
  },
  {
   "cell_type": "code",
   "execution_count": 377,
   "id": "ff1615c3-34d0-4c7d-a480-d0c82650683c",
   "metadata": {},
   "outputs": [],
   "source": [
    "#saving files as pickles\n",
    "\n",
    "with open('leftlist.pkl', 'wb') as handle:\n",
    "    pickle.dump(leftlist, handle, protocol=pickle.HIGHEST_PROTOCOL)\n",
    "\n",
    "with open('rightlist.pkl', 'wb') as handle:\n",
    "    pickle.dump(rightlist, handle, protocol=pickle.HIGHEST_PROTOCOL)"
   ]
  },
  {
   "cell_type": "markdown",
   "id": "594960d3-5567-4682-b4e5-284c781a5ee2",
   "metadata": {},
   "source": [
    "# Get number of followers of each influencer"
   ]
  },
  {
   "cell_type": "code",
   "execution_count": 361,
   "id": "1c961136-793b-4c55-b089-3fe30a34f6d7",
   "metadata": {},
   "outputs": [],
   "source": [
    "import tweepy\n",
    "import configparser\n",
    "import datetime"
   ]
  },
  {
   "cell_type": "code",
   "execution_count": 362,
   "id": "3a14508c-9752-4abc-8719-bc65a27070ff",
   "metadata": {},
   "outputs": [
    {
     "data": {
      "text/plain": [
       "['../twitter_api/config.ini']"
      ]
     },
     "execution_count": 362,
     "metadata": {},
     "output_type": "execute_result"
    }
   ],
   "source": [
    "config = configparser.ConfigParser()\n",
    "config.read('../twitter_api/config.ini')"
   ]
  },
  {
   "cell_type": "code",
   "execution_count": 365,
   "id": "21d9b472-0309-4f1d-9be7-80e790aaad93",
   "metadata": {},
   "outputs": [],
   "source": [
    "#loading the keys\n",
    "api_key = config['twitter']['api_key']\n",
    "api_key_secret = config['twitter']['api_key_secret']\n",
    "access_token = config['twitter']['access_token']\n",
    "access_token_secret = config['twitter']['access_token_secret']"
   ]
  },
  {
   "cell_type": "code",
   "execution_count": 380,
   "id": "2ea51db4-13fe-406a-b09e-dae3013b0bf7",
   "metadata": {},
   "outputs": [],
   "source": [
    "#authentication\n",
    "auth = tweepy.OAuthHandler(api_key, api_key_secret)\n",
    "auth.set_access_token(access_token, access_token_secret)\n",
    "api = tweepy.API(auth)"
   ]
  },
  {
   "cell_type": "code",
   "execution_count": 378,
   "id": "d1de9612-fc12-49be-ab8d-3066e3cb35e8",
   "metadata": {},
   "outputs": [
    {
     "data": {
      "text/plain": [
       "['RepTedLieu',\n",
       " 'DemSocialists',\n",
       " '_waleedshahid',\n",
       " 'SenatorMenendez',\n",
       " 'B52Malmet']"
      ]
     },
     "execution_count": 378,
     "metadata": {},
     "output_type": "execute_result"
    }
   ],
   "source": [
    "leftlist[:5]"
   ]
  },
  {
   "cell_type": "code",
   "execution_count": 386,
   "id": "8ebf68ef-2935-4fba-9e44-ec6ab757ec19",
   "metadata": {},
   "outputs": [
    {
     "name": "stderr",
     "output_type": "stream",
     "text": [
      "100%|████████████████████████████████████████| 205/205 [01:11<00:00,  2.88it/s]\n"
     ]
    }
   ],
   "source": [
    "#get follow count\n",
    "\n",
    "leftdict={}\n",
    "\n",
    "for handle in tqdm(leftlist):\n",
    "\n",
    "    user = api.get_user(screen_name=handle)\n",
    "    follower_count = user.followers_count\n",
    "    leftdict[handle] = follower_count"
   ]
  },
  {
   "cell_type": "code",
   "execution_count": 392,
   "id": "c5ef0927-61cb-46d4-9508-b8f01861a59d",
   "metadata": {},
   "outputs": [],
   "source": [
    "#sorted dict\n",
    "leftdict = {k: v for k, v in sorted(leftdict.items(), key=lambda item: item[1], reverse=True)}"
   ]
  },
  {
   "cell_type": "code",
   "execution_count": 394,
   "id": "87bdaf6c-10f4-4cab-b6f8-2a9d140ab76b",
   "metadata": {},
   "outputs": [
    {
     "name": "stderr",
     "output_type": "stream",
     "text": [
      "100%|████████████████████████████████████████| 177/177 [01:01<00:00,  2.90it/s]\n"
     ]
    }
   ],
   "source": [
    "#get follow count\n",
    "\n",
    "rightdict={}\n",
    "\n",
    "for handle in tqdm(rightlist):\n",
    "\n",
    "    user = api.get_user(screen_name=handle)\n",
    "    follower_count = user.followers_count\n",
    "    rightdict[handle] = follower_count"
   ]
  },
  {
   "cell_type": "code",
   "execution_count": 395,
   "id": "08ccb9ea-746a-4060-9a27-4eca7a822e04",
   "metadata": {},
   "outputs": [],
   "source": [
    "#sorted dict\n",
    "rightdict = {k: v for k, v in sorted(rightdict.items(), key=lambda item: item[1], reverse=True)}"
   ]
  },
  {
   "cell_type": "code",
   "execution_count": 396,
   "id": "864d20c0-6653-4288-94f1-ded0d071bcd7",
   "metadata": {},
   "outputs": [
    {
     "data": {
      "text/plain": [
       "177"
      ]
     },
     "execution_count": 396,
     "metadata": {},
     "output_type": "execute_result"
    }
   ],
   "source": [
    "len(rightdict)"
   ]
  },
  {
   "cell_type": "code",
   "execution_count": 398,
   "id": "ceb6c14a-16b4-4709-acbf-521493d91aea",
   "metadata": {},
   "outputs": [],
   "source": [
    "#saving files as pickles\n",
    "\n",
    "with open('leftdict.pkl', 'wb') as handle:\n",
    "    pickle.dump(leftdict, handle, protocol=pickle.HIGHEST_PROTOCOL)\n",
    "\n",
    "with open('rightdict.pkl', 'wb') as handle:\n",
    "    pickle.dump(rightdict, handle, protocol=pickle.HIGHEST_PROTOCOL)"
   ]
  },
  {
   "cell_type": "code",
   "execution_count": null,
   "id": "e9189ae1-05d3-49aa-8982-2435383ff194",
   "metadata": {},
   "outputs": [],
   "source": []
  }
 ],
 "metadata": {
  "kernelspec": {
   "display_name": "Python 3 (ipykernel)",
   "language": "python",
   "name": "python3"
  },
  "language_info": {
   "codemirror_mode": {
    "name": "ipython",
    "version": 3
   },
   "file_extension": ".py",
   "mimetype": "text/x-python",
   "name": "python",
   "nbconvert_exporter": "python",
   "pygments_lexer": "ipython3",
   "version": "3.8.8"
  }
 },
 "nbformat": 4,
 "nbformat_minor": 5
}
