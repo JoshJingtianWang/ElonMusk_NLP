{
 "cells": [
  {
   "cell_type": "markdown",
   "id": "a9dded6c-672b-48e6-9d72-5a6dc0461e3b",
   "metadata": {},
   "source": [
    "# Scraping tweets"
   ]
  },
  {
   "cell_type": "markdown",
   "id": "e8ae8881-90b4-41eb-8884-b149c894bbb5",
   "metadata": {},
   "source": [
    "## snscrape (Python wrapper)\n",
    "snscrape is good for scraping historical tweets. It uses Twitter's advanced search. Searching parameters can be found here: https://github.com/igorbrigadir/twitter-advanced-search"
   ]
  },
  {
   "cell_type": "code",
   "execution_count": 14,
   "id": "0071c377-710c-450a-b4ee-6f8fd05cd0f6",
   "metadata": {},
   "outputs": [],
   "source": [
    "import snscrape.modules.twitter as sntwitter\n",
    "import pandas as pd\n",
    "pd.set_option('display.max_colwidth', None)"
   ]
  },
  {
   "cell_type": "code",
   "execution_count": 15,
   "id": "b4259fd8-f262-4201-adba-5d5937a3cffb",
   "metadata": {},
   "outputs": [],
   "source": [
    "from tqdm import tqdm\n",
    "from datetime import datetime\n",
    "import pickle"
   ]
  },
  {
   "cell_type": "code",
   "execution_count": 16,
   "id": "a9b5a13d-a4cc-40d8-8c58-cb32d287a538",
   "metadata": {},
   "outputs": [
    {
     "data": {
      "text/plain": [
       "'Descent of Lord Murga |\\nBeliever of Aseevagam philosophy |\\nKing Ravana & Raja Raja Cholan |\\nThis world is for all & everyone are kin |'"
      ]
     },
     "execution_count": 16,
     "metadata": {},
     "output_type": "execute_result"
    }
   ],
   "source": [
    "#user description example\n",
    "sntwitter.TwitterUserScraper('karthik_es').entity.description"
   ]
  },
  {
   "cell_type": "code",
   "execution_count": 17,
   "id": "48ab727f-e53d-4245-acec-a077f8f28626",
   "metadata": {},
   "outputs": [],
   "source": [
    "#this is the US flag emoji\n",
    "USflagemoji='🇺🇸'"
   ]
  },
  {
   "cell_type": "code",
   "execution_count": 18,
   "id": "247c022e-44fa-42b7-93d5-f57fbab59e65",
   "metadata": {},
   "outputs": [],
   "source": [
    "keywords = [\n",
    "            '#TwitterTakeOver', '#ElonMusk', '#ElonMuskTwitter',\n",
    "            '#ElonMuskBuysTwitter', '@elonmusk', 'Elon Musk', \n",
    "            'Elon', 'Musk'\n",
    "           ]"
   ]
  },
  {
   "cell_type": "code",
   "execution_count": null,
   "id": "a3cb8aa0-d915-4ae4-b513-696c326a1df2",
   "metadata": {
    "tags": []
   },
   "outputs": [],
   "source": [
    "#tweets from when Elon made the offer on April 14th 2022\n",
    "start = datetime.now()\n",
    "\n",
    "maxTweets = 20000\n",
    "startdate='2022-04-14'\n",
    "enddate='2022-04-16'\n",
    "\n",
    "tweets_list = []\n",
    "keyword = ' OR '.join(keywords)\n",
    "\n",
    "for i,tweet in enumerate(sntwitter.TwitterSearchScraper('{} since:{} until:{}'.format(keyword,startdate,enddate)).get_items()):\n",
    "    if i>maxTweets:\n",
    "        break\n",
    "    try:\n",
    "        description = sntwitter.TwitterUserScraper(tweet.user.username).entity.description\n",
    "        US_Flag = USflagemoji in description #check if american flag emoji is in the description\n",
    "    except:\n",
    "        print(f'error at {tweet.user.username}')\n",
    "        continue\n",
    "    tweets_list.append([tweet.date, tweet.id, tweet.content, tweet.user.username, description, US_Flag, keyword])\n",
    "    \n",
    "tweets20220414 = pd.DataFrame(tweets_list, columns=['Datetime', 'Tweet Id', 'Text', 'Username', 'Description', 'US Flag', 'Keyword'])\n",
    "\n",
    "end = datetime.now()\n",
    "time_taken = end - start\n",
    "print('Time: ',time_taken) "
   ]
  },
  {
   "cell_type": "code",
   "execution_count": null,
   "id": "153c8fff-611f-4f83-b393-c89f4903a43a",
   "metadata": {},
   "outputs": [],
   "source": [
    "with open('tweets20220414.pkl', 'wb') as handle:\n",
    "    pickle.dump(tweets20220414, handle, protocol=pickle.HIGHEST_PROTOCOL)"
   ]
  },
  {
   "cell_type": "code",
   "execution_count": null,
   "id": "bf0a5da3-bce3-49f4-8019-0225faee7f52",
   "metadata": {},
   "outputs": [],
   "source": [
    "#tweets from when Twitter accepted Elon's offer\n",
    "start = datetime.now()\n",
    "\n",
    "maxTweets = 20000\n",
    "startdate='2022-04-25'\n",
    "enddate='2022-04-27'\n",
    "\n",
    "tweets_list = []\n",
    "keyword = ' OR '.join(keywords)\n",
    "\n",
    "for i,tweet in enumerate(sntwitter.TwitterSearchScraper('{} since:{} until:{}'.format(keyword,startdate,enddate)).get_items()):\n",
    "    if i>maxTweets:\n",
    "        break\n",
    "    try:\n",
    "        description = sntwitter.TwitterUserScraper(tweet.user.username).entity.description\n",
    "        US_Flag = USflagemoji in description #check if american flag emoji is in the description\n",
    "    except:\n",
    "        print(f'error at {tweet.user.username}')\n",
    "        continue\n",
    "    tweets_list.append([tweet.date, tweet.id, tweet.content, tweet.user.username, description, US_Flag, keyword])\n",
    "    \n",
    "tweets20220425 = pd.DataFrame(tweets_list, columns=['Datetime', 'Tweet Id', 'Text', 'Username', 'Description', 'US Flag', 'Keyword'])\n",
    "\n",
    "end = datetime.now()\n",
    "time_taken = end - start\n",
    "print('Time: ',time_taken) \n",
    "    "
   ]
  },
  {
   "cell_type": "code",
   "execution_count": null,
   "id": "1a7e0d51-b9d3-43ac-a533-769bc679058a",
   "metadata": {},
   "outputs": [],
   "source": [
    "with open('tweets20220425.pkl', 'wb') as handle:\n",
    "    pickle.dump(tweets20220425, handle, protocol=pickle.HIGHEST_PROTOCOL)"
   ]
  },
  {
   "cell_type": "code",
   "execution_count": null,
   "id": "3a30e84c-1933-4bce-8dd0-e930589e965c",
   "metadata": {},
   "outputs": [],
   "source": [
    "#new set of keywords for control\n",
    "keywords2 = [\n",
    "            '#ElonMusk', \n",
    "            '@elonmusk',\n",
    "            'Elon Musk',\n",
    "            'Elon',\n",
    "            'Musk'\n",
    "           ]"
   ]
  },
  {
   "cell_type": "code",
   "execution_count": null,
   "id": "0a7f852d-e9d3-4fb3-8a5d-760745d2ec60",
   "metadata": {},
   "outputs": [],
   "source": [
    "#tweets about Elon from a year ago as control\n",
    "start = datetime.now()\n",
    "\n",
    "maxTweets = 20000\n",
    "startdate='2021-04-05'\n",
    "enddate='2021-04-07'\n",
    "\n",
    "tweets_list = []\n",
    "keyword = ' OR '.join(keywords2)\n",
    "\n",
    "for i,tweet in enumerate(sntwitter.TwitterSearchScraper('{} since:{} until:{}'.format(keyword,startdate,enddate)).get_items()):\n",
    "    if i>maxTweets:\n",
    "        break\n",
    "    try:\n",
    "        description = sntwitter.TwitterUserScraper(tweet.user.username).entity.description\n",
    "        US_Flag = USflagemoji in description #check if american flag emoji is in the description\n",
    "    except:\n",
    "        print(f'error at {tweet.user.username}')\n",
    "        continue\n",
    "    tweets_list.append([tweet.date, tweet.id, tweet.content, tweet.user.username, description, US_Flag, keyword])\n",
    "    \n",
    "tweets20210405 = pd.DataFrame(tweets_list, columns=['Datetime', 'Tweet Id', 'Text', 'Username', 'Description', 'US Flag', 'Keyword'])\n",
    "\n",
    "end = datetime.now()\n",
    "time_taken = end - start\n",
    "print('Time: ',time_taken) \n",
    "    "
   ]
  },
  {
   "cell_type": "code",
   "execution_count": null,
   "id": "8f902c14-93f9-4017-9678-8db91d9436e0",
   "metadata": {},
   "outputs": [],
   "source": [
    "with open('tweets20210405.pkl', 'wb') as handle:\n",
    "    pickle.dump(tweets20210405, handle, protocol=pickle.HIGHEST_PROTOCOL)"
   ]
  },
  {
   "cell_type": "code",
   "execution_count": null,
   "id": "8051c760-d08e-4600-b74a-827c8b541274",
   "metadata": {},
   "outputs": [],
   "source": [
    "#tweets from when Elon said he would lift Trump ban\n",
    "start = datetime.now()\n",
    "\n",
    "maxTweets = 20000\n",
    "startdate='2022-05-10'\n",
    "enddate='2022-05-12'\n",
    "\n",
    "tweets_list = []\n",
    "keyword = ' OR '.join(keywords)\n",
    "\n",
    "for i,tweet in enumerate(sntwitter.TwitterSearchScraper('{} since:{} until:{}'.format(keyword,startdate,enddate)).get_items()):\n",
    "    if i>maxTweets:\n",
    "        break\n",
    "    try:\n",
    "        description = sntwitter.TwitterUserScraper(tweet.user.username).entity.description\n",
    "        US_Flag = USflagemoji in description #check if american flag emoji is in the description\n",
    "    except:\n",
    "        print(f'error at {tweet.user.username}')\n",
    "        continue\n",
    "    tweets_list.append([tweet.date, tweet.id, tweet.content, tweet.user.username, description, US_Flag, keyword])\n",
    "    \n",
    "tweets20220510 = pd.DataFrame(tweets_list, columns=['Datetime', 'Tweet Id', 'Text', 'Username', 'Description', 'US Flag', 'Keyword'])\n",
    "\n",
    "end = datetime.now()\n",
    "time_taken = end - start\n",
    "print('Time: ',time_taken) \n",
    "    "
   ]
  },
  {
   "cell_type": "code",
   "execution_count": null,
   "id": "c7a93e37-5661-4c8d-b6e4-e01a99a463fd",
   "metadata": {},
   "outputs": [],
   "source": [
    "with open('tweets20220510.pkl', 'wb') as handle:\n",
    "    pickle.dump(tweets20220510, handle, protocol=pickle.HIGHEST_PROTOCOL)"
   ]
  },
  {
   "cell_type": "code",
   "execution_count": null,
   "id": "88626213-a71f-4658-933c-65c3a9d6f151",
   "metadata": {},
   "outputs": [],
   "source": []
  }
 ],
 "metadata": {
  "kernelspec": {
   "display_name": "Python 3 (ipykernel)",
   "language": "python",
   "name": "python3"
  },
  "language_info": {
   "codemirror_mode": {
    "name": "ipython",
    "version": 3
   },
   "file_extension": ".py",
   "mimetype": "text/x-python",
   "name": "python",
   "nbconvert_exporter": "python",
   "pygments_lexer": "ipython3",
   "version": "3.8.8"
  }
 },
 "nbformat": 4,
 "nbformat_minor": 5
}
