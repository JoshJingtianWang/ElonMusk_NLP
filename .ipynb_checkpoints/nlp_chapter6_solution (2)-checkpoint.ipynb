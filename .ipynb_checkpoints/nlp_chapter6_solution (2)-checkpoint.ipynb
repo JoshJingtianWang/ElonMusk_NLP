{
 "cells": [
  {
   "cell_type": "markdown",
   "metadata": {
    "id": "eLgXG6MUENUJ"
   },
   "source": [
    "# Chapter 6: More Text Preprocessing with NLTK\n",
    "\n",
    "## Instructions\n",
    "\n",
    "- Run the cells with \"assert\" statements to see if your answer's output matches what the output should be. If it runs without error, your answer matches! If your output is different, you'll get a hint.\n",
    "\n",
    "\n",
    "In this notebook, you'll test out a number of preprocessing techniques in NLTK and you'll also apply some other techniques to a pandas dataframe."
   ]
  },
  {
   "cell_type": "markdown",
   "metadata": {
    "id": "uWpWKxTtkvx8"
   },
   "source": [
    "## 1. Text Preprocessing in NLTK"
   ]
  },
  {
   "cell_type": "code",
   "execution_count": 1,
   "metadata": {
    "colab": {
     "base_uri": "https://localhost:8080/"
    },
    "id": "ikbV0lOZakV8",
    "outputId": "6978baf9-444d-41f8-9ade-0c0e76509ee1"
   },
   "outputs": [
    {
     "name": "stderr",
     "output_type": "stream",
     "text": [
      "[nltk_data] Downloading package punkt to /Users/rita/nltk_data...\n",
      "[nltk_data]   Package punkt is already up-to-date!\n",
      "[nltk_data] Downloading package averaged_perceptron_tagger to\n",
      "[nltk_data]     /Users/rita/nltk_data...\n",
      "[nltk_data]   Package averaged_perceptron_tagger is already up-to-\n",
      "[nltk_data]       date!\n"
     ]
    }
   ],
   "source": [
    "import pandas as pd\n",
    "pd.set_option('display.max_colwidth', None)\n",
    "\n",
    "import nltk\n",
    "nltk.download('punkt')\n",
    "nltk.download('averaged_perceptron_tagger')\n",
    "\n",
    "from nltk.tokenize import MWETokenizer, word_tokenize\n",
    "from nltk.tag import pos_tag\n",
    "from nltk.stem.lancaster import LancasterStemmer"
   ]
  },
  {
   "cell_type": "markdown",
   "metadata": {
    "id": "Z-Gglk2Xnd7i"
   },
   "source": [
    "Tokenize the text below by word, but make sure that `I` and `am` are seen as one term. Hint: use `MWETokenizer`. Save the resulting word list as `word_list`."
   ]
  },
  {
   "cell_type": "code",
   "execution_count": 2,
   "metadata": {
    "id": "ulFfcrHlfTVo"
   },
   "outputs": [],
   "source": [
    "text = \"I am a runner. I love to run. I ran on yesterday. I am running now. I will run tomorrow.\""
   ]
  },
  {
   "cell_type": "code",
   "execution_count": 3,
   "metadata": {
    "colab": {
     "base_uri": "https://localhost:8080/"
    },
    "id": "5dDFSWd6iu8F",
    "outputId": "3995b7ad-5ce3-498d-87fc-c9c3b275b0f9"
   },
   "outputs": [
    {
     "data": {
      "text/plain": [
       "['I_am',\n",
       " 'a',\n",
       " 'runner',\n",
       " '.',\n",
       " 'I',\n",
       " 'love',\n",
       " 'to',\n",
       " 'run',\n",
       " '.',\n",
       " 'I',\n",
       " 'ran',\n",
       " 'on',\n",
       " 'yesterday',\n",
       " '.',\n",
       " 'I_am',\n",
       " 'running',\n",
       " 'now',\n",
       " '.',\n",
       " 'I',\n",
       " 'will',\n",
       " 'run',\n",
       " 'tomorrow',\n",
       " '.']"
      ]
     },
     "execution_count": 3,
     "metadata": {},
     "output_type": "execute_result"
    }
   ],
   "source": [
    "### BEGIN SOLUTION\n",
    "word_list = MWETokenizer([('I','am')]).tokenize(word_tokenize(text))\n",
    "### END SOLUTION\n",
    "word_list"
   ]
  },
  {
   "cell_type": "code",
   "execution_count": 4,
   "metadata": {
    "id": "bRFzKbSFnyM7"
   },
   "outputs": [],
   "source": [
    "### CHECK YOUR OUTPUT WITH THE ANSWER\n",
    "\n",
    "### BEGIN HIDDEN TESTS\n",
    "assert len(word_list), \"There should be 23 items in the list.\"\n",
    "### END HIDDEN TESTS"
   ]
  },
  {
   "cell_type": "markdown",
   "metadata": {
    "id": "jeENK2s2oGM_"
   },
   "source": [
    "Let's only focus on the words that start with the letter `r`."
   ]
  },
  {
   "cell_type": "code",
   "execution_count": 5,
   "metadata": {
    "colab": {
     "base_uri": "https://localhost:8080/"
    },
    "id": "pmf7yoCWivQg",
    "outputId": "5542cedd-42fd-4748-bbca-891a915173e5"
   },
   "outputs": [
    {
     "data": {
      "text/plain": [
       "['runner', 'run', 'ran', 'running', 'run']"
      ]
     },
     "execution_count": 5,
     "metadata": {},
     "output_type": "execute_result"
    }
   ],
   "source": [
    "r_list = [word for word in word_list if word[0] == 'r']\n",
    "r_list"
   ]
  },
  {
   "cell_type": "markdown",
   "metadata": {
    "id": "5hwJYyXhoZiU"
   },
   "source": [
    "Use the `LancasterStemmer` to find the base of these five words. Hint: you'll need to write a `for` loop to stem each item in the list. Save the new stemmed list in a variable called `stemmed_list`."
   ]
  },
  {
   "cell_type": "code",
   "execution_count": 6,
   "metadata": {
    "colab": {
     "base_uri": "https://localhost:8080/"
    },
    "id": "UnDJEosYfiC4",
    "outputId": "39fbcdbd-125c-4ee9-8ed3-1b67d634c787"
   },
   "outputs": [
    {
     "data": {
      "text/plain": [
       "['run', 'run', 'ran', 'run', 'run']"
      ]
     },
     "execution_count": 6,
     "metadata": {},
     "output_type": "execute_result"
    }
   ],
   "source": [
    "### BEGIN SOLUTION\n",
    "stemmer = LancasterStemmer()\n",
    "stemmed_list = []\n",
    "for word in r_list:\n",
    "    stemmed_word = stemmer.stem(word)\n",
    "    stemmed_list.append(stemmed_word)\n",
    "### END SOLUTION\n",
    "stemmed_list"
   ]
  },
  {
   "cell_type": "code",
   "execution_count": 7,
   "metadata": {
    "id": "rJEIIo_cr4v7"
   },
   "outputs": [],
   "source": [
    "### CHECK YOUR OUTPUT WITH THE ANSWER\n",
    "\n",
    "### BEGIN HIDDEN TESTS\n",
    "assert stemmed_list == ['run', 'run', 'ran', 'run', 'run'], \"The stemmed list is incorrect.\"\n",
    "### END HIDDEN TESTS"
   ]
  },
  {
   "cell_type": "markdown",
   "metadata": {
    "id": "DroIjNPHpDth"
   },
   "source": [
    "Find the part of speech of each item in the `r_list` using `pos_tag`. Save the results in a variable called `pos_list`."
   ]
  },
  {
   "cell_type": "code",
   "execution_count": 8,
   "metadata": {
    "colab": {
     "base_uri": "https://localhost:8080/"
    },
    "id": "aASjKVpVoRDD",
    "outputId": "7c4dbcfa-5f03-426e-f285-7333463dab51"
   },
   "outputs": [
    {
     "data": {
      "text/plain": [
       "[('runner', 'NN'),\n",
       " ('run', 'VB'),\n",
       " ('ran', 'VBD'),\n",
       " ('running', 'VBG'),\n",
       " ('run', 'NN')]"
      ]
     },
     "execution_count": 8,
     "metadata": {},
     "output_type": "execute_result"
    }
   ],
   "source": [
    "### BEGIN SOLUTION\n",
    "pos_list = pos_tag(r_list)\n",
    "### END SOLUTION\n",
    "pos_list"
   ]
  },
  {
   "cell_type": "code",
   "execution_count": 9,
   "metadata": {
    "id": "aWnkfnD8sHFW"
   },
   "outputs": [],
   "source": [
    "### CHECK YOUR OUTPUT WITH THE ANSWER\n",
    "\n",
    "### BEGIN HIDDEN TESTS\n",
    "assert pos_list == [('runner', 'NN'), ('run', 'VB'), ('ran', 'VBD'), ('running', 'VBG'), ('run', 'NN')], \"The parts of speech list is incorrect.\"\n",
    "### END HIDDEN TESTS"
   ]
  },
  {
   "cell_type": "markdown",
   "metadata": {
    "id": "jtlQRk8OnHF9"
   },
   "source": [
    "## 2. Filtering Parts of Speech in a DataFrame\n",
    "\n",
    "The goal is to filter down the text in the reviews to only include adjectives."
   ]
  },
  {
   "cell_type": "code",
   "execution_count": 10,
   "metadata": {
    "colab": {
     "base_uri": "https://localhost:8080/",
     "height": 320
    },
    "id": "p3VHy5ITcN_G",
    "outputId": "4588e99c-22ad-4b08-baa5-193182484ab2"
   },
   "outputs": [
    {
     "data": {
      "text/html": [
       "<div>\n",
       "<style scoped>\n",
       "    .dataframe tbody tr th:only-of-type {\n",
       "        vertical-align: middle;\n",
       "    }\n",
       "\n",
       "    .dataframe tbody tr th {\n",
       "        vertical-align: top;\n",
       "    }\n",
       "\n",
       "    .dataframe thead th {\n",
       "        text-align: right;\n",
       "    }\n",
       "</style>\n",
       "<table border=\"1\" class=\"dataframe\">\n",
       "  <thead>\n",
       "    <tr style=\"text-align: right;\">\n",
       "      <th></th>\n",
       "      <th>users</th>\n",
       "      <th>stars</th>\n",
       "      <th>reviews</th>\n",
       "    </tr>\n",
       "  </thead>\n",
       "  <tbody>\n",
       "    <tr>\n",
       "      <th>0</th>\n",
       "      <td>a</td>\n",
       "      <td>5</td>\n",
       "      <td>Grove Square Cappuccino Cups were excellent. Tasted really good right from the Keurig brewer with nothing added. wWould highly recommend. RCCJR</td>\n",
       "    </tr>\n",
       "    <tr>\n",
       "      <th>1</th>\n",
       "      <td>b</td>\n",
       "      <td>1</td>\n",
       "      <td>I love my Keurig, and I love most of the Keurig coffees. This is instant coffee with instant milk and far too much sugar. I don't know anyone I dislike enough to dump the rest of the box on.</td>\n",
       "    </tr>\n",
       "    <tr>\n",
       "      <th>2</th>\n",
       "      <td>c</td>\n",
       "      <td>1</td>\n",
       "      <td>It's a powdered drink. No filter in k-cup.&lt;br /&gt;Just buy it in bulk and mix it with hot water....&lt;br /&gt;&lt;br /&gt;Nothing else to say here. Wont be buying it again.</td>\n",
       "    </tr>\n",
       "    <tr>\n",
       "      <th>3</th>\n",
       "      <td>d</td>\n",
       "      <td>1</td>\n",
       "      <td>don't bother! bet you couldn't tell the difference between this and hot water if your eyes were closed. well, maybe the water would have a taste!</td>\n",
       "    </tr>\n",
       "    <tr>\n",
       "      <th>4</th>\n",
       "      <td>e</td>\n",
       "      <td>1</td>\n",
       "      <td>Never tasted this coffee before, I felt much too sweet even for dessert. I would not order again. But then that is only my opinion. My friend's husband loves it.&lt;br /&gt;I gave them to him.</td>\n",
       "    </tr>\n",
       "    <tr>\n",
       "      <th>5</th>\n",
       "      <td>f</td>\n",
       "      <td>5</td>\n",
       "      <td>My husband and I LOVE this French Vanilla Cappuccino. Sooo glad I didn't listen to some of the reviews and took the plunge and bought it.</td>\n",
       "    </tr>\n",
       "  </tbody>\n",
       "</table>\n",
       "</div>"
      ],
      "text/plain": [
       "  users  stars  \\\n",
       "0     a      5   \n",
       "1     b      1   \n",
       "2     c      1   \n",
       "3     d      1   \n",
       "4     e      1   \n",
       "5     f      5   \n",
       "\n",
       "                                                                                                                                                                                          reviews  \n",
       "0                                                 Grove Square Cappuccino Cups were excellent. Tasted really good right from the Keurig brewer with nothing added. wWould highly recommend. RCCJR  \n",
       "1  I love my Keurig, and I love most of the Keurig coffees. This is instant coffee with instant milk and far too much sugar. I don't know anyone I dislike enough to dump the rest of the box on.  \n",
       "2                                 It's a powdered drink. No filter in k-cup.<br />Just buy it in bulk and mix it with hot water....<br /><br />Nothing else to say here. Wont be buying it again.  \n",
       "3                                               don't bother! bet you couldn't tell the difference between this and hot water if your eyes were closed. well, maybe the water would have a taste!  \n",
       "4      Never tasted this coffee before, I felt much too sweet even for dessert. I would not order again. But then that is only my opinion. My friend's husband loves it.<br />I gave them to him.  \n",
       "5                                                       My husband and I LOVE this French Vanilla Cappuccino. Sooo glad I didn't listen to some of the reviews and took the plunge and bought it.  "
      ]
     },
     "execution_count": 10,
     "metadata": {},
     "output_type": "execute_result"
    }
   ],
   "source": [
    "df = pd.DataFrame([['a',5,\"Grove Square Cappuccino Cups were excellent. Tasted really good right from the Keurig brewer with nothing added. wWould highly recommend. RCCJR\"],\n",
    "                  ['b',1,\"I love my Keurig, and I love most of the Keurig coffees. This is instant coffee with instant milk and far too much sugar. I don't know anyone I dislike enough to dump the rest of the box on.\"],\n",
    "                  ['c',1,\"It's a powdered drink. No filter in k-cup.<br />Just buy it in bulk and mix it with hot water....<br /><br />Nothing else to say here. Wont be buying it again.\"],\n",
    "                  ['d',1,\"don't bother! bet you couldn't tell the difference between this and hot water if your eyes were closed. well, maybe the water would have a taste!\"],\n",
    "                  ['e',1,\"Never tasted this coffee before, I felt much too sweet even for dessert. I would not order again. But then that is only my opinion. My friend's husband loves it.<br />I gave them to him.\"],\n",
    "                  ['f',5,\"My husband and I LOVE this French Vanilla Cappuccino. Sooo glad I didn't listen to some of the reviews and took the plunge and bought it.\"]],\n",
    "                  columns=['users','stars','reviews'])\n",
    "df"
   ]
  },
  {
   "cell_type": "markdown",
   "metadata": {
    "id": "Z2DweTeMxBUf"
   },
   "source": [
    "Most of the code is written below, but there are two errors.\n",
    "\n",
    "```\n",
    "def adj_or_not(text):\n",
    "  pos_list = pos_tag(word_tokenize(text))\n",
    "  adjs = ''\n",
    "  for item in pos_list:\n",
    "    if item[1] == 'NN':\n",
    "      adjs = adjs + item[1] + ' '\n",
    "  return adjs \n",
    "adjs = df.reviews.map(adj_or_not)\n",
    "adjs\n",
    "```\n",
    "\n",
    "Fix those errors to display all of the adjectives in the reviews column. The beginning of your output should look like this:\n",
    "\n",
    "```\n",
    "0    excellent good recommend \n",
    "1        instant instant much\n",
    "...                       ...\n",
    "```"
   ]
  },
  {
   "cell_type": "code",
   "execution_count": 11,
   "metadata": {
    "colab": {
     "base_uri": "https://localhost:8080/"
    },
    "id": "i-DQO-pIwq6N",
    "outputId": "5a9a6c7e-6cdd-4f9a-9895-904a4453b974"
   },
   "outputs": [
    {
     "data": {
      "text/plain": [
       "0    excellent good recommend \n",
       "1        instant instant much \n",
       "2         powdered k-cup. hot \n",
       "3                         hot \n",
       "4                   sweet it. \n",
       "5                      French \n",
       "Name: reviews, dtype: object"
      ]
     },
     "execution_count": 11,
     "metadata": {},
     "output_type": "execute_result"
    }
   ],
   "source": [
    "### BEGIN SOLUTION HERE\n",
    "def adj_or_not(text):\n",
    "    pos_list = pos_tag(word_tokenize(text))\n",
    "    adjs = ''\n",
    "    for item in pos_list:\n",
    "        if item[1] == 'JJ':\n",
    "            adjs = adjs + item[0] + ' '\n",
    "    return adjs \n",
    "\n",
    "adjs = df.reviews.map(adj_or_not)\n",
    "\n",
    "### END SOLUTION HERE\n",
    "adjs"
   ]
  },
  {
   "cell_type": "code",
   "execution_count": 12,
   "metadata": {
    "id": "eRckZyCvakiV"
   },
   "outputs": [],
   "source": [
    "### CHECK YOUR OUTPUT WITH THE ANSWER\n",
    "\n",
    "### START HIDDEN TESTS\n",
    "assert len([' '.join(adjs)][0].split()) == 13, \"That is the incorrect number of adjectives in the reviews.\"\n",
    "### END HIDDEN TESTS"
   ]
  },
  {
   "cell_type": "markdown",
   "metadata": {
    "id": "eEN5-qgRyiAk"
   },
   "source": [
    "Hints:\n",
    "* The parts of speech tag details can be found [here](https://www.ling.upenn.edu/courses/Fall_2003/ling001/penn_treebank_pos.html).\n",
    "* Think about what the `item` variable looks like. You may want to test the function on one string before applying it to the whole dataframe."
   ]
  },
  {
   "cell_type": "code",
   "execution_count": null,
   "metadata": {
    "id": "I-0Ub7k4y581"
   },
   "outputs": [],
   "source": []
  }
 ],
 "metadata": {
  "colab": {
   "collapsed_sections": [],
   "name": "nlp-unsupervised-nlp-exercises6.ipynb",
   "provenance": [],
   "toc_visible": true
  },
  "kernelspec": {
   "display_name": "Python 3",
   "language": "python",
   "name": "python3"
  },
  "language_info": {
   "codemirror_mode": {
    "name": "ipython",
    "version": 3
   },
   "file_extension": ".py",
   "mimetype": "text/x-python",
   "name": "python",
   "nbconvert_exporter": "python",
   "pygments_lexer": "ipython3",
   "version": "3.8.8"
  }
 },
 "nbformat": 4,
 "nbformat_minor": 1
}
