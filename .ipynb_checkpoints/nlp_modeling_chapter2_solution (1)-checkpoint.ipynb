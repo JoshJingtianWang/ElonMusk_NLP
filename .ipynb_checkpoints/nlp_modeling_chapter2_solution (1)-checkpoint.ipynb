{
 "cells": [
  {
   "cell_type": "markdown",
   "metadata": {
    "id": "eLgXG6MUENUJ"
   },
   "source": [
    "# Chapter 2: Latent Semantic Analysis (LSA)\n",
    "\n",
    "## Instructions\n",
    "\n",
    "- Run the cells with \"assert\" statements to see if your answer's output matches what the output should be. If it runs without error, your answer matches! If your output is different, you'll get a hint.\n",
    "\n",
    "In this notebook, you'll get to practice topic modeling with LSA.\n"
   ]
  },
  {
   "cell_type": "code",
   "execution_count": 1,
   "metadata": {
    "id": "hxDK0pIPXh_P"
   },
   "outputs": [],
   "source": [
    "import pandas as pd\n",
    "from sklearn.feature_extraction.text import CountVectorizer \n",
    "from sklearn.decomposition import TruncatedSVD"
   ]
  },
  {
   "cell_type": "markdown",
   "metadata": {
    "id": "a3ChnL9ri0j2"
   },
   "source": [
    "Remember, a corpus is a collection of documents. Here, we have 7 documents. Scanning the text, what topics do you see? How many topics do you see? Keep those answers in mind as we move forward."
   ]
  },
  {
   "cell_type": "code",
   "execution_count": 2,
   "metadata": {
    "id": "tzmcy-XEXiDM"
   },
   "outputs": [],
   "source": [
    "corpus = ['Football baseball basketball',\n",
    "          'baseball giants cubs redsox',\n",
    "          'football broncos cowboys',\n",
    "          'a baseball redsox tigers',\n",
    "          'the pop stars hendrix prince',\n",
    "          'hendrix prince jagger rock',\n",
    "          'joplin pearl jam tupac rock']"
   ]
  },
  {
   "cell_type": "markdown",
   "metadata": {
    "id": "ihqRPrUdjBWZ"
   },
   "source": [
    "Before topic modeling, the first step is to get your text data in a format that is ready for modeling. Use `CountVectorizer` with English stop words to turn the corpus into a document-term matrix. Save the matrix as `doc_term` and print out the shape of the matrix."
   ]
  },
  {
   "cell_type": "code",
   "execution_count": 3,
   "metadata": {
    "colab": {
     "base_uri": "https://localhost:8080/"
    },
    "id": "Xh5PpRzQXiHJ",
    "outputId": "3e9d9e0d-9299-449e-ea30-db3d87b8801d"
   },
   "outputs": [
    {
     "data": {
      "text/plain": [
       "(7, 19)"
      ]
     },
     "execution_count": 3,
     "metadata": {},
     "output_type": "execute_result"
    }
   ],
   "source": [
    "### BEGIN SOLUTION\n",
    "vectorizer = CountVectorizer(stop_words='english')\n",
    "doc_term = vectorizer.fit_transform(corpus)\n",
    "### END SOLUTION\n",
    "doc_term.shape"
   ]
  },
  {
   "cell_type": "code",
   "execution_count": 4,
   "metadata": {
    "id": "BS99pyGbjxQy"
   },
   "outputs": [],
   "source": [
    "### CHECK YOUR OUTPUT WITH THE ANSWER\n",
    "\n",
    "### BEGIN HIDDEN TESTS\n",
    "assert doc_term.shape == (7, 19), \"The doc_term matrix should have 7 documents and 19 terms.\"\n",
    "### END HIDDEN TESTS"
   ]
  },
  {
   "cell_type": "markdown",
   "metadata": {
    "id": "n_gaHrf4jwxv"
   },
   "source": [
    "Turn the `doc_term` matrix into a dataframe. Modify the code below to do so and save the output as `doc_term_df`.\n",
    "\n",
    "```\n",
    "pd.DataFrame(INSERT_VALUE_HERE.toarray(), index=corpus, columns=vectorizer.get_feature_names())\n",
    "```"
   ]
  },
  {
   "cell_type": "code",
   "execution_count": 5,
   "metadata": {
    "colab": {
     "base_uri": "https://localhost:8080/",
     "height": 453
    },
    "id": "92pZMwOTYZLk",
    "outputId": "a3437176-21af-4b77-cda8-5776c326431d"
   },
   "outputs": [
    {
     "data": {
      "text/html": [
       "<div>\n",
       "<style scoped>\n",
       "    .dataframe tbody tr th:only-of-type {\n",
       "        vertical-align: middle;\n",
       "    }\n",
       "\n",
       "    .dataframe tbody tr th {\n",
       "        vertical-align: top;\n",
       "    }\n",
       "\n",
       "    .dataframe thead th {\n",
       "        text-align: right;\n",
       "    }\n",
       "</style>\n",
       "<table border=\"1\" class=\"dataframe\">\n",
       "  <thead>\n",
       "    <tr style=\"text-align: right;\">\n",
       "      <th></th>\n",
       "      <th>baseball</th>\n",
       "      <th>basketball</th>\n",
       "      <th>broncos</th>\n",
       "      <th>cowboys</th>\n",
       "      <th>cubs</th>\n",
       "      <th>football</th>\n",
       "      <th>giants</th>\n",
       "      <th>hendrix</th>\n",
       "      <th>jagger</th>\n",
       "      <th>jam</th>\n",
       "      <th>joplin</th>\n",
       "      <th>pearl</th>\n",
       "      <th>pop</th>\n",
       "      <th>prince</th>\n",
       "      <th>redsox</th>\n",
       "      <th>rock</th>\n",
       "      <th>stars</th>\n",
       "      <th>tigers</th>\n",
       "      <th>tupac</th>\n",
       "    </tr>\n",
       "  </thead>\n",
       "  <tbody>\n",
       "    <tr>\n",
       "      <th>Football baseball basketball</th>\n",
       "      <td>1</td>\n",
       "      <td>1</td>\n",
       "      <td>0</td>\n",
       "      <td>0</td>\n",
       "      <td>0</td>\n",
       "      <td>1</td>\n",
       "      <td>0</td>\n",
       "      <td>0</td>\n",
       "      <td>0</td>\n",
       "      <td>0</td>\n",
       "      <td>0</td>\n",
       "      <td>0</td>\n",
       "      <td>0</td>\n",
       "      <td>0</td>\n",
       "      <td>0</td>\n",
       "      <td>0</td>\n",
       "      <td>0</td>\n",
       "      <td>0</td>\n",
       "      <td>0</td>\n",
       "    </tr>\n",
       "    <tr>\n",
       "      <th>baseball giants cubs redsox</th>\n",
       "      <td>1</td>\n",
       "      <td>0</td>\n",
       "      <td>0</td>\n",
       "      <td>0</td>\n",
       "      <td>1</td>\n",
       "      <td>0</td>\n",
       "      <td>1</td>\n",
       "      <td>0</td>\n",
       "      <td>0</td>\n",
       "      <td>0</td>\n",
       "      <td>0</td>\n",
       "      <td>0</td>\n",
       "      <td>0</td>\n",
       "      <td>0</td>\n",
       "      <td>1</td>\n",
       "      <td>0</td>\n",
       "      <td>0</td>\n",
       "      <td>0</td>\n",
       "      <td>0</td>\n",
       "    </tr>\n",
       "    <tr>\n",
       "      <th>football broncos cowboys</th>\n",
       "      <td>0</td>\n",
       "      <td>0</td>\n",
       "      <td>1</td>\n",
       "      <td>1</td>\n",
       "      <td>0</td>\n",
       "      <td>1</td>\n",
       "      <td>0</td>\n",
       "      <td>0</td>\n",
       "      <td>0</td>\n",
       "      <td>0</td>\n",
       "      <td>0</td>\n",
       "      <td>0</td>\n",
       "      <td>0</td>\n",
       "      <td>0</td>\n",
       "      <td>0</td>\n",
       "      <td>0</td>\n",
       "      <td>0</td>\n",
       "      <td>0</td>\n",
       "      <td>0</td>\n",
       "    </tr>\n",
       "    <tr>\n",
       "      <th>a baseball redsox tigers</th>\n",
       "      <td>1</td>\n",
       "      <td>0</td>\n",
       "      <td>0</td>\n",
       "      <td>0</td>\n",
       "      <td>0</td>\n",
       "      <td>0</td>\n",
       "      <td>0</td>\n",
       "      <td>0</td>\n",
       "      <td>0</td>\n",
       "      <td>0</td>\n",
       "      <td>0</td>\n",
       "      <td>0</td>\n",
       "      <td>0</td>\n",
       "      <td>0</td>\n",
       "      <td>1</td>\n",
       "      <td>0</td>\n",
       "      <td>0</td>\n",
       "      <td>1</td>\n",
       "      <td>0</td>\n",
       "    </tr>\n",
       "    <tr>\n",
       "      <th>the pop stars hendrix prince</th>\n",
       "      <td>0</td>\n",
       "      <td>0</td>\n",
       "      <td>0</td>\n",
       "      <td>0</td>\n",
       "      <td>0</td>\n",
       "      <td>0</td>\n",
       "      <td>0</td>\n",
       "      <td>1</td>\n",
       "      <td>0</td>\n",
       "      <td>0</td>\n",
       "      <td>0</td>\n",
       "      <td>0</td>\n",
       "      <td>1</td>\n",
       "      <td>1</td>\n",
       "      <td>0</td>\n",
       "      <td>0</td>\n",
       "      <td>1</td>\n",
       "      <td>0</td>\n",
       "      <td>0</td>\n",
       "    </tr>\n",
       "    <tr>\n",
       "      <th>hendrix prince jagger rock</th>\n",
       "      <td>0</td>\n",
       "      <td>0</td>\n",
       "      <td>0</td>\n",
       "      <td>0</td>\n",
       "      <td>0</td>\n",
       "      <td>0</td>\n",
       "      <td>0</td>\n",
       "      <td>1</td>\n",
       "      <td>1</td>\n",
       "      <td>0</td>\n",
       "      <td>0</td>\n",
       "      <td>0</td>\n",
       "      <td>0</td>\n",
       "      <td>1</td>\n",
       "      <td>0</td>\n",
       "      <td>1</td>\n",
       "      <td>0</td>\n",
       "      <td>0</td>\n",
       "      <td>0</td>\n",
       "    </tr>\n",
       "    <tr>\n",
       "      <th>joplin pearl jam tupac rock</th>\n",
       "      <td>0</td>\n",
       "      <td>0</td>\n",
       "      <td>0</td>\n",
       "      <td>0</td>\n",
       "      <td>0</td>\n",
       "      <td>0</td>\n",
       "      <td>0</td>\n",
       "      <td>0</td>\n",
       "      <td>0</td>\n",
       "      <td>1</td>\n",
       "      <td>1</td>\n",
       "      <td>1</td>\n",
       "      <td>0</td>\n",
       "      <td>0</td>\n",
       "      <td>0</td>\n",
       "      <td>1</td>\n",
       "      <td>0</td>\n",
       "      <td>0</td>\n",
       "      <td>1</td>\n",
       "    </tr>\n",
       "  </tbody>\n",
       "</table>\n",
       "</div>"
      ],
      "text/plain": [
       "                              baseball  basketball  broncos  cowboys  cubs  \\\n",
       "Football baseball basketball         1           1        0        0     0   \n",
       "baseball giants cubs redsox          1           0        0        0     1   \n",
       "football broncos cowboys             0           0        1        1     0   \n",
       "a baseball redsox tigers             1           0        0        0     0   \n",
       "the pop stars hendrix prince         0           0        0        0     0   \n",
       "hendrix prince jagger rock           0           0        0        0     0   \n",
       "joplin pearl jam tupac rock          0           0        0        0     0   \n",
       "\n",
       "                              football  giants  hendrix  jagger  jam  joplin  \\\n",
       "Football baseball basketball         1       0        0       0    0       0   \n",
       "baseball giants cubs redsox          0       1        0       0    0       0   \n",
       "football broncos cowboys             1       0        0       0    0       0   \n",
       "a baseball redsox tigers             0       0        0       0    0       0   \n",
       "the pop stars hendrix prince         0       0        1       0    0       0   \n",
       "hendrix prince jagger rock           0       0        1       1    0       0   \n",
       "joplin pearl jam tupac rock          0       0        0       0    1       1   \n",
       "\n",
       "                              pearl  pop  prince  redsox  rock  stars  tigers  \\\n",
       "Football baseball basketball      0    0       0       0     0      0       0   \n",
       "baseball giants cubs redsox       0    0       0       1     0      0       0   \n",
       "football broncos cowboys          0    0       0       0     0      0       0   \n",
       "a baseball redsox tigers          0    0       0       1     0      0       1   \n",
       "the pop stars hendrix prince      0    1       1       0     0      1       0   \n",
       "hendrix prince jagger rock        0    0       1       0     1      0       0   \n",
       "joplin pearl jam tupac rock       1    0       0       0     1      0       0   \n",
       "\n",
       "                              tupac  \n",
       "Football baseball basketball      0  \n",
       "baseball giants cubs redsox       0  \n",
       "football broncos cowboys          0  \n",
       "a baseball redsox tigers          0  \n",
       "the pop stars hendrix prince      0  \n",
       "hendrix prince jagger rock        0  \n",
       "joplin pearl jam tupac rock       1  "
      ]
     },
     "execution_count": 5,
     "metadata": {},
     "output_type": "execute_result"
    }
   ],
   "source": [
    "### BEGIN SOLUTION\n",
    "doc_term_df = pd.DataFrame(doc_term.toarray(), index=corpus, columns=vectorizer.get_feature_names())\n",
    "### END SOLUTION\n",
    "doc_term_df"
   ]
  },
  {
   "cell_type": "code",
   "execution_count": 6,
   "metadata": {
    "id": "jG0Niy1hYhHK"
   },
   "outputs": [],
   "source": [
    "### CHECK YOUR OUTPUT WITH THE ANSWER\n",
    "\n",
    "### BEGIN HIDDEN TESTS\n",
    "assert type(doc_term_df) == pd.DataFrame, \"The output should be a dataframe.\"\n",
    "assert doc_term_df.shape == (7, 19), \"The output should have 7 documents and 19 terms.\"\n",
    "### END HIDDEN TESTS"
   ]
  },
  {
   "cell_type": "markdown",
   "metadata": {
    "id": "xX3KcvDrlhhO"
   },
   "source": [
    "Fit an LSA model using `TruncatedSVD` with two components, or in other words, two topics. Save the fitted model as `lsa`."
   ]
  },
  {
   "cell_type": "code",
   "execution_count": 7,
   "metadata": {
    "colab": {
     "base_uri": "https://localhost:8080/"
    },
    "id": "6bV5L6gXX4Ey",
    "outputId": "7d354969-0fc9-46a7-9727-7746b3599466"
   },
   "outputs": [
    {
     "data": {
      "text/plain": [
       "TruncatedSVD()"
      ]
     },
     "execution_count": 7,
     "metadata": {},
     "output_type": "execute_result"
    }
   ],
   "source": [
    "### BEGIN SOLUTION\n",
    "lsa = TruncatedSVD(2)\n",
    "lsa.fit(doc_term)\n",
    "### END SOLUTION\n",
    "lsa"
   ]
  },
  {
   "cell_type": "code",
   "execution_count": 8,
   "metadata": {
    "id": "VgeK3rTfo_Cs"
   },
   "outputs": [],
   "source": [
    "### CHECK YOUR OUTPUT WITH THE ANSWER\n",
    "\n",
    "### BEGIN HIDDEN TESTS\n",
    "assert lsa.explained_variance_ratio_[0].round(3) == 0.185, \"The output should be a fitted TruncatedSVD model with two components.\"\n",
    "### END HIDDEN TESTS"
   ]
  },
  {
   "cell_type": "markdown",
   "metadata": {
    "id": "TBjK8sY1mmeE"
   },
   "source": [
    "The LSA model reduced the 19 terms into 2 topics. Save the topic-term matrix as `topic_term`."
   ]
  },
  {
   "cell_type": "code",
   "execution_count": 9,
   "metadata": {
    "colab": {
     "base_uri": "https://localhost:8080/"
    },
    "id": "GDAVg2iXmW8o",
    "outputId": "ef7c0eb4-1f37-4b63-bf62-aa046095bb86"
   },
   "outputs": [
    {
     "data": {
      "text/plain": [
       "array([[ 0.   , -0.   , -0.   , -0.   , -0.   , -0.   , -0.   ,  0.488,\n",
       "         0.266,  0.191,  0.191,  0.191,  0.222,  0.488,  0.   ,  0.457,\n",
       "         0.222,  0.   ,  0.191],\n",
       "       [ 0.675,  0.172,  0.053,  0.053,  0.278,  0.225,  0.278, -0.   ,\n",
       "         0.   , -0.   , -0.   , -0.   , -0.   , -0.   ,  0.503, -0.   ,\n",
       "        -0.   ,  0.225, -0.   ]])"
      ]
     },
     "execution_count": 9,
     "metadata": {},
     "output_type": "execute_result"
    }
   ],
   "source": [
    "### BEGIN SOLUTION\n",
    "topic_term = lsa.components_.round(3)\n",
    "### END SOLUTION\n",
    "topic_term"
   ]
  },
  {
   "cell_type": "code",
   "execution_count": 10,
   "metadata": {
    "id": "3oK0sNa1mXhV"
   },
   "outputs": [],
   "source": [
    "### CHECK YOUR OUTPUT WITH THE ANSWER\n",
    "\n",
    "### BEGIN HIDDEN TESTS\n",
    "assert topic_term.shape == (2, 19), \"The topic_term matrix should have 2 components and 19 terms.\"\n",
    "### END HIDDEN TESTS"
   ]
  },
  {
   "cell_type": "markdown",
   "metadata": {
    "id": "pRLkI1S_nXMJ"
   },
   "source": [
    "Turn the `topic_term` matrix into a dataframe. Modify the code below to do so and save the output as `topic_term_df`.\n",
    "\n",
    "```\n",
    "pd.DataFrame(INSERT_VALUE_HERE.round(3), index = [\"component_1\", \"component_2\"], columns = vectorizer.get_feature_names())\n",
    "```"
   ]
  },
  {
   "cell_type": "code",
   "execution_count": 11,
   "metadata": {
    "colab": {
     "base_uri": "https://localhost:8080/",
     "height": 131
    },
    "id": "wLiAND5VX4Jq",
    "outputId": "55f39751-a734-41a3-acfb-c721ba32a2f5"
   },
   "outputs": [
    {
     "data": {
      "text/html": [
       "<div>\n",
       "<style scoped>\n",
       "    .dataframe tbody tr th:only-of-type {\n",
       "        vertical-align: middle;\n",
       "    }\n",
       "\n",
       "    .dataframe tbody tr th {\n",
       "        vertical-align: top;\n",
       "    }\n",
       "\n",
       "    .dataframe thead th {\n",
       "        text-align: right;\n",
       "    }\n",
       "</style>\n",
       "<table border=\"1\" class=\"dataframe\">\n",
       "  <thead>\n",
       "    <tr style=\"text-align: right;\">\n",
       "      <th></th>\n",
       "      <th>baseball</th>\n",
       "      <th>basketball</th>\n",
       "      <th>broncos</th>\n",
       "      <th>cowboys</th>\n",
       "      <th>cubs</th>\n",
       "      <th>football</th>\n",
       "      <th>giants</th>\n",
       "      <th>hendrix</th>\n",
       "      <th>jagger</th>\n",
       "      <th>jam</th>\n",
       "      <th>joplin</th>\n",
       "      <th>pearl</th>\n",
       "      <th>pop</th>\n",
       "      <th>prince</th>\n",
       "      <th>redsox</th>\n",
       "      <th>rock</th>\n",
       "      <th>stars</th>\n",
       "      <th>tigers</th>\n",
       "      <th>tupac</th>\n",
       "    </tr>\n",
       "  </thead>\n",
       "  <tbody>\n",
       "    <tr>\n",
       "      <th>component_1</th>\n",
       "      <td>0.000</td>\n",
       "      <td>-0.000</td>\n",
       "      <td>-0.000</td>\n",
       "      <td>-0.000</td>\n",
       "      <td>-0.000</td>\n",
       "      <td>-0.000</td>\n",
       "      <td>-0.000</td>\n",
       "      <td>0.488</td>\n",
       "      <td>0.266</td>\n",
       "      <td>0.191</td>\n",
       "      <td>0.191</td>\n",
       "      <td>0.191</td>\n",
       "      <td>0.222</td>\n",
       "      <td>0.488</td>\n",
       "      <td>0.000</td>\n",
       "      <td>0.457</td>\n",
       "      <td>0.222</td>\n",
       "      <td>0.000</td>\n",
       "      <td>0.191</td>\n",
       "    </tr>\n",
       "    <tr>\n",
       "      <th>component_2</th>\n",
       "      <td>0.675</td>\n",
       "      <td>0.172</td>\n",
       "      <td>0.053</td>\n",
       "      <td>0.053</td>\n",
       "      <td>0.278</td>\n",
       "      <td>0.225</td>\n",
       "      <td>0.278</td>\n",
       "      <td>-0.000</td>\n",
       "      <td>0.000</td>\n",
       "      <td>-0.000</td>\n",
       "      <td>-0.000</td>\n",
       "      <td>-0.000</td>\n",
       "      <td>-0.000</td>\n",
       "      <td>-0.000</td>\n",
       "      <td>0.503</td>\n",
       "      <td>-0.000</td>\n",
       "      <td>-0.000</td>\n",
       "      <td>0.225</td>\n",
       "      <td>-0.000</td>\n",
       "    </tr>\n",
       "  </tbody>\n",
       "</table>\n",
       "</div>"
      ],
      "text/plain": [
       "             baseball  basketball  broncos  cowboys   cubs  football  giants  \\\n",
       "component_1     0.000      -0.000   -0.000   -0.000 -0.000    -0.000  -0.000   \n",
       "component_2     0.675       0.172    0.053    0.053  0.278     0.225   0.278   \n",
       "\n",
       "             hendrix  jagger    jam  joplin  pearl    pop  prince  redsox  \\\n",
       "component_1    0.488   0.266  0.191   0.191  0.191  0.222   0.488   0.000   \n",
       "component_2   -0.000   0.000 -0.000  -0.000 -0.000 -0.000  -0.000   0.503   \n",
       "\n",
       "              rock  stars  tigers  tupac  \n",
       "component_1  0.457  0.222   0.000  0.191  \n",
       "component_2 -0.000 -0.000   0.225 -0.000  "
      ]
     },
     "execution_count": 11,
     "metadata": {},
     "output_type": "execute_result"
    }
   ],
   "source": [
    "### BEGIN SOLUTION\n",
    "topic_term_df = pd.DataFrame(topic_term.round(3),\n",
    "                index = [\"component_1\", \"component_2\"],\n",
    "                columns = vectorizer.get_feature_names())\n",
    "### END SOLUTION\n",
    "topic_term_df"
   ]
  },
  {
   "cell_type": "code",
   "execution_count": 12,
   "metadata": {
    "id": "eAHD5BNhoEFJ"
   },
   "outputs": [],
   "source": [
    "### CHECK YOUR OUTPUT WITH THE ANSWER\n",
    "\n",
    "### BEGIN HIDDEN TESTS\n",
    "assert type(topic_term_df) == pd.DataFrame, \"The output should be a dataframe.\"\n",
    "assert topic_term_df.shape == (2, 19), \"The output should have 2 topics and 19 terms.\"\n",
    "### END HIDDEN TESTS"
   ]
  },
  {
   "cell_type": "markdown",
   "metadata": {
    "id": "Pvmbi1NNp72j"
   },
   "source": [
    "While you can scan the output to determine the top words in each topic, the function below displays the top terms in each topic in a format that is easier to read.\n",
    "\n",
    "Apply the function to find the top 5 terms in each of the 2 topics. Save the results of the function as `output`."
   ]
  },
  {
   "cell_type": "code",
   "execution_count": 13,
   "metadata": {
    "id": "TCYg11m_qp8G"
   },
   "outputs": [],
   "source": [
    "# Function to display the top n terms in each topic\n",
    "def display_topics(model, feature_names, no_top_words, topic_names = None): \n",
    "    for ix, topic in enumerate(model.components_):\n",
    "        if not topic_names or not topic_names[ix]:\n",
    "            print(\"\\nTopic \", ix + 1)\n",
    "        else:\n",
    "            print(\"\\nTopic: \", topic_names[ix])\n",
    "        print(\", \".join([feature_names[i]\n",
    "                        for i in topic.argsort()[:-no_top_words - 1:-1]]))\n",
    "    print(\"\\n\")\n",
    "    return model, feature_names, no_top_words"
   ]
  },
  {
   "cell_type": "code",
   "execution_count": 14,
   "metadata": {
    "colab": {
     "base_uri": "https://localhost:8080/"
    },
    "id": "Q_paAclyX4Ne",
    "outputId": "1bfabf72-5b68-4077-b00b-ce27d0e1c978"
   },
   "outputs": [
    {
     "name": "stdout",
     "output_type": "stream",
     "text": [
      "\n",
      "Topic  1\n",
      "hendrix, prince, rock, jagger, stars\n",
      "\n",
      "Topic  2\n",
      "baseball, redsox, cubs, giants, football\n",
      "\n",
      "\n"
     ]
    }
   ],
   "source": [
    "### BEGIN SOLUTION\n",
    "output = display_topics(lsa, vectorizer.get_feature_names(), 5)\n",
    "### END SOLUTION\n",
    "output;"
   ]
  },
  {
   "cell_type": "code",
   "execution_count": 15,
   "metadata": {
    "id": "ybBd4uearDF5"
   },
   "outputs": [],
   "source": [
    "### CHECK YOUR OUTPUT WITH THE ANSWER\n",
    "\n",
    "### BEGIN HIDDEN TESTS\n",
    "assert output[0].n_components == 2, \"The model hyperparameter should be set to lsa.\"\n",
    "assert len(output[1]) == 19, \"The feature_names hyperparamter should be set to vectorizer.get_feature_names().\"\n",
    "assert output[2] == 5, \"The no_top_words hyperparameter should be set to 5.\"\n",
    "### END HIDDEN TESTS"
   ]
  },
  {
   "cell_type": "markdown",
   "metadata": {
    "id": "X-WlVs6Zs3q_"
   },
   "source": [
    "Now this is the fun part. Take a look at the top words in the two topics, and using your human brain, name them.\n",
    "\n",
    "The first one looks like it's about music and the second one is about sports."
   ]
  },
  {
   "cell_type": "code",
   "execution_count": 16,
   "metadata": {
    "colab": {
     "base_uri": "https://localhost:8080/"
    },
    "id": "bvvzhrwM3dKl",
    "outputId": "81b546fd-6873-4022-ed05-ecb5598792ca"
   },
   "outputs": [
    {
     "name": "stdout",
     "output_type": "stream",
     "text": [
      "\n",
      "Topic:  Music\n",
      "hendrix, prince, rock, jagger, stars\n",
      "\n",
      "Topic:  Sports\n",
      "baseball, redsox, cubs, giants, football\n",
      "\n",
      "\n"
     ]
    }
   ],
   "source": [
    "display_topics(lsa, vectorizer.get_feature_names(), 5, ['Music', 'Sports']);"
   ]
  },
  {
   "cell_type": "markdown",
   "metadata": {
    "id": "4Ua0e-B-33j1"
   },
   "source": [
    "In this last step, your task is to figure out which topics are in each document. Transform the original `doc_term` matrix into a document-topic matrix and save it as `doc_topic`."
   ]
  },
  {
   "cell_type": "code",
   "execution_count": 17,
   "metadata": {
    "colab": {
     "base_uri": "https://localhost:8080/"
    },
    "id": "cL8myGvJ33C2",
    "outputId": "9d41969b-d9b7-46e6-e606-781caa9d968c"
   },
   "outputs": [
    {
     "data": {
      "text/plain": [
       "(7, 2)"
      ]
     },
     "execution_count": 17,
     "metadata": {},
     "output_type": "execute_result"
    }
   ],
   "source": [
    "### BEGIN SOLUTION\n",
    "doc_topic = lsa.transform(doc_term)\n",
    "### END SOLUTION\n",
    "doc_topic.shape"
   ]
  },
  {
   "cell_type": "code",
   "execution_count": 18,
   "metadata": {
    "id": "NQiz0hTs9XMI"
   },
   "outputs": [],
   "source": [
    "### CHECK YOUR OUTPUT WITH THE ANSWER\n",
    "\n",
    "### BEGIN HIDDEN TESTS\n",
    "assert doc_topic.shape == (7, 2), \"The doc_topic matrix should have 7 documents and 2 topics.\"\n",
    "### END HIDDEN TESTS"
   ]
  },
  {
   "cell_type": "markdown",
   "metadata": {
    "id": "kEPVT4C79i2V"
   },
   "source": [
    "Turn the `doc_topic` matrix into a dataframe. Modify the code below to do so and save the output as `doc_topic_df`.\n",
    "\n",
    "```\n",
    "pd.DataFrame(INSERT_VALUE_HERE.round(5), index = corpus, columns = [\"music\", \"sports\"])\n",
    "```"
   ]
  },
  {
   "cell_type": "code",
   "execution_count": 19,
   "metadata": {
    "colab": {
     "base_uri": "https://localhost:8080/",
     "height": 266
    },
    "id": "3Tv7mTgPmJP_",
    "outputId": "03482a92-07e7-4e47-ee0f-3ce29124b0f8"
   },
   "outputs": [
    {
     "data": {
      "text/html": [
       "<div>\n",
       "<style scoped>\n",
       "    .dataframe tbody tr th:only-of-type {\n",
       "        vertical-align: middle;\n",
       "    }\n",
       "\n",
       "    .dataframe tbody tr th {\n",
       "        vertical-align: top;\n",
       "    }\n",
       "\n",
       "    .dataframe thead th {\n",
       "        text-align: right;\n",
       "    }\n",
       "</style>\n",
       "<table border=\"1\" class=\"dataframe\">\n",
       "  <thead>\n",
       "    <tr style=\"text-align: right;\">\n",
       "      <th></th>\n",
       "      <th>music</th>\n",
       "      <th>sports</th>\n",
       "    </tr>\n",
       "  </thead>\n",
       "  <tbody>\n",
       "    <tr>\n",
       "      <th>Football baseball basketball</th>\n",
       "      <td>0.00000</td>\n",
       "      <td>1.07195</td>\n",
       "    </tr>\n",
       "    <tr>\n",
       "      <th>baseball giants cubs redsox</th>\n",
       "      <td>-0.00000</td>\n",
       "      <td>1.73445</td>\n",
       "    </tr>\n",
       "    <tr>\n",
       "      <th>football broncos cowboys</th>\n",
       "      <td>-0.00000</td>\n",
       "      <td>0.33125</td>\n",
       "    </tr>\n",
       "    <tr>\n",
       "      <th>a baseball redsox tigers</th>\n",
       "      <td>0.00000</td>\n",
       "      <td>1.40320</td>\n",
       "    </tr>\n",
       "    <tr>\n",
       "      <th>the pop stars hendrix prince</th>\n",
       "      <td>1.42034</td>\n",
       "      <td>-0.00000</td>\n",
       "    </tr>\n",
       "    <tr>\n",
       "      <th>hendrix prince jagger rock</th>\n",
       "      <td>1.69829</td>\n",
       "      <td>-0.00000</td>\n",
       "    </tr>\n",
       "    <tr>\n",
       "      <th>joplin pearl jam tupac rock</th>\n",
       "      <td>1.22058</td>\n",
       "      <td>-0.00000</td>\n",
       "    </tr>\n",
       "  </tbody>\n",
       "</table>\n",
       "</div>"
      ],
      "text/plain": [
       "                                music   sports\n",
       "Football baseball basketball  0.00000  1.07195\n",
       "baseball giants cubs redsox  -0.00000  1.73445\n",
       "football broncos cowboys     -0.00000  0.33125\n",
       "a baseball redsox tigers      0.00000  1.40320\n",
       "the pop stars hendrix prince  1.42034 -0.00000\n",
       "hendrix prince jagger rock    1.69829 -0.00000\n",
       "joplin pearl jam tupac rock   1.22058 -0.00000"
      ]
     },
     "execution_count": 19,
     "metadata": {},
     "output_type": "execute_result"
    }
   ],
   "source": [
    "### BEGIN SOLUTION\n",
    "doc_topic_df = pd.DataFrame(doc_topic.round(5), index = corpus, columns = [\"music\", \"sports\"])\n",
    "### END SOLUTION\n",
    "doc_topic_df"
   ]
  },
  {
   "cell_type": "code",
   "execution_count": 20,
   "metadata": {
    "id": "UBwKDecC-SfD"
   },
   "outputs": [],
   "source": [
    "### CHECK YOUR OUTPUT WITH THE ANSWER\n",
    "\n",
    "### BEGIN HIDDEN TESTS\n",
    "assert type(doc_topic_df) == pd.DataFrame, \"The output should be a dataframe.\"\n",
    "assert doc_topic_df.shape == (7, 2), \"The output should have 7 documents and 2 topics.\"\n",
    "### END HIDDEN TESTS"
   ]
  },
  {
   "cell_type": "markdown",
   "metadata": {
    "id": "GvtKmUat99O2"
   },
   "source": [
    "Each of the 7 documents that used to be represented by 19 terms is now just represented by 2 topics. You can see that the first four documents are about sports and the last three are about music."
   ]
  },
  {
   "cell_type": "code",
   "execution_count": null,
   "metadata": {
    "id": "wlhxL1VQ-PJ4"
   },
   "outputs": [],
   "source": []
  }
 ],
 "metadata": {
  "colab": {
   "collapsed_sections": [],
   "name": "nlp-unsupervised-topic-modeling-exercises2.ipynb",
   "provenance": []
  },
  "kernelspec": {
   "display_name": "Python 3",
   "language": "python",
   "name": "python3"
  },
  "language_info": {
   "codemirror_mode": {
    "name": "ipython",
    "version": 3
   },
   "file_extension": ".py",
   "mimetype": "text/x-python",
   "name": "python",
   "nbconvert_exporter": "python",
   "pygments_lexer": "ipython3",
   "version": "3.8.8"
  }
 },
 "nbformat": 4,
 "nbformat_minor": 1
}
