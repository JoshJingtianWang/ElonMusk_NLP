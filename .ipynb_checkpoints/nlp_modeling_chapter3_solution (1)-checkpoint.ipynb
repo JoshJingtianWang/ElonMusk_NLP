{
 "cells": [
  {
   "cell_type": "markdown",
   "metadata": {
    "id": "eLgXG6MUENUJ"
   },
   "source": [
    "# Chapter 3: Non-Negative Matrix Factorization (NMF)\n",
    "\n",
    "## Instructions\n",
    "\n",
    "- Run the cells with \"assert\" statements to see if your answer's output matches what the output should be. If it runs without error, your answer matches! If your output is different, you'll get a hint.\n",
    "\n",
    "In this notebook, you'll get to practice topic modeling with NMF.\n"
   ]
  },
  {
   "cell_type": "code",
   "execution_count": 1,
   "metadata": {
    "id": "hxDK0pIPXh_P"
   },
   "outputs": [],
   "source": [
    "import pandas as pd\n",
    "from sklearn.feature_extraction.text import CountVectorizer \n",
    "from sklearn.decomposition import NMF"
   ]
  },
  {
   "cell_type": "markdown",
   "metadata": {
    "id": "a3ChnL9ri0j2"
   },
   "source": [
    "Here, we have 6 documents. Scanning the text, what topics do you see? How many topics do you see? Keep those answers in mind as we move forward."
   ]
  },
  {
   "cell_type": "code",
   "execution_count": 2,
   "metadata": {
    "id": "tzmcy-XEXiDM"
   },
   "outputs": [],
   "source": [
    "example = ['Hamilton brought a boost. The Lion King provided ballast. And Broadway, once again, broke a record: The theater season that just ended attracted more people, and more money, than any before. Broadway seems to be defying the cultural odds: An ancient art form in the digital age, it is strengthening thanks to an everincreasing influx of tourists and a resurgent enthusiasm for musical theater. The season that ended on Sunday included 13,317,980 visitors to Broadway shows  a record number, up 1.6 percent over the previous season, according to figures released on Monday by the Broadway League. Theaters grossed 1.373 billion, also a record, up 0.6 percent over the previous season, although the grosses are not adjusted for inflation. Once again, Simba ruled supreme: The Lion King, still mighty more than 18 years after it opened, grossed 102.7 million on Broadway last season, far outpacing any other show. The musical, which has multiple productions running simultaneously around the globe, has grossed more than 6.2 billion worldwide, and has been seen by 85 million people over its history, according to Disney; by contrast, 478,605 people have seen the Broadway production of Hamilton thus far.Hamilton (featuring a onetime Simba, Christopher Jackson, in the role of George Washington) offered an enormous jolt of energy to the Broadway season. This hiphop musical about Americas founding fathers has dominated the cultural conversation, raked in awards and been celebrated at the White House. Many Broadway leaders believe the show has helped the industry as a whole, bringing attention from corners of the culture that have long preferred to mock jazz hands and dream ballets.',\n",
    "          'When Candace Payne, aka the Chewbacca Mask Mom, sat in her car last Thursday filming her new Hasbro toy, an electronic Chewbacca Mask from Kohls, she inadvertently made history  not just for Facebook Live as its most popular video, but for the entire haul and unboxing video genre. Paynes video starts out like every other video in the genre  she talks about her shopping trip, and is incredibly excited to show the viewer her new purchase   but after that, the similarities stop. Shes not in a bedroom, but in her car, and Payne isnt describing multiple purchases, just one. The platform, execution and reception of her vlog has impacted the genre, in quite a few ways. First, Paynes video actually went viral among ordinary people, something that doesnt really happen to other haul and unboxing videos  not to this extent. While it is true boxing and haul videos by top YouTube vloggers will get a few million views (only!) thanks to the large communities said vlogger has built over the years, no one has ever seen an instant worldwide smash hit like Paynes video. Grandparents and aunts that dont even know what a haul video is were watching, liking, and sharing Paynes video.',\n",
    "          'LOS ANGELES (AP)  An original animators desk from Walt Disney Studios and a vintage Mickey Mouse doll signed by Walt Disney are among the items up for bid next month in an online auction of rare Disney memorabilia. The website of Van Eaton Galleries lists more than 700 items for sale. Among the items listed are original production cels for Disney classics like The Jungle Book, Sleeping Beauty, Bambi and Snow White and the Seven Dwarfs. Collectors can also bid on costumes from the original Mickey Mouse Club, including one worn by Annette Funicello. An exhibition titled, Collecting Disney, opens Wednesday at the gallery in Sherman Oaks, California, ahead of the online auction that begins June 18.',\n",
    "          'After putting together one of their best playoff performances in a must win Game 3 on Saturday, the Toronto Raptors picked up where they left off in Mondays Game 4, with AllStar guards Kyle Lowry and DeMar DeRozan finally teaming up for a complete performance. Lowry (35 points) and DeRozan (32 points) shot a combined 28 for 43 for 67 points and became the first teammates in a conference finals series to score 30  plus points on 60% or better shooting since Charles Barkley and Dan Majerle for Phoenix Suns in 1993, further proving that when the starting backcourt is on, the Raptors are extremely difficult to beat. Those numbers are of stark contrast to the majority of the Raptors first two playoff series, where both Lowry and DeRozan struggled mightily to deliver significant offensive production.',\n",
    "          'The Cleveland Cavaliers enjoyed one of their most devastating 12 minutes of offensive basketball in the second half Monday night and, considering their playoff run, thats saying something. But it came after a long stretch of some of their most puzzling play in weeks, and that cost them a valuable playoff game. The Toronto Raptors evened the Eastern Conference finals at 22 with a 10599 victory after holding on in the face of a vicious Cavs late rally. Yet, as well as the Raptors played  stars Kyle Lowry and DeMar DeRozan were just terrific with a combined 67 points, the most theyve ever scored as teammates  it really came amid some headscratching, gameplan adjustments by coach Tyronn Lue. After spending the past few weeks finding a rhythm that has produced mostly spectacular results, Lue completely changed his rotations in the first half in what seemed like an overreaction from the Game 3 loss.',\n",
    "          'Leave it to Rich Hill to end the As four game losing streak. The last time Oakland had won before Monday, Hill was on the mound. And at Safeco Field, he was magnificent, working calmly and efficiently whether the bases were empty or full. Hill pitched eight scoreless innings to help the As top the division leading Mariners 5 0. The As have won all four games theyve played at Seattle this season. Oakland has 20 wins and Hill has seven of them, the most for an As pitcher before the end of May since Mark Mulder had eight in 2003, a year Mulder made the All Star team. Every game he goes out there we feel were going to win, no matter what were going through, Oakland manager Bob Melvin said. He brings a lot of intensity to the mound, a lot of fight. Hill hasnt allowed more than three earned runs in any of his 10 starts and his ERA is down to 2.18. He also became the first As starter to pitch into the eighth inning since Sonny Gray pitched eight innings last Aug. 22, a span of 83 games; Melvin said his plan was to use only Hill and closer Ryan Madson, and Hill even wanted to go back out for the ninth after throwing 107 pitches. Hills streak of starts in which he gave up no more than four hits while working at least five innings ended at six; the Mariners recorded eight hits off him, few of them struck well. Hills streak was the best in franchise history dating to at least 1913. Seattle loaded the bases with no outs in the second inning without hitting the ball hard, with Nelson Cruzs infield single, an opposite field flare by Dae Ho Lee and a bloop to center by Kyle Seager. At that point, Hill said, second baseman Chris Coghlan came over to him and said, Control what you can control.']\n",
    "ex_label = [e[:100]+\"...\" for e in example]"
   ]
  },
  {
   "cell_type": "markdown",
   "metadata": {
    "id": "ihqRPrUdjBWZ"
   },
   "source": [
    "Before topic modeling, the first step is to get your text data in a format that is ready for modeling. Use `CountVectorizer` with English stop words to turn the corpus into a document-term matrix. Save the matrix as `doc_term`."
   ]
  },
  {
   "cell_type": "code",
   "execution_count": 3,
   "metadata": {
    "colab": {
     "base_uri": "https://localhost:8080/"
    },
    "id": "Xh5PpRzQXiHJ",
    "outputId": "6297bcac-1f7e-4564-ed59-928e58689303"
   },
   "outputs": [
    {
     "data": {
      "text/plain": [
       "(6, 468)"
      ]
     },
     "execution_count": 3,
     "metadata": {},
     "output_type": "execute_result"
    }
   ],
   "source": [
    "### BEGIN SOLUTION\n",
    "vectorizer = CountVectorizer(stop_words = 'english')\n",
    "doc_term = vectorizer.fit_transform(example)\n",
    "### END SOLUTION\n",
    "doc_term.shape"
   ]
  },
  {
   "cell_type": "code",
   "execution_count": 4,
   "metadata": {
    "id": "BS99pyGbjxQy"
   },
   "outputs": [],
   "source": [
    "### CHECK YOUR OUTPUT WITH THE ANSWER\n",
    "\n",
    "### BEGIN HIDDEN TESTS\n",
    "assert doc_term.shape == (6, 468), \"The doc_term matrix should have 6 documents and 468 terms.\"\n",
    "### END HIDDEN TESTS"
   ]
  },
  {
   "cell_type": "markdown",
   "metadata": {
    "id": "n_gaHrf4jwxv"
   },
   "source": [
    "Turn the `doc_term` matrix into a dataframe. Modify the code below to do so and save the output as `doc_term_df`.\n",
    "\n",
    "```\n",
    "pd.DataFrame(INSERT_VALUE_HERE.toarray(), index=ex_label, columns=vectorizer.get_feature_names())\n",
    "```"
   ]
  },
  {
   "cell_type": "code",
   "execution_count": 5,
   "metadata": {
    "colab": {
     "base_uri": "https://localhost:8080/",
     "height": 1000
    },
    "id": "92pZMwOTYZLk",
    "outputId": "1c216e89-d6ed-4e2e-fb99-080104afddee"
   },
   "outputs": [
    {
     "data": {
      "text/html": [
       "<div>\n",
       "<style scoped>\n",
       "    .dataframe tbody tr th:only-of-type {\n",
       "        vertical-align: middle;\n",
       "    }\n",
       "\n",
       "    .dataframe tbody tr th {\n",
       "        vertical-align: top;\n",
       "    }\n",
       "\n",
       "    .dataframe thead th {\n",
       "        text-align: right;\n",
       "    }\n",
       "</style>\n",
       "<table border=\"1\" class=\"dataframe\">\n",
       "  <thead>\n",
       "    <tr style=\"text-align: right;\">\n",
       "      <th></th>\n",
       "      <th>10</th>\n",
       "      <th>102</th>\n",
       "      <th>10599</th>\n",
       "      <th>107</th>\n",
       "      <th>12</th>\n",
       "      <th>13</th>\n",
       "      <th>18</th>\n",
       "      <th>1913</th>\n",
       "      <th>1993</th>\n",
       "      <th>20</th>\n",
       "      <th>...</th>\n",
       "      <th>white</th>\n",
       "      <th>win</th>\n",
       "      <th>wins</th>\n",
       "      <th>won</th>\n",
       "      <th>working</th>\n",
       "      <th>worldwide</th>\n",
       "      <th>worn</th>\n",
       "      <th>year</th>\n",
       "      <th>years</th>\n",
       "      <th>youtube</th>\n",
       "    </tr>\n",
       "  </thead>\n",
       "  <tbody>\n",
       "    <tr>\n",
       "      <th>Hamilton brought a boost. The Lion King provided ballast. And Broadway, once again, broke a record: ...</th>\n",
       "      <td>0</td>\n",
       "      <td>1</td>\n",
       "      <td>0</td>\n",
       "      <td>0</td>\n",
       "      <td>0</td>\n",
       "      <td>1</td>\n",
       "      <td>1</td>\n",
       "      <td>0</td>\n",
       "      <td>0</td>\n",
       "      <td>0</td>\n",
       "      <td>...</td>\n",
       "      <td>1</td>\n",
       "      <td>0</td>\n",
       "      <td>0</td>\n",
       "      <td>0</td>\n",
       "      <td>0</td>\n",
       "      <td>1</td>\n",
       "      <td>0</td>\n",
       "      <td>0</td>\n",
       "      <td>1</td>\n",
       "      <td>0</td>\n",
       "    </tr>\n",
       "    <tr>\n",
       "      <th>When Candace Payne, aka the Chewbacca Mask Mom, sat in her car last Thursday filming her new Hasbro ...</th>\n",
       "      <td>0</td>\n",
       "      <td>0</td>\n",
       "      <td>0</td>\n",
       "      <td>0</td>\n",
       "      <td>0</td>\n",
       "      <td>0</td>\n",
       "      <td>0</td>\n",
       "      <td>0</td>\n",
       "      <td>0</td>\n",
       "      <td>0</td>\n",
       "      <td>...</td>\n",
       "      <td>0</td>\n",
       "      <td>0</td>\n",
       "      <td>0</td>\n",
       "      <td>0</td>\n",
       "      <td>0</td>\n",
       "      <td>1</td>\n",
       "      <td>0</td>\n",
       "      <td>0</td>\n",
       "      <td>1</td>\n",
       "      <td>1</td>\n",
       "    </tr>\n",
       "    <tr>\n",
       "      <th>LOS ANGELES (AP)  An original animators desk from Walt Disney Studios and a vintage Mickey Mouse dol...</th>\n",
       "      <td>0</td>\n",
       "      <td>0</td>\n",
       "      <td>0</td>\n",
       "      <td>0</td>\n",
       "      <td>0</td>\n",
       "      <td>0</td>\n",
       "      <td>1</td>\n",
       "      <td>0</td>\n",
       "      <td>0</td>\n",
       "      <td>0</td>\n",
       "      <td>...</td>\n",
       "      <td>1</td>\n",
       "      <td>0</td>\n",
       "      <td>0</td>\n",
       "      <td>0</td>\n",
       "      <td>0</td>\n",
       "      <td>0</td>\n",
       "      <td>1</td>\n",
       "      <td>0</td>\n",
       "      <td>0</td>\n",
       "      <td>0</td>\n",
       "    </tr>\n",
       "    <tr>\n",
       "      <th>After putting together one of their best playoff performances in a must win Game 3 on Saturday, the ...</th>\n",
       "      <td>0</td>\n",
       "      <td>0</td>\n",
       "      <td>0</td>\n",
       "      <td>0</td>\n",
       "      <td>0</td>\n",
       "      <td>0</td>\n",
       "      <td>0</td>\n",
       "      <td>0</td>\n",
       "      <td>1</td>\n",
       "      <td>0</td>\n",
       "      <td>...</td>\n",
       "      <td>0</td>\n",
       "      <td>1</td>\n",
       "      <td>0</td>\n",
       "      <td>0</td>\n",
       "      <td>0</td>\n",
       "      <td>0</td>\n",
       "      <td>0</td>\n",
       "      <td>0</td>\n",
       "      <td>0</td>\n",
       "      <td>0</td>\n",
       "    </tr>\n",
       "    <tr>\n",
       "      <th>The Cleveland Cavaliers enjoyed one of their most devastating 12 minutes of offensive basketball in ...</th>\n",
       "      <td>0</td>\n",
       "      <td>0</td>\n",
       "      <td>1</td>\n",
       "      <td>0</td>\n",
       "      <td>1</td>\n",
       "      <td>0</td>\n",
       "      <td>0</td>\n",
       "      <td>0</td>\n",
       "      <td>0</td>\n",
       "      <td>0</td>\n",
       "      <td>...</td>\n",
       "      <td>0</td>\n",
       "      <td>0</td>\n",
       "      <td>0</td>\n",
       "      <td>0</td>\n",
       "      <td>0</td>\n",
       "      <td>0</td>\n",
       "      <td>0</td>\n",
       "      <td>0</td>\n",
       "      <td>0</td>\n",
       "      <td>0</td>\n",
       "    </tr>\n",
       "    <tr>\n",
       "      <th>Leave it to Rich Hill to end the As four game losing streak. The last time Oakland had won before Mo...</th>\n",
       "      <td>1</td>\n",
       "      <td>0</td>\n",
       "      <td>0</td>\n",
       "      <td>1</td>\n",
       "      <td>0</td>\n",
       "      <td>0</td>\n",
       "      <td>1</td>\n",
       "      <td>1</td>\n",
       "      <td>0</td>\n",
       "      <td>1</td>\n",
       "      <td>...</td>\n",
       "      <td>0</td>\n",
       "      <td>1</td>\n",
       "      <td>1</td>\n",
       "      <td>2</td>\n",
       "      <td>2</td>\n",
       "      <td>0</td>\n",
       "      <td>0</td>\n",
       "      <td>1</td>\n",
       "      <td>0</td>\n",
       "      <td>0</td>\n",
       "    </tr>\n",
       "  </tbody>\n",
       "</table>\n",
       "<p>6 rows × 468 columns</p>\n",
       "</div>"
      ],
      "text/plain": [
       "                                                    10  102  10599  107  12  \\\n",
       "Hamilton brought a boost. The Lion King provide...   0    1      0    0   0   \n",
       "When Candace Payne, aka the Chewbacca Mask Mom,...   0    0      0    0   0   \n",
       "LOS ANGELES (AP)  An original animators desk fr...   0    0      0    0   0   \n",
       "After putting together one of their best playof...   0    0      0    0   0   \n",
       "The Cleveland Cavaliers enjoyed one of their mo...   0    0      1    0   1   \n",
       "Leave it to Rich Hill to end the As four game l...   1    0      0    1   0   \n",
       "\n",
       "                                                    13  18  1913  1993  20  \\\n",
       "Hamilton brought a boost. The Lion King provide...   1   1     0     0   0   \n",
       "When Candace Payne, aka the Chewbacca Mask Mom,...   0   0     0     0   0   \n",
       "LOS ANGELES (AP)  An original animators desk fr...   0   1     0     0   0   \n",
       "After putting together one of their best playof...   0   0     0     1   0   \n",
       "The Cleveland Cavaliers enjoyed one of their mo...   0   0     0     0   0   \n",
       "Leave it to Rich Hill to end the As four game l...   0   1     1     0   1   \n",
       "\n",
       "                                                    ...  white  win  wins  \\\n",
       "Hamilton brought a boost. The Lion King provide...  ...      1    0     0   \n",
       "When Candace Payne, aka the Chewbacca Mask Mom,...  ...      0    0     0   \n",
       "LOS ANGELES (AP)  An original animators desk fr...  ...      1    0     0   \n",
       "After putting together one of their best playof...  ...      0    1     0   \n",
       "The Cleveland Cavaliers enjoyed one of their mo...  ...      0    0     0   \n",
       "Leave it to Rich Hill to end the As four game l...  ...      0    1     1   \n",
       "\n",
       "                                                    won  working  worldwide  \\\n",
       "Hamilton brought a boost. The Lion King provide...    0        0          1   \n",
       "When Candace Payne, aka the Chewbacca Mask Mom,...    0        0          1   \n",
       "LOS ANGELES (AP)  An original animators desk fr...    0        0          0   \n",
       "After putting together one of their best playof...    0        0          0   \n",
       "The Cleveland Cavaliers enjoyed one of their mo...    0        0          0   \n",
       "Leave it to Rich Hill to end the As four game l...    2        2          0   \n",
       "\n",
       "                                                    worn  year  years  youtube  \n",
       "Hamilton brought a boost. The Lion King provide...     0     0      1        0  \n",
       "When Candace Payne, aka the Chewbacca Mask Mom,...     0     0      1        1  \n",
       "LOS ANGELES (AP)  An original animators desk fr...     1     0      0        0  \n",
       "After putting together one of their best playof...     0     0      0        0  \n",
       "The Cleveland Cavaliers enjoyed one of their mo...     0     0      0        0  \n",
       "Leave it to Rich Hill to end the As four game l...     0     1      0        0  \n",
       "\n",
       "[6 rows x 468 columns]"
      ]
     },
     "execution_count": 5,
     "metadata": {},
     "output_type": "execute_result"
    }
   ],
   "source": [
    "### BEGIN SOLUTION\n",
    "doc_term_df = pd.DataFrame(doc_term.toarray(), index=ex_label, columns=vectorizer.get_feature_names())\n",
    "### END SOLUTION\n",
    "doc_term_df"
   ]
  },
  {
   "cell_type": "code",
   "execution_count": 6,
   "metadata": {
    "id": "jG0Niy1hYhHK"
   },
   "outputs": [],
   "source": [
    "### CHECK YOUR OUTPUT WITH THE ANSWER\n",
    "\n",
    "### BEGIN HIDDEN TESTS\n",
    "assert type(doc_term_df) == pd.DataFrame, \"The output should be a dataframe.\"\n",
    "assert doc_term_df.shape == (6, 468), \"The output should have 6 documents and 468 terms.\"\n",
    "### END HIDDEN TESTS"
   ]
  },
  {
   "cell_type": "markdown",
   "metadata": {
    "id": "xX3KcvDrlhhO"
   },
   "source": [
    "Fit an NMF model using `NMF` with two components, or in other words, two topics. Set the hyperparameter `init` to `nndsvda`; this helps the solver to contend with sparsity. Save the fitted model as `nmf`."
   ]
  },
  {
   "cell_type": "code",
   "execution_count": 7,
   "metadata": {
    "colab": {
     "base_uri": "https://localhost:8080/"
    },
    "id": "6bV5L6gXX4Ey",
    "outputId": "a23e2177-1e57-433f-cac1-234e25d8de80"
   },
   "outputs": [
    {
     "data": {
      "text/plain": [
       "NMF(init='nndsvda', n_components=2)"
      ]
     },
     "execution_count": 7,
     "metadata": {},
     "output_type": "execute_result"
    }
   ],
   "source": [
    "### BEGIN SOLUTION\n",
    "nmf = NMF(2, init = \"nndsvda\")\n",
    "nmf.fit(doc_term)\n",
    "### END SOLUTION\n",
    "nmf"
   ]
  },
  {
   "cell_type": "code",
   "execution_count": 8,
   "metadata": {
    "id": "VgeK3rTfo_Cs"
   },
   "outputs": [],
   "source": [
    "### CHECK YOUR OUTPUT WITH THE ANSWER\n",
    "\n",
    "### BEGIN HIDDEN TESTS\n",
    "assert nmf.solver == 'cd' and nmf.n_components_ == 2, \"The output should be a fitted NMF model with two components.\"\n",
    "### END HIDDEN TESTS"
   ]
  },
  {
   "cell_type": "markdown",
   "metadata": {
    "id": "TBjK8sY1mmeE"
   },
   "source": [
    "The NMF model reduced the 468 terms into 2 topics. Save the topic-term matrix as `topic_term`."
   ]
  },
  {
   "cell_type": "code",
   "execution_count": 9,
   "metadata": {
    "colab": {
     "base_uri": "https://localhost:8080/"
    },
    "id": "GDAVg2iXmW8o",
    "outputId": "126667df-c8fb-4bc8-91e8-8c182958474a"
   },
   "outputs": [
    {
     "data": {
      "text/plain": [
       "(2, 468)"
      ]
     },
     "execution_count": 9,
     "metadata": {},
     "output_type": "execute_result"
    }
   ],
   "source": [
    "### BEGIN SOLUTION\n",
    "topic_term = nmf.components_.round(3)\n",
    "### END SOLUTION\n",
    "topic_term.shape"
   ]
  },
  {
   "cell_type": "code",
   "execution_count": 10,
   "metadata": {
    "id": "3oK0sNa1mXhV"
   },
   "outputs": [],
   "source": [
    "### CHECK YOUR OUTPUT WITH THE ANSWER\n",
    "\n",
    "### BEGIN HIDDEN TESTS\n",
    "assert topic_term.shape == (2, 468), \"The topic_term matrix should have 2 components and 468 terms.\"\n",
    "### END HIDDEN TESTS"
   ]
  },
  {
   "cell_type": "markdown",
   "metadata": {
    "id": "pRLkI1S_nXMJ"
   },
   "source": [
    "Turn the `topic_term` matrix into a dataframe. Modify the code below to do so and save the output as `topic_term_df`.\n",
    "\n",
    "```\n",
    "pd.DataFrame(INSERT_VALUE_HERE.round(3), index = [\"component_1\", \"component_2\"], columns = vectorizer.get_feature_names())\n",
    "```"
   ]
  },
  {
   "cell_type": "code",
   "execution_count": 11,
   "metadata": {
    "colab": {
     "base_uri": "https://localhost:8080/",
     "height": 160
    },
    "id": "wLiAND5VX4Jq",
    "outputId": "0dc154ee-c66d-4e85-d853-042913cd3786"
   },
   "outputs": [
    {
     "data": {
      "text/html": [
       "<div>\n",
       "<style scoped>\n",
       "    .dataframe tbody tr th:only-of-type {\n",
       "        vertical-align: middle;\n",
       "    }\n",
       "\n",
       "    .dataframe tbody tr th {\n",
       "        vertical-align: top;\n",
       "    }\n",
       "\n",
       "    .dataframe thead th {\n",
       "        text-align: right;\n",
       "    }\n",
       "</style>\n",
       "<table border=\"1\" class=\"dataframe\">\n",
       "  <thead>\n",
       "    <tr style=\"text-align: right;\">\n",
       "      <th></th>\n",
       "      <th>10</th>\n",
       "      <th>102</th>\n",
       "      <th>10599</th>\n",
       "      <th>107</th>\n",
       "      <th>12</th>\n",
       "      <th>13</th>\n",
       "      <th>18</th>\n",
       "      <th>1913</th>\n",
       "      <th>1993</th>\n",
       "      <th>20</th>\n",
       "      <th>...</th>\n",
       "      <th>white</th>\n",
       "      <th>win</th>\n",
       "      <th>wins</th>\n",
       "      <th>won</th>\n",
       "      <th>working</th>\n",
       "      <th>worldwide</th>\n",
       "      <th>worn</th>\n",
       "      <th>year</th>\n",
       "      <th>years</th>\n",
       "      <th>youtube</th>\n",
       "    </tr>\n",
       "  </thead>\n",
       "  <tbody>\n",
       "    <tr>\n",
       "      <th>component_1</th>\n",
       "      <td>0.000</td>\n",
       "      <td>0.293</td>\n",
       "      <td>0.004</td>\n",
       "      <td>0.000</td>\n",
       "      <td>0.004</td>\n",
       "      <td>0.293</td>\n",
       "      <td>0.303</td>\n",
       "      <td>0.000</td>\n",
       "      <td>0.002</td>\n",
       "      <td>0.000</td>\n",
       "      <td>...</td>\n",
       "      <td>0.306</td>\n",
       "      <td>0.000</td>\n",
       "      <td>0.000</td>\n",
       "      <td>0.000</td>\n",
       "      <td>0.000</td>\n",
       "      <td>0.338</td>\n",
       "      <td>0.014</td>\n",
       "      <td>0.000</td>\n",
       "      <td>0.338</td>\n",
       "      <td>0.046</td>\n",
       "    </tr>\n",
       "    <tr>\n",
       "      <th>component_2</th>\n",
       "      <td>0.386</td>\n",
       "      <td>0.000</td>\n",
       "      <td>0.031</td>\n",
       "      <td>0.386</td>\n",
       "      <td>0.031</td>\n",
       "      <td>0.000</td>\n",
       "      <td>0.384</td>\n",
       "      <td>0.386</td>\n",
       "      <td>0.021</td>\n",
       "      <td>0.386</td>\n",
       "      <td>...</td>\n",
       "      <td>0.000</td>\n",
       "      <td>0.407</td>\n",
       "      <td>0.386</td>\n",
       "      <td>0.771</td>\n",
       "      <td>0.771</td>\n",
       "      <td>0.020</td>\n",
       "      <td>0.003</td>\n",
       "      <td>0.386</td>\n",
       "      <td>0.020</td>\n",
       "      <td>0.025</td>\n",
       "    </tr>\n",
       "  </tbody>\n",
       "</table>\n",
       "<p>2 rows × 468 columns</p>\n",
       "</div>"
      ],
      "text/plain": [
       "                10    102  10599    107     12     13     18   1913   1993  \\\n",
       "component_1  0.000  0.293  0.004  0.000  0.004  0.293  0.303  0.000  0.002   \n",
       "component_2  0.386  0.000  0.031  0.386  0.031  0.000  0.384  0.386  0.021   \n",
       "\n",
       "                20  ...  white    win   wins    won  working  worldwide  \\\n",
       "component_1  0.000  ...  0.306  0.000  0.000  0.000    0.000      0.338   \n",
       "component_2  0.386  ...  0.000  0.407  0.386  0.771    0.771      0.020   \n",
       "\n",
       "              worn   year  years  youtube  \n",
       "component_1  0.014  0.000  0.338    0.046  \n",
       "component_2  0.003  0.386  0.020    0.025  \n",
       "\n",
       "[2 rows x 468 columns]"
      ]
     },
     "execution_count": 11,
     "metadata": {},
     "output_type": "execute_result"
    }
   ],
   "source": [
    "### BEGIN SOLUTION\n",
    "topic_term_df = pd.DataFrame(topic_term.round(3),\n",
    "                index = [\"component_1\", \"component_2\"],\n",
    "                columns = vectorizer.get_feature_names())\n",
    "### END SOLUTION\n",
    "topic_term_df"
   ]
  },
  {
   "cell_type": "code",
   "execution_count": 12,
   "metadata": {
    "id": "eAHD5BNhoEFJ"
   },
   "outputs": [],
   "source": [
    "### CHECK YOUR OUTPUT WITH THE ANSWER\n",
    "\n",
    "### BEGIN HIDDEN TESTS\n",
    "assert type(topic_term_df) == pd.DataFrame, \"The output should be a dataframe.\"\n",
    "assert topic_term_df.shape == (2, 468), \"The output should have 2 topics and 468 terms.\"\n",
    "### END HIDDEN TESTS"
   ]
  },
  {
   "cell_type": "markdown",
   "metadata": {
    "id": "Pvmbi1NNp72j"
   },
   "source": [
    "While you can scan the output to determine the top words in each topic, the function below displays the top terms in each topic in a format that is easier to read.\n",
    "\n",
    "Apply the function to find the top 10 terms in each of the 2 topics. Save the results of the function as `output`."
   ]
  },
  {
   "cell_type": "code",
   "execution_count": 13,
   "metadata": {
    "id": "TCYg11m_qp8G"
   },
   "outputs": [],
   "source": [
    "# Function to display the top n terms in each topic\n",
    "def display_topics(model, feature_names, no_top_words, topic_names = None): \n",
    "    for ix, topic in enumerate(model.components_):\n",
    "        if not topic_names or not topic_names[ix]:\n",
    "            print(\"\\nTopic \", ix + 1)\n",
    "        else:\n",
    "            print(\"\\nTopic: \", topic_names[ix])\n",
    "        print(\", \".join([feature_names[i]\n",
    "                        for i in topic.argsort()[:-no_top_words - 1:-1]]))\n",
    "    print(\"\\n\")\n",
    "    return model, feature_names, no_top_words"
   ]
  },
  {
   "cell_type": "code",
   "execution_count": 14,
   "metadata": {
    "colab": {
     "base_uri": "https://localhost:8080/"
    },
    "id": "Q_paAclyX4Ne",
    "outputId": "f9860103-c446-4093-c861-0da7df987533"
   },
   "outputs": [
    {
     "name": "stdout",
     "output_type": "stream",
     "text": [
      "\n",
      "Topic  1\n",
      "broadway, season, people, record, grossed, hamilton, musical, million, seen, far\n",
      "\n",
      "Topic  2\n",
      "hill, said, oakland, innings, streak, game, second, starts, hits, mulder\n",
      "\n",
      "\n"
     ]
    }
   ],
   "source": [
    "### BEGIN SOLUTION\n",
    "output = display_topics(nmf, vectorizer.get_feature_names(), 10)\n",
    "### END SOLUTION\n",
    "output;"
   ]
  },
  {
   "cell_type": "code",
   "execution_count": 15,
   "metadata": {
    "id": "ybBd4uearDF5"
   },
   "outputs": [],
   "source": [
    "### CHECK YOUR OUTPUT WITH THE ANSWER\n",
    "\n",
    "### BEGIN HIDDEN TESTS\n",
    "assert output[0].n_components == 2, \"The model hyperparameter should be set to nmf.\"\n",
    "assert len(output[1]) == 468, \"The feature_names hyperparamter should be set to vectorizer.get_feature_names().\"\n",
    "assert output[2] == 10, \"The no_top_words hyperparameter should be set to 10.\"\n",
    "### END HIDDEN TESTS"
   ]
  },
  {
   "cell_type": "markdown",
   "metadata": {
    "id": "X-WlVs6Zs3q_"
   },
   "source": [
    "Now this is the fun part. Take a look at the top words in the two topics, and using your human brain, name them.\n",
    "\n",
    "The first one looks like it's about music and the second one is about sports."
   ]
  },
  {
   "cell_type": "code",
   "execution_count": 16,
   "metadata": {
    "colab": {
     "base_uri": "https://localhost:8080/"
    },
    "id": "bvvzhrwM3dKl",
    "outputId": "8804a918-3ba6-47e4-ebd9-c50447235512"
   },
   "outputs": [
    {
     "name": "stdout",
     "output_type": "stream",
     "text": [
      "\n",
      "Topic:  Music\n",
      "broadway, season, people, record, grossed\n",
      "\n",
      "Topic:  Sports\n",
      "hill, said, oakland, innings, streak\n",
      "\n",
      "\n"
     ]
    }
   ],
   "source": [
    "display_topics(nmf, vectorizer.get_feature_names(), 5, ['Music', 'Sports']);"
   ]
  },
  {
   "cell_type": "markdown",
   "metadata": {
    "id": "4Ua0e-B-33j1"
   },
   "source": [
    "In this last step, your task is to figure out which topics are in each document. Transform the original `doc_term` matrix into a document-topic matrix and save it as `doc_topic`."
   ]
  },
  {
   "cell_type": "code",
   "execution_count": 17,
   "metadata": {
    "colab": {
     "base_uri": "https://localhost:8080/"
    },
    "id": "cL8myGvJ33C2",
    "outputId": "d0ad43a1-108c-448e-a99e-4d577e1c874f"
   },
   "outputs": [
    {
     "data": {
      "text/plain": [
       "(6, 2)"
      ]
     },
     "execution_count": 17,
     "metadata": {},
     "output_type": "execute_result"
    }
   ],
   "source": [
    "### BEGIN SOLUTION\n",
    "doc_topic = nmf.transform(doc_term)\n",
    "### END SOLUTION\n",
    "doc_topic.shape"
   ]
  },
  {
   "cell_type": "code",
   "execution_count": 18,
   "metadata": {
    "id": "NQiz0hTs9XMI"
   },
   "outputs": [],
   "source": [
    "### CHECK YOUR OUTPUT WITH THE ANSWER\n",
    "\n",
    "### BEGIN HIDDEN TESTS\n",
    "assert doc_topic.shape == (6, 2), \"The doc_topic matrix should have 6 documents and 2 topics.\"\n",
    "### END HIDDEN TESTS"
   ]
  },
  {
   "cell_type": "markdown",
   "metadata": {
    "id": "kEPVT4C79i2V"
   },
   "source": [
    "Turn the `doc_topic` matrix into a dataframe. Modify the code below to do so and save the output as `doc_topic_df`.\n",
    "\n",
    "```\n",
    "pd.DataFrame(INSERT_VALUE_HERE.round(5), index = ex_label, columns = [\"music\", \"sports\"])\n",
    "```"
   ]
  },
  {
   "cell_type": "code",
   "execution_count": 19,
   "metadata": {
    "colab": {
     "base_uri": "https://localhost:8080/",
     "height": 235
    },
    "id": "3Tv7mTgPmJP_",
    "outputId": "351e19a9-8d7b-4b70-8d45-6adb34356a19"
   },
   "outputs": [
    {
     "data": {
      "text/html": [
       "<div>\n",
       "<style scoped>\n",
       "    .dataframe tbody tr th:only-of-type {\n",
       "        vertical-align: middle;\n",
       "    }\n",
       "\n",
       "    .dataframe tbody tr th {\n",
       "        vertical-align: top;\n",
       "    }\n",
       "\n",
       "    .dataframe thead th {\n",
       "        text-align: right;\n",
       "    }\n",
       "</style>\n",
       "<table border=\"1\" class=\"dataframe\">\n",
       "  <thead>\n",
       "    <tr style=\"text-align: right;\">\n",
       "      <th></th>\n",
       "      <th>music</th>\n",
       "      <th>sports</th>\n",
       "    </tr>\n",
       "  </thead>\n",
       "  <tbody>\n",
       "    <tr>\n",
       "      <th>Hamilton brought a boost. The Lion King provided ballast. And Broadway, once again, broke a record: ...</th>\n",
       "      <td>3.32555</td>\n",
       "      <td>0.00000</td>\n",
       "    </tr>\n",
       "    <tr>\n",
       "      <th>When Candace Payne, aka the Chewbacca Mask Mom, sat in her car last Thursday filming her new Hasbro ...</th>\n",
       "      <td>0.52114</td>\n",
       "      <td>0.16883</td>\n",
       "    </tr>\n",
       "    <tr>\n",
       "      <th>LOS ANGELES (AP)  An original animators desk from Walt Disney Studios and a vintage Mickey Mouse dol...</th>\n",
       "      <td>0.15392</td>\n",
       "      <td>0.02246</td>\n",
       "    </tr>\n",
       "    <tr>\n",
       "      <th>After putting together one of their best playoff performances in a must win Game 3 on Saturday, the ...</th>\n",
       "      <td>0.02696</td>\n",
       "      <td>0.14048</td>\n",
       "    </tr>\n",
       "    <tr>\n",
       "      <th>The Cleveland Cavaliers enjoyed one of their most devastating 12 minutes of offensive basketball in ...</th>\n",
       "      <td>0.04445</td>\n",
       "      <td>0.20408</td>\n",
       "    </tr>\n",
       "    <tr>\n",
       "      <th>Leave it to Rich Hill to end the As four game losing streak. The last time Oakland had won before Mo...</th>\n",
       "      <td>0.00000</td>\n",
       "      <td>2.55848</td>\n",
       "    </tr>\n",
       "  </tbody>\n",
       "</table>\n",
       "</div>"
      ],
      "text/plain": [
       "                                                      music   sports\n",
       "Hamilton brought a boost. The Lion King provide...  3.32555  0.00000\n",
       "When Candace Payne, aka the Chewbacca Mask Mom,...  0.52114  0.16883\n",
       "LOS ANGELES (AP)  An original animators desk fr...  0.15392  0.02246\n",
       "After putting together one of their best playof...  0.02696  0.14048\n",
       "The Cleveland Cavaliers enjoyed one of their mo...  0.04445  0.20408\n",
       "Leave it to Rich Hill to end the As four game l...  0.00000  2.55848"
      ]
     },
     "execution_count": 19,
     "metadata": {},
     "output_type": "execute_result"
    }
   ],
   "source": [
    "### BEGIN SOLUTION\n",
    "doc_topic_df = pd.DataFrame(doc_topic.round(5), index = ex_label, columns = [\"music\", \"sports\"])\n",
    "### END SOLUTION\n",
    "doc_topic_df"
   ]
  },
  {
   "cell_type": "code",
   "execution_count": 20,
   "metadata": {
    "id": "UBwKDecC-SfD"
   },
   "outputs": [],
   "source": [
    "### CHECK YOUR OUTPUT WITH THE ANSWER\n",
    "\n",
    "### BEGIN HIDDEN TESTS\n",
    "assert type(doc_topic_df) == pd.DataFrame, \"The output should be a dataframe.\"\n",
    "assert doc_topic_df.shape == (6, 2), \"The output should have 6 documents and 2 topics.\"\n",
    "### END HIDDEN TESTS"
   ]
  },
  {
   "cell_type": "markdown",
   "metadata": {
    "id": "GvtKmUat99O2"
   },
   "source": [
    "Each of the 6 documents that used to be represented by 468 terms is now just represented by 2 topics.\n",
    "\n",
    "* You can see that the first document is clearly about music and the last one is clearly about sports.\n",
    "\n",
    "* Some of the ones in the middle don't make as much sense though, like the second document about Chewbacca Mask Mom that is neither about music or sports.\n",
    "\n",
    "Some next steps to improve the topic modeling:\n",
    "\n",
    "* Try using a different number of topics instead of 2, like maybe 3 or 4 topics.\n",
    "\n",
    "* Try tuning the CountVectorizer hyperparameters to remove stop words, only keep common words, remove numbers, include bi-grams, etc.\n",
    "\n",
    "* Try using a different topic modeling algorithm like LSA.\n",
    "\n",
    "At the end of the day, what matters most is that the topic interpretations make sense. Here, the topics made sense, but they didn't match well with the actual text."
   ]
  },
  {
   "cell_type": "code",
   "execution_count": null,
   "metadata": {
    "id": "wlhxL1VQ-PJ4"
   },
   "outputs": [],
   "source": []
  },
  {
   "cell_type": "code",
   "execution_count": null,
   "metadata": {},
   "outputs": [],
   "source": []
  }
 ],
 "metadata": {
  "colab": {
   "collapsed_sections": [],
   "name": "nlp-unsupervised-topic-modeling-exercises3.ipynb",
   "provenance": []
  },
  "kernelspec": {
   "display_name": "Python 3",
   "language": "python",
   "name": "python3"
  },
  "language_info": {
   "codemirror_mode": {
    "name": "ipython",
    "version": 3
   },
   "file_extension": ".py",
   "mimetype": "text/x-python",
   "name": "python",
   "nbconvert_exporter": "python",
   "pygments_lexer": "ipython3",
   "version": "3.8.8"
  }
 },
 "nbformat": 4,
 "nbformat_minor": 1
}
