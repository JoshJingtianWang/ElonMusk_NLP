{
 "cells": [
  {
   "cell_type": "markdown",
   "metadata": {
    "id": "eLgXG6MUENUJ"
   },
   "source": [
    "# Chapter 2: Text Preprocessing with Regular Expressions\n",
    "\n",
    "## Instructions\n",
    "\n",
    "- Run the cells with \"assert\" statements to see if your answer's output matches what the output should be. If it runs without error, your answer matches! If your output is different, you'll get a hint.\n",
    "\n",
    "In this notebook, you'll practice writing regular expressions in Python using the `re` package.\n"
   ]
  },
  {
   "cell_type": "code",
   "execution_count": 1,
   "metadata": {
    "id": "ldbZ9mhmFcYu"
   },
   "outputs": [],
   "source": [
    "import re"
   ]
  },
  {
   "cell_type": "markdown",
   "metadata": {
    "id": "ia3hGIa9cUSY"
   },
   "source": [
    "## 1. Test Out Regex Methods in Python\n",
    "\n",
    "In this section, you'll be testing out the `re.findall()`, `re.split()` and `re.sub()` methods. Make sure to note the differences in the outputs.\n",
    "\n",
    "Let's first define an object `text` so we have some words to work with"
   ]
  },
  {
   "cell_type": "code",
   "execution_count": 2,
   "metadata": {
    "colab": {
     "base_uri": "https://localhost:8080/"
    },
    "id": "axuESI40Z6L4",
    "outputId": "ce28c3b5-3f41-455c-9561-946b212ee461"
   },
   "outputs": [
    {
     "name": "stdout",
     "output_type": "stream",
     "text": [
      "This apple is delicious.\n"
     ]
    }
   ],
   "source": [
    "text = 'This apple is delicious.'\n",
    "print(text)"
   ]
  },
  {
   "cell_type": "markdown",
   "metadata": {
    "id": "fDsFk1WFciDT"
   },
   "source": [
    "### Find All\n",
    "\n",
    "Find all of the situations where `is` occurs in the text using the `re.findall` method. Save your results in a variable called `output_findall`."
   ]
  },
  {
   "cell_type": "code",
   "execution_count": 3,
   "metadata": {
    "colab": {
     "base_uri": "https://localhost:8080/"
    },
    "id": "_oW_zW1CaEm5",
    "outputId": "405a4ade-1504-4313-e36c-3047452448d2"
   },
   "outputs": [
    {
     "data": {
      "text/plain": [
       "['is', 'is']"
      ]
     },
     "execution_count": 3,
     "metadata": {},
     "output_type": "execute_result"
    }
   ],
   "source": [
    "### BEGIN SOLUTION\n",
    "output_findall = re.findall('is', text)\n",
    "### END SOLUTION\n",
    "output_findall"
   ]
  },
  {
   "cell_type": "code",
   "execution_count": 4,
   "metadata": {
    "id": "B6muNT1Hdd9k"
   },
   "outputs": [],
   "source": [
    "### CHECK YOUR OUTPUT WITH THE ANSWER\n",
    "\n",
    "### BEGIN HIDDEN TESTS\n",
    "assert output_findall == ['is', 'is'], \"The output should be a list with two items. Use the format re.findall(pattern, string).\"\n",
    "### END HIDDEN TESTS"
   ]
  },
  {
   "cell_type": "markdown",
   "metadata": {
    "id": "RC27Nhfgd64-"
   },
   "source": [
    "### Split\n",
    "\n",
    "Split the text wherever `is` occurs in the text using the `re.split` method. Save your results in a variable called `output_split`."
   ]
  },
  {
   "cell_type": "code",
   "execution_count": 5,
   "metadata": {
    "colab": {
     "base_uri": "https://localhost:8080/"
    },
    "id": "GzG4CD9VbJSv",
    "outputId": "520dbd95-fe40-4166-854c-2c614db07371"
   },
   "outputs": [
    {
     "data": {
      "text/plain": [
       "['Th', ' apple ', ' delicious.']"
      ]
     },
     "execution_count": 5,
     "metadata": {},
     "output_type": "execute_result"
    }
   ],
   "source": [
    "### BEGIN SOLUTION\n",
    "output_split = re.split('is', text)\n",
    "### END SOLUTION\n",
    "output_split"
   ]
  },
  {
   "cell_type": "code",
   "execution_count": 6,
   "metadata": {
    "id": "3f8ILKeLe1NX"
   },
   "outputs": [],
   "source": [
    "### CHECK YOUR OUTPUT WITH THE ANSWER\n",
    "\n",
    "### BEGIN HIDDEN TESTS\n",
    "assert output_split == ['Th', ' apple ', ' delicious.'], \"The output should be a list with three items. Use the format re.split(pattern, string).\"\n",
    "### END HIDDEN TESTS"
   ]
  },
  {
   "cell_type": "markdown",
   "metadata": {
    "id": "CwKnIb21fA33"
   },
   "source": [
    "### Substitute\n",
    "\n",
    "Wherever `is` occurs in the text, substitute it with `IS` using the `re.sub` method. Save your results in a variable called `output_sub`."
   ]
  },
  {
   "cell_type": "code",
   "execution_count": 7,
   "metadata": {
    "colab": {
     "base_uri": "https://localhost:8080/",
     "height": 37
    },
    "id": "VEqUaxqrbbqW",
    "outputId": "f64453a7-287d-45fe-d615-45539869b685"
   },
   "outputs": [
    {
     "data": {
      "text/plain": [
       "'ThIS apple IS delicious.'"
      ]
     },
     "execution_count": 7,
     "metadata": {},
     "output_type": "execute_result"
    }
   ],
   "source": [
    "### BEGIN SOLUTION\n",
    "output_sub = re.sub('is', 'IS', text)\n",
    "### END SOLUTION\n",
    "output_sub"
   ]
  },
  {
   "cell_type": "code",
   "execution_count": 8,
   "metadata": {
    "id": "QF8iNJ7Afq6x"
   },
   "outputs": [],
   "source": [
    "### CHECK YOUR OUTPUT WITH THE ANSWER\n",
    "\n",
    "### BEGIN HIDDEN TESTS\n",
    "assert output_sub == 'ThIS apple IS delicious.', \"The output should be a string containing IS. Use the format re.sub(pattern, new_value, string).\"\n",
    "### END HIDDEN TESTS"
   ]
  },
  {
   "cell_type": "markdown",
   "metadata": {
    "id": "fTc_QC0CfzSm"
   },
   "source": [
    "## 2. More Regular Expressions\n",
    "\n",
    "So far, you've used regular expressions in the simplest way, where you've matched exact characters `is` in a string of text. Next, we'll introduce some other common regular expressions."
   ]
  },
  {
   "cell_type": "code",
   "execution_count": 9,
   "metadata": {
    "colab": {
     "base_uri": "https://localhost:8080/"
    },
    "id": "r__MRnwUg1dF",
    "outputId": "d788cdf0-7aa3-4ab7-e32f-f7006be77791"
   },
   "outputs": [
    {
     "name": "stdout",
     "output_type": "stream",
     "text": [
      "We strive, we sweat, we swear. We go the extra mile.         We stage, we fail. We try again. Get it right. We learn.         Connect. Come together. This is Metis. -12/9/2013\n"
     ]
    }
   ],
   "source": [
    "metis = 'We strive, we sweat, we swear. We go the extra mile.\\\n",
    "         We stage, we fail. We try again. Get it right. We learn.\\\n",
    "         Connect. Come together. This is Metis. -12/9/2013'\n",
    "print(metis)"
   ]
  },
  {
   "cell_type": "markdown",
   "metadata": {
    "id": "Xu2xE0ZmiBTO"
   },
   "source": [
    "Find all of the digits in the `metis` text using `re.findall()`. Save the output as a variable called `digits`."
   ]
  },
  {
   "cell_type": "code",
   "execution_count": 10,
   "metadata": {
    "colab": {
     "base_uri": "https://localhost:8080/"
    },
    "id": "InCIRTRWVUWg",
    "outputId": "26534012-f6be-42ef-a1b5-0cf0aa98e04e"
   },
   "outputs": [
    {
     "data": {
      "text/plain": [
       "['1', '2', '9', '2', '0', '1', '3']"
      ]
     },
     "execution_count": 10,
     "metadata": {},
     "output_type": "execute_result"
    }
   ],
   "source": [
    "### BEGIN SOLUTION\n",
    "digits = re.findall('\\d', metis)\n",
    "### END SOLUTION\n",
    "digits"
   ]
  },
  {
   "cell_type": "code",
   "execution_count": 11,
   "metadata": {
    "id": "TfGU6pItVUcF"
   },
   "outputs": [],
   "source": [
    "### CHECK YOUR OUTPUT WITH THE ANSWER\n",
    "\n",
    "### BEGIN HIDDEN TESTS\n",
    "assert digits == ['1', '2', '9', '2', '0', '1', '3'], \"The output should be a list with seven items. Hint: What regex matches a single digit?\"\n",
    "### END HIDDEN TESTS"
   ]
  },
  {
   "cell_type": "markdown",
   "metadata": {
    "id": "31rVPEysW8Ia"
   },
   "source": [
    "Find all of the words that start with a capital letter C in the `metis` text using `re.findall()`. Save the output as a variable called `capitalc`."
   ]
  },
  {
   "cell_type": "code",
   "execution_count": 12,
   "metadata": {
    "colab": {
     "base_uri": "https://localhost:8080/"
    },
    "id": "rjqrxbjvgwlb",
    "outputId": "bac019af-def2-4088-fbd3-dd81fe4d0a4d"
   },
   "outputs": [
    {
     "data": {
      "text/plain": [
       "['Connect', 'Come']"
      ]
     },
     "execution_count": 12,
     "metadata": {},
     "output_type": "execute_result"
    }
   ],
   "source": [
    "### BEGIN SOLUTION\n",
    "capitalc = re.findall('C\\w+', metis)\n",
    "### END SOLUTION\n",
    "capitalc"
   ]
  },
  {
   "cell_type": "code",
   "execution_count": 13,
   "metadata": {
    "id": "1t3vwYhZgwoX"
   },
   "outputs": [],
   "source": [
    "### CHECK YOUR OUTPUT WITH THE ANSWER\n",
    "\n",
    "### BEGIN HIDDEN TESTS\n",
    "assert capitalc == ['Connect', 'Come'], \"The output should be a list with two items. Hint: 'b\\w+' would find all words starting with b followed by one or more alphanumeric characters.\"\n",
    "### END HIDDEN TESTS"
   ]
  },
  {
   "cell_type": "markdown",
   "metadata": {
    "id": "nAGTojRaXBUQ"
   },
   "source": [
    "Find all of the words `We` and `we` in the `metis` text using `re.findall()`. Save the output as a variable called `we`."
   ]
  },
  {
   "cell_type": "code",
   "execution_count": 14,
   "metadata": {
    "colab": {
     "base_uri": "https://localhost:8080/"
    },
    "id": "DWZZ0P2pgwaS",
    "outputId": "71caf9c6-8623-450a-c995-52fcc14ab484"
   },
   "outputs": [
    {
     "data": {
      "text/plain": [
       "['We', 'we', 'we', 'we', 'we', 'We', 'We', 'we', 'We', 'We']"
      ]
     },
     "execution_count": 14,
     "metadata": {},
     "output_type": "execute_result"
    }
   ],
   "source": [
    "### BEGIN SOLUTION\n",
    "we = re.findall('[Ww]e', metis)\n",
    "### END SOLUTION\n",
    "we"
   ]
  },
  {
   "cell_type": "code",
   "execution_count": 15,
   "metadata": {
    "id": "p0_CQ02zgwf3"
   },
   "outputs": [],
   "source": [
    "### CHECK YOUR OUTPUT WITH THE ANSWER\n",
    "\n",
    "### BEGIN HIDDEN TESTS\n",
    "assert we == ['We', 'we', 'we', 'we', 'we', 'We', 'We', 'we', 'We', 'We'], \"The output should be a list with ten items. Hint: '[bmp]y' would find all by, my and py terms.\"\n",
    "### END HIDDEN TESTS"
   ]
  },
  {
   "cell_type": "markdown",
   "metadata": {
    "id": "I54BgZXegb7F"
   },
   "source": [
    "## 3. Apply Regex to a Dataframe"
   ]
  },
  {
   "cell_type": "code",
   "execution_count": 16,
   "metadata": {
    "id": "v1I1e2aJk9j8"
   },
   "outputs": [],
   "source": [
    "import pandas as pd\n",
    "pd.set_option('display.max_colwidth', None)"
   ]
  },
  {
   "cell_type": "markdown",
   "metadata": {
    "id": "4ZqBwwp1oLrt"
   },
   "source": [
    "Take a look at this Dataframe with 6 cappuccino cup reviews."
   ]
  },
  {
   "cell_type": "code",
   "execution_count": 17,
   "metadata": {
    "colab": {
     "base_uri": "https://localhost:8080/",
     "height": 235
    },
    "id": "5E0nYoAVip_E",
    "outputId": "56385c55-9303-4503-d786-32e55b441a10"
   },
   "outputs": [
    {
     "data": {
      "text/html": [
       "<div>\n",
       "<style scoped>\n",
       "    .dataframe tbody tr th:only-of-type {\n",
       "        vertical-align: middle;\n",
       "    }\n",
       "\n",
       "    .dataframe tbody tr th {\n",
       "        vertical-align: top;\n",
       "    }\n",
       "\n",
       "    .dataframe thead th {\n",
       "        text-align: right;\n",
       "    }\n",
       "</style>\n",
       "<table border=\"1\" class=\"dataframe\">\n",
       "  <thead>\n",
       "    <tr style=\"text-align: right;\">\n",
       "      <th></th>\n",
       "      <th>users</th>\n",
       "      <th>stars</th>\n",
       "      <th>reviews</th>\n",
       "    </tr>\n",
       "  </thead>\n",
       "  <tbody>\n",
       "    <tr>\n",
       "      <th>0</th>\n",
       "      <td>a</td>\n",
       "      <td>5</td>\n",
       "      <td>Grove Square Cappuccino Cups were excellent. Tasted really good right from the Keurig brewer with nothing added. wWould highly recommend. RCCJR</td>\n",
       "    </tr>\n",
       "    <tr>\n",
       "      <th>1</th>\n",
       "      <td>b</td>\n",
       "      <td>1</td>\n",
       "      <td>I love my Keurig, and I love most of the Keurig coffees. This is instant coffee with instant milk and far too much sugar. I don't know anyone I dislike enough to dump the rest of the box on.</td>\n",
       "    </tr>\n",
       "    <tr>\n",
       "      <th>2</th>\n",
       "      <td>c</td>\n",
       "      <td>1</td>\n",
       "      <td>It's a powdered drink. No filter in k-cup.&lt;br /&gt;Just buy it in bulk and mix it with hot water....&lt;br /&gt;&lt;br /&gt;Nothing else to say here. Wont be buying it again.</td>\n",
       "    </tr>\n",
       "    <tr>\n",
       "      <th>3</th>\n",
       "      <td>d</td>\n",
       "      <td>1</td>\n",
       "      <td>don't bother! bet you couldn't tell the difference between this and hot water if your eyes were closed. well, maybe the water would have a taste!</td>\n",
       "    </tr>\n",
       "    <tr>\n",
       "      <th>4</th>\n",
       "      <td>e</td>\n",
       "      <td>1</td>\n",
       "      <td>Never tasted this coffee before, I felt much too sweet even for dessert. I would not order again. But then that is only my opinion. My friend's husband loves it.&lt;br /&gt;I gave them to him.</td>\n",
       "    </tr>\n",
       "    <tr>\n",
       "      <th>5</th>\n",
       "      <td>f</td>\n",
       "      <td>5</td>\n",
       "      <td>My husband and I LOVE this French Vanilla Cappuccino. Sooo glad I didn't listen to some of the reviews and took the plunge and bought it.</td>\n",
       "    </tr>\n",
       "  </tbody>\n",
       "</table>\n",
       "</div>"
      ],
      "text/plain": [
       "  users  stars  \\\n",
       "0     a      5   \n",
       "1     b      1   \n",
       "2     c      1   \n",
       "3     d      1   \n",
       "4     e      1   \n",
       "5     f      5   \n",
       "\n",
       "                                                                                                                                                                                          reviews  \n",
       "0                                                 Grove Square Cappuccino Cups were excellent. Tasted really good right from the Keurig brewer with nothing added. wWould highly recommend. RCCJR  \n",
       "1  I love my Keurig, and I love most of the Keurig coffees. This is instant coffee with instant milk and far too much sugar. I don't know anyone I dislike enough to dump the rest of the box on.  \n",
       "2                                 It's a powdered drink. No filter in k-cup.<br />Just buy it in bulk and mix it with hot water....<br /><br />Nothing else to say here. Wont be buying it again.  \n",
       "3                                               don't bother! bet you couldn't tell the difference between this and hot water if your eyes were closed. well, maybe the water would have a taste!  \n",
       "4      Never tasted this coffee before, I felt much too sweet even for dessert. I would not order again. But then that is only my opinion. My friend's husband loves it.<br />I gave them to him.  \n",
       "5                                                       My husband and I LOVE this French Vanilla Cappuccino. Sooo glad I didn't listen to some of the reviews and took the plunge and bought it.  "
      ]
     },
     "execution_count": 17,
     "metadata": {},
     "output_type": "execute_result"
    }
   ],
   "source": [
    "df = pd.DataFrame([['a',5,\"Grove Square Cappuccino Cups were excellent. Tasted really good right from the Keurig brewer with nothing added. wWould highly recommend. RCCJR\"],\n",
    "                  ['b',1,\"I love my Keurig, and I love most of the Keurig coffees. This is instant coffee with instant milk and far too much sugar. I don't know anyone I dislike enough to dump the rest of the box on.\"],\n",
    "                  ['c',1,\"It's a powdered drink. No filter in k-cup.<br />Just buy it in bulk and mix it with hot water....<br /><br />Nothing else to say here. Wont be buying it again.\"],\n",
    "                  ['d',1,\"don't bother! bet you couldn't tell the difference between this and hot water if your eyes were closed. well, maybe the water would have a taste!\"],\n",
    "                  ['e',1,\"Never tasted this coffee before, I felt much too sweet even for dessert. I would not order again. But then that is only my opinion. My friend's husband loves it.<br />I gave them to him.\"],\n",
    "                  ['f',5,\"My husband and I LOVE this French Vanilla Cappuccino. Sooo glad I didn't listen to some of the reviews and took the plunge and bought it.\"]],\n",
    "                  columns=['users','stars','reviews'])\n",
    "df"
   ]
  },
  {
   "cell_type": "markdown",
   "metadata": {
    "id": "htid3vxVu0y6"
   },
   "source": [
    "Let's clean the text in three ways:\n",
    "1. Remove capital letters\n",
    "2. Remove `<br />`\n",
    "3. Remove punctuation\n"
   ]
  },
  {
   "cell_type": "markdown",
   "metadata": {
    "id": "iBF_ay9evpN6"
   },
   "source": [
    "Make all of the text in the reviews column lowercase. Overwrite the `df.reviews` column with the new text."
   ]
  },
  {
   "cell_type": "code",
   "execution_count": 18,
   "metadata": {
    "colab": {
     "base_uri": "https://localhost:8080/"
    },
    "id": "OmlM1309vmfw",
    "outputId": "3df648cf-8e99-4dcf-c76c-68ef07c61a7f"
   },
   "outputs": [
    {
     "data": {
      "text/plain": [
       "0                                                   grove square cappuccino cups were excellent. tasted really good right from the keurig brewer with nothing added. wwould highly recommend. rccjr\n",
       "1    i love my keurig, and i love most of the keurig coffees. this is instant coffee with instant milk and far too much sugar. i don't know anyone i dislike enough to dump the rest of the box on.\n",
       "2                                   it's a powdered drink. no filter in k-cup.<br />just buy it in bulk and mix it with hot water....<br /><br />nothing else to say here. wont be buying it again.\n",
       "3                                                 don't bother! bet you couldn't tell the difference between this and hot water if your eyes were closed. well, maybe the water would have a taste!\n",
       "4        never tasted this coffee before, i felt much too sweet even for dessert. i would not order again. but then that is only my opinion. my friend's husband loves it.<br />i gave them to him.\n",
       "5                                                         my husband and i love this french vanilla cappuccino. sooo glad i didn't listen to some of the reviews and took the plunge and bought it.\n",
       "Name: reviews, dtype: object"
      ]
     },
     "execution_count": 18,
     "metadata": {},
     "output_type": "execute_result"
    }
   ],
   "source": [
    "### BEGIN SOLUTION\n",
    "df.reviews = df.reviews.str.lower()\n",
    "### END SOLUTION\n",
    "df.reviews"
   ]
  },
  {
   "cell_type": "code",
   "execution_count": 19,
   "metadata": {
    "id": "dGMVOdYoxDR5"
   },
   "outputs": [],
   "source": [
    "### CHECK YOUR OUTPUT WITH THE ANSWER\n",
    "\n",
    "### BEGIN HIDDEN TESTS\n",
    "assert len(re.findall('[A-Z]+',df.reviews.to_string())) == 0, \"There are still capital letters in the reviews text. Remember you can apply .str.lower() on a series.\"\n",
    "### END HIDDEN TESTS"
   ]
  },
  {
   "cell_type": "markdown",
   "metadata": {
    "id": "ku3TVbGZypJq"
   },
   "source": [
    "Remove all of the `<br />` values in the text. Overwrite the `df.reviews` column with the new text."
   ]
  },
  {
   "cell_type": "code",
   "execution_count": 20,
   "metadata": {
    "colab": {
     "base_uri": "https://localhost:8080/"
    },
    "id": "q8eix2IYwFvo",
    "outputId": "ed278f6e-f0d3-43ee-d6f1-12f3c2d63513"
   },
   "outputs": [
    {
     "data": {
      "text/plain": [
       "0                                                   grove square cappuccino cups were excellent. tasted really good right from the keurig brewer with nothing added. wwould highly recommend. rccjr\n",
       "1    i love my keurig, and i love most of the keurig coffees. this is instant coffee with instant milk and far too much sugar. i don't know anyone i dislike enough to dump the rest of the box on.\n",
       "2                                                  it's a powdered drink. no filter in k-cup. just buy it in bulk and mix it with hot water....  nothing else to say here. wont be buying it again.\n",
       "3                                                 don't bother! bet you couldn't tell the difference between this and hot water if your eyes were closed. well, maybe the water would have a taste!\n",
       "4             never tasted this coffee before, i felt much too sweet even for dessert. i would not order again. but then that is only my opinion. my friend's husband loves it. i gave them to him.\n",
       "5                                                         my husband and i love this french vanilla cappuccino. sooo glad i didn't listen to some of the reviews and took the plunge and bought it.\n",
       "Name: reviews, dtype: object"
      ]
     },
     "execution_count": 20,
     "metadata": {},
     "output_type": "execute_result"
    }
   ],
   "source": [
    "### BEGIN SOLUTION\n",
    "df.reviews = df.reviews.map(lambda x: re.sub('<br />', ' ', x))\n",
    "### END SOLUTION\n",
    "df.reviews"
   ]
  },
  {
   "cell_type": "code",
   "execution_count": 21,
   "metadata": {
    "id": "fJ6VwEg5y4-i"
   },
   "outputs": [],
   "source": [
    "### CHECK YOUR OUTPUT WITH THE ANSWER\n",
    "\n",
    "### BEGIN HIDDEN TESTS\n",
    "assert len(re.findall('<br />',df.reviews.to_string())) == 0, \"There are still <br /> values in the reviews text. Remember you can apply .map(lambda x: re.sub(pattern, new_value, x)) on a series.\"\n",
    "### END HIDDEN TESTS"
   ]
  },
  {
   "cell_type": "markdown",
   "metadata": {
    "id": "6gcCurIFzU2u"
   },
   "source": [
    "Remove all of the punctuation in the text. Overwrite the `df.reviews` column with the new text."
   ]
  },
  {
   "cell_type": "code",
   "execution_count": 22,
   "metadata": {
    "colab": {
     "base_uri": "https://localhost:8080/",
     "height": 37
    },
    "id": "97z2PgtGz1pP",
    "outputId": "a6599414-3475-4adc-9def-bedc0ab8d8fb"
   },
   "outputs": [
    {
     "data": {
      "text/plain": [
       "'hi  let s test this out '"
      ]
     },
     "execution_count": 22,
     "metadata": {},
     "output_type": "execute_result"
    }
   ],
   "source": [
    "# For exampmle, this is how you would replace punctuation marks with spaces within a single string\n",
    "import string\n",
    "punc_text = \"hi! let's test this out.\"\n",
    "re.sub('[%s]' % re.escape(string.punctuation), ' ', punc_text)"
   ]
  },
  {
   "cell_type": "code",
   "execution_count": 23,
   "metadata": {
    "colab": {
     "base_uri": "https://localhost:8080/"
    },
    "id": "1_Ryh_4Vu0UT",
    "outputId": "f392408c-1b65-4175-e91b-e6cd895548fe"
   },
   "outputs": [
    {
     "data": {
      "text/plain": [
       "0                                                   grove square cappuccino cups were excellent  tasted really good right from the keurig brewer with nothing added  wwould highly recommend  rccjr\n",
       "1    i love my keurig  and i love most of the keurig coffees  this is instant coffee with instant milk and far too much sugar  i don t know anyone i dislike enough to dump the rest of the box on \n",
       "2                                                  it s a powdered drink  no filter in k cup  just buy it in bulk and mix it with hot water      nothing else to say here  wont be buying it again \n",
       "3                                                 don t bother  bet you couldn t tell the difference between this and hot water if your eyes were closed  well  maybe the water would have a taste \n",
       "4             never tasted this coffee before  i felt much too sweet even for dessert  i would not order again  but then that is only my opinion  my friend s husband loves it  i gave them to him \n",
       "5                                                         my husband and i love this french vanilla cappuccino  sooo glad i didn t listen to some of the reviews and took the plunge and bought it \n",
       "Name: reviews, dtype: object"
      ]
     },
     "execution_count": 23,
     "metadata": {},
     "output_type": "execute_result"
    }
   ],
   "source": [
    "# Your job is to apply the same logic to an entire column of data, df.reviews\n",
    "\n",
    "### BEGIN SOLUTION\n",
    "df.reviews = df.reviews.map(lambda x: re.sub('[%s]' % re.escape(string.punctuation), ' ', x))\n",
    "### END SOLUTION\n",
    "df.reviews"
   ]
  },
  {
   "cell_type": "code",
   "execution_count": 24,
   "metadata": {
    "id": "U3YmBrbxzkMO"
   },
   "outputs": [],
   "source": [
    "### CHECK YOUR OUTPUT WITH THE ANSWER\n",
    "\n",
    "### BEGIN HIDDEN TESTS\n",
    "assert len(re.findall('[%s]' % re.escape(string.punctuation),df.reviews.to_string())) == 0, \"There are still punctuation marks in the reviews text. Remember you can apply .map(lambda x: re.sub(pattern, new_value, x)) on a series.\"\n",
    "### END HIDDEN TESTS"
   ]
  },
  {
   "cell_type": "code",
   "execution_count": null,
   "metadata": {
    "id": "hqNlfZ7fdjZN"
   },
   "outputs": [],
   "source": []
  }
 ],
 "metadata": {
  "colab": {
   "collapsed_sections": [],
   "name": "nlp-unsupervised-nlp-exercises2.ipynb",
   "provenance": []
  },
  "kernelspec": {
   "display_name": "Python 3",
   "language": "python",
   "name": "python3"
  },
  "language_info": {
   "codemirror_mode": {
    "name": "ipython",
    "version": 3
   },
   "file_extension": ".py",
   "mimetype": "text/x-python",
   "name": "python",
   "nbconvert_exporter": "python",
   "pygments_lexer": "ipython3",
   "version": "3.8.8"
  }
 },
 "nbformat": 4,
 "nbformat_minor": 1
}
