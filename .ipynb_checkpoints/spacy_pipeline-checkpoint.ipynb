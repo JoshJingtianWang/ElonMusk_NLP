{
 "cells": [
  {
   "cell_type": "markdown",
   "id": "4f6d1534-31a4-4595-a1b1-06b615a89946",
   "metadata": {
    "tags": []
   },
   "source": [
    "# Loading saved tweets\n",
    "and using user profile description to discern political stance"
   ]
  },
  {
   "cell_type": "code",
   "execution_count": 1,
   "id": "916d8f28-9258-4f18-aa62-64c72d331e09",
   "metadata": {},
   "outputs": [],
   "source": [
    "from tqdm import tqdm\n",
    "import pickle\n",
    "import pandas as pd\n",
    "pd.set_option('display.max_colwidth', None)"
   ]
  },
  {
   "cell_type": "code",
   "execution_count": 181,
   "id": "871b6e99-dd7d-4e87-b81e-0f902ddbea18",
   "metadata": {},
   "outputs": [],
   "source": [
    "#load saved tweet df\n",
    "with open(r\"tweets20210405.pkl\", \"rb\") as input_file:\n",
    "    tweets20210405 = pickle.load(input_file)\n",
    "    \n",
    "with open(r\"tweets20220414.pkl\", \"rb\") as input_file:\n",
    "    tweets20220414 = pickle.load(input_file)\n",
    "\n",
    "with open(r\"tweets20220425.pkl\", \"rb\") as input_file:\n",
    "    tweets20220425 = pickle.load(input_file)\n",
    "    \n",
    "with open(r\"tweets20220510.pkl\", \"rb\") as input_file:\n",
    "    tweets20220510 = pickle.load(input_file)"
   ]
  },
  {
   "cell_type": "code",
   "execution_count": 184,
   "id": "5fdac199-4330-4ce3-879c-681f7ccd6c58",
   "metadata": {},
   "outputs": [],
   "source": [
    "tweets20210405['Date'] = '20210405'\n",
    "tweets20220414['Date'] = '20220414'\n",
    "tweets20220425['Date'] = '20220425'\n",
    "tweets20220510['Date'] = '20220510'"
   ]
  },
  {
   "cell_type": "code",
   "execution_count": 186,
   "id": "23d49568-5416-49f6-a83c-90b1b29a6b80",
   "metadata": {},
   "outputs": [],
   "source": [
    "tweets_df = pd.concat([tweets20210405, tweets20220414, tweets20220425, tweets20220510], axis=0)"
   ]
  },
  {
   "cell_type": "code",
   "execution_count": 187,
   "id": "70835abe-cf3d-4790-8e60-fc1a30c08469",
   "metadata": {},
   "outputs": [
    {
     "data": {
      "text/plain": [
       "(39999, 8)"
      ]
     },
     "execution_count": 187,
     "metadata": {},
     "output_type": "execute_result"
    }
   ],
   "source": [
    "tweets_df.shape"
   ]
  },
  {
   "cell_type": "code",
   "execution_count": 177,
   "id": "e6ab2b07-d6c9-460c-83c5-6ffb9cb65913",
   "metadata": {},
   "outputs": [],
   "source": [
    "#using user profile description to discern political stance\n",
    "\n",
    "substring_list = ['Patriot', 'patriot', 'PATRIOT',\n",
    "                  'Conservativ', 'conservativ', 'CONSERVATIV',\n",
    "                  'America', 'america', 'AMERICA', 'USA',\n",
    "                  'Freedom', 'freedom', 'FREEDOM',\n",
    "                  'Trump', 'trump', 'TRUMP',\n",
    "                  'Libertarian', 'libertarian', 'LIBERTARIAN', 'Liberty', 'liberty', 'LIBERTY',\n",
    "                  'MAGA', 'maga', 'Maga',\n",
    "                  'GOD', 'god', 'God',\n",
    "                  'JESUS', 'jesus', 'Jesus',\n",
    "                  'Christian', 'christian',\n",
    "                  '🇺🇸']\n",
    "\n",
    "def politic(descr):\n",
    "    return any(substring in descr for substring in substring_list)"
   ]
  },
  {
   "cell_type": "code",
   "execution_count": 188,
   "id": "6a993c44-f70e-47a5-93df-8538239d8bc1",
   "metadata": {},
   "outputs": [],
   "source": [
    "tweets_df['Conservative'] = tweets_df['Description'].\\\n",
    "                        map(lambda x: politic(x))"
   ]
  },
  {
   "cell_type": "code",
   "execution_count": 190,
   "id": "4499544a-f942-41dc-8200-7dac41f6a5b9",
   "metadata": {
    "tags": []
   },
   "outputs": [
    {
     "data": {
      "text/html": [
       "<div>\n",
       "<style scoped>\n",
       "    .dataframe tbody tr th:only-of-type {\n",
       "        vertical-align: middle;\n",
       "    }\n",
       "\n",
       "    .dataframe tbody tr th {\n",
       "        vertical-align: top;\n",
       "    }\n",
       "\n",
       "    .dataframe thead th {\n",
       "        text-align: right;\n",
       "    }\n",
       "</style>\n",
       "<table border=\"1\" class=\"dataframe\">\n",
       "  <thead>\n",
       "    <tr style=\"text-align: right;\">\n",
       "      <th></th>\n",
       "      <th>Datetime</th>\n",
       "      <th>Tweet Id</th>\n",
       "      <th>Text</th>\n",
       "      <th>Username</th>\n",
       "      <th>Description</th>\n",
       "      <th>US Flag</th>\n",
       "      <th>Keyword</th>\n",
       "      <th>Date</th>\n",
       "      <th>Conservative</th>\n",
       "    </tr>\n",
       "  </thead>\n",
       "  <tbody>\n",
       "    <tr>\n",
       "      <th>17</th>\n",
       "      <td>2021-04-06 23:54:36+00:00</td>\n",
       "      <td>1379583349862379521</td>\n",
       "      <td>@laderechadiario Elon lo termina remontando acuerdense</td>\n",
       "      <td>Alejandromallu1</td>\n",
       "      <td>#halamadrid \\n#lamitadmas1\\n\\nSoy un chico capitalista, libertario, anti comunista y anti socialista, simpatizó con Trump 🇺🇸\\nfiel solamente a Dios</td>\n",
       "      <td>True</td>\n",
       "      <td>#ElonMusk OR @elonmusk OR Elon Musk OR Elon OR Musk</td>\n",
       "      <td>20210405</td>\n",
       "      <td>True</td>\n",
       "    </tr>\n",
       "    <tr>\n",
       "      <th>86</th>\n",
       "      <td>2021-04-06 23:35:53+00:00</td>\n",
       "      <td>1379578638891425794</td>\n",
       "      <td>Had to go private so I can lament that I found out my brother is an Elon stan and I must mourn</td>\n",
       "      <td>kitty_lestrange</td>\n",
       "      <td>SEO editor, client recovery &amp; QA, and writer. Demi-Pan. NB. they/she. American expat. Patrilineal &amp; hopefully converting. Fantasy and game fan. married.</td>\n",
       "      <td>False</td>\n",
       "      <td>#ElonMusk OR @elonmusk OR Elon Musk OR Elon OR Musk</td>\n",
       "      <td>20210405</td>\n",
       "      <td>True</td>\n",
       "    </tr>\n",
       "    <tr>\n",
       "      <th>135</th>\n",
       "      <td>2021-04-06 23:24:50+00:00</td>\n",
       "      <td>1379575858160152578</td>\n",
       "      <td>@folastag I don't understand why Elon musk now hyped it</td>\n",
       "      <td>ayojurn</td>\n",
       "      <td>Photographer | civil engineer | student | eksuite | cool | loves music | GOD fearing</td>\n",
       "      <td>False</td>\n",
       "      <td>#ElonMusk OR @elonmusk OR Elon Musk OR Elon OR Musk</td>\n",
       "      <td>20210405</td>\n",
       "      <td>True</td>\n",
       "    </tr>\n",
       "    <tr>\n",
       "      <th>148</th>\n",
       "      <td>2021-04-06 23:20:20+00:00</td>\n",
       "      <td>1379574724813062146</td>\n",
       "      <td>@RobertPaege @thehill How would you know if anyone is? Have you ever seen Elon Musks bank account? Maybe there’s just no billionaires based on your thought</td>\n",
       "      <td>AndrewD409</td>\n",
       "      <td>Christian • Conservative Populist • America First</td>\n",
       "      <td>False</td>\n",
       "      <td>#ElonMusk OR @elonmusk OR Elon Musk OR Elon OR Musk</td>\n",
       "      <td>20210405</td>\n",
       "      <td>True</td>\n",
       "    </tr>\n",
       "    <tr>\n",
       "      <th>157</th>\n",
       "      <td>2021-04-06 23:19:15+00:00</td>\n",
       "      <td>1379574454163025924</td>\n",
       "      <td>Elon https://t.co/CqKiTPg3gH</td>\n",
       "      <td>WadlleGuy</td>\n",
       "      <td>- goin by david, wadlle or alex -\\nhispanic mf(Mexican-American)\\nany pronouns - big fan of my s/o - mainly rts and replys -\\n\\nFG's I play\\nDBFZ\\nSSBU\\nNASB\\nGG+R</td>\n",
       "      <td>False</td>\n",
       "      <td>#ElonMusk OR @elonmusk OR Elon Musk OR Elon OR Musk</td>\n",
       "      <td>20210405</td>\n",
       "      <td>True</td>\n",
       "    </tr>\n",
       "  </tbody>\n",
       "</table>\n",
       "</div>"
      ],
      "text/plain": [
       "                     Datetime             Tweet Id  \\\n",
       "17  2021-04-06 23:54:36+00:00  1379583349862379521   \n",
       "86  2021-04-06 23:35:53+00:00  1379578638891425794   \n",
       "135 2021-04-06 23:24:50+00:00  1379575858160152578   \n",
       "148 2021-04-06 23:20:20+00:00  1379574724813062146   \n",
       "157 2021-04-06 23:19:15+00:00  1379574454163025924   \n",
       "\n",
       "                                                                                                                                                            Text  \\\n",
       "17                                                                                                        @laderechadiario Elon lo termina remontando acuerdense   \n",
       "86                                                                Had to go private so I can lament that I found out my brother is an Elon stan and I must mourn   \n",
       "135                                                                                                      @folastag I don't understand why Elon musk now hyped it   \n",
       "148  @RobertPaege @thehill How would you know if anyone is? Have you ever seen Elon Musks bank account? Maybe there’s just no billionaires based on your thought   \n",
       "157                                                                                                                                 Elon https://t.co/CqKiTPg3gH   \n",
       "\n",
       "            Username  \\\n",
       "17   Alejandromallu1   \n",
       "86   kitty_lestrange   \n",
       "135          ayojurn   \n",
       "148       AndrewD409   \n",
       "157        WadlleGuy   \n",
       "\n",
       "                                                                                                                                                             Description  \\\n",
       "17                   #halamadrid \\n#lamitadmas1\\n\\nSoy un chico capitalista, libertario, anti comunista y anti socialista, simpatizó con Trump 🇺🇸\\nfiel solamente a Dios   \n",
       "86              SEO editor, client recovery & QA, and writer. Demi-Pan. NB. they/she. American expat. Patrilineal & hopefully converting. Fantasy and game fan. married.   \n",
       "135                                                                                 Photographer | civil engineer | student | eksuite | cool | loves music | GOD fearing   \n",
       "148                                                                                                                    Christian • Conservative Populist • America First   \n",
       "157  - goin by david, wadlle or alex -\\nhispanic mf(Mexican-American)\\nany pronouns - big fan of my s/o - mainly rts and replys -\\n\\nFG's I play\\nDBFZ\\nSSBU\\nNASB\\nGG+R   \n",
       "\n",
       "     US Flag                                              Keyword      Date  \\\n",
       "17      True  #ElonMusk OR @elonmusk OR Elon Musk OR Elon OR Musk  20210405   \n",
       "86     False  #ElonMusk OR @elonmusk OR Elon Musk OR Elon OR Musk  20210405   \n",
       "135    False  #ElonMusk OR @elonmusk OR Elon Musk OR Elon OR Musk  20210405   \n",
       "148    False  #ElonMusk OR @elonmusk OR Elon Musk OR Elon OR Musk  20210405   \n",
       "157    False  #ElonMusk OR @elonmusk OR Elon Musk OR Elon OR Musk  20210405   \n",
       "\n",
       "     Conservative  \n",
       "17           True  \n",
       "86           True  \n",
       "135          True  \n",
       "148          True  \n",
       "157          True  "
      ]
     },
     "execution_count": 190,
     "metadata": {},
     "output_type": "execute_result"
    }
   ],
   "source": [
    "tweets_df[tweets_df['Conservative']].head()"
   ]
  },
  {
   "cell_type": "markdown",
   "id": "c1157c07-02d4-40e5-aae8-5cca5c42bd92",
   "metadata": {},
   "source": [
    "#### Remove Stop words and @ mentions"
   ]
  },
  {
   "cell_type": "code",
   "execution_count": 2,
   "id": "ea94ee53-30c9-4272-8bc5-da1b087daa62",
   "metadata": {},
   "outputs": [],
   "source": [
    "#remove mentions using regex\n",
    "import re"
   ]
  },
  {
   "cell_type": "code",
   "execution_count": 192,
   "id": "a7cebc27-5d1d-47bb-8ef9-1c1530d70f99",
   "metadata": {},
   "outputs": [
    {
     "data": {
      "text/plain": [
       "'bad mean tweeter lose tedder bear mom will run canadian mist poopy'"
      ]
     },
     "execution_count": 192,
     "metadata": {},
     "output_type": "execute_result"
    }
   ],
   "source": [
    "#example\n",
    "s = '@eaijusngb_2345 @oepistnh908 @freeman_mary2 bad mean tweeter lose tedder bear mom will run canadian mist poopy @apeitogh0978 @eaijusngb_2345'\n",
    "re.sub(r'(^|\\s)*@[a-zA-Z0-9_]{1,15}($|\\s)', '', s)"
   ]
  },
  {
   "cell_type": "code",
   "execution_count": 193,
   "id": "98cf48da-7175-498b-a01c-d645e43dc812",
   "metadata": {},
   "outputs": [],
   "source": [
    "#cleaning special characters from text\n",
    "#remove @ mentions\n",
    "from cleantext import clean\n",
    "tweets_df['CleanedText'] = tweets_df['Text'].\\\n",
    "        map(lambda x: clean(x, lower=False, no_line_breaks=True, no_urls=True)).\\\n",
    "        map(lambda x: re.sub(r'(^|\\s)*@[a-zA-Z0-9_]{1,15}($|\\s)', '', x))"
   ]
  },
  {
   "cell_type": "code",
   "execution_count": 194,
   "id": "dcd6d235-93a4-4d7c-a90c-5de8f888931f",
   "metadata": {
    "collapsed": true,
    "jupyter": {
     "outputs_hidden": true
    },
    "tags": []
   },
   "outputs": [
    {
     "data": {
      "text/html": [
       "<div>\n",
       "<style scoped>\n",
       "    .dataframe tbody tr th:only-of-type {\n",
       "        vertical-align: middle;\n",
       "    }\n",
       "\n",
       "    .dataframe tbody tr th {\n",
       "        vertical-align: top;\n",
       "    }\n",
       "\n",
       "    .dataframe thead th {\n",
       "        text-align: right;\n",
       "    }\n",
       "</style>\n",
       "<table border=\"1\" class=\"dataframe\">\n",
       "  <thead>\n",
       "    <tr style=\"text-align: right;\">\n",
       "      <th></th>\n",
       "      <th>Datetime</th>\n",
       "      <th>Tweet Id</th>\n",
       "      <th>Text</th>\n",
       "      <th>Username</th>\n",
       "      <th>Description</th>\n",
       "      <th>US Flag</th>\n",
       "      <th>Keyword</th>\n",
       "      <th>Date</th>\n",
       "      <th>Conservative</th>\n",
       "      <th>CleanedText</th>\n",
       "    </tr>\n",
       "  </thead>\n",
       "  <tbody>\n",
       "    <tr>\n",
       "      <th>0</th>\n",
       "      <td>2021-04-06 23:59:44+00:00</td>\n",
       "      <td>1379584640948834310</td>\n",
       "      <td>@elonmusk #SAFEMOON is the future Elon! Join us!</td>\n",
       "      <td>bibonblous</td>\n",
       "      <td>Sempre a la contra i avant!</td>\n",
       "      <td>False</td>\n",
       "      <td>#ElonMusk OR @elonmusk OR Elon Musk OR Elon OR Musk</td>\n",
       "      <td>20210405</td>\n",
       "      <td>False</td>\n",
       "      <td>#SAFEMOON is the future Elon! Join us!</td>\n",
       "    </tr>\n",
       "    <tr>\n",
       "      <th>1</th>\n",
       "      <td>2021-04-06 23:59:40+00:00</td>\n",
       "      <td>1379584624221822978</td>\n",
       "      <td>@KMadMcLean @gerrydee They also juice the numbers because each death in a private hospital gets a subsidy check from the gov. Elon Musk said this, so take it for what its worth</td>\n",
       "      <td>tjvland</td>\n",
       "      <td></td>\n",
       "      <td>False</td>\n",
       "      <td>#ElonMusk OR @elonmusk OR Elon Musk OR Elon OR Musk</td>\n",
       "      <td>20210405</td>\n",
       "      <td>False</td>\n",
       "      <td>They also juice the numbers because each death in a private hospital gets a subsidy check from the gov. Elon Musk said this, so take it for what its worth</td>\n",
       "    </tr>\n",
       "    <tr>\n",
       "      <th>2</th>\n",
       "      <td>2021-04-06 23:59:40+00:00</td>\n",
       "      <td>1379584623999606785</td>\n",
       "      <td>@SpaceXJet Elon is in Seattle too surely something big is happening at Starlink</td>\n",
       "      <td>tumeloditle</td>\n",
       "      <td>Peace and prosperity for Africa</td>\n",
       "      <td>False</td>\n",
       "      <td>#ElonMusk OR @elonmusk OR Elon Musk OR Elon OR Musk</td>\n",
       "      <td>20210405</td>\n",
       "      <td>False</td>\n",
       "      <td>Elon is in Seattle too surely something big is happening at Starlink</td>\n",
       "    </tr>\n",
       "    <tr>\n",
       "      <th>3</th>\n",
       "      <td>2021-04-06 23:59:32+00:00</td>\n",
       "      <td>1379584589111382016</td>\n",
       "      <td>@stevenmarkryan elon musk because hes achieving so many things i aspire to accomplish</td>\n",
       "      <td>InertiaConcept</td>\n",
       "      <td>#bitcoin</td>\n",
       "      <td>False</td>\n",
       "      <td>#ElonMusk OR @elonmusk OR Elon Musk OR Elon OR Musk</td>\n",
       "      <td>20210405</td>\n",
       "      <td>False</td>\n",
       "      <td>elon musk because hes achieving so many things i aspire to accomplish</td>\n",
       "    </tr>\n",
       "    <tr>\n",
       "      <th>4</th>\n",
       "      <td>2021-04-06 23:59:26+00:00</td>\n",
       "      <td>1379584565954678786</td>\n",
       "      <td>@Erdayastronaut @SpaceX @elonmusk Today you witnessed an explosion. Wow. Sheltered much. Musk can throw anything into the atmosphere and we have to get emissions tests on our little cars cause of pollution. Hey AstroNOT, it will end as Babel, slapped back to the ground. Sorry.</td>\n",
       "      <td>FreedomIsSlave3</td>\n",
       "      <td>Wife and mother of four. Let's get back to the Commandments</td>\n",
       "      <td>False</td>\n",
       "      <td>#ElonMusk OR @elonmusk OR Elon Musk OR Elon OR Musk</td>\n",
       "      <td>20210405</td>\n",
       "      <td>False</td>\n",
       "      <td>Today you witnessed an explosion. Wow. Sheltered much. Musk can throw anything into the atmosphere and we have to get emissions tests on our little cars cause of pollution. Hey AstroNOT, it will end as Babel, slapped back to the ground. Sorry.</td>\n",
       "    </tr>\n",
       "  </tbody>\n",
       "</table>\n",
       "</div>"
      ],
      "text/plain": [
       "                   Datetime             Tweet Id  \\\n",
       "0 2021-04-06 23:59:44+00:00  1379584640948834310   \n",
       "1 2021-04-06 23:59:40+00:00  1379584624221822978   \n",
       "2 2021-04-06 23:59:40+00:00  1379584623999606785   \n",
       "3 2021-04-06 23:59:32+00:00  1379584589111382016   \n",
       "4 2021-04-06 23:59:26+00:00  1379584565954678786   \n",
       "\n",
       "                                                                                                                                                                                                                                                                                    Text  \\\n",
       "0                                                                                                                                                                                                                                       @elonmusk #SAFEMOON is the future Elon! Join us!   \n",
       "1                                                                                                       @KMadMcLean @gerrydee They also juice the numbers because each death in a private hospital gets a subsidy check from the gov. Elon Musk said this, so take it for what its worth   \n",
       "2                                                                                                                                                                                                        @SpaceXJet Elon is in Seattle too surely something big is happening at Starlink   \n",
       "3                                                                                                                                                                                                  @stevenmarkryan elon musk because hes achieving so many things i aspire to accomplish   \n",
       "4  @Erdayastronaut @SpaceX @elonmusk Today you witnessed an explosion. Wow. Sheltered much. Musk can throw anything into the atmosphere and we have to get emissions tests on our little cars cause of pollution. Hey AstroNOT, it will end as Babel, slapped back to the ground. Sorry.   \n",
       "\n",
       "          Username  \\\n",
       "0       bibonblous   \n",
       "1          tjvland   \n",
       "2      tumeloditle   \n",
       "3   InertiaConcept   \n",
       "4  FreedomIsSlave3   \n",
       "\n",
       "                                                   Description  US Flag  \\\n",
       "0                                  Sempre a la contra i avant!    False   \n",
       "1                                                                 False   \n",
       "2                              Peace and prosperity for Africa    False   \n",
       "3                                                     #bitcoin    False   \n",
       "4  Wife and mother of four. Let's get back to the Commandments    False   \n",
       "\n",
       "                                               Keyword      Date  \\\n",
       "0  #ElonMusk OR @elonmusk OR Elon Musk OR Elon OR Musk  20210405   \n",
       "1  #ElonMusk OR @elonmusk OR Elon Musk OR Elon OR Musk  20210405   \n",
       "2  #ElonMusk OR @elonmusk OR Elon Musk OR Elon OR Musk  20210405   \n",
       "3  #ElonMusk OR @elonmusk OR Elon Musk OR Elon OR Musk  20210405   \n",
       "4  #ElonMusk OR @elonmusk OR Elon Musk OR Elon OR Musk  20210405   \n",
       "\n",
       "   Conservative  \\\n",
       "0         False   \n",
       "1         False   \n",
       "2         False   \n",
       "3         False   \n",
       "4         False   \n",
       "\n",
       "                                                                                                                                                                                                                                           CleanedText  \n",
       "0                                                                                                                                                                                                               #SAFEMOON is the future Elon! Join us!  \n",
       "1                                                                                           They also juice the numbers because each death in a private hospital gets a subsidy check from the gov. Elon Musk said this, so take it for what its worth  \n",
       "2                                                                                                                                                                                 Elon is in Seattle too surely something big is happening at Starlink  \n",
       "3                                                                                                                                                                                elon musk because hes achieving so many things i aspire to accomplish  \n",
       "4  Today you witnessed an explosion. Wow. Sheltered much. Musk can throw anything into the atmosphere and we have to get emissions tests on our little cars cause of pollution. Hey AstroNOT, it will end as Babel, slapped back to the ground. Sorry.  "
      ]
     },
     "execution_count": 194,
     "metadata": {},
     "output_type": "execute_result"
    }
   ],
   "source": [
    "tweets_df.head()"
   ]
  },
  {
   "cell_type": "markdown",
   "id": "4f5e664b-2990-47a9-a72d-7019d903e870",
   "metadata": {
    "tags": []
   },
   "source": [
    "# Spacy Pipeline #1 (Sentiment Analysis)"
   ]
  },
  {
   "cell_type": "code",
   "execution_count": 3,
   "id": "1cca898b-28ea-4663-b0cf-c0d720f7b671",
   "metadata": {},
   "outputs": [],
   "source": [
    "import spacy"
   ]
  },
  {
   "cell_type": "markdown",
   "id": "d30da643-52d7-4482-a0f2-c9495daba238",
   "metadata": {},
   "source": [
    "#### Language Detection"
   ]
  },
  {
   "cell_type": "code",
   "execution_count": 4,
   "id": "7d4c181e-6668-4d11-93b5-e5e0731aa65c",
   "metadata": {},
   "outputs": [],
   "source": [
    "from spacy.language import Language\n",
    "from spacy_langdetect import LanguageDetector"
   ]
  },
  {
   "cell_type": "code",
   "execution_count": 9,
   "id": "fe8af732-84e5-4018-bcc8-516e8a191d5c",
   "metadata": {},
   "outputs": [],
   "source": [
    "nlp = spacy.load('en_core_web_sm')\n",
    "                 #, disable=['parser'])\n",
    "\n",
    "#nlp.pipe_names"
   ]
  },
  {
   "cell_type": "code",
   "execution_count": 198,
   "id": "d557e16f-b6c1-4341-b820-fca484f609df",
   "metadata": {},
   "outputs": [
    {
     "data": {
      "text/plain": [
       "<function __main__.get_lang_detector(nlp, name)>"
      ]
     },
     "execution_count": 198,
     "metadata": {},
     "output_type": "execute_result"
    }
   ],
   "source": [
    "#add language detection pipe\n",
    "#https://stackoverflow.com/questions/66712753/how-to-use-languagedetector-from-spacy-langdetect-package\n",
    "\n",
    "def get_lang_detector(nlp, name):\n",
    "    return LanguageDetector()\n",
    "\n",
    "Language.factory(\"language_detector\", func=get_lang_detector)"
   ]
  },
  {
   "cell_type": "code",
   "execution_count": 199,
   "id": "0a1e8f15-bd87-4964-bc81-71183c6f820b",
   "metadata": {},
   "outputs": [
    {
     "name": "stdout",
     "output_type": "stream",
     "text": [
      "{'language': 'en', 'score': 0.9999965533769133}\n"
     ]
    }
   ],
   "source": [
    "nlp.add_pipe('language_detector', last=True)\n",
    "\n",
    "#example\n",
    "text = 'This is an english text.'\n",
    "doc = nlp(text)\n",
    "print(doc._.language)"
   ]
  },
  {
   "cell_type": "code",
   "execution_count": 200,
   "id": "bc639662-e0c3-4f52-bc76-2eec3e3780d2",
   "metadata": {},
   "outputs": [],
   "source": [
    "tweets_df['Language'] = tweets_df['CleanedText'].\\\n",
    "        map(lambda x: nlp(x)._.language['language'])"
   ]
  },
  {
   "cell_type": "code",
   "execution_count": 210,
   "id": "50f8e173-6490-44bf-b8f0-a12226ec1db1",
   "metadata": {
    "tags": []
   },
   "outputs": [
    {
     "data": {
      "text/html": [
       "<div>\n",
       "<style scoped>\n",
       "    .dataframe tbody tr th:only-of-type {\n",
       "        vertical-align: middle;\n",
       "    }\n",
       "\n",
       "    .dataframe tbody tr th {\n",
       "        vertical-align: top;\n",
       "    }\n",
       "\n",
       "    .dataframe thead th {\n",
       "        text-align: right;\n",
       "    }\n",
       "</style>\n",
       "<table border=\"1\" class=\"dataframe\">\n",
       "  <thead>\n",
       "    <tr style=\"text-align: right;\">\n",
       "      <th></th>\n",
       "      <th>Datetime</th>\n",
       "      <th>Tweet Id</th>\n",
       "      <th>Text</th>\n",
       "      <th>Username</th>\n",
       "      <th>Description</th>\n",
       "      <th>US Flag</th>\n",
       "      <th>Keyword</th>\n",
       "      <th>Date</th>\n",
       "      <th>Conservative</th>\n",
       "      <th>CleanedText</th>\n",
       "      <th>Language</th>\n",
       "    </tr>\n",
       "  </thead>\n",
       "  <tbody>\n",
       "    <tr>\n",
       "      <th>0</th>\n",
       "      <td>2021-04-06 23:59:44+00:00</td>\n",
       "      <td>1379584640948834310</td>\n",
       "      <td>@elonmusk #SAFEMOON is the future Elon! Join us!</td>\n",
       "      <td>bibonblous</td>\n",
       "      <td>Sempre a la contra i avant!</td>\n",
       "      <td>False</td>\n",
       "      <td>#ElonMusk OR @elonmusk OR Elon Musk OR Elon OR Musk</td>\n",
       "      <td>20210405</td>\n",
       "      <td>False</td>\n",
       "      <td>#SAFEMOON is the future Elon! Join us!</td>\n",
       "      <td>en</td>\n",
       "    </tr>\n",
       "    <tr>\n",
       "      <th>1</th>\n",
       "      <td>2021-04-06 23:59:40+00:00</td>\n",
       "      <td>1379584624221822978</td>\n",
       "      <td>@KMadMcLean @gerrydee They also juice the numbers because each death in a private hospital gets a subsidy check from the gov. Elon Musk said this, so take it for what its worth</td>\n",
       "      <td>tjvland</td>\n",
       "      <td></td>\n",
       "      <td>False</td>\n",
       "      <td>#ElonMusk OR @elonmusk OR Elon Musk OR Elon OR Musk</td>\n",
       "      <td>20210405</td>\n",
       "      <td>False</td>\n",
       "      <td>They also juice the numbers because each death in a private hospital gets a subsidy check from the gov. Elon Musk said this, so take it for what its worth</td>\n",
       "      <td>en</td>\n",
       "    </tr>\n",
       "    <tr>\n",
       "      <th>2</th>\n",
       "      <td>2021-04-06 23:59:40+00:00</td>\n",
       "      <td>1379584623999606785</td>\n",
       "      <td>@SpaceXJet Elon is in Seattle too surely something big is happening at Starlink</td>\n",
       "      <td>tumeloditle</td>\n",
       "      <td>Peace and prosperity for Africa</td>\n",
       "      <td>False</td>\n",
       "      <td>#ElonMusk OR @elonmusk OR Elon Musk OR Elon OR Musk</td>\n",
       "      <td>20210405</td>\n",
       "      <td>False</td>\n",
       "      <td>Elon is in Seattle too surely something big is happening at Starlink</td>\n",
       "      <td>en</td>\n",
       "    </tr>\n",
       "    <tr>\n",
       "      <th>3</th>\n",
       "      <td>2021-04-06 23:59:32+00:00</td>\n",
       "      <td>1379584589111382016</td>\n",
       "      <td>@stevenmarkryan elon musk because hes achieving so many things i aspire to accomplish</td>\n",
       "      <td>InertiaConcept</td>\n",
       "      <td>#bitcoin</td>\n",
       "      <td>False</td>\n",
       "      <td>#ElonMusk OR @elonmusk OR Elon Musk OR Elon OR Musk</td>\n",
       "      <td>20210405</td>\n",
       "      <td>False</td>\n",
       "      <td>elon musk because hes achieving so many things i aspire to accomplish</td>\n",
       "      <td>en</td>\n",
       "    </tr>\n",
       "    <tr>\n",
       "      <th>4</th>\n",
       "      <td>2021-04-06 23:59:26+00:00</td>\n",
       "      <td>1379584565954678786</td>\n",
       "      <td>@Erdayastronaut @SpaceX @elonmusk Today you witnessed an explosion. Wow. Sheltered much. Musk can throw anything into the atmosphere and we have to get emissions tests on our little cars cause of pollution. Hey AstroNOT, it will end as Babel, slapped back to the ground. Sorry.</td>\n",
       "      <td>FreedomIsSlave3</td>\n",
       "      <td>Wife and mother of four. Let's get back to the Commandments</td>\n",
       "      <td>False</td>\n",
       "      <td>#ElonMusk OR @elonmusk OR Elon Musk OR Elon OR Musk</td>\n",
       "      <td>20210405</td>\n",
       "      <td>False</td>\n",
       "      <td>Today you witnessed an explosion. Wow. Sheltered much. Musk can throw anything into the atmosphere and we have to get emissions tests on our little cars cause of pollution. Hey AstroNOT, it will end as Babel, slapped back to the ground. Sorry.</td>\n",
       "      <td>en</td>\n",
       "    </tr>\n",
       "  </tbody>\n",
       "</table>\n",
       "</div>"
      ],
      "text/plain": [
       "                   Datetime             Tweet Id  \\\n",
       "0 2021-04-06 23:59:44+00:00  1379584640948834310   \n",
       "1 2021-04-06 23:59:40+00:00  1379584624221822978   \n",
       "2 2021-04-06 23:59:40+00:00  1379584623999606785   \n",
       "3 2021-04-06 23:59:32+00:00  1379584589111382016   \n",
       "4 2021-04-06 23:59:26+00:00  1379584565954678786   \n",
       "\n",
       "                                                                                                                                                                                                                                                                                    Text  \\\n",
       "0                                                                                                                                                                                                                                       @elonmusk #SAFEMOON is the future Elon! Join us!   \n",
       "1                                                                                                       @KMadMcLean @gerrydee They also juice the numbers because each death in a private hospital gets a subsidy check from the gov. Elon Musk said this, so take it for what its worth   \n",
       "2                                                                                                                                                                                                        @SpaceXJet Elon is in Seattle too surely something big is happening at Starlink   \n",
       "3                                                                                                                                                                                                  @stevenmarkryan elon musk because hes achieving so many things i aspire to accomplish   \n",
       "4  @Erdayastronaut @SpaceX @elonmusk Today you witnessed an explosion. Wow. Sheltered much. Musk can throw anything into the atmosphere and we have to get emissions tests on our little cars cause of pollution. Hey AstroNOT, it will end as Babel, slapped back to the ground. Sorry.   \n",
       "\n",
       "          Username  \\\n",
       "0       bibonblous   \n",
       "1          tjvland   \n",
       "2      tumeloditle   \n",
       "3   InertiaConcept   \n",
       "4  FreedomIsSlave3   \n",
       "\n",
       "                                                   Description  US Flag  \\\n",
       "0                                  Sempre a la contra i avant!    False   \n",
       "1                                                                 False   \n",
       "2                              Peace and prosperity for Africa    False   \n",
       "3                                                     #bitcoin    False   \n",
       "4  Wife and mother of four. Let's get back to the Commandments    False   \n",
       "\n",
       "                                               Keyword      Date  \\\n",
       "0  #ElonMusk OR @elonmusk OR Elon Musk OR Elon OR Musk  20210405   \n",
       "1  #ElonMusk OR @elonmusk OR Elon Musk OR Elon OR Musk  20210405   \n",
       "2  #ElonMusk OR @elonmusk OR Elon Musk OR Elon OR Musk  20210405   \n",
       "3  #ElonMusk OR @elonmusk OR Elon Musk OR Elon OR Musk  20210405   \n",
       "4  #ElonMusk OR @elonmusk OR Elon Musk OR Elon OR Musk  20210405   \n",
       "\n",
       "   Conservative  \\\n",
       "0         False   \n",
       "1         False   \n",
       "2         False   \n",
       "3         False   \n",
       "4         False   \n",
       "\n",
       "                                                                                                                                                                                                                                           CleanedText  \\\n",
       "0                                                                                                                                                                                                               #SAFEMOON is the future Elon! Join us!   \n",
       "1                                                                                           They also juice the numbers because each death in a private hospital gets a subsidy check from the gov. Elon Musk said this, so take it for what its worth   \n",
       "2                                                                                                                                                                                 Elon is in Seattle too surely something big is happening at Starlink   \n",
       "3                                                                                                                                                                                elon musk because hes achieving so many things i aspire to accomplish   \n",
       "4  Today you witnessed an explosion. Wow. Sheltered much. Musk can throw anything into the atmosphere and we have to get emissions tests on our little cars cause of pollution. Hey AstroNOT, it will end as Babel, slapped back to the ground. Sorry.   \n",
       "\n",
       "  Language  \n",
       "0       en  \n",
       "1       en  \n",
       "2       en  \n",
       "3       en  \n",
       "4       en  "
      ]
     },
     "execution_count": 210,
     "metadata": {},
     "output_type": "execute_result"
    }
   ],
   "source": [
    "#filter for english tweets\n",
    "tweets_df_en = tweets_df[tweets_df['Language']=='en']\n",
    "tweets_df_en = tweets_df_en.reset_index(drop=True)\n",
    "tweets_df_en.head()"
   ]
  },
  {
   "cell_type": "code",
   "execution_count": 235,
   "id": "a7614054-530d-42f1-9850-59dc18ec17af",
   "metadata": {},
   "outputs": [
    {
     "data": {
      "text/plain": [
       "(30137, 13)"
      ]
     },
     "execution_count": 235,
     "metadata": {},
     "output_type": "execute_result"
    }
   ],
   "source": [
    "tweets_df_en.shape"
   ]
  },
  {
   "cell_type": "code",
   "execution_count": null,
   "id": "529926e8-e4d1-4a08-9ad8-9b0ed27a17e8",
   "metadata": {},
   "outputs": [],
   "source": [
    "tweets_df_en['Date'] =  pd.to_datetime(tweets_df_en['Date'])"
   ]
  },
  {
   "cell_type": "markdown",
   "id": "52571c83-5a7e-4d2a-95fc-9c91353e8c06",
   "metadata": {},
   "source": [
    "#### VADER"
   ]
  },
  {
   "cell_type": "code",
   "execution_count": 5,
   "id": "e8e04007-59df-4d1f-9d18-730adb4008e0",
   "metadata": {},
   "outputs": [],
   "source": [
    "from vaderSentiment.vaderSentiment import SentimentIntensityAnalyzer\n",
    "analyzer = SentimentIntensityAnalyzer()"
   ]
  },
  {
   "cell_type": "code",
   "execution_count": 213,
   "id": "586f0dfb-5314-456f-81c3-269f29f8e752",
   "metadata": {},
   "outputs": [],
   "source": [
    "tweets_df_en['VADER_Compound'] = tweets_df_en['CleanedText'].\\\n",
    "        map(lambda x: analyzer.polarity_scores(x)['compound'])"
   ]
  },
  {
   "cell_type": "code",
   "execution_count": 214,
   "id": "794cf383-4bcf-4427-b283-f3b3d1a811c3",
   "metadata": {
    "tags": []
   },
   "outputs": [
    {
     "data": {
      "text/html": [
       "<div>\n",
       "<style scoped>\n",
       "    .dataframe tbody tr th:only-of-type {\n",
       "        vertical-align: middle;\n",
       "    }\n",
       "\n",
       "    .dataframe tbody tr th {\n",
       "        vertical-align: top;\n",
       "    }\n",
       "\n",
       "    .dataframe thead th {\n",
       "        text-align: right;\n",
       "    }\n",
       "</style>\n",
       "<table border=\"1\" class=\"dataframe\">\n",
       "  <thead>\n",
       "    <tr style=\"text-align: right;\">\n",
       "      <th></th>\n",
       "      <th>CleanedText</th>\n",
       "      <th>VADER_Compound</th>\n",
       "    </tr>\n",
       "  </thead>\n",
       "  <tbody>\n",
       "    <tr>\n",
       "      <th>0</th>\n",
       "      <td>#SAFEMOON is the future Elon! Join us!</td>\n",
       "      <td>0.4184</td>\n",
       "    </tr>\n",
       "    <tr>\n",
       "      <th>1</th>\n",
       "      <td>They also juice the numbers because each death in a private hospital gets a subsidy check from the gov. Elon Musk said this, so take it for what its worth</td>\n",
       "      <td>-0.4588</td>\n",
       "    </tr>\n",
       "    <tr>\n",
       "      <th>2</th>\n",
       "      <td>Elon is in Seattle too surely something big is happening at Starlink</td>\n",
       "      <td>0.4404</td>\n",
       "    </tr>\n",
       "    <tr>\n",
       "      <th>3</th>\n",
       "      <td>elon musk because hes achieving so many things i aspire to accomplish</td>\n",
       "      <td>0.4215</td>\n",
       "    </tr>\n",
       "    <tr>\n",
       "      <th>4</th>\n",
       "      <td>Today you witnessed an explosion. Wow. Sheltered much. Musk can throw anything into the atmosphere and we have to get emissions tests on our little cars cause of pollution. Hey AstroNOT, it will end as Babel, slapped back to the ground. Sorry.</td>\n",
       "      <td>0.5423</td>\n",
       "    </tr>\n",
       "  </tbody>\n",
       "</table>\n",
       "</div>"
      ],
      "text/plain": [
       "                                                                                                                                                                                                                                           CleanedText  \\\n",
       "0                                                                                                                                                                                                               #SAFEMOON is the future Elon! Join us!   \n",
       "1                                                                                           They also juice the numbers because each death in a private hospital gets a subsidy check from the gov. Elon Musk said this, so take it for what its worth   \n",
       "2                                                                                                                                                                                 Elon is in Seattle too surely something big is happening at Starlink   \n",
       "3                                                                                                                                                                                elon musk because hes achieving so many things i aspire to accomplish   \n",
       "4  Today you witnessed an explosion. Wow. Sheltered much. Musk can throw anything into the atmosphere and we have to get emissions tests on our little cars cause of pollution. Hey AstroNOT, it will end as Babel, slapped back to the ground. Sorry.   \n",
       "\n",
       "   VADER_Compound  \n",
       "0          0.4184  \n",
       "1         -0.4588  \n",
       "2          0.4404  \n",
       "3          0.4215  \n",
       "4          0.5423  "
      ]
     },
     "execution_count": 214,
     "metadata": {},
     "output_type": "execute_result"
    }
   ],
   "source": [
    "tweets_df_en.iloc[:5][['CleanedText','VADER_Compound']]"
   ]
  },
  {
   "cell_type": "code",
   "execution_count": 226,
   "id": "520275cd-4900-440e-ac45-917562c95be7",
   "metadata": {
    "tags": []
   },
   "outputs": [
    {
     "data": {
      "text/html": [
       "<div>\n",
       "<style scoped>\n",
       "    .dataframe tbody tr th:only-of-type {\n",
       "        vertical-align: middle;\n",
       "    }\n",
       "\n",
       "    .dataframe tbody tr th {\n",
       "        vertical-align: top;\n",
       "    }\n",
       "\n",
       "    .dataframe thead th {\n",
       "        text-align: right;\n",
       "    }\n",
       "</style>\n",
       "<table border=\"1\" class=\"dataframe\">\n",
       "  <thead>\n",
       "    <tr style=\"text-align: right;\">\n",
       "      <th></th>\n",
       "      <th>CleanedText</th>\n",
       "      <th>VADER_Compound</th>\n",
       "    </tr>\n",
       "  </thead>\n",
       "  <tbody>\n",
       "    <tr>\n",
       "      <th>3081</th>\n",
       "      <td>I had a dream about the movie- Frozen There, Elsa was Elon Musk Anna was Duggu And Olaf was David Attenborough 😱😱😱😱😱😱😱😱</td>\n",
       "      <td>-0.9914</td>\n",
       "    </tr>\n",
       "    <tr>\n",
       "      <th>5828</th>\n",
       "      <td>OMG Elon! You have just hurt the sentiments of the most peaceful community on the planet! How can someone be so CRUEL!!!???😱😱😱😭😭😭😭😵😵😵</td>\n",
       "      <td>-0.9913</td>\n",
       "    </tr>\n",
       "    <tr>\n",
       "      <th>19231</th>\n",
       "      <td>If Elon Musk is giving us free speech then fucking every one of you you fucking fucking morons, fucking fuck fuckity fuck fuck. Violence I threaten against you, I like doing violence, yeah, fuck shit fuck cunt fuck shit.</td>\n",
       "      <td>-0.9895</td>\n",
       "    </tr>\n",
       "    <tr>\n",
       "      <th>15706</th>\n",
       "      <td>That's some GOP level pettiness. I get that you hate Elon, but holy shit. This is cutting off your nose to spite your face. You don't win if Twitter and / or Tesla fail. In fact, you lose. There's nothing to gain in these companies failing.</td>\n",
       "      <td>-0.9883</td>\n",
       "    </tr>\n",
       "    <tr>\n",
       "      <th>22640</th>\n",
       "      <td>Everyone's talking about Elon Musk buying Twitter but no one's talking about that dumb fat bitch that got me fired last year and the coke whore with a killer sister that helped. I hope they die.</td>\n",
       "      <td>-0.9880</td>\n",
       "    </tr>\n",
       "  </tbody>\n",
       "</table>\n",
       "</div>"
      ],
      "text/plain": [
       "                                                                                                                                                                                                                                            CleanedText  \\\n",
       "3081                                                                                                                            I had a dream about the movie- Frozen There, Elsa was Elon Musk Anna was Duggu And Olaf was David Attenborough 😱😱😱😱😱😱😱😱   \n",
       "5828                                                                                                              OMG Elon! You have just hurt the sentiments of the most peaceful community on the planet! How can someone be so CRUEL!!!???😱😱😱😭😭😭😭😵😵😵   \n",
       "19231                      If Elon Musk is giving us free speech then fucking every one of you you fucking fucking morons, fucking fuck fuckity fuck fuck. Violence I threaten against you, I like doing violence, yeah, fuck shit fuck cunt fuck shit.   \n",
       "15706  That's some GOP level pettiness. I get that you hate Elon, but holy shit. This is cutting off your nose to spite your face. You don't win if Twitter and / or Tesla fail. In fact, you lose. There's nothing to gain in these companies failing.   \n",
       "22640                                                Everyone's talking about Elon Musk buying Twitter but no one's talking about that dumb fat bitch that got me fired last year and the coke whore with a killer sister that helped. I hope they die.   \n",
       "\n",
       "       VADER_Compound  \n",
       "3081          -0.9914  \n",
       "5828          -0.9913  \n",
       "19231         -0.9895  \n",
       "15706         -0.9883  \n",
       "22640         -0.9880  "
      ]
     },
     "execution_count": 226,
     "metadata": {},
     "output_type": "execute_result"
    }
   ],
   "source": [
    "tweets_df_en.sort_values('VADER_Compound').loc[:,['CleanedText','VADER_Compound']].head(5)"
   ]
  },
  {
   "cell_type": "code",
   "execution_count": 227,
   "id": "938765f1-79d7-40ee-8836-24bc6fe51939",
   "metadata": {
    "tags": []
   },
   "outputs": [
    {
     "data": {
      "text/html": [
       "<div>\n",
       "<style scoped>\n",
       "    .dataframe tbody tr th:only-of-type {\n",
       "        vertical-align: middle;\n",
       "    }\n",
       "\n",
       "    .dataframe tbody tr th {\n",
       "        vertical-align: top;\n",
       "    }\n",
       "\n",
       "    .dataframe thead th {\n",
       "        text-align: right;\n",
       "    }\n",
       "</style>\n",
       "<table border=\"1\" class=\"dataframe\">\n",
       "  <thead>\n",
       "    <tr style=\"text-align: right;\">\n",
       "      <th></th>\n",
       "      <th>CleanedText</th>\n",
       "      <th>VADER_Compound</th>\n",
       "    </tr>\n",
       "  </thead>\n",
       "  <tbody>\n",
       "    <tr>\n",
       "      <th>29034</th>\n",
       "      <td>World population $8billion Elon Musk bought Twitter $44Billion If this guy share $1M each to us, baba go still get change 😄😄😄😄😄😄😄😄😄😄</td>\n",
       "      <td>0.9943</td>\n",
       "    </tr>\n",
       "    <tr>\n",
       "      <th>29001</th>\n",
       "      <td>World population $8billion Elon Musk bought Twitter $44Billion If this guy share $1M each to us, baba go still get change 😄😄😄😄😄😄😄😄😄😄 &lt;URL&gt;</td>\n",
       "      <td>0.9943</td>\n",
       "    </tr>\n",
       "    <tr>\n",
       "      <th>21646</th>\n",
       "      <td>I can't believe none of y'all knew I was an Elon fan. There's lots of yt billionaires but only one Elon musk 😌😌😊😊😊😊</td>\n",
       "      <td>0.9915</td>\n",
       "    </tr>\n",
       "    <tr>\n",
       "      <th>24167</th>\n",
       "      <td>Is Nunez trying to put the kibosh on the Elon Musk deal? 💙💙💙💙💙💙💙💙💙👍🏼</td>\n",
       "      <td>0.9911</td>\n",
       "    </tr>\n",
       "    <tr>\n",
       "      <th>19938</th>\n",
       "      <td>Hey Elon....Verify Gio...an amazing young man with a BRIGHT future who has brought lots of joy, fun and happiness with his heart felt sharing of his love of sport to us all during the pandemic. Thanks. Best of luck to all!</td>\n",
       "      <td>0.9910</td>\n",
       "    </tr>\n",
       "  </tbody>\n",
       "</table>\n",
       "</div>"
      ],
      "text/plain": [
       "                                                                                                                                                                                                                          CleanedText  \\\n",
       "29034                                                                                            World population $8billion Elon Musk bought Twitter $44Billion If this guy share $1M each to us, baba go still get change 😄😄😄😄😄😄😄😄😄😄   \n",
       "29001                                                                                      World population $8billion Elon Musk bought Twitter $44Billion If this guy share $1M each to us, baba go still get change 😄😄😄😄😄😄😄😄😄😄 <URL>   \n",
       "21646                                                                                                             I can't believe none of y'all knew I was an Elon fan. There's lots of yt billionaires but only one Elon musk 😌😌😊😊😊😊   \n",
       "24167                                                                                                                                                            Is Nunez trying to put the kibosh on the Elon Musk deal? 💙💙💙💙💙💙💙💙💙👍🏼   \n",
       "19938  Hey Elon....Verify Gio...an amazing young man with a BRIGHT future who has brought lots of joy, fun and happiness with his heart felt sharing of his love of sport to us all during the pandemic. Thanks. Best of luck to all!   \n",
       "\n",
       "       VADER_Compound  \n",
       "29034          0.9943  \n",
       "29001          0.9943  \n",
       "21646          0.9915  \n",
       "24167          0.9911  \n",
       "19938          0.9910  "
      ]
     },
     "execution_count": 227,
     "metadata": {},
     "output_type": "execute_result"
    }
   ],
   "source": [
    "tweets_df_en.sort_values('VADER_Compound', ascending=False).loc[:,['CleanedText','VADER_Compound']].head(5)"
   ]
  },
  {
   "cell_type": "code",
   "execution_count": 207,
   "id": "d3b0fe4e-1ae0-44c4-83d6-eb0b0c09340c",
   "metadata": {},
   "outputs": [
    {
     "data": {
      "text/plain": [
       "(39999, 12)"
      ]
     },
     "execution_count": 207,
     "metadata": {},
     "output_type": "execute_result"
    }
   ],
   "source": [
    "tweets_df_en.shape"
   ]
  },
  {
   "cell_type": "code",
   "execution_count": 219,
   "id": "f3e624fe-89a0-458b-8e12-c3cb1055a553",
   "metadata": {},
   "outputs": [
    {
     "data": {
      "text/html": [
       "<div>\n",
       "<style scoped>\n",
       "    .dataframe tbody tr th:only-of-type {\n",
       "        vertical-align: middle;\n",
       "    }\n",
       "\n",
       "    .dataframe tbody tr th {\n",
       "        vertical-align: top;\n",
       "    }\n",
       "\n",
       "    .dataframe thead th {\n",
       "        text-align: right;\n",
       "    }\n",
       "</style>\n",
       "<table border=\"1\" class=\"dataframe\">\n",
       "  <thead>\n",
       "    <tr style=\"text-align: right;\">\n",
       "      <th></th>\n",
       "      <th>Datetime</th>\n",
       "      <th>Tweet Id</th>\n",
       "      <th>Text</th>\n",
       "      <th>Username</th>\n",
       "      <th>Description</th>\n",
       "      <th>US Flag</th>\n",
       "      <th>Keyword</th>\n",
       "      <th>Date</th>\n",
       "      <th>Conservative</th>\n",
       "      <th>CleanedText</th>\n",
       "      <th>Language</th>\n",
       "      <th>VADER_Compound</th>\n",
       "    </tr>\n",
       "  </thead>\n",
       "  <tbody>\n",
       "    <tr>\n",
       "      <th>0</th>\n",
       "      <td>2021-04-06 23:59:44+00:00</td>\n",
       "      <td>1379584640948834310</td>\n",
       "      <td>@elonmusk #SAFEMOON is the future Elon! Join us!</td>\n",
       "      <td>bibonblous</td>\n",
       "      <td>Sempre a la contra i avant!</td>\n",
       "      <td>False</td>\n",
       "      <td>#ElonMusk OR @elonmusk OR Elon Musk OR Elon OR Musk</td>\n",
       "      <td>20210405</td>\n",
       "      <td>False</td>\n",
       "      <td>#SAFEMOON is the future Elon! Join us!</td>\n",
       "      <td>en</td>\n",
       "      <td>0.4184</td>\n",
       "    </tr>\n",
       "    <tr>\n",
       "      <th>1</th>\n",
       "      <td>2021-04-06 23:59:40+00:00</td>\n",
       "      <td>1379584624221822978</td>\n",
       "      <td>@KMadMcLean @gerrydee They also juice the numbers because each death in a private hospital gets a subsidy check from the gov. Elon Musk said this, so take it for what its worth</td>\n",
       "      <td>tjvland</td>\n",
       "      <td></td>\n",
       "      <td>False</td>\n",
       "      <td>#ElonMusk OR @elonmusk OR Elon Musk OR Elon OR Musk</td>\n",
       "      <td>20210405</td>\n",
       "      <td>False</td>\n",
       "      <td>They also juice the numbers because each death in a private hospital gets a subsidy check from the gov. Elon Musk said this, so take it for what its worth</td>\n",
       "      <td>en</td>\n",
       "      <td>-0.4588</td>\n",
       "    </tr>\n",
       "    <tr>\n",
       "      <th>2</th>\n",
       "      <td>2021-04-06 23:59:40+00:00</td>\n",
       "      <td>1379584623999606785</td>\n",
       "      <td>@SpaceXJet Elon is in Seattle too surely something big is happening at Starlink</td>\n",
       "      <td>tumeloditle</td>\n",
       "      <td>Peace and prosperity for Africa</td>\n",
       "      <td>False</td>\n",
       "      <td>#ElonMusk OR @elonmusk OR Elon Musk OR Elon OR Musk</td>\n",
       "      <td>20210405</td>\n",
       "      <td>False</td>\n",
       "      <td>Elon is in Seattle too surely something big is happening at Starlink</td>\n",
       "      <td>en</td>\n",
       "      <td>0.4404</td>\n",
       "    </tr>\n",
       "  </tbody>\n",
       "</table>\n",
       "</div>"
      ],
      "text/plain": [
       "                   Datetime             Tweet Id  \\\n",
       "0 2021-04-06 23:59:44+00:00  1379584640948834310   \n",
       "1 2021-04-06 23:59:40+00:00  1379584624221822978   \n",
       "2 2021-04-06 23:59:40+00:00  1379584623999606785   \n",
       "\n",
       "                                                                                                                                                                               Text  \\\n",
       "0                                                                                                                                  @elonmusk #SAFEMOON is the future Elon! Join us!   \n",
       "1  @KMadMcLean @gerrydee They also juice the numbers because each death in a private hospital gets a subsidy check from the gov. Elon Musk said this, so take it for what its worth   \n",
       "2                                                                                                   @SpaceXJet Elon is in Seattle too surely something big is happening at Starlink   \n",
       "\n",
       "      Username                      Description  US Flag  \\\n",
       "0   bibonblous      Sempre a la contra i avant!    False   \n",
       "1      tjvland                                     False   \n",
       "2  tumeloditle  Peace and prosperity for Africa    False   \n",
       "\n",
       "                                               Keyword      Date  \\\n",
       "0  #ElonMusk OR @elonmusk OR Elon Musk OR Elon OR Musk  20210405   \n",
       "1  #ElonMusk OR @elonmusk OR Elon Musk OR Elon OR Musk  20210405   \n",
       "2  #ElonMusk OR @elonmusk OR Elon Musk OR Elon OR Musk  20210405   \n",
       "\n",
       "   Conservative  \\\n",
       "0         False   \n",
       "1         False   \n",
       "2         False   \n",
       "\n",
       "                                                                                                                                                  CleanedText  \\\n",
       "0                                                                                                                      #SAFEMOON is the future Elon! Join us!   \n",
       "1  They also juice the numbers because each death in a private hospital gets a subsidy check from the gov. Elon Musk said this, so take it for what its worth   \n",
       "2                                                                                        Elon is in Seattle too surely something big is happening at Starlink   \n",
       "\n",
       "  Language  VADER_Compound  \n",
       "0       en          0.4184  \n",
       "1       en         -0.4588  \n",
       "2       en          0.4404  "
      ]
     },
     "execution_count": 219,
     "metadata": {},
     "output_type": "execute_result"
    }
   ],
   "source": [
    "tweets_df_en.head(3)"
   ]
  },
  {
   "cell_type": "code",
   "execution_count": 221,
   "id": "a37f3b74-8d4b-42bc-85ae-e4780aa4ad78",
   "metadata": {},
   "outputs": [
    {
     "data": {
      "text/html": [
       "<div>\n",
       "<style scoped>\n",
       "    .dataframe tbody tr th:only-of-type {\n",
       "        vertical-align: middle;\n",
       "    }\n",
       "\n",
       "    .dataframe tbody tr th {\n",
       "        vertical-align: top;\n",
       "    }\n",
       "\n",
       "    .dataframe thead th {\n",
       "        text-align: right;\n",
       "    }\n",
       "</style>\n",
       "<table border=\"1\" class=\"dataframe\">\n",
       "  <thead>\n",
       "    <tr style=\"text-align: right;\">\n",
       "      <th></th>\n",
       "      <th>Date</th>\n",
       "      <th>Conservative</th>\n",
       "      <th>VADER_Compound</th>\n",
       "    </tr>\n",
       "  </thead>\n",
       "  <tbody>\n",
       "    <tr>\n",
       "      <th>0</th>\n",
       "      <td>20210405</td>\n",
       "      <td>False</td>\n",
       "      <td>0.173061</td>\n",
       "    </tr>\n",
       "    <tr>\n",
       "      <th>1</th>\n",
       "      <td>20210405</td>\n",
       "      <td>True</td>\n",
       "      <td>0.145787</td>\n",
       "    </tr>\n",
       "    <tr>\n",
       "      <th>2</th>\n",
       "      <td>20220414</td>\n",
       "      <td>False</td>\n",
       "      <td>0.093355</td>\n",
       "    </tr>\n",
       "    <tr>\n",
       "      <th>3</th>\n",
       "      <td>20220414</td>\n",
       "      <td>True</td>\n",
       "      <td>0.084388</td>\n",
       "    </tr>\n",
       "    <tr>\n",
       "      <th>4</th>\n",
       "      <td>20220425</td>\n",
       "      <td>False</td>\n",
       "      <td>0.095615</td>\n",
       "    </tr>\n",
       "    <tr>\n",
       "      <th>5</th>\n",
       "      <td>20220425</td>\n",
       "      <td>True</td>\n",
       "      <td>0.131718</td>\n",
       "    </tr>\n",
       "    <tr>\n",
       "      <th>6</th>\n",
       "      <td>20220510</td>\n",
       "      <td>False</td>\n",
       "      <td>0.065286</td>\n",
       "    </tr>\n",
       "    <tr>\n",
       "      <th>7</th>\n",
       "      <td>20220510</td>\n",
       "      <td>True</td>\n",
       "      <td>0.091042</td>\n",
       "    </tr>\n",
       "  </tbody>\n",
       "</table>\n",
       "</div>"
      ],
      "text/plain": [
       "       Date  Conservative  VADER_Compound\n",
       "0  20210405         False        0.173061\n",
       "1  20210405          True        0.145787\n",
       "2  20220414         False        0.093355\n",
       "3  20220414          True        0.084388\n",
       "4  20220425         False        0.095615\n",
       "5  20220425          True        0.131718\n",
       "6  20220510         False        0.065286\n",
       "7  20220510          True        0.091042"
      ]
     },
     "execution_count": 221,
     "metadata": {},
     "output_type": "execute_result"
    }
   ],
   "source": [
    "#group by date, group by conservative vs liberal\n",
    "tweets_df_en.groupby(['Date', 'Conservative'])['VADER_Compound'].mean().reset_index()"
   ]
  },
  {
   "cell_type": "code",
   "execution_count": 229,
   "id": "69191914-91ea-4984-b61a-259f2c4f001a",
   "metadata": {},
   "outputs": [],
   "source": [
    "#Remove politically antagonizing tweets\n",
    "\n",
    "substring_list2 = ['Libtard', 'libtard', 'LIBTARD',\n",
    "                  'Liberal', 'liberal', 'LIBERAL',\n",
    "                 'LEFTIST', 'leftist', 'Leftist',\n",
    "                  'left wing', 'leftwing', 'left-wing', 'Left-wing',\n",
    "                  'Democrat', 'democrat', 'DEMOCRAT',\n",
    "                  'Conservativ', 'conservativ', 'CONSERVATIV',\n",
    "                  'right wing', 'rightwing', 'right-wing', 'Right-wing',\n",
    "                  'Republican', 'republican', 'REPUBLICAN'\n",
    "                 ]\n",
    "\n",
    "def attack(tweet):\n",
    "    return any(substring in tweet for substring in substring_list2)"
   ]
  },
  {
   "cell_type": "code",
   "execution_count": 230,
   "id": "29f08163-ddf6-40ab-b213-4e4a94e611e0",
   "metadata": {},
   "outputs": [],
   "source": [
    "tweets_df_en['Attack'] = tweets_df_en['CleanedText'].\\\n",
    "                        map(lambda x: attack(x))"
   ]
  },
  {
   "cell_type": "code",
   "execution_count": 232,
   "id": "729dccee-bb3a-45f7-9e0d-4e847aa8d09e",
   "metadata": {},
   "outputs": [
    {
     "data": {
      "text/plain": [
       "(30137, 13)"
      ]
     },
     "execution_count": 232,
     "metadata": {},
     "output_type": "execute_result"
    }
   ],
   "source": [
    "tweets_df_en.shape"
   ]
  },
  {
   "cell_type": "code",
   "execution_count": 234,
   "id": "38f1d666-ddd0-49fb-bc75-ded5d005606e",
   "metadata": {},
   "outputs": [
    {
     "data": {
      "text/html": [
       "<div>\n",
       "<style scoped>\n",
       "    .dataframe tbody tr th:only-of-type {\n",
       "        vertical-align: middle;\n",
       "    }\n",
       "\n",
       "    .dataframe tbody tr th {\n",
       "        vertical-align: top;\n",
       "    }\n",
       "\n",
       "    .dataframe thead th {\n",
       "        text-align: right;\n",
       "    }\n",
       "</style>\n",
       "<table border=\"1\" class=\"dataframe\">\n",
       "  <thead>\n",
       "    <tr style=\"text-align: right;\">\n",
       "      <th></th>\n",
       "      <th>Date</th>\n",
       "      <th>Conservative</th>\n",
       "      <th>VADER_Compound</th>\n",
       "    </tr>\n",
       "  </thead>\n",
       "  <tbody>\n",
       "    <tr>\n",
       "      <th>0</th>\n",
       "      <td>20210405</td>\n",
       "      <td>False</td>\n",
       "      <td>0.173304</td>\n",
       "    </tr>\n",
       "    <tr>\n",
       "      <th>1</th>\n",
       "      <td>20210405</td>\n",
       "      <td>True</td>\n",
       "      <td>0.144464</td>\n",
       "    </tr>\n",
       "    <tr>\n",
       "      <th>2</th>\n",
       "      <td>20220414</td>\n",
       "      <td>False</td>\n",
       "      <td>0.091543</td>\n",
       "    </tr>\n",
       "    <tr>\n",
       "      <th>3</th>\n",
       "      <td>20220414</td>\n",
       "      <td>True</td>\n",
       "      <td>0.081203</td>\n",
       "    </tr>\n",
       "    <tr>\n",
       "      <th>4</th>\n",
       "      <td>20220425</td>\n",
       "      <td>False</td>\n",
       "      <td>0.096991</td>\n",
       "    </tr>\n",
       "    <tr>\n",
       "      <th>5</th>\n",
       "      <td>20220425</td>\n",
       "      <td>True</td>\n",
       "      <td>0.137316</td>\n",
       "    </tr>\n",
       "    <tr>\n",
       "      <th>6</th>\n",
       "      <td>20220510</td>\n",
       "      <td>False</td>\n",
       "      <td>0.066262</td>\n",
       "    </tr>\n",
       "    <tr>\n",
       "      <th>7</th>\n",
       "      <td>20220510</td>\n",
       "      <td>True</td>\n",
       "      <td>0.094028</td>\n",
       "    </tr>\n",
       "  </tbody>\n",
       "</table>\n",
       "</div>"
      ],
      "text/plain": [
       "       Date  Conservative  VADER_Compound\n",
       "0  20210405         False        0.173304\n",
       "1  20210405          True        0.144464\n",
       "2  20220414         False        0.091543\n",
       "3  20220414          True        0.081203\n",
       "4  20220425         False        0.096991\n",
       "5  20220425          True        0.137316\n",
       "6  20220510         False        0.066262\n",
       "7  20220510          True        0.094028"
      ]
     },
     "execution_count": 234,
     "metadata": {},
     "output_type": "execute_result"
    }
   ],
   "source": [
    "tweets_df_en[~tweets_df_en['Attack']].groupby(['Date', 'Conservative'])['VADER_Compound'].mean().reset_index()"
   ]
  },
  {
   "cell_type": "code",
   "execution_count": 236,
   "id": "f836d0a1-bdaf-4423-aa3b-41b410d298ea",
   "metadata": {},
   "outputs": [],
   "source": [
    "#saving df\n",
    "with open('tweets_df_en.pkl', 'wb') as handle:\n",
    "    pickle.dump(tweets_df_en, handle, protocol=pickle.HIGHEST_PROTOCOL)"
   ]
  },
  {
   "cell_type": "markdown",
   "id": "19f9ca43-9ee7-4127-a897-ee404968dfa3",
   "metadata": {
    "tags": []
   },
   "source": [
    "# Spacy Pipeline #2 Topic Modeling"
   ]
  },
  {
   "cell_type": "markdown",
   "id": "93e248e3-562e-4f37-a8b3-cf42d4519426",
   "metadata": {},
   "source": [
    "#### Spell Check\n",
    "(skipped)"
   ]
  },
  {
   "cell_type": "code",
   "execution_count": 2,
   "id": "8e83c8e0-8853-48ff-8b10-bbab6b2b67df",
   "metadata": {},
   "outputs": [],
   "source": [
    "from symspellpy import SymSpell"
   ]
  },
  {
   "cell_type": "code",
   "execution_count": 5,
   "id": "336cbd69-46c9-4d4e-bfb8-74119fb37006",
   "metadata": {},
   "outputs": [
    {
     "data": {
      "text/plain": [
       "1332881"
      ]
     },
     "execution_count": 5,
     "metadata": {},
     "output_type": "execute_result"
    }
   ],
   "source": [
    "# #download jamspell english package\n",
    "# import requests\n",
    "# URL = \"https://raw.githubusercontent.com/wolfgarbe/SymSpell/master/SymSpell/frequency_dictionary_en_82_765.txt\"\n",
    "# # 2. download the data behind the URL\n",
    "# response = requests.get(URL)\n",
    "# # 3. Open the response into a new file called instagram.ico\n",
    "# open(\"frequency_dictionary_en_82_765.txt\", \"wb\").write(response.content)"
   ]
  },
  {
   "cell_type": "code",
   "execution_count": 6,
   "id": "50ca4573-6059-4814-9baf-b5b7ad367fc3",
   "metadata": {},
   "outputs": [
    {
     "data": {
      "text/plain": [
       "True"
      ]
     },
     "execution_count": 6,
     "metadata": {},
     "output_type": "execute_result"
    }
   ],
   "source": [
    "# #prepping spellchecker\n",
    "# symsp = SymSpell()\n",
    "# symsp.load_dictionary('frequency_dictionary_en_82_765.txt',\\\n",
    "#                       term_index=0, \\\n",
    "#                       count_index=1, \\\n",
    "#                       separator=' ')"
   ]
  },
  {
   "cell_type": "code",
   "execution_count": 81,
   "id": "c2076375-394c-48c0-8628-7f939e78ac03",
   "metadata": {},
   "outputs": [],
   "source": [
    "# def spellchecker(doc):\n",
    "    \n",
    "#     terms = symsp.lookup_compound(doc,\n",
    "#         max_edit_distance=2) \n",
    "#     return terms[0].term"
   ]
  },
  {
   "cell_type": "markdown",
   "id": "7e9f469f-3d88-4a0d-a31e-c30e781b8a02",
   "metadata": {},
   "source": [
    "## SPACY preprocessing"
   ]
  },
  {
   "cell_type": "code",
   "execution_count": 6,
   "id": "ea8aa823-6d90-4ba7-b7e6-5b5f4e290b48",
   "metadata": {},
   "outputs": [],
   "source": [
    "#load saved tweet df\n",
    "with open(r\"tweets_df_en.pkl\", \"rb\") as input_file:\n",
    "    tweets_df_en = pickle.load(input_file)"
   ]
  },
  {
   "cell_type": "code",
   "execution_count": 7,
   "id": "aa88dc13-a52b-4c29-b528-1730fb4b7333",
   "metadata": {},
   "outputs": [],
   "source": [
    "#remove stop words\n",
    "from spacy.lang.en.stop_words import STOP_WORDS"
   ]
  },
  {
   "cell_type": "code",
   "execution_count": 97,
   "id": "1b608edf-7f33-4680-8b48-ef97f0f94f09",
   "metadata": {},
   "outputs": [],
   "source": [
    "#Customize stop words\n",
    "\n",
    "#stopwords = nlp.Defaults.stop_words\n",
    "\n",
    "# print(len(stopwords))\n",
    "\n",
    "# #add new stop words\n",
    "# nlp.Defaults.stop_words.add(\"my_new_stopword\")\n",
    "#nlp.Defaults.stop_words |= {\"Afham\",\"Farden\"}\n",
    "\n",
    "# #remove stop words\n",
    "# nlp.Defaults.stop_words.remove(\"what\")\n",
    "# nlp.Defaults.stop_words -= {\"who\", \"when\"}\n",
    "\n",
    "# # My custom list of stop words.\n",
    "stop_list = [\"Elon\", \"Musk\", \"Twitter\", 'elon', 'musk', 'twitter', 'url', 'URL', 'ElonMusk', 'elonmusk', 'go', 'to', 'go to', 'like']\n",
    "# # Updates spaCy's default stop words list with my additional words. \n",
    "nlp.Defaults.stop_words.update(stop_list)\n",
    "\n",
    "# Iterates over the words in the stop words list and resets the \"is_stop\" flag.\n",
    "for word in STOP_WORDS:\n",
    "    lexeme = nlp.vocab[word]\n",
    "    lexeme.is_stop = True"
   ]
  },
  {
   "cell_type": "code",
   "execution_count": 98,
   "id": "deedb5ef-3e9e-438e-a501-e78f8cd50d50",
   "metadata": {},
   "outputs": [
    {
     "data": {
      "text/plain": [
       "True"
      ]
     },
     "execution_count": 98,
     "metadata": {},
     "output_type": "execute_result"
    }
   ],
   "source": [
    "'like' in nlp.Defaults.stop_words"
   ]
  },
  {
   "cell_type": "code",
   "execution_count": 99,
   "id": "2ab5a96f-e198-4c9b-99b4-cd43538b168f",
   "metadata": {
    "colab": {
     "base_uri": "https://localhost:8080/",
     "height": 35
    },
    "id": "8rQDxWtd5Nyr",
    "outputId": "16fc4a8f-1efa-4b96-b0f0-3d9c0aeae9a9",
    "tags": []
   },
   "outputs": [],
   "source": [
    "#remove stop word, lemmatization\n",
    "\n",
    "def preprocess(doc):\n",
    "\n",
    "    sent_cleaned = ''\n",
    "    for token in nlp(doc):\n",
    "        if not token.is_stop:\n",
    "            if not token.pos_ == 'PUNCT':\n",
    "                sent_cleaned += token.lemma_.lower()\n",
    "                sent_cleaned += ' '\n",
    "    sent_cleaned = sent_cleaned.strip()\n",
    "    return sent_cleaned"
   ]
  },
  {
   "cell_type": "code",
   "execution_count": 100,
   "id": "43871a48-5b5c-42a6-9753-4bbabe23a632",
   "metadata": {},
   "outputs": [
    {
     "name": "stderr",
     "output_type": "stream",
     "text": [
      "100%|███████████████████████████████████| 30137/30137 [02:08<00:00, 233.82it/s]\n"
     ]
    }
   ],
   "source": [
    "#remove stop word, lemmatization\n",
    "# processed = tqdm(tweets_df_en['CleanedText'].\\\n",
    "#         map(lambda x: preprocess(x)))\n",
    "#         #map(lambda x: spellchecker(x)).\\ not including spellchecker since it changes Elon to Leon\n",
    "processed=[]\n",
    "for tweet in tqdm(tweets_df_en['CleanedText']):\n",
    "    processed.append(preprocess(tweet))"
   ]
  },
  {
   "cell_type": "code",
   "execution_count": 101,
   "id": "a635be23-0b74-4c93-a41a-f86926677f36",
   "metadata": {
    "tags": []
   },
   "outputs": [
    {
     "data": {
      "text/plain": [
       "30137"
      ]
     },
     "execution_count": 101,
     "metadata": {},
     "output_type": "execute_result"
    }
   ],
   "source": [
    "len(processed)"
   ]
  },
  {
   "cell_type": "code",
   "execution_count": 113,
   "id": "19a32268-581c-4135-9568-4ac507854d70",
   "metadata": {
    "tags": []
   },
   "outputs": [],
   "source": [
    "#somehow 'go' and 'to' are not removed in some strings. removing manually...\n",
    "\n",
    "processed = [x.replace(' go ', ' ').replace(' to ', ' ').replace(' say ', ' ') for x in processed]"
   ]
  },
  {
   "cell_type": "code",
   "execution_count": 114,
   "id": "0e259b25-c211-4354-b2f0-8a0aa2ec4c30",
   "metadata": {},
   "outputs": [],
   "source": [
    "for i in processed[:100]:\n",
    "    if (' go ' in i) or (' to ' in i):\n",
    "        print(i)"
   ]
  },
  {
   "cell_type": "markdown",
   "id": "985d18fb-24ce-41fc-8dae-693fc55d0ae2",
   "metadata": {},
   "source": [
    "## TF-IDF"
   ]
  },
  {
   "cell_type": "code",
   "execution_count": 103,
   "id": "044a5c7a-cf41-48ec-b37a-49c7490bb743",
   "metadata": {},
   "outputs": [],
   "source": [
    "from sklearn.feature_extraction.text import CountVectorizer, TfidfVectorizer\n",
    "from sklearn.decomposition import NMF, TruncatedSVD"
   ]
  },
  {
   "cell_type": "code",
   "execution_count": 166,
   "id": "9608ecde-f54f-4e46-a520-286a776dfa30",
   "metadata": {},
   "outputs": [],
   "source": [
    "# #count vectorization\n",
    "# vectorizer = CountVectorizer(stop_words = 'english')\n",
    "# doc_term = vectorizer.fit_transform(processed)\n",
    "# ex_label = [e[:50]+\"...\" for e in processed]"
   ]
  },
  {
   "cell_type": "code",
   "execution_count": 167,
   "id": "47b865fd-0782-417e-8cb2-2b0ca0204b32",
   "metadata": {},
   "outputs": [
    {
     "name": "stderr",
     "output_type": "stream",
     "text": [
      "C:\\Users\\Josh_Wang\\anaconda3\\lib\\site-packages\\sklearn\\utils\\deprecation.py:87: FutureWarning: Function get_feature_names is deprecated; get_feature_names is deprecated in 1.0 and will be removed in 1.2. Please use get_feature_names_out instead.\n",
      "  warnings.warn(msg, category=FutureWarning)\n"
     ]
    }
   ],
   "source": [
    "# doc_term_df = pd.DataFrame(doc_term.toarray(), index=ex_label, columns=vectorizer.get_feature_names())"
   ]
  },
  {
   "cell_type": "code",
   "execution_count": 115,
   "id": "e44b2296-3e10-4248-b440-2333e6a6ed64",
   "metadata": {},
   "outputs": [],
   "source": [
    "#TF-IDF\n",
    "#limit max features for performance\n",
    "tv = TfidfVectorizer(stop_words=None, ngram_range=(1,2), max_features=10000)\n",
    "tv_out = tv.fit_transform(processed)"
   ]
  },
  {
   "cell_type": "code",
   "execution_count": 116,
   "id": "1ca7a887-9e20-49a8-84fc-2b78b8c9adca",
   "metadata": {},
   "outputs": [],
   "source": [
    "tfidf = pd.DataFrame(tv_out.toarray(), columns=tv.get_feature_names())"
   ]
  },
  {
   "cell_type": "code",
   "execution_count": 117,
   "id": "25b9f1a1-0a3c-4f35-8a75-4f14509e9374",
   "metadata": {},
   "outputs": [
    {
     "data": {
      "text/html": [
       "<div>\n",
       "<style scoped>\n",
       "    .dataframe tbody tr th:only-of-type {\n",
       "        vertical-align: middle;\n",
       "    }\n",
       "\n",
       "    .dataframe tbody tr th {\n",
       "        vertical-align: top;\n",
       "    }\n",
       "\n",
       "    .dataframe thead th {\n",
       "        text-align: right;\n",
       "    }\n",
       "</style>\n",
       "<table border=\"1\" class=\"dataframe\">\n",
       "  <thead>\n",
       "    <tr style=\"text-align: right;\">\n",
       "      <th></th>\n",
       "      <th>00</th>\n",
       "      <th>000</th>\n",
       "      <th>000 000</th>\n",
       "      <th>000 people</th>\n",
       "      <th>000 year</th>\n",
       "      <th>01</th>\n",
       "      <th>02</th>\n",
       "      <th>04</th>\n",
       "      <th>04 2021</th>\n",
       "      <th>04 2022ad</th>\n",
       "      <th>...</th>\n",
       "      <th>yu</th>\n",
       "      <th>yup</th>\n",
       "      <th>zero</th>\n",
       "      <th>zil</th>\n",
       "      <th>zone</th>\n",
       "      <th>zoom</th>\n",
       "      <th>zuck</th>\n",
       "      <th>zuckerberg</th>\n",
       "      <th>zuckerberg own</th>\n",
       "      <th>zuckerburg</th>\n",
       "    </tr>\n",
       "  </thead>\n",
       "  <tbody>\n",
       "    <tr>\n",
       "      <th>0</th>\n",
       "      <td>0.0</td>\n",
       "      <td>0.0</td>\n",
       "      <td>0.0</td>\n",
       "      <td>0.0</td>\n",
       "      <td>0.0</td>\n",
       "      <td>0.0</td>\n",
       "      <td>0.0</td>\n",
       "      <td>0.0</td>\n",
       "      <td>0.0</td>\n",
       "      <td>0.0</td>\n",
       "      <td>...</td>\n",
       "      <td>0.0</td>\n",
       "      <td>0.0</td>\n",
       "      <td>0.0</td>\n",
       "      <td>0.0</td>\n",
       "      <td>0.0</td>\n",
       "      <td>0.0</td>\n",
       "      <td>0.0</td>\n",
       "      <td>0.0</td>\n",
       "      <td>0.0</td>\n",
       "      <td>0.0</td>\n",
       "    </tr>\n",
       "    <tr>\n",
       "      <th>1</th>\n",
       "      <td>0.0</td>\n",
       "      <td>0.0</td>\n",
       "      <td>0.0</td>\n",
       "      <td>0.0</td>\n",
       "      <td>0.0</td>\n",
       "      <td>0.0</td>\n",
       "      <td>0.0</td>\n",
       "      <td>0.0</td>\n",
       "      <td>0.0</td>\n",
       "      <td>0.0</td>\n",
       "      <td>...</td>\n",
       "      <td>0.0</td>\n",
       "      <td>0.0</td>\n",
       "      <td>0.0</td>\n",
       "      <td>0.0</td>\n",
       "      <td>0.0</td>\n",
       "      <td>0.0</td>\n",
       "      <td>0.0</td>\n",
       "      <td>0.0</td>\n",
       "      <td>0.0</td>\n",
       "      <td>0.0</td>\n",
       "    </tr>\n",
       "    <tr>\n",
       "      <th>2</th>\n",
       "      <td>0.0</td>\n",
       "      <td>0.0</td>\n",
       "      <td>0.0</td>\n",
       "      <td>0.0</td>\n",
       "      <td>0.0</td>\n",
       "      <td>0.0</td>\n",
       "      <td>0.0</td>\n",
       "      <td>0.0</td>\n",
       "      <td>0.0</td>\n",
       "      <td>0.0</td>\n",
       "      <td>...</td>\n",
       "      <td>0.0</td>\n",
       "      <td>0.0</td>\n",
       "      <td>0.0</td>\n",
       "      <td>0.0</td>\n",
       "      <td>0.0</td>\n",
       "      <td>0.0</td>\n",
       "      <td>0.0</td>\n",
       "      <td>0.0</td>\n",
       "      <td>0.0</td>\n",
       "      <td>0.0</td>\n",
       "    </tr>\n",
       "    <tr>\n",
       "      <th>3</th>\n",
       "      <td>0.0</td>\n",
       "      <td>0.0</td>\n",
       "      <td>0.0</td>\n",
       "      <td>0.0</td>\n",
       "      <td>0.0</td>\n",
       "      <td>0.0</td>\n",
       "      <td>0.0</td>\n",
       "      <td>0.0</td>\n",
       "      <td>0.0</td>\n",
       "      <td>0.0</td>\n",
       "      <td>...</td>\n",
       "      <td>0.0</td>\n",
       "      <td>0.0</td>\n",
       "      <td>0.0</td>\n",
       "      <td>0.0</td>\n",
       "      <td>0.0</td>\n",
       "      <td>0.0</td>\n",
       "      <td>0.0</td>\n",
       "      <td>0.0</td>\n",
       "      <td>0.0</td>\n",
       "      <td>0.0</td>\n",
       "    </tr>\n",
       "    <tr>\n",
       "      <th>4</th>\n",
       "      <td>0.0</td>\n",
       "      <td>0.0</td>\n",
       "      <td>0.0</td>\n",
       "      <td>0.0</td>\n",
       "      <td>0.0</td>\n",
       "      <td>0.0</td>\n",
       "      <td>0.0</td>\n",
       "      <td>0.0</td>\n",
       "      <td>0.0</td>\n",
       "      <td>0.0</td>\n",
       "      <td>...</td>\n",
       "      <td>0.0</td>\n",
       "      <td>0.0</td>\n",
       "      <td>0.0</td>\n",
       "      <td>0.0</td>\n",
       "      <td>0.0</td>\n",
       "      <td>0.0</td>\n",
       "      <td>0.0</td>\n",
       "      <td>0.0</td>\n",
       "      <td>0.0</td>\n",
       "      <td>0.0</td>\n",
       "    </tr>\n",
       "  </tbody>\n",
       "</table>\n",
       "<p>5 rows × 10000 columns</p>\n",
       "</div>"
      ],
      "text/plain": [
       "    00  000  000 000  000 people  000 year   01   02   04  04 2021  04 2022ad  \\\n",
       "0  0.0  0.0      0.0         0.0       0.0  0.0  0.0  0.0      0.0        0.0   \n",
       "1  0.0  0.0      0.0         0.0       0.0  0.0  0.0  0.0      0.0        0.0   \n",
       "2  0.0  0.0      0.0         0.0       0.0  0.0  0.0  0.0      0.0        0.0   \n",
       "3  0.0  0.0      0.0         0.0       0.0  0.0  0.0  0.0      0.0        0.0   \n",
       "4  0.0  0.0      0.0         0.0       0.0  0.0  0.0  0.0      0.0        0.0   \n",
       "\n",
       "   ...   yu  yup  zero  zil  zone  zoom  zuck  zuckerberg  zuckerberg own  \\\n",
       "0  ...  0.0  0.0   0.0  0.0   0.0   0.0   0.0         0.0             0.0   \n",
       "1  ...  0.0  0.0   0.0  0.0   0.0   0.0   0.0         0.0             0.0   \n",
       "2  ...  0.0  0.0   0.0  0.0   0.0   0.0   0.0         0.0             0.0   \n",
       "3  ...  0.0  0.0   0.0  0.0   0.0   0.0   0.0         0.0             0.0   \n",
       "4  ...  0.0  0.0   0.0  0.0   0.0   0.0   0.0         0.0             0.0   \n",
       "\n",
       "   zuckerburg  \n",
       "0         0.0  \n",
       "1         0.0  \n",
       "2         0.0  \n",
       "3         0.0  \n",
       "4         0.0  \n",
       "\n",
       "[5 rows x 10000 columns]"
      ]
     },
     "execution_count": 117,
     "metadata": {},
     "output_type": "execute_result"
    }
   ],
   "source": [
    "tfidf.head(5)"
   ]
  },
  {
   "cell_type": "markdown",
   "id": "da1be6f8-255e-4e64-bb8c-8e3e8014257f",
   "metadata": {},
   "source": [
    "## NMF"
   ]
  },
  {
   "cell_type": "code",
   "execution_count": 164,
   "id": "48b8f98d-f07b-4993-af4c-f7ea43d79d67",
   "metadata": {},
   "outputs": [
    {
     "data": {
      "text/plain": [
       "NMF(init='nndsvda', n_components=4)"
      ]
     },
     "execution_count": 164,
     "metadata": {},
     "output_type": "execute_result"
    }
   ],
   "source": [
    "nmf = NMF(4, init = \"nndsvda\")\n",
    "nmf.fit(tfidf)"
   ]
  },
  {
   "cell_type": "code",
   "execution_count": 165,
   "id": "8e3fb522-2058-4c4d-906c-dff4f594b973",
   "metadata": {},
   "outputs": [],
   "source": [
    "#saving nmf\n",
    "with open('fitted_nmf.pkl', 'wb') as handle:\n",
    "    pickle.dump(nmf, handle, protocol=pickle.HIGHEST_PROTOCOL)"
   ]
  },
  {
   "cell_type": "code",
   "execution_count": 166,
   "id": "2d66d4f9-c621-4513-912a-a425852a74cc",
   "metadata": {},
   "outputs": [
    {
     "name": "stderr",
     "output_type": "stream",
     "text": [
      "C:\\Users\\Josh_Wang\\anaconda3\\lib\\site-packages\\sklearn\\utils\\deprecation.py:87: FutureWarning: Function get_feature_names is deprecated; get_feature_names is deprecated in 1.0 and will be removed in 1.2. Please use get_feature_names_out instead.\n",
      "  warnings.warn(msg, category=FutureWarning)\n"
     ]
    }
   ],
   "source": [
    "topic_term = nmf.components_.round(3)\n",
    "\n",
    "topic_term_df = pd.DataFrame(topic_term.round(3),\n",
    "                index = [\"component_1\", \"component_2\", \"component_3\", \"component_4\"],\n",
    "                columns = tv.get_feature_names())\n"
   ]
  },
  {
   "cell_type": "code",
   "execution_count": 167,
   "id": "3ede91db-8f2c-4746-93ab-ec881cb2f0df",
   "metadata": {},
   "outputs": [
    {
     "data": {
      "text/html": [
       "<div>\n",
       "<style scoped>\n",
       "    .dataframe tbody tr th:only-of-type {\n",
       "        vertical-align: middle;\n",
       "    }\n",
       "\n",
       "    .dataframe tbody tr th {\n",
       "        vertical-align: top;\n",
       "    }\n",
       "\n",
       "    .dataframe thead th {\n",
       "        text-align: right;\n",
       "    }\n",
       "</style>\n",
       "<table border=\"1\" class=\"dataframe\">\n",
       "  <thead>\n",
       "    <tr style=\"text-align: right;\">\n",
       "      <th></th>\n",
       "      <th>00</th>\n",
       "      <th>000</th>\n",
       "      <th>000 000</th>\n",
       "      <th>000 people</th>\n",
       "      <th>000 year</th>\n",
       "      <th>01</th>\n",
       "      <th>02</th>\n",
       "      <th>04</th>\n",
       "      <th>04 2021</th>\n",
       "      <th>04 2022ad</th>\n",
       "      <th>...</th>\n",
       "      <th>yu</th>\n",
       "      <th>yup</th>\n",
       "      <th>zero</th>\n",
       "      <th>zil</th>\n",
       "      <th>zone</th>\n",
       "      <th>zoom</th>\n",
       "      <th>zuck</th>\n",
       "      <th>zuckerberg</th>\n",
       "      <th>zuckerberg own</th>\n",
       "      <th>zuckerburg</th>\n",
       "    </tr>\n",
       "  </thead>\n",
       "  <tbody>\n",
       "    <tr>\n",
       "      <th>component_1</th>\n",
       "      <td>0.000</td>\n",
       "      <td>0.000</td>\n",
       "      <td>0.000</td>\n",
       "      <td>0.000</td>\n",
       "      <td>0.000</td>\n",
       "      <td>0.000</td>\n",
       "      <td>0.000</td>\n",
       "      <td>0.000</td>\n",
       "      <td>0.000</td>\n",
       "      <td>0.0</td>\n",
       "      <td>...</td>\n",
       "      <td>0.000</td>\n",
       "      <td>0.001</td>\n",
       "      <td>0.007</td>\n",
       "      <td>0.000</td>\n",
       "      <td>0.005</td>\n",
       "      <td>0.000</td>\n",
       "      <td>0.000</td>\n",
       "      <td>0.004</td>\n",
       "      <td>0.002</td>\n",
       "      <td>0.000</td>\n",
       "    </tr>\n",
       "    <tr>\n",
       "      <th>component_2</th>\n",
       "      <td>0.003</td>\n",
       "      <td>0.003</td>\n",
       "      <td>0.001</td>\n",
       "      <td>0.001</td>\n",
       "      <td>0.000</td>\n",
       "      <td>0.000</td>\n",
       "      <td>0.000</td>\n",
       "      <td>0.001</td>\n",
       "      <td>0.000</td>\n",
       "      <td>0.0</td>\n",
       "      <td>...</td>\n",
       "      <td>0.000</td>\n",
       "      <td>0.008</td>\n",
       "      <td>0.002</td>\n",
       "      <td>0.002</td>\n",
       "      <td>0.000</td>\n",
       "      <td>0.000</td>\n",
       "      <td>0.006</td>\n",
       "      <td>0.002</td>\n",
       "      <td>0.000</td>\n",
       "      <td>0.000</td>\n",
       "    </tr>\n",
       "    <tr>\n",
       "      <th>component_3</th>\n",
       "      <td>0.005</td>\n",
       "      <td>0.044</td>\n",
       "      <td>0.005</td>\n",
       "      <td>0.005</td>\n",
       "      <td>0.003</td>\n",
       "      <td>0.001</td>\n",
       "      <td>0.001</td>\n",
       "      <td>0.005</td>\n",
       "      <td>0.003</td>\n",
       "      <td>0.0</td>\n",
       "      <td>...</td>\n",
       "      <td>0.002</td>\n",
       "      <td>0.009</td>\n",
       "      <td>0.019</td>\n",
       "      <td>0.001</td>\n",
       "      <td>0.005</td>\n",
       "      <td>0.004</td>\n",
       "      <td>0.008</td>\n",
       "      <td>0.024</td>\n",
       "      <td>0.002</td>\n",
       "      <td>0.003</td>\n",
       "    </tr>\n",
       "    <tr>\n",
       "      <th>component_4</th>\n",
       "      <td>0.001</td>\n",
       "      <td>0.001</td>\n",
       "      <td>0.001</td>\n",
       "      <td>0.001</td>\n",
       "      <td>0.000</td>\n",
       "      <td>0.000</td>\n",
       "      <td>0.000</td>\n",
       "      <td>0.000</td>\n",
       "      <td>0.000</td>\n",
       "      <td>0.0</td>\n",
       "      <td>...</td>\n",
       "      <td>0.000</td>\n",
       "      <td>0.001</td>\n",
       "      <td>0.000</td>\n",
       "      <td>0.000</td>\n",
       "      <td>0.000</td>\n",
       "      <td>0.000</td>\n",
       "      <td>0.002</td>\n",
       "      <td>0.000</td>\n",
       "      <td>0.000</td>\n",
       "      <td>0.000</td>\n",
       "    </tr>\n",
       "  </tbody>\n",
       "</table>\n",
       "<p>4 rows × 10000 columns</p>\n",
       "</div>"
      ],
      "text/plain": [
       "                00    000  000 000  000 people  000 year     01     02     04  \\\n",
       "component_1  0.000  0.000    0.000       0.000     0.000  0.000  0.000  0.000   \n",
       "component_2  0.003  0.003    0.001       0.001     0.000  0.000  0.000  0.001   \n",
       "component_3  0.005  0.044    0.005       0.005     0.003  0.001  0.001  0.005   \n",
       "component_4  0.001  0.001    0.001       0.001     0.000  0.000  0.000  0.000   \n",
       "\n",
       "             04 2021  04 2022ad  ...     yu    yup   zero    zil   zone  \\\n",
       "component_1    0.000        0.0  ...  0.000  0.001  0.007  0.000  0.005   \n",
       "component_2    0.000        0.0  ...  0.000  0.008  0.002  0.002  0.000   \n",
       "component_3    0.003        0.0  ...  0.002  0.009  0.019  0.001  0.005   \n",
       "component_4    0.000        0.0  ...  0.000  0.001  0.000  0.000  0.000   \n",
       "\n",
       "              zoom   zuck  zuckerberg  zuckerberg own  zuckerburg  \n",
       "component_1  0.000  0.000       0.004           0.002       0.000  \n",
       "component_2  0.000  0.006       0.002           0.000       0.000  \n",
       "component_3  0.004  0.008       0.024           0.002       0.003  \n",
       "component_4  0.000  0.002       0.000           0.000       0.000  \n",
       "\n",
       "[4 rows x 10000 columns]"
      ]
     },
     "execution_count": 167,
     "metadata": {},
     "output_type": "execute_result"
    }
   ],
   "source": [
    "topic_term_df"
   ]
  },
  {
   "cell_type": "code",
   "execution_count": 168,
   "id": "4cbd30e7-8c4e-4e28-8550-f06ab23d3162",
   "metadata": {},
   "outputs": [],
   "source": [
    "# Function to display the top n terms in each topic\n",
    "def display_topics(model, feature_names, no_top_words, topic_names = None): \n",
    "    for ix, topic in enumerate(model.components_):\n",
    "        if not topic_names or not topic_names[ix]:\n",
    "            print(\"\\nTopic \", ix + 1)\n",
    "        else:\n",
    "            print(\"\\nTopic: \", topic_names[ix])\n",
    "        print(\", \".join([feature_names[i]\n",
    "                        for i in topic.argsort()[:-no_top_words - 1:-1]]))\n",
    "    print(\"\\n\")\n",
    "    return model, feature_names, no_top_words"
   ]
  },
  {
   "cell_type": "code",
   "execution_count": 169,
   "id": "1f0547d7-747a-4149-85a7-9fc0097305eb",
   "metadata": {},
   "outputs": [
    {
     "name": "stdout",
     "output_type": "stream",
     "text": [
      "\n",
      "Topic  1\n",
      "speech, free, free speech, freedom, want, freedom speech, platform, want free, block, support free, allow, support, right, believe, bring free\n",
      "\n",
      "Topic  2\n",
      "buy, want buy, buy luna, luna, bring, want, billion, buy tesla, stock, offer buy, offer, buy buy, try buy, instead, company\n",
      "\n",
      "Topic  3\n",
      "think, people, know, want, tesla, tweet, money, good, need, trump, thing, work, right, world, time\n",
      "\n",
      "Topic  4\n",
      "thank, god, support, bless, thank support, god bless, internet, fight, myanmar, starlink, whatshappeninginmyanmar, myanmar starlink, internet access, apr5coup, access myanmar\n",
      "\n",
      "\n"
     ]
    },
    {
     "name": "stderr",
     "output_type": "stream",
     "text": [
      "C:\\Users\\Josh_Wang\\anaconda3\\lib\\site-packages\\sklearn\\utils\\deprecation.py:87: FutureWarning: Function get_feature_names is deprecated; get_feature_names is deprecated in 1.0 and will be removed in 1.2. Please use get_feature_names_out instead.\n",
      "  warnings.warn(msg, category=FutureWarning)\n"
     ]
    }
   ],
   "source": [
    "output = display_topics(nmf, tv.get_feature_names(), 15)\n",
    "### END SOLUTION\n",
    "output;"
   ]
  },
  {
   "cell_type": "code",
   "execution_count": 170,
   "id": "3bcbe49d-a737-42ac-a65a-959bdfda87cb",
   "metadata": {},
   "outputs": [],
   "source": [
    "#mapping topics to each tweet\n",
    "doc_topic_nmf = nmf.transform(tfidf)"
   ]
  },
  {
   "cell_type": "code",
   "execution_count": 125,
   "id": "9d384f93-1dc5-45bc-b3bf-ea7c275f8240",
   "metadata": {},
   "outputs": [
    {
     "data": {
      "text/html": [
       "<div>\n",
       "<style scoped>\n",
       "    .dataframe tbody tr th:only-of-type {\n",
       "        vertical-align: middle;\n",
       "    }\n",
       "\n",
       "    .dataframe tbody tr th {\n",
       "        vertical-align: top;\n",
       "    }\n",
       "\n",
       "    .dataframe thead th {\n",
       "        text-align: right;\n",
       "    }\n",
       "</style>\n",
       "<table border=\"1\" class=\"dataframe\">\n",
       "  <thead>\n",
       "    <tr style=\"text-align: right;\">\n",
       "      <th></th>\n",
       "      <th>free speech</th>\n",
       "      <th>buy stocks and crypto</th>\n",
       "      <th>unknown</th>\n",
       "      <th>thankful</th>\n",
       "      <th>Text</th>\n",
       "    </tr>\n",
       "  </thead>\n",
       "  <tbody>\n",
       "    <tr>\n",
       "      <th>0</th>\n",
       "      <td>0.00000</td>\n",
       "      <td>0.00167</td>\n",
       "      <td>0.00773</td>\n",
       "      <td>0.00144</td>\n",
       "      <td>#SAFEMOON is the future Elon! Join us!</td>\n",
       "    </tr>\n",
       "    <tr>\n",
       "      <th>1</th>\n",
       "      <td>0.00000</td>\n",
       "      <td>0.00000</td>\n",
       "      <td>0.02581</td>\n",
       "      <td>0.00000</td>\n",
       "      <td>They also juice the numbers because each death in a private hospital gets a subsidy check from the gov. Elon Musk said this, so take it for what its worth</td>\n",
       "    </tr>\n",
       "    <tr>\n",
       "      <th>2</th>\n",
       "      <td>0.00000</td>\n",
       "      <td>0.00003</td>\n",
       "      <td>0.01733</td>\n",
       "      <td>0.00788</td>\n",
       "      <td>Elon is in Seattle too surely something big is happening at Starlink</td>\n",
       "    </tr>\n",
       "    <tr>\n",
       "      <th>3</th>\n",
       "      <td>0.00000</td>\n",
       "      <td>0.00000</td>\n",
       "      <td>0.01634</td>\n",
       "      <td>0.00000</td>\n",
       "      <td>elon musk because hes achieving so many things i aspire to accomplish</td>\n",
       "    </tr>\n",
       "    <tr>\n",
       "      <th>4</th>\n",
       "      <td>0.00000</td>\n",
       "      <td>0.00018</td>\n",
       "      <td>0.01816</td>\n",
       "      <td>0.00093</td>\n",
       "      <td>Today you witnessed an explosion. Wow. Sheltered much. Musk can throw anything into the atmosphere and we have to get emissions tests on our little cars cause of pollution. Hey AstroNOT, it will end as Babel, slapped back to the ground. Sorry.</td>\n",
       "    </tr>\n",
       "    <tr>\n",
       "      <th>...</th>\n",
       "      <td>...</td>\n",
       "      <td>...</td>\n",
       "      <td>...</td>\n",
       "      <td>...</td>\n",
       "      <td>...</td>\n",
       "    </tr>\n",
       "    <tr>\n",
       "      <th>30132</th>\n",
       "      <td>0.00000</td>\n",
       "      <td>0.00000</td>\n",
       "      <td>0.00386</td>\n",
       "      <td>0.00000</td>\n",
       "      <td>That's the goal Elon! &lt;URL&gt;</td>\n",
       "    </tr>\n",
       "    <tr>\n",
       "      <th>30133</th>\n",
       "      <td>0.00000</td>\n",
       "      <td>0.00027</td>\n",
       "      <td>0.00224</td>\n",
       "      <td>0.00063</td>\n",
       "      <td>Dear Elon, Twitter se kuch ch*tiyon ka blue tick wapas le lo.</td>\n",
       "    </tr>\n",
       "    <tr>\n",
       "      <th>30134</th>\n",
       "      <td>0.00017</td>\n",
       "      <td>0.00000</td>\n",
       "      <td>0.00704</td>\n",
       "      <td>0.00017</td>\n",
       "      <td>First human elon</td>\n",
       "    </tr>\n",
       "    <tr>\n",
       "      <th>30135</th>\n",
       "      <td>0.00075</td>\n",
       "      <td>0.00000</td>\n",
       "      <td>0.07749</td>\n",
       "      <td>0.00000</td>\n",
       "      <td>You are 99.99% right.. He likes inteligent people and inovator like Elon and like to do business with them.Left side and right side want Trump just to fullfill their emty lives with entertaiment Literally who cares</td>\n",
       "    </tr>\n",
       "    <tr>\n",
       "      <th>30136</th>\n",
       "      <td>0.00000</td>\n",
       "      <td>0.00000</td>\n",
       "      <td>0.00604</td>\n",
       "      <td>0.00000</td>\n",
       "      <td>Elon dick rider found</td>\n",
       "    </tr>\n",
       "  </tbody>\n",
       "</table>\n",
       "<p>30137 rows × 5 columns</p>\n",
       "</div>"
      ],
      "text/plain": [
       "       free speech  buy stocks and crypto  unknown  thankful  \\\n",
       "0          0.00000                0.00167  0.00773   0.00144   \n",
       "1          0.00000                0.00000  0.02581   0.00000   \n",
       "2          0.00000                0.00003  0.01733   0.00788   \n",
       "3          0.00000                0.00000  0.01634   0.00000   \n",
       "4          0.00000                0.00018  0.01816   0.00093   \n",
       "...            ...                    ...      ...       ...   \n",
       "30132      0.00000                0.00000  0.00386   0.00000   \n",
       "30133      0.00000                0.00027  0.00224   0.00063   \n",
       "30134      0.00017                0.00000  0.00704   0.00017   \n",
       "30135      0.00075                0.00000  0.07749   0.00000   \n",
       "30136      0.00000                0.00000  0.00604   0.00000   \n",
       "\n",
       "                                                                                                                                                                                                                                                      Text  \n",
       "0                                                                                                                                                                                                                   #SAFEMOON is the future Elon! Join us!  \n",
       "1                                                                                               They also juice the numbers because each death in a private hospital gets a subsidy check from the gov. Elon Musk said this, so take it for what its worth  \n",
       "2                                                                                                                                                                                     Elon is in Seattle too surely something big is happening at Starlink  \n",
       "3                                                                                                                                                                                    elon musk because hes achieving so many things i aspire to accomplish  \n",
       "4      Today you witnessed an explosion. Wow. Sheltered much. Musk can throw anything into the atmosphere and we have to get emissions tests on our little cars cause of pollution. Hey AstroNOT, it will end as Babel, slapped back to the ground. Sorry.  \n",
       "...                                                                                                                                                                                                                                                    ...  \n",
       "30132                                                                                                                                                                                                                          That's the goal Elon! <URL>  \n",
       "30133                                                                                                                                                                                        Dear Elon, Twitter se kuch ch*tiyon ka blue tick wapas le lo.  \n",
       "30134                                                                                                                                                                                                                                     First human elon  \n",
       "30135                               You are 99.99% right.. He likes inteligent people and inovator like Elon and like to do business with them.Left side and right side want Trump just to fullfill their emty lives with entertaiment Literally who cares  \n",
       "30136                                                                                                                                                                                                                                Elon dick rider found  \n",
       "\n",
       "[30137 rows x 5 columns]"
      ]
     },
     "execution_count": 125,
     "metadata": {},
     "output_type": "execute_result"
    }
   ],
   "source": [
    "doc_topic_nmf_df = pd.DataFrame(doc_topic_nmf.round(5), columns = [\"free speech\", \"buy stocks and crypto\", 'unknown', 'thankful'])\n",
    "doc_topic_nmf_df['Text'] = tweets_df_en['CleanedText']\n",
    "doc_topic_nmf_df"
   ]
  },
  {
   "cell_type": "code",
   "execution_count": 184,
   "id": "d4e47672-a6c4-4034-9d08-25bea738f114",
   "metadata": {},
   "outputs": [
    {
     "data": {
      "text/html": [
       "<div>\n",
       "<style scoped>\n",
       "    .dataframe tbody tr th:only-of-type {\n",
       "        vertical-align: middle;\n",
       "    }\n",
       "\n",
       "    .dataframe tbody tr th {\n",
       "        vertical-align: top;\n",
       "    }\n",
       "\n",
       "    .dataframe thead th {\n",
       "        text-align: right;\n",
       "    }\n",
       "</style>\n",
       "<table border=\"1\" class=\"dataframe\">\n",
       "  <thead>\n",
       "    <tr style=\"text-align: right;\">\n",
       "      <th></th>\n",
       "      <th>free speech</th>\n",
       "      <th>buy stocks and crypto</th>\n",
       "      <th>unknown</th>\n",
       "      <th>thankful</th>\n",
       "      <th>Text</th>\n",
       "    </tr>\n",
       "  </thead>\n",
       "  <tbody>\n",
       "    <tr>\n",
       "      <th>21791</th>\n",
       "      <td>0.0</td>\n",
       "      <td>0.0</td>\n",
       "      <td>0.13165</td>\n",
       "      <td>0.0</td>\n",
       "      <td>Does Elon Musk like Smowl, the people's Moonbird? Hoot-hoot Elon &lt;URL&gt;</td>\n",
       "    </tr>\n",
       "    <tr>\n",
       "      <th>2547</th>\n",
       "      <td>0.0</td>\n",
       "      <td>0.0</td>\n",
       "      <td>0.10833</td>\n",
       "      <td>0.0</td>\n",
       "      <td>Elon musk would like this</td>\n",
       "    </tr>\n",
       "    <tr>\n",
       "      <th>28274</th>\n",
       "      <td>0.0</td>\n",
       "      <td>0.0</td>\n",
       "      <td>0.10833</td>\n",
       "      <td>0.0</td>\n",
       "      <td>like, perhaps Elon will not preside over twitsville after all</td>\n",
       "    </tr>\n",
       "    <tr>\n",
       "      <th>1213</th>\n",
       "      <td>0.0</td>\n",
       "      <td>0.0</td>\n",
       "      <td>0.10833</td>\n",
       "      <td>0.0</td>\n",
       "      <td>Elon its not like that</td>\n",
       "    </tr>\n",
       "    <tr>\n",
       "      <th>22524</th>\n",
       "      <td>0.0</td>\n",
       "      <td>0.0</td>\n",
       "      <td>0.10833</td>\n",
       "      <td>0.0</td>\n",
       "      <td>Im so temtped to just go up to elon musk and be like.... &lt;URL&gt;</td>\n",
       "    </tr>\n",
       "    <tr>\n",
       "      <th>17951</th>\n",
       "      <td>0.0</td>\n",
       "      <td>0.0</td>\n",
       "      <td>0.10833</td>\n",
       "      <td>0.0</td>\n",
       "      <td>Elon isn't like the others though.</td>\n",
       "    </tr>\n",
       "    <tr>\n",
       "      <th>11704</th>\n",
       "      <td>0.0</td>\n",
       "      <td>0.0</td>\n",
       "      <td>0.10833</td>\n",
       "      <td>0.0</td>\n",
       "      <td>How do you like it, Elon Musk? &lt;URL&gt;</td>\n",
       "    </tr>\n",
       "    <tr>\n",
       "      <th>8275</th>\n",
       "      <td>0.0</td>\n",
       "      <td>0.0</td>\n",
       "      <td>0.10833</td>\n",
       "      <td>0.0</td>\n",
       "      <td>It's really a must like Elon</td>\n",
       "    </tr>\n",
       "    <tr>\n",
       "      <th>25462</th>\n",
       "      <td>0.0</td>\n",
       "      <td>0.0</td>\n",
       "      <td>0.09648</td>\n",
       "      <td>0.0</td>\n",
       "      <td>Elon do you really like Uyghur work?</td>\n",
       "    </tr>\n",
       "    <tr>\n",
       "      <th>5065</th>\n",
       "      <td>0.0</td>\n",
       "      <td>0.0</td>\n",
       "      <td>0.09582</td>\n",
       "      <td>0.0</td>\n",
       "      <td>What do you think of Elon musk's spaceman?</td>\n",
       "    </tr>\n",
       "    <tr>\n",
       "      <th>11198</th>\n",
       "      <td>0.0</td>\n",
       "      <td>0.0</td>\n",
       "      <td>0.09582</td>\n",
       "      <td>0.0</td>\n",
       "      <td>Who else thinks that Elon Musk should own twitter?</td>\n",
       "    </tr>\n",
       "    <tr>\n",
       "      <th>2540</th>\n",
       "      <td>0.0</td>\n",
       "      <td>0.0</td>\n",
       "      <td>0.09582</td>\n",
       "      <td>0.0</td>\n",
       "      <td>I thought it was Elon musk</td>\n",
       "    </tr>\n",
       "    <tr>\n",
       "      <th>5986</th>\n",
       "      <td>0.0</td>\n",
       "      <td>0.0</td>\n",
       "      <td>0.09582</td>\n",
       "      <td>0.0</td>\n",
       "      <td>Elon Musk i think &lt;URL&gt;</td>\n",
       "    </tr>\n",
       "    <tr>\n",
       "      <th>2553</th>\n",
       "      <td>0.0</td>\n",
       "      <td>0.0</td>\n",
       "      <td>0.09582</td>\n",
       "      <td>0.0</td>\n",
       "      <td>I think Gautam is neither Anil nor Ambani, he is emulating Elon Musk</td>\n",
       "    </tr>\n",
       "    <tr>\n",
       "      <th>3772</th>\n",
       "      <td>0.0</td>\n",
       "      <td>0.0</td>\n",
       "      <td>0.09582</td>\n",
       "      <td>0.0</td>\n",
       "      <td>What Elon Musk thinks he is &lt;URL&gt;</td>\n",
       "    </tr>\n",
       "    <tr>\n",
       "      <th>5697</th>\n",
       "      <td>0.0</td>\n",
       "      <td>0.0</td>\n",
       "      <td>0.09582</td>\n",
       "      <td>0.0</td>\n",
       "      <td>Elon seems to think so too &lt;URL&gt;</td>\n",
       "    </tr>\n",
       "    <tr>\n",
       "      <th>27841</th>\n",
       "      <td>0.0</td>\n",
       "      <td>0.0</td>\n",
       "      <td>0.09582</td>\n",
       "      <td>0.0</td>\n",
       "      <td>Do you think Elon Musk is superstitious?</td>\n",
       "    </tr>\n",
       "    <tr>\n",
       "      <th>617</th>\n",
       "      <td>0.0</td>\n",
       "      <td>0.0</td>\n",
       "      <td>0.09582</td>\n",
       "      <td>0.0</td>\n",
       "      <td>I thought you were Elon musk....</td>\n",
       "    </tr>\n",
       "    <tr>\n",
       "      <th>648</th>\n",
       "      <td>0.0</td>\n",
       "      <td>0.0</td>\n",
       "      <td>0.09582</td>\n",
       "      <td>0.0</td>\n",
       "      <td>Who does he think he is? Elon musk? &lt;URL&gt;</td>\n",
       "    </tr>\n",
       "    <tr>\n",
       "      <th>28956</th>\n",
       "      <td>0.0</td>\n",
       "      <td>0.0</td>\n",
       "      <td>0.09582</td>\n",
       "      <td>0.0</td>\n",
       "      <td>Elon think about it 😎</td>\n",
       "    </tr>\n",
       "  </tbody>\n",
       "</table>\n",
       "</div>"
      ],
      "text/plain": [
       "       free speech  buy stocks and crypto  unknown  thankful  \\\n",
       "21791          0.0                    0.0  0.13165       0.0   \n",
       "2547           0.0                    0.0  0.10833       0.0   \n",
       "28274          0.0                    0.0  0.10833       0.0   \n",
       "1213           0.0                    0.0  0.10833       0.0   \n",
       "22524          0.0                    0.0  0.10833       0.0   \n",
       "17951          0.0                    0.0  0.10833       0.0   \n",
       "11704          0.0                    0.0  0.10833       0.0   \n",
       "8275           0.0                    0.0  0.10833       0.0   \n",
       "25462          0.0                    0.0  0.09648       0.0   \n",
       "5065           0.0                    0.0  0.09582       0.0   \n",
       "11198          0.0                    0.0  0.09582       0.0   \n",
       "2540           0.0                    0.0  0.09582       0.0   \n",
       "5986           0.0                    0.0  0.09582       0.0   \n",
       "2553           0.0                    0.0  0.09582       0.0   \n",
       "3772           0.0                    0.0  0.09582       0.0   \n",
       "5697           0.0                    0.0  0.09582       0.0   \n",
       "27841          0.0                    0.0  0.09582       0.0   \n",
       "617            0.0                    0.0  0.09582       0.0   \n",
       "648            0.0                    0.0  0.09582       0.0   \n",
       "28956          0.0                    0.0  0.09582       0.0   \n",
       "\n",
       "                                                                         Text  \n",
       "21791  Does Elon Musk like Smowl, the people's Moonbird? Hoot-hoot Elon <URL>  \n",
       "2547                                                Elon musk would like this  \n",
       "28274           like, perhaps Elon will not preside over twitsville after all  \n",
       "1213                                                   Elon its not like that  \n",
       "22524          Im so temtped to just go up to elon musk and be like.... <URL>  \n",
       "17951                                      Elon isn't like the others though.  \n",
       "11704                                    How do you like it, Elon Musk? <URL>  \n",
       "8275                                             It's really a must like Elon  \n",
       "25462                                    Elon do you really like Uyghur work?  \n",
       "5065                               What do you think of Elon musk's spaceman?  \n",
       "11198                      Who else thinks that Elon Musk should own twitter?  \n",
       "2540                                               I thought it was Elon musk  \n",
       "5986                                                  Elon Musk i think <URL>  \n",
       "2553     I think Gautam is neither Anil nor Ambani, he is emulating Elon Musk  \n",
       "3772                                        What Elon Musk thinks he is <URL>  \n",
       "5697                                         Elon seems to think so too <URL>  \n",
       "27841                                Do you think Elon Musk is superstitious?  \n",
       "617                                          I thought you were Elon musk....  \n",
       "648                                 Who does he think he is? Elon musk? <URL>  \n",
       "28956                                                   Elon think about it 😎  "
      ]
     },
     "execution_count": 184,
     "metadata": {},
     "output_type": "execute_result"
    }
   ],
   "source": [
    "doc_topic_nmf_df.sort_values('unknown', ascending = False).head(20)"
   ]
  },
  {
   "cell_type": "markdown",
   "id": "cc369f04-72c5-46b7-873c-7f9ade665a07",
   "metadata": {},
   "source": [
    "## LSA"
   ]
  },
  {
   "cell_type": "code",
   "execution_count": 134,
   "id": "6fa1713e-90f8-4485-9647-9a94b5c35760",
   "metadata": {},
   "outputs": [
    {
     "data": {
      "text/plain": [
       "array([0.00406607, 0.00585381, 0.00380122, 0.00340938])"
      ]
     },
     "execution_count": 134,
     "metadata": {},
     "output_type": "execute_result"
    }
   ],
   "source": [
    "lsa = TruncatedSVD(4)\n",
    "doc_topic_lsa = lsa.fit_transform(tfidf)\n",
    "lsa.explained_variance_ratio_"
   ]
  },
  {
   "cell_type": "code",
   "execution_count": 135,
   "id": "0425e000-80d5-4f04-8a09-f23f3c930a2b",
   "metadata": {},
   "outputs": [],
   "source": [
    "#saving lsa\n",
    "with open('fitted_lsa.pkl', 'wb') as handle:\n",
    "    pickle.dump(lsa, handle, protocol=pickle.HIGHEST_PROTOCOL)"
   ]
  },
  {
   "cell_type": "code",
   "execution_count": 136,
   "id": "162c4ba9-c3fd-48e5-8878-ead3dcbfd1f8",
   "metadata": {},
   "outputs": [
    {
     "name": "stderr",
     "output_type": "stream",
     "text": [
      "C:\\Users\\Josh_Wang\\anaconda3\\lib\\site-packages\\sklearn\\utils\\deprecation.py:87: FutureWarning: Function get_feature_names is deprecated; get_feature_names is deprecated in 1.0 and will be removed in 1.2. Please use get_feature_names_out instead.\n",
      "  warnings.warn(msg, category=FutureWarning)\n"
     ]
    },
    {
     "data": {
      "text/html": [
       "<div>\n",
       "<style scoped>\n",
       "    .dataframe tbody tr th:only-of-type {\n",
       "        vertical-align: middle;\n",
       "    }\n",
       "\n",
       "    .dataframe tbody tr th {\n",
       "        vertical-align: top;\n",
       "    }\n",
       "\n",
       "    .dataframe thead th {\n",
       "        text-align: right;\n",
       "    }\n",
       "</style>\n",
       "<table border=\"1\" class=\"dataframe\">\n",
       "  <thead>\n",
       "    <tr style=\"text-align: right;\">\n",
       "      <th></th>\n",
       "      <th>00</th>\n",
       "      <th>000</th>\n",
       "      <th>000 000</th>\n",
       "      <th>000 people</th>\n",
       "      <th>000 year</th>\n",
       "      <th>01</th>\n",
       "      <th>02</th>\n",
       "      <th>04</th>\n",
       "      <th>04 2021</th>\n",
       "      <th>04 2022ad</th>\n",
       "      <th>...</th>\n",
       "      <th>yu</th>\n",
       "      <th>yup</th>\n",
       "      <th>zero</th>\n",
       "      <th>zil</th>\n",
       "      <th>zone</th>\n",
       "      <th>zoom</th>\n",
       "      <th>zuck</th>\n",
       "      <th>zuckerberg</th>\n",
       "      <th>zuckerberg own</th>\n",
       "      <th>zuckerburg</th>\n",
       "    </tr>\n",
       "  </thead>\n",
       "  <tbody>\n",
       "    <tr>\n",
       "      <th>component_1</th>\n",
       "      <td>0.001</td>\n",
       "      <td>0.008</td>\n",
       "      <td>0.001</td>\n",
       "      <td>0.001</td>\n",
       "      <td>0.001</td>\n",
       "      <td>0.0</td>\n",
       "      <td>0.0</td>\n",
       "      <td>0.001</td>\n",
       "      <td>0.000</td>\n",
       "      <td>0.0</td>\n",
       "      <td>...</td>\n",
       "      <td>0.0</td>\n",
       "      <td>0.003</td>\n",
       "      <td>0.005</td>\n",
       "      <td>0.000</td>\n",
       "      <td>0.002</td>\n",
       "      <td>0.001</td>\n",
       "      <td>0.002</td>\n",
       "      <td>0.005</td>\n",
       "      <td>0.001</td>\n",
       "      <td>0.001</td>\n",
       "    </tr>\n",
       "    <tr>\n",
       "      <th>component_2</th>\n",
       "      <td>0.001</td>\n",
       "      <td>0.005</td>\n",
       "      <td>0.001</td>\n",
       "      <td>0.001</td>\n",
       "      <td>0.000</td>\n",
       "      <td>0.0</td>\n",
       "      <td>0.0</td>\n",
       "      <td>0.001</td>\n",
       "      <td>0.000</td>\n",
       "      <td>0.0</td>\n",
       "      <td>...</td>\n",
       "      <td>0.0</td>\n",
       "      <td>0.002</td>\n",
       "      <td>0.001</td>\n",
       "      <td>0.001</td>\n",
       "      <td>-0.000</td>\n",
       "      <td>0.000</td>\n",
       "      <td>0.002</td>\n",
       "      <td>0.002</td>\n",
       "      <td>-0.000</td>\n",
       "      <td>0.000</td>\n",
       "    </tr>\n",
       "    <tr>\n",
       "      <th>component_3</th>\n",
       "      <td>-0.001</td>\n",
       "      <td>-0.011</td>\n",
       "      <td>-0.001</td>\n",
       "      <td>-0.001</td>\n",
       "      <td>-0.001</td>\n",
       "      <td>-0.0</td>\n",
       "      <td>-0.0</td>\n",
       "      <td>-0.001</td>\n",
       "      <td>-0.001</td>\n",
       "      <td>-0.0</td>\n",
       "      <td>...</td>\n",
       "      <td>-0.0</td>\n",
       "      <td>-0.001</td>\n",
       "      <td>-0.004</td>\n",
       "      <td>0.000</td>\n",
       "      <td>-0.001</td>\n",
       "      <td>-0.001</td>\n",
       "      <td>-0.001</td>\n",
       "      <td>-0.005</td>\n",
       "      <td>-0.000</td>\n",
       "      <td>-0.001</td>\n",
       "    </tr>\n",
       "    <tr>\n",
       "      <th>component_4</th>\n",
       "      <td>0.000</td>\n",
       "      <td>0.002</td>\n",
       "      <td>0.000</td>\n",
       "      <td>0.000</td>\n",
       "      <td>0.000</td>\n",
       "      <td>0.0</td>\n",
       "      <td>0.0</td>\n",
       "      <td>0.000</td>\n",
       "      <td>0.000</td>\n",
       "      <td>0.0</td>\n",
       "      <td>...</td>\n",
       "      <td>-0.0</td>\n",
       "      <td>-0.000</td>\n",
       "      <td>-0.000</td>\n",
       "      <td>0.000</td>\n",
       "      <td>-0.001</td>\n",
       "      <td>0.000</td>\n",
       "      <td>0.000</td>\n",
       "      <td>-0.000</td>\n",
       "      <td>-0.000</td>\n",
       "      <td>0.000</td>\n",
       "    </tr>\n",
       "  </tbody>\n",
       "</table>\n",
       "<p>4 rows × 10000 columns</p>\n",
       "</div>"
      ],
      "text/plain": [
       "                00    000  000 000  000 people  000 year   01   02     04  \\\n",
       "component_1  0.001  0.008    0.001       0.001     0.001  0.0  0.0  0.001   \n",
       "component_2  0.001  0.005    0.001       0.001     0.000  0.0  0.0  0.001   \n",
       "component_3 -0.001 -0.011   -0.001      -0.001    -0.001 -0.0 -0.0 -0.001   \n",
       "component_4  0.000  0.002    0.000       0.000     0.000  0.0  0.0  0.000   \n",
       "\n",
       "             04 2021  04 2022ad  ...   yu    yup   zero    zil   zone   zoom  \\\n",
       "component_1    0.000        0.0  ...  0.0  0.003  0.005  0.000  0.002  0.001   \n",
       "component_2    0.000        0.0  ...  0.0  0.002  0.001  0.001 -0.000  0.000   \n",
       "component_3   -0.001       -0.0  ... -0.0 -0.001 -0.004  0.000 -0.001 -0.001   \n",
       "component_4    0.000        0.0  ... -0.0 -0.000 -0.000  0.000 -0.001  0.000   \n",
       "\n",
       "              zuck  zuckerberg  zuckerberg own  zuckerburg  \n",
       "component_1  0.002       0.005           0.001       0.001  \n",
       "component_2  0.002       0.002          -0.000       0.000  \n",
       "component_3 -0.001      -0.005          -0.000      -0.001  \n",
       "component_4  0.000      -0.000          -0.000       0.000  \n",
       "\n",
       "[4 rows x 10000 columns]"
      ]
     },
     "execution_count": 136,
     "metadata": {},
     "output_type": "execute_result"
    }
   ],
   "source": [
    "topic_word = pd.DataFrame(lsa.components_.round(3),\n",
    "             index = [\"component_1\",\"component_2\",\"component_3\",\"component_4\"],\n",
    "             columns = tv.get_feature_names())\n",
    "topic_word"
   ]
  },
  {
   "cell_type": "code",
   "execution_count": 137,
   "id": "e398fa70-ba3c-4630-978d-5104c46245a3",
   "metadata": {},
   "outputs": [
    {
     "name": "stdout",
     "output_type": "stream",
     "text": [
      "\n",
      "Topic  1\n",
      "buy, speech, free, free speech, want, people, think, know\n",
      "\n",
      "Topic  2\n",
      "buy, tesla, money, think, want buy, billion, buy luna, stock\n",
      "\n",
      "Topic  3\n",
      "buy, free, speech, free speech, buy luna, luna, want buy, buy buy\n",
      "\n",
      "Topic  4\n",
      "thank, god, tesla, support, americans, love, tweet, bless\n",
      "\n",
      "\n"
     ]
    },
    {
     "name": "stderr",
     "output_type": "stream",
     "text": [
      "C:\\Users\\Josh_Wang\\anaconda3\\lib\\site-packages\\sklearn\\utils\\deprecation.py:87: FutureWarning: Function get_feature_names is deprecated; get_feature_names is deprecated in 1.0 and will be removed in 1.2. Please use get_feature_names_out instead.\n",
      "  warnings.warn(msg, category=FutureWarning)\n"
     ]
    }
   ],
   "source": [
    "display_topics(lsa, tv.get_feature_names(), 8);"
   ]
  },
  {
   "cell_type": "code",
   "execution_count": 140,
   "id": "ad2bbff0-b007-4dfd-9e47-6e1ad6c7beae",
   "metadata": {},
   "outputs": [
    {
     "data": {
      "text/html": [
       "<div>\n",
       "<style scoped>\n",
       "    .dataframe tbody tr th:only-of-type {\n",
       "        vertical-align: middle;\n",
       "    }\n",
       "\n",
       "    .dataframe tbody tr th {\n",
       "        vertical-align: top;\n",
       "    }\n",
       "\n",
       "    .dataframe thead th {\n",
       "        text-align: right;\n",
       "    }\n",
       "</style>\n",
       "<table border=\"1\" class=\"dataframe\">\n",
       "  <thead>\n",
       "    <tr style=\"text-align: right;\">\n",
       "      <th></th>\n",
       "      <th>free speech</th>\n",
       "      <th>buy stocks and crypto</th>\n",
       "      <th>free speech and buy crypto</th>\n",
       "      <th>thankful</th>\n",
       "      <th>Text</th>\n",
       "    </tr>\n",
       "  </thead>\n",
       "  <tbody>\n",
       "    <tr>\n",
       "      <th>0</th>\n",
       "      <td>0.01848</td>\n",
       "      <td>0.00896</td>\n",
       "      <td>-0.01736</td>\n",
       "      <td>0.00253</td>\n",
       "      <td>#SAFEMOON is the future Elon! Join us!</td>\n",
       "    </tr>\n",
       "    <tr>\n",
       "      <th>1</th>\n",
       "      <td>0.03288</td>\n",
       "      <td>0.01181</td>\n",
       "      <td>-0.03706</td>\n",
       "      <td>-0.00206</td>\n",
       "      <td>They also juice the numbers because each death in a private hospital gets a subsidy check from the gov. Elon Musk said this, so take it for what its worth</td>\n",
       "    </tr>\n",
       "    <tr>\n",
       "      <th>2</th>\n",
       "      <td>0.03728</td>\n",
       "      <td>0.01157</td>\n",
       "      <td>-0.04579</td>\n",
       "      <td>0.02287</td>\n",
       "      <td>Elon is in Seattle too surely something big is happening at Starlink</td>\n",
       "    </tr>\n",
       "    <tr>\n",
       "      <th>3</th>\n",
       "      <td>0.02432</td>\n",
       "      <td>0.00586</td>\n",
       "      <td>-0.03148</td>\n",
       "      <td>-0.01549</td>\n",
       "      <td>elon musk because hes achieving so many things i aspire to accomplish</td>\n",
       "    </tr>\n",
       "    <tr>\n",
       "      <th>4</th>\n",
       "      <td>0.03560</td>\n",
       "      <td>0.01433</td>\n",
       "      <td>-0.04429</td>\n",
       "      <td>0.00233</td>\n",
       "      <td>Today you witnessed an explosion. Wow. Sheltered much. Musk can throw anything into the atmosphere and we have to get emissions tests on our little cars cause of pollution. Hey AstroNOT, it will end as Babel, slapped back to the ground. Sorry.</td>\n",
       "    </tr>\n",
       "    <tr>\n",
       "      <th>...</th>\n",
       "      <td>...</td>\n",
       "      <td>...</td>\n",
       "      <td>...</td>\n",
       "      <td>...</td>\n",
       "      <td>...</td>\n",
       "    </tr>\n",
       "    <tr>\n",
       "      <th>30132</th>\n",
       "      <td>0.00701</td>\n",
       "      <td>0.00078</td>\n",
       "      <td>-0.00994</td>\n",
       "      <td>-0.00274</td>\n",
       "      <td>That's the goal Elon! &lt;URL&gt;</td>\n",
       "    </tr>\n",
       "    <tr>\n",
       "      <th>30133</th>\n",
       "      <td>0.00481</td>\n",
       "      <td>0.00228</td>\n",
       "      <td>-0.00577</td>\n",
       "      <td>0.00243</td>\n",
       "      <td>Dear Elon, Twitter se kuch ch*tiyon ka blue tick wapas le lo.</td>\n",
       "    </tr>\n",
       "    <tr>\n",
       "      <th>30134</th>\n",
       "      <td>0.01394</td>\n",
       "      <td>0.00187</td>\n",
       "      <td>-0.01721</td>\n",
       "      <td>-0.00136</td>\n",
       "      <td>First human elon</td>\n",
       "    </tr>\n",
       "    <tr>\n",
       "      <th>30135</th>\n",
       "      <td>0.11605</td>\n",
       "      <td>0.02085</td>\n",
       "      <td>-0.10914</td>\n",
       "      <td>-0.02596</td>\n",
       "      <td>You are 99.99% right.. He likes inteligent people and inovator like Elon and like to do business with them.Left side and right side want Trump just to fullfill their emty lives with entertaiment Literally who cares</td>\n",
       "    </tr>\n",
       "    <tr>\n",
       "      <th>30136</th>\n",
       "      <td>0.01161</td>\n",
       "      <td>0.00330</td>\n",
       "      <td>-0.01411</td>\n",
       "      <td>-0.00081</td>\n",
       "      <td>Elon dick rider found</td>\n",
       "    </tr>\n",
       "  </tbody>\n",
       "</table>\n",
       "<p>30137 rows × 5 columns</p>\n",
       "</div>"
      ],
      "text/plain": [
       "       free speech  buy stocks and crypto  free speech and buy crypto  \\\n",
       "0          0.01848                0.00896                    -0.01736   \n",
       "1          0.03288                0.01181                    -0.03706   \n",
       "2          0.03728                0.01157                    -0.04579   \n",
       "3          0.02432                0.00586                    -0.03148   \n",
       "4          0.03560                0.01433                    -0.04429   \n",
       "...            ...                    ...                         ...   \n",
       "30132      0.00701                0.00078                    -0.00994   \n",
       "30133      0.00481                0.00228                    -0.00577   \n",
       "30134      0.01394                0.00187                    -0.01721   \n",
       "30135      0.11605                0.02085                    -0.10914   \n",
       "30136      0.01161                0.00330                    -0.01411   \n",
       "\n",
       "       thankful  \\\n",
       "0       0.00253   \n",
       "1      -0.00206   \n",
       "2       0.02287   \n",
       "3      -0.01549   \n",
       "4       0.00233   \n",
       "...         ...   \n",
       "30132  -0.00274   \n",
       "30133   0.00243   \n",
       "30134  -0.00136   \n",
       "30135  -0.02596   \n",
       "30136  -0.00081   \n",
       "\n",
       "                                                                                                                                                                                                                                                      Text  \n",
       "0                                                                                                                                                                                                                   #SAFEMOON is the future Elon! Join us!  \n",
       "1                                                                                               They also juice the numbers because each death in a private hospital gets a subsidy check from the gov. Elon Musk said this, so take it for what its worth  \n",
       "2                                                                                                                                                                                     Elon is in Seattle too surely something big is happening at Starlink  \n",
       "3                                                                                                                                                                                    elon musk because hes achieving so many things i aspire to accomplish  \n",
       "4      Today you witnessed an explosion. Wow. Sheltered much. Musk can throw anything into the atmosphere and we have to get emissions tests on our little cars cause of pollution. Hey AstroNOT, it will end as Babel, slapped back to the ground. Sorry.  \n",
       "...                                                                                                                                                                                                                                                    ...  \n",
       "30132                                                                                                                                                                                                                          That's the goal Elon! <URL>  \n",
       "30133                                                                                                                                                                                        Dear Elon, Twitter se kuch ch*tiyon ka blue tick wapas le lo.  \n",
       "30134                                                                                                                                                                                                                                     First human elon  \n",
       "30135                               You are 99.99% right.. He likes inteligent people and inovator like Elon and like to do business with them.Left side and right side want Trump just to fullfill their emty lives with entertaiment Literally who cares  \n",
       "30136                                                                                                                                                                                                                                Elon dick rider found  \n",
       "\n",
       "[30137 rows x 5 columns]"
      ]
     },
     "execution_count": 140,
     "metadata": {},
     "output_type": "execute_result"
    }
   ],
   "source": [
    "doc_topic_lsa_df = pd.DataFrame(doc_topic_lsa.round(5), columns = [\"free speech\", \"buy stocks and crypto\", 'free speech and buy crypto', 'thankful'])\n",
    "doc_topic_lsa_df['Text'] = tweets_df_en['CleanedText']\n",
    "doc_topic_lsa_df"
   ]
  },
  {
   "cell_type": "code",
   "execution_count": 190,
   "id": "5697e4dd-3380-4bd6-bc25-2f277922a1ae",
   "metadata": {},
   "outputs": [
    {
     "data": {
      "text/html": [
       "<div>\n",
       "<style scoped>\n",
       "    .dataframe tbody tr th:only-of-type {\n",
       "        vertical-align: middle;\n",
       "    }\n",
       "\n",
       "    .dataframe tbody tr th {\n",
       "        vertical-align: top;\n",
       "    }\n",
       "\n",
       "    .dataframe thead th {\n",
       "        text-align: right;\n",
       "    }\n",
       "</style>\n",
       "<table border=\"1\" class=\"dataframe\">\n",
       "  <thead>\n",
       "    <tr style=\"text-align: right;\">\n",
       "      <th></th>\n",
       "      <th>free speech</th>\n",
       "      <th>buy stocks and crypto</th>\n",
       "      <th>free speech and buy crypto</th>\n",
       "      <th>thankful</th>\n",
       "      <th>Text</th>\n",
       "    </tr>\n",
       "  </thead>\n",
       "  <tbody>\n",
       "    <tr>\n",
       "      <th>29182</th>\n",
       "      <td>0.07454</td>\n",
       "      <td>-0.02005</td>\n",
       "      <td>-0.08174</td>\n",
       "      <td>0.85159</td>\n",
       "      <td>thank you elon</td>\n",
       "    </tr>\n",
       "    <tr>\n",
       "      <th>26493</th>\n",
       "      <td>0.07454</td>\n",
       "      <td>-0.02005</td>\n",
       "      <td>-0.08174</td>\n",
       "      <td>0.85159</td>\n",
       "      <td>Thank You Elon!!!</td>\n",
       "    </tr>\n",
       "    <tr>\n",
       "      <th>5479</th>\n",
       "      <td>0.07454</td>\n",
       "      <td>-0.02005</td>\n",
       "      <td>-0.08174</td>\n",
       "      <td>0.85159</td>\n",
       "      <td>thanks elon &lt;URL&gt;</td>\n",
       "    </tr>\n",
       "    <tr>\n",
       "      <th>27162</th>\n",
       "      <td>0.07454</td>\n",
       "      <td>-0.02005</td>\n",
       "      <td>-0.08174</td>\n",
       "      <td>0.85159</td>\n",
       "      <td>Thanks Elon</td>\n",
       "    </tr>\n",
       "    <tr>\n",
       "      <th>17072</th>\n",
       "      <td>0.07454</td>\n",
       "      <td>-0.02005</td>\n",
       "      <td>-0.08174</td>\n",
       "      <td>0.85159</td>\n",
       "      <td>We must thank Elon Musk</td>\n",
       "    </tr>\n",
       "    <tr>\n",
       "      <th>...</th>\n",
       "      <td>...</td>\n",
       "      <td>...</td>\n",
       "      <td>...</td>\n",
       "      <td>...</td>\n",
       "      <td>...</td>\n",
       "    </tr>\n",
       "    <tr>\n",
       "      <th>3501</th>\n",
       "      <td>0.15830</td>\n",
       "      <td>0.04890</td>\n",
       "      <td>-0.29136</td>\n",
       "      <td>-0.30939</td>\n",
       "      <td>And you think Elon can't?</td>\n",
       "    </tr>\n",
       "    <tr>\n",
       "      <th>5986</th>\n",
       "      <td>0.15830</td>\n",
       "      <td>0.04890</td>\n",
       "      <td>-0.29136</td>\n",
       "      <td>-0.30939</td>\n",
       "      <td>Elon Musk i think &lt;URL&gt;</td>\n",
       "    </tr>\n",
       "    <tr>\n",
       "      <th>19023</th>\n",
       "      <td>0.15830</td>\n",
       "      <td>0.04890</td>\n",
       "      <td>-0.29136</td>\n",
       "      <td>-0.30939</td>\n",
       "      <td>I really thought you were Elon...</td>\n",
       "    </tr>\n",
       "    <tr>\n",
       "      <th>28956</th>\n",
       "      <td>0.15830</td>\n",
       "      <td>0.04890</td>\n",
       "      <td>-0.29136</td>\n",
       "      <td>-0.30939</td>\n",
       "      <td>Elon think about it 😎</td>\n",
       "    </tr>\n",
       "    <tr>\n",
       "      <th>648</th>\n",
       "      <td>0.15830</td>\n",
       "      <td>0.04890</td>\n",
       "      <td>-0.29136</td>\n",
       "      <td>-0.30939</td>\n",
       "      <td>Who does he think he is? Elon musk? &lt;URL&gt;</td>\n",
       "    </tr>\n",
       "  </tbody>\n",
       "</table>\n",
       "<p>30137 rows × 5 columns</p>\n",
       "</div>"
      ],
      "text/plain": [
       "       free speech  buy stocks and crypto  free speech and buy crypto  \\\n",
       "29182      0.07454               -0.02005                    -0.08174   \n",
       "26493      0.07454               -0.02005                    -0.08174   \n",
       "5479       0.07454               -0.02005                    -0.08174   \n",
       "27162      0.07454               -0.02005                    -0.08174   \n",
       "17072      0.07454               -0.02005                    -0.08174   \n",
       "...            ...                    ...                         ...   \n",
       "3501       0.15830                0.04890                    -0.29136   \n",
       "5986       0.15830                0.04890                    -0.29136   \n",
       "19023      0.15830                0.04890                    -0.29136   \n",
       "28956      0.15830                0.04890                    -0.29136   \n",
       "648        0.15830                0.04890                    -0.29136   \n",
       "\n",
       "       thankful                                       Text  \n",
       "29182   0.85159                             thank you elon  \n",
       "26493   0.85159                          Thank You Elon!!!  \n",
       "5479    0.85159                          thanks elon <URL>  \n",
       "27162   0.85159                                Thanks Elon  \n",
       "17072   0.85159                    We must thank Elon Musk  \n",
       "...         ...                                        ...  \n",
       "3501   -0.30939                  And you think Elon can't?  \n",
       "5986   -0.30939                    Elon Musk i think <URL>  \n",
       "19023  -0.30939          I really thought you were Elon...  \n",
       "28956  -0.30939                      Elon think about it 😎  \n",
       "648    -0.30939  Who does he think he is? Elon musk? <URL>  \n",
       "\n",
       "[30137 rows x 5 columns]"
      ]
     },
     "execution_count": 190,
     "metadata": {},
     "output_type": "execute_result"
    }
   ],
   "source": [
    "doc_topic_lsa_df.sort_values('thankful', ascending = False)"
   ]
  },
  {
   "cell_type": "markdown",
   "id": "502d4a05-6382-457d-8131-bd049f2a83a4",
   "metadata": {},
   "source": [
    "## LDA\n",
    "Result not great. Not used."
   ]
  },
  {
   "cell_type": "code",
   "execution_count": 171,
   "id": "57577648-bf57-4e01-af51-6300cf13c229",
   "metadata": {},
   "outputs": [],
   "source": [
    "from gensim import corpora, models, matutils"
   ]
  },
  {
   "cell_type": "code",
   "execution_count": 173,
   "id": "9ecdfcb3-1291-4ccb-9f61-ac95d3cf07ff",
   "metadata": {},
   "outputs": [],
   "source": [
    "tv_term_doc=tv_out.transpose()\n",
    "corpus = matutils.Sparse2Corpus(tv_term_doc)\n",
    "\n",
    "id2word = dict((v, k) for k, v in tv.vocabulary_.items())\n",
    "lda = models.LdaModel(corpus=corpus, num_topics=4, id2word=id2word, passes=10)"
   ]
  },
  {
   "cell_type": "code",
   "execution_count": 174,
   "id": "133985bc-e472-4109-88ad-4f77f31b28ce",
   "metadata": {},
   "outputs": [
    {
     "data": {
      "text/plain": [
       "[(0,\n",
       "  '0.022*\"trump\" + 0.010*\"ban\" + 0.010*\"man\" + 0.009*\"worker\" + 0.008*\"work\" + 0.008*\"say\" + 0.008*\"donald\" + 0.007*\"donald trump\" + 0.006*\"chinese\" + 0.006*\"americans\"'),\n",
       " (1,\n",
       "  '0.009*\"thank\" + 0.006*\"need\" + 0.005*\"tesla\" + 0.005*\"know\" + 0.005*\"support\" + 0.005*\"takeover\" + 0.004*\"buy\" + 0.004*\"fight\" + 0.004*\"make\" + 0.004*\"reply\"'),\n",
       " (2,\n",
       "  '0.012*\"speech\" + 0.012*\"free\" + 0.010*\"buy\" + 0.009*\"free speech\" + 0.006*\"good\" + 0.005*\"tweet\" + 0.005*\"thing\" + 0.004*\"right\" + 0.004*\"freedom\" + 0.004*\"think\"'),\n",
       " (3,\n",
       "  '0.007*\"think\" + 0.006*\"people\" + 0.006*\"fuck\" + 0.005*\"want\" + 0.005*\"love\" + 0.005*\"money\" + 0.005*\"buy\" + 0.005*\"stock\" + 0.004*\"get\" + 0.004*\"take\"')]"
      ]
     },
     "execution_count": 174,
     "metadata": {},
     "output_type": "execute_result"
    }
   ],
   "source": [
    "lda.print_topics()"
   ]
  },
  {
   "cell_type": "code",
   "execution_count": 136,
   "id": "6d9b6412-6b60-481e-a2eb-88077e19c69a",
   "metadata": {
    "tags": []
   },
   "outputs": [],
   "source": [
    "#turn topic 0 result to data frame\n",
    "x = lda.show_topics()\n",
    "for tp in x[:1]:\n",
    "    biglist=[]\n",
    "    for i in tp[1].split('+'):\n",
    "        biglist.append([k.strip().strip('\"') for k in i.split('*')])"
   ]
  },
  {
   "cell_type": "code",
   "execution_count": 137,
   "id": "52ee1895-2f9e-4e23-ace2-bfc2cb6c6eba",
   "metadata": {},
   "outputs": [],
   "source": [
    "topic0df = pd.DataFrame(biglist)"
   ]
  },
  {
   "cell_type": "code",
   "execution_count": 138,
   "id": "d161f414-bacb-42f2-b136-762d932cd431",
   "metadata": {},
   "outputs": [
    {
     "data": {
      "text/html": [
       "<div>\n",
       "<style scoped>\n",
       "    .dataframe tbody tr th:only-of-type {\n",
       "        vertical-align: middle;\n",
       "    }\n",
       "\n",
       "    .dataframe tbody tr th {\n",
       "        vertical-align: top;\n",
       "    }\n",
       "\n",
       "    .dataframe thead th {\n",
       "        text-align: right;\n",
       "    }\n",
       "</style>\n",
       "<table border=\"1\" class=\"dataframe\">\n",
       "  <thead>\n",
       "    <tr style=\"text-align: right;\">\n",
       "      <th></th>\n",
       "      <th>0</th>\n",
       "      <th>1</th>\n",
       "    </tr>\n",
       "  </thead>\n",
       "  <tbody>\n",
       "    <tr>\n",
       "      <th>0</th>\n",
       "      <td>0.003</td>\n",
       "      <td>seriously</td>\n",
       "    </tr>\n",
       "    <tr>\n",
       "      <th>1</th>\n",
       "      <td>0.003</td>\n",
       "      <td>buy</td>\n",
       "    </tr>\n",
       "    <tr>\n",
       "      <th>2</th>\n",
       "      <td>0.002</td>\n",
       "      <td>man</td>\n",
       "    </tr>\n",
       "    <tr>\n",
       "      <th>3</th>\n",
       "      <td>0.002</td>\n",
       "      <td>money</td>\n",
       "    </tr>\n",
       "    <tr>\n",
       "      <th>4</th>\n",
       "      <td>0.002</td>\n",
       "      <td>big</td>\n",
       "    </tr>\n",
       "    <tr>\n",
       "      <th>5</th>\n",
       "      <td>0.002</td>\n",
       "      <td>think</td>\n",
       "    </tr>\n",
       "    <tr>\n",
       "      <th>6</th>\n",
       "      <td>0.002</td>\n",
       "      <td>free speech</td>\n",
       "    </tr>\n",
       "    <tr>\n",
       "      <th>7</th>\n",
       "      <td>0.002</td>\n",
       "      <td>free</td>\n",
       "    </tr>\n",
       "    <tr>\n",
       "      <th>8</th>\n",
       "      <td>0.002</td>\n",
       "      <td>invest</td>\n",
       "    </tr>\n",
       "    <tr>\n",
       "      <th>9</th>\n",
       "      <td>0.002</td>\n",
       "      <td>speech</td>\n",
       "    </tr>\n",
       "  </tbody>\n",
       "</table>\n",
       "</div>"
      ],
      "text/plain": [
       "       0            1\n",
       "0  0.003    seriously\n",
       "1  0.003          buy\n",
       "2  0.002          man\n",
       "3  0.002        money\n",
       "4  0.002          big\n",
       "5  0.002        think\n",
       "6  0.002  free speech\n",
       "7  0.002         free\n",
       "8  0.002       invest\n",
       "9  0.002       speech"
      ]
     },
     "execution_count": 138,
     "metadata": {},
     "output_type": "execute_result"
    }
   ],
   "source": [
    "topic0df"
   ]
  },
  {
   "cell_type": "code",
   "execution_count": 262,
   "id": "49f85d56-a39c-401b-b491-1084d04bbabe",
   "metadata": {},
   "outputs": [],
   "source": [
    "doc_topic = [doc for doc in lda[corpus]]"
   ]
  },
  {
   "cell_type": "code",
   "execution_count": 268,
   "id": "92523661-566a-4659-8663-9de744462201",
   "metadata": {},
   "outputs": [
    {
     "data": {
      "text/plain": [
       "[[(0, 0.8732623), (1, 0.042037796), (2, 0.042343963), (3, 0.04235595)],\n",
       " [(0, 0.059106246), (1, 0.8230351), (2, 0.058854356), (3, 0.05900431)],\n",
       " [(0, 0.047458686), (1, 0.047257353), (2, 0.04734505), (3, 0.8579389)]]"
      ]
     },
     "execution_count": 268,
     "metadata": {},
     "output_type": "execute_result"
    }
   ],
   "source": [
    "doc_topic[:3]"
   ]
  },
  {
   "cell_type": "code",
   "execution_count": 277,
   "id": "a180fd9f-1b5b-4783-aa2f-52cfd909577f",
   "metadata": {},
   "outputs": [],
   "source": [
    "doc_topic_clean=[]\n",
    "for doc in doc_topic:\n",
    "    doc_topic_clean.append([topic[1] for topic in doc])"
   ]
  },
  {
   "cell_type": "code",
   "execution_count": 280,
   "id": "705977ed-308b-4d57-a6e4-0bfd083547f0",
   "metadata": {},
   "outputs": [
    {
     "data": {
      "text/html": [
       "<div>\n",
       "<style scoped>\n",
       "    .dataframe tbody tr th:only-of-type {\n",
       "        vertical-align: middle;\n",
       "    }\n",
       "\n",
       "    .dataframe tbody tr th {\n",
       "        vertical-align: top;\n",
       "    }\n",
       "\n",
       "    .dataframe thead th {\n",
       "        text-align: right;\n",
       "    }\n",
       "</style>\n",
       "<table border=\"1\" class=\"dataframe\">\n",
       "  <thead>\n",
       "    <tr style=\"text-align: right;\">\n",
       "      <th></th>\n",
       "      <th>0</th>\n",
       "      <th>1</th>\n",
       "      <th>2</th>\n",
       "      <th>3</th>\n",
       "    </tr>\n",
       "  </thead>\n",
       "  <tbody>\n",
       "    <tr>\n",
       "      <th>0</th>\n",
       "      <td>0.873262</td>\n",
       "      <td>0.042038</td>\n",
       "      <td>0.042344</td>\n",
       "      <td>0.042356</td>\n",
       "    </tr>\n",
       "    <tr>\n",
       "      <th>1</th>\n",
       "      <td>0.059106</td>\n",
       "      <td>0.823035</td>\n",
       "      <td>0.058854</td>\n",
       "      <td>0.059004</td>\n",
       "    </tr>\n",
       "    <tr>\n",
       "      <th>2</th>\n",
       "      <td>0.047459</td>\n",
       "      <td>0.047257</td>\n",
       "      <td>0.047345</td>\n",
       "      <td>0.857939</td>\n",
       "    </tr>\n",
       "    <tr>\n",
       "      <th>3</th>\n",
       "      <td>0.043632</td>\n",
       "      <td>0.043369</td>\n",
       "      <td>0.870263</td>\n",
       "      <td>0.042737</td>\n",
       "    </tr>\n",
       "    <tr>\n",
       "      <th>4</th>\n",
       "      <td>0.872782</td>\n",
       "      <td>0.042510</td>\n",
       "      <td>0.042574</td>\n",
       "      <td>0.042134</td>\n",
       "    </tr>\n",
       "  </tbody>\n",
       "</table>\n",
       "</div>"
      ],
      "text/plain": [
       "          0         1         2         3\n",
       "0  0.873262  0.042038  0.042344  0.042356\n",
       "1  0.059106  0.823035  0.058854  0.059004\n",
       "2  0.047459  0.047257  0.047345  0.857939\n",
       "3  0.043632  0.043369  0.870263  0.042737\n",
       "4  0.872782  0.042510  0.042574  0.042134"
      ]
     },
     "execution_count": 280,
     "metadata": {},
     "output_type": "execute_result"
    }
   ],
   "source": [
    "doc_topic_df = pd.DataFrame(doc_topic_clean)\n",
    "doc_topic_df.head()"
   ]
  },
  {
   "cell_type": "code",
   "execution_count": 290,
   "id": "ebd7f1b3-3adc-47e0-8536-efcbbf805361",
   "metadata": {},
   "outputs": [],
   "source": [
    "doc_topic_df['Text'] = testdf_en['CleanedText']"
   ]
  },
  {
   "cell_type": "code",
   "execution_count": 291,
   "id": "a540f07d-4d2b-4004-a3b4-163f249a1db9",
   "metadata": {},
   "outputs": [
    {
     "data": {
      "text/plain": [
       "(89, 5)"
      ]
     },
     "execution_count": 291,
     "metadata": {},
     "output_type": "execute_result"
    }
   ],
   "source": [
    "doc_topic_df.shape"
   ]
  },
  {
   "cell_type": "markdown",
   "id": "56b0c150-fe5c-41fe-92f0-ba91204113ae",
   "metadata": {},
   "source": [
    "# Sentiment Visualization"
   ]
  },
  {
   "cell_type": "code",
   "execution_count": 249,
   "id": "e735d035-851d-45c7-b045-532ce7aba166",
   "metadata": {},
   "outputs": [],
   "source": [
    "import seaborn as sns\n",
    "import matplotlib.pyplot as plt"
   ]
  },
  {
   "cell_type": "code",
   "execution_count": 250,
   "id": "ca92fb68-06ab-45e7-a53c-bab5e7c5ecc8",
   "metadata": {},
   "outputs": [],
   "source": [
    "sentiment_df = tweets_df_en[~tweets_df_en['Attack']].groupby(['Date', 'Conservative'])['VADER_Compound'].mean().reset_index()"
   ]
  },
  {
   "cell_type": "code",
   "execution_count": 256,
   "id": "b62d70ba-270f-423a-9db9-fb675115a6e9",
   "metadata": {},
   "outputs": [],
   "source": [
    "sentiment_df['Date'] = sentiment_df['Date'].astype(str)"
   ]
  },
  {
   "cell_type": "code",
   "execution_count": 257,
   "id": "b293f9b9-3fd2-411e-accf-aa94064a8011",
   "metadata": {},
   "outputs": [
    {
     "data": {
      "text/html": [
       "<div>\n",
       "<style scoped>\n",
       "    .dataframe tbody tr th:only-of-type {\n",
       "        vertical-align: middle;\n",
       "    }\n",
       "\n",
       "    .dataframe tbody tr th {\n",
       "        vertical-align: top;\n",
       "    }\n",
       "\n",
       "    .dataframe thead th {\n",
       "        text-align: right;\n",
       "    }\n",
       "</style>\n",
       "<table border=\"1\" class=\"dataframe\">\n",
       "  <thead>\n",
       "    <tr style=\"text-align: right;\">\n",
       "      <th></th>\n",
       "      <th>Date</th>\n",
       "      <th>Conservative</th>\n",
       "      <th>VADER_Compound</th>\n",
       "    </tr>\n",
       "  </thead>\n",
       "  <tbody>\n",
       "    <tr>\n",
       "      <th>0</th>\n",
       "      <td>2021-04-05</td>\n",
       "      <td>False</td>\n",
       "      <td>0.173304</td>\n",
       "    </tr>\n",
       "    <tr>\n",
       "      <th>1</th>\n",
       "      <td>2021-04-05</td>\n",
       "      <td>True</td>\n",
       "      <td>0.144464</td>\n",
       "    </tr>\n",
       "    <tr>\n",
       "      <th>2</th>\n",
       "      <td>2022-04-14</td>\n",
       "      <td>False</td>\n",
       "      <td>0.091543</td>\n",
       "    </tr>\n",
       "    <tr>\n",
       "      <th>3</th>\n",
       "      <td>2022-04-14</td>\n",
       "      <td>True</td>\n",
       "      <td>0.081203</td>\n",
       "    </tr>\n",
       "    <tr>\n",
       "      <th>4</th>\n",
       "      <td>2022-04-25</td>\n",
       "      <td>False</td>\n",
       "      <td>0.096991</td>\n",
       "    </tr>\n",
       "    <tr>\n",
       "      <th>5</th>\n",
       "      <td>2022-04-25</td>\n",
       "      <td>True</td>\n",
       "      <td>0.137316</td>\n",
       "    </tr>\n",
       "    <tr>\n",
       "      <th>6</th>\n",
       "      <td>2022-05-10</td>\n",
       "      <td>False</td>\n",
       "      <td>0.066262</td>\n",
       "    </tr>\n",
       "    <tr>\n",
       "      <th>7</th>\n",
       "      <td>2022-05-10</td>\n",
       "      <td>True</td>\n",
       "      <td>0.094028</td>\n",
       "    </tr>\n",
       "  </tbody>\n",
       "</table>\n",
       "</div>"
      ],
      "text/plain": [
       "         Date  Conservative  VADER_Compound\n",
       "0  2021-04-05         False        0.173304\n",
       "1  2021-04-05          True        0.144464\n",
       "2  2022-04-14         False        0.091543\n",
       "3  2022-04-14          True        0.081203\n",
       "4  2022-04-25         False        0.096991\n",
       "5  2022-04-25          True        0.137316\n",
       "6  2022-05-10         False        0.066262\n",
       "7  2022-05-10          True        0.094028"
      ]
     },
     "execution_count": 257,
     "metadata": {},
     "output_type": "execute_result"
    }
   ],
   "source": [
    "sentiment_df"
   ]
  },
  {
   "cell_type": "code",
   "execution_count": 284,
   "id": "03b2a9ec-c840-4af6-bf03-289b00834a0e",
   "metadata": {},
   "outputs": [
    {
     "data": {
      "image/png": "[encoded data removed]",
      "text/plain": [
       "<Figure size 864x576 with 1 Axes>"
      ]
     },
     "metadata": {
      "needs_background": "light"
     },
     "output_type": "display_data"
    }
   ],
   "source": [
    "# Create an array with the colors you want to use\n",
    "colors = [\"#4374B3\", \"#FF0B04\"]\n",
    "# Set your custom color palette\n",
    "sns.set_palette(sns.color_palette(colors))\n",
    "\n",
    "sns.set_context(\"talk\")\n",
    "\n",
    "fig = plt.figure(figsize = (12,8))\n",
    "\n",
    "ax = sns.barplot(x = 'Date',\n",
    "            y = 'VADER_Compound',\n",
    "            hue = 'Conservative',\n",
    "            data = sentiment_df)\n",
    "#plt.xticks(rotation=45)\n",
    "\n",
    "ax.figure.savefig(\"sentiment.png\",\n",
    "                      bbox_inches=\"tight\")\n",
    "#plt.show()"
   ]
  },
  {
   "cell_type": "markdown",
   "id": "6d3e08d8-4016-4763-9bf3-4777531acede",
   "metadata": {},
   "source": [
    "# Topic Visualization (NMF)"
   ]
  },
  {
   "cell_type": "code",
   "execution_count": 318,
   "id": "74a56b98-1f53-4c3e-afd0-d9afbbaf50ed",
   "metadata": {},
   "outputs": [
    {
     "data": {
      "text/html": [
       "<div>\n",
       "<style scoped>\n",
       "    .dataframe tbody tr th:only-of-type {\n",
       "        vertical-align: middle;\n",
       "    }\n",
       "\n",
       "    .dataframe tbody tr th {\n",
       "        vertical-align: top;\n",
       "    }\n",
       "\n",
       "    .dataframe thead th {\n",
       "        text-align: right;\n",
       "    }\n",
       "</style>\n",
       "<table border=\"1\" class=\"dataframe\">\n",
       "  <thead>\n",
       "    <tr style=\"text-align: right;\">\n",
       "      <th></th>\n",
       "      <th>free speech</th>\n",
       "      <th>buy stocks and crypto</th>\n",
       "      <th>unknown</th>\n",
       "      <th>thankful</th>\n",
       "      <th>Text</th>\n",
       "      <th>Date</th>\n",
       "    </tr>\n",
       "  </thead>\n",
       "  <tbody>\n",
       "    <tr>\n",
       "      <th>0</th>\n",
       "      <td>0.0</td>\n",
       "      <td>0.00150</td>\n",
       "      <td>0.00825</td>\n",
       "      <td>0.00142</td>\n",
       "      <td>#SAFEMOON is the future Elon! Join us!</td>\n",
       "      <td>2021-04-05</td>\n",
       "    </tr>\n",
       "    <tr>\n",
       "      <th>1</th>\n",
       "      <td>0.0</td>\n",
       "      <td>0.00029</td>\n",
       "      <td>0.01668</td>\n",
       "      <td>0.00000</td>\n",
       "      <td>They also juice the numbers because each death in a private hospital gets a subsidy check from the gov. Elon Musk said this, so take it for what its worth</td>\n",
       "      <td>2021-04-05</td>\n",
       "    </tr>\n",
       "    <tr>\n",
       "      <th>2</th>\n",
       "      <td>0.0</td>\n",
       "      <td>0.00000</td>\n",
       "      <td>0.01822</td>\n",
       "      <td>0.00776</td>\n",
       "      <td>Elon is in Seattle too surely something big is happening at Starlink</td>\n",
       "      <td>2021-04-05</td>\n",
       "    </tr>\n",
       "    <tr>\n",
       "      <th>3</th>\n",
       "      <td>0.0</td>\n",
       "      <td>0.00000</td>\n",
       "      <td>0.01345</td>\n",
       "      <td>0.00000</td>\n",
       "      <td>elon musk because hes achieving so many things i aspire to accomplish</td>\n",
       "      <td>2021-04-05</td>\n",
       "    </tr>\n",
       "    <tr>\n",
       "      <th>4</th>\n",
       "      <td>0.0</td>\n",
       "      <td>0.00000</td>\n",
       "      <td>0.01900</td>\n",
       "      <td>0.00078</td>\n",
       "      <td>Today you witnessed an explosion. Wow. Sheltered much. Musk can throw anything into the atmosphere and we have to get emissions tests on our little cars cause of pollution. Hey AstroNOT, it will end as Babel, slapped back to the ground. Sorry.</td>\n",
       "      <td>2021-04-05</td>\n",
       "    </tr>\n",
       "  </tbody>\n",
       "</table>\n",
       "</div>"
      ],
      "text/plain": [
       "   free speech  buy stocks and crypto  unknown  thankful  \\\n",
       "0          0.0                0.00150  0.00825   0.00142   \n",
       "1          0.0                0.00029  0.01668   0.00000   \n",
       "2          0.0                0.00000  0.01822   0.00776   \n",
       "3          0.0                0.00000  0.01345   0.00000   \n",
       "4          0.0                0.00000  0.01900   0.00078   \n",
       "\n",
       "                                                                                                                                                                                                                                                  Text  \\\n",
       "0                                                                                                                                                                                                               #SAFEMOON is the future Elon! Join us!   \n",
       "1                                                                                           They also juice the numbers because each death in a private hospital gets a subsidy check from the gov. Elon Musk said this, so take it for what its worth   \n",
       "2                                                                                                                                                                                 Elon is in Seattle too surely something big is happening at Starlink   \n",
       "3                                                                                                                                                                                elon musk because hes achieving so many things i aspire to accomplish   \n",
       "4  Today you witnessed an explosion. Wow. Sheltered much. Musk can throw anything into the atmosphere and we have to get emissions tests on our little cars cause of pollution. Hey AstroNOT, it will end as Babel, slapped back to the ground. Sorry.   \n",
       "\n",
       "         Date  \n",
       "0  2021-04-05  \n",
       "1  2021-04-05  \n",
       "2  2021-04-05  \n",
       "3  2021-04-05  \n",
       "4  2021-04-05  "
      ]
     },
     "execution_count": 318,
     "metadata": {},
     "output_type": "execute_result"
    }
   ],
   "source": [
    "doc_topic_df = pd.DataFrame(doc_topic_nmf.round(5), columns = [\"free speech\", \"buy stocks and crypto\", 'unknown', 'thankful'])\n",
    "doc_topic_df['Text'] = tweets_df_en['CleanedText']\n",
    "doc_topic_df['Date'] = tweets_df_en['Date'].astype(str)\n",
    "doc_topic_df.head()"
   ]
  },
  {
   "cell_type": "code",
   "execution_count": 319,
   "id": "bff0e5a0-2afa-43c5-93c9-194ab8241fa8",
   "metadata": {},
   "outputs": [],
   "source": [
    "topic_df = doc_topic_df.groupby('Date')[[\"free speech\", \"buy stocks and crypto\", 'unknown', 'thankful']].mean()"
   ]
  },
  {
   "cell_type": "code",
   "execution_count": 321,
   "id": "9618736a-0e68-4a42-b092-594c9299ee72",
   "metadata": {},
   "outputs": [
    {
     "data": {
      "image/png": "[encoded data removed]",
      "text/plain": [
       "<Figure size 864x576 with 1 Axes>"
      ]
     },
     "metadata": {},
     "output_type": "display_data"
    }
   ],
   "source": [
    "sns.set(rc = {'figure.figsize':(12,8)})\n",
    "sns.set_context(\"talk\")\n",
    "sns.set_palette(sns.color_palette(palette='colorblind'))\n",
    "ax = topic_df.plot(kind=\"line\")\n",
    "plt.legend(bbox_to_anchor=(1.02, 1), loc='upper left', borderaxespad=0)\n",
    "\n",
    "ax.figure.savefig(\"topic_NMF.png\",\n",
    "                      bbox_inches=\"tight\")"
   ]
  },
  {
   "cell_type": "markdown",
   "id": "89e4f7c3-7fff-45ec-840e-49dc3c61b17d",
   "metadata": {},
   "source": [
    "# Topic Visualization (LSA)"
   ]
  },
  {
   "cell_type": "code",
   "execution_count": 322,
   "id": "30c0fd11-a4c7-4753-90c3-bb7e2c6192f9",
   "metadata": {},
   "outputs": [
    {
     "data": {
      "text/html": [
       "<div>\n",
       "<style scoped>\n",
       "    .dataframe tbody tr th:only-of-type {\n",
       "        vertical-align: middle;\n",
       "    }\n",
       "\n",
       "    .dataframe tbody tr th {\n",
       "        vertical-align: top;\n",
       "    }\n",
       "\n",
       "    .dataframe thead th {\n",
       "        text-align: right;\n",
       "    }\n",
       "</style>\n",
       "<table border=\"1\" class=\"dataframe\">\n",
       "  <thead>\n",
       "    <tr style=\"text-align: right;\">\n",
       "      <th></th>\n",
       "      <th>free speech</th>\n",
       "      <th>buy stocks and crypto</th>\n",
       "      <th>free speech and buy crypto</th>\n",
       "      <th>thankful</th>\n",
       "      <th>Text</th>\n",
       "      <th>Date</th>\n",
       "    </tr>\n",
       "  </thead>\n",
       "  <tbody>\n",
       "    <tr>\n",
       "      <th>0</th>\n",
       "      <td>0.01848</td>\n",
       "      <td>0.00896</td>\n",
       "      <td>-0.01736</td>\n",
       "      <td>0.00253</td>\n",
       "      <td>#SAFEMOON is the future Elon! Join us!</td>\n",
       "      <td>2021-04-05</td>\n",
       "    </tr>\n",
       "    <tr>\n",
       "      <th>1</th>\n",
       "      <td>0.03288</td>\n",
       "      <td>0.01181</td>\n",
       "      <td>-0.03706</td>\n",
       "      <td>-0.00206</td>\n",
       "      <td>They also juice the numbers because each death in a private hospital gets a subsidy check from the gov. Elon Musk said this, so take it for what its worth</td>\n",
       "      <td>2021-04-05</td>\n",
       "    </tr>\n",
       "    <tr>\n",
       "      <th>2</th>\n",
       "      <td>0.03728</td>\n",
       "      <td>0.01157</td>\n",
       "      <td>-0.04579</td>\n",
       "      <td>0.02287</td>\n",
       "      <td>Elon is in Seattle too surely something big is happening at Starlink</td>\n",
       "      <td>2021-04-05</td>\n",
       "    </tr>\n",
       "    <tr>\n",
       "      <th>3</th>\n",
       "      <td>0.02432</td>\n",
       "      <td>0.00586</td>\n",
       "      <td>-0.03148</td>\n",
       "      <td>-0.01549</td>\n",
       "      <td>elon musk because hes achieving so many things i aspire to accomplish</td>\n",
       "      <td>2021-04-05</td>\n",
       "    </tr>\n",
       "    <tr>\n",
       "      <th>4</th>\n",
       "      <td>0.03560</td>\n",
       "      <td>0.01433</td>\n",
       "      <td>-0.04429</td>\n",
       "      <td>0.00233</td>\n",
       "      <td>Today you witnessed an explosion. Wow. Sheltered much. Musk can throw anything into the atmosphere and we have to get emissions tests on our little cars cause of pollution. Hey AstroNOT, it will end as Babel, slapped back to the ground. Sorry.</td>\n",
       "      <td>2021-04-05</td>\n",
       "    </tr>\n",
       "  </tbody>\n",
       "</table>\n",
       "</div>"
      ],
      "text/plain": [
       "   free speech  buy stocks and crypto  free speech and buy crypto  thankful  \\\n",
       "0      0.01848                0.00896                    -0.01736   0.00253   \n",
       "1      0.03288                0.01181                    -0.03706  -0.00206   \n",
       "2      0.03728                0.01157                    -0.04579   0.02287   \n",
       "3      0.02432                0.00586                    -0.03148  -0.01549   \n",
       "4      0.03560                0.01433                    -0.04429   0.00233   \n",
       "\n",
       "                                                                                                                                                                                                                                                  Text  \\\n",
       "0                                                                                                                                                                                                               #SAFEMOON is the future Elon! Join us!   \n",
       "1                                                                                           They also juice the numbers because each death in a private hospital gets a subsidy check from the gov. Elon Musk said this, so take it for what its worth   \n",
       "2                                                                                                                                                                                 Elon is in Seattle too surely something big is happening at Starlink   \n",
       "3                                                                                                                                                                                elon musk because hes achieving so many things i aspire to accomplish   \n",
       "4  Today you witnessed an explosion. Wow. Sheltered much. Musk can throw anything into the atmosphere and we have to get emissions tests on our little cars cause of pollution. Hey AstroNOT, it will end as Babel, slapped back to the ground. Sorry.   \n",
       "\n",
       "         Date  \n",
       "0  2021-04-05  \n",
       "1  2021-04-05  \n",
       "2  2021-04-05  \n",
       "3  2021-04-05  \n",
       "4  2021-04-05  "
      ]
     },
     "execution_count": 322,
     "metadata": {},
     "output_type": "execute_result"
    }
   ],
   "source": [
    "doc_topic_df = pd.DataFrame(doc_topic_lsa.round(5), columns = [\"free speech\", \"buy stocks and crypto\", 'free speech and buy crypto', 'thankful'])\n",
    "doc_topic_df['Text'] = tweets_df_en['CleanedText']\n",
    "doc_topic_df['Date'] = tweets_df_en['Date'].astype(str)\n",
    "doc_topic_df.head()"
   ]
  },
  {
   "cell_type": "code",
   "execution_count": 323,
   "id": "6e46bca1-6842-4ea7-8e92-8855c6f90f92",
   "metadata": {},
   "outputs": [],
   "source": [
    "topic_df = doc_topic_df.groupby('Date')[[\"free speech\", \"buy stocks and crypto\", 'free speech and buy crypto', 'thankful']].mean()"
   ]
  },
  {
   "cell_type": "code",
   "execution_count": 324,
   "id": "e0ee037a-77d1-489d-8b45-2f94919d8124",
   "metadata": {},
   "outputs": [
    {
     "data": {
      "image/png": "[encoded data removed]",
      "text/plain": [
       "<Figure size 864x576 with 1 Axes>"
      ]
     },
     "metadata": {},
     "output_type": "display_data"
    }
   ],
   "source": [
    "sns.set(rc = {'figure.figsize':(12,8)})\n",
    "sns.set_context(\"talk\")\n",
    "sns.set_palette(sns.color_palette(palette='colorblind'))\n",
    "ax = topic_df.plot(kind=\"line\")\n",
    "plt.legend(bbox_to_anchor=(1.02, 1), loc='upper left', borderaxespad=0)\n",
    "\n",
    "ax.figure.savefig(\"topic_LSA.png\",\n",
    "                      bbox_inches=\"tight\")"
   ]
  },
  {
   "cell_type": "code",
   "execution_count": 326,
   "id": "672bcf4f-cdb0-43ab-b87a-29c435aaf8fd",
   "metadata": {},
   "outputs": [
    {
     "data": {
      "image/png": "[encoded data removed]",
      "text/plain": [
       "<Figure size 864x576 with 1 Axes>"
      ]
     },
     "metadata": {},
     "output_type": "display_data"
    }
   ],
   "source": [
    "sns.set(rc = {'figure.figsize':(12,8)})\n",
    "sns.set_context(\"talk\")\n",
    "sns.set_palette(sns.color_palette(palette='colorblind'))\n",
    "ax = topic_df[[\"free speech\", \"buy stocks and crypto\", 'thankful']].plot(kind=\"line\")\n",
    "plt.legend(bbox_to_anchor=(1.02, 1), loc='upper left', borderaxespad=0)\n",
    "\n",
    "ax.figure.savefig(\"topic_LSA_drop_1.png\",\n",
    "                      bbox_inches=\"tight\")"
   ]
  },
  {
   "cell_type": "markdown",
   "id": "1c2a8365-1baa-4c1f-b8e0-cfa736576d64",
   "metadata": {},
   "source": [
    "# Word Cloud Topic Visualization\n",
    "Going with LSA"
   ]
  },
  {
   "cell_type": "code",
   "execution_count": 191,
   "id": "3a1d52b8-7650-4a4a-94ac-650702c8c5f3",
   "metadata": {},
   "outputs": [
    {
     "data": {
      "text/html": [
       "<div>\n",
       "<style scoped>\n",
       "    .dataframe tbody tr th:only-of-type {\n",
       "        vertical-align: middle;\n",
       "    }\n",
       "\n",
       "    .dataframe tbody tr th {\n",
       "        vertical-align: top;\n",
       "    }\n",
       "\n",
       "    .dataframe thead th {\n",
       "        text-align: right;\n",
       "    }\n",
       "</style>\n",
       "<table border=\"1\" class=\"dataframe\">\n",
       "  <thead>\n",
       "    <tr style=\"text-align: right;\">\n",
       "      <th></th>\n",
       "      <th>free speech</th>\n",
       "      <th>buy stocks and crypto</th>\n",
       "      <th>free speech and buy crypto</th>\n",
       "      <th>thankful</th>\n",
       "      <th>Text</th>\n",
       "    </tr>\n",
       "  </thead>\n",
       "  <tbody>\n",
       "    <tr>\n",
       "      <th>0</th>\n",
       "      <td>0.01848</td>\n",
       "      <td>0.00896</td>\n",
       "      <td>-0.01736</td>\n",
       "      <td>0.00253</td>\n",
       "      <td>#SAFEMOON is the future Elon! Join us!</td>\n",
       "    </tr>\n",
       "    <tr>\n",
       "      <th>1</th>\n",
       "      <td>0.03288</td>\n",
       "      <td>0.01181</td>\n",
       "      <td>-0.03706</td>\n",
       "      <td>-0.00206</td>\n",
       "      <td>They also juice the numbers because each death in a private hospital gets a subsidy check from the gov. Elon Musk said this, so take it for what its worth</td>\n",
       "    </tr>\n",
       "    <tr>\n",
       "      <th>2</th>\n",
       "      <td>0.03728</td>\n",
       "      <td>0.01157</td>\n",
       "      <td>-0.04579</td>\n",
       "      <td>0.02287</td>\n",
       "      <td>Elon is in Seattle too surely something big is happening at Starlink</td>\n",
       "    </tr>\n",
       "    <tr>\n",
       "      <th>3</th>\n",
       "      <td>0.02432</td>\n",
       "      <td>0.00586</td>\n",
       "      <td>-0.03148</td>\n",
       "      <td>-0.01549</td>\n",
       "      <td>elon musk because hes achieving so many things i aspire to accomplish</td>\n",
       "    </tr>\n",
       "    <tr>\n",
       "      <th>4</th>\n",
       "      <td>0.03560</td>\n",
       "      <td>0.01433</td>\n",
       "      <td>-0.04429</td>\n",
       "      <td>0.00233</td>\n",
       "      <td>Today you witnessed an explosion. Wow. Sheltered much. Musk can throw anything into the atmosphere and we have to get emissions tests on our little cars cause of pollution. Hey AstroNOT, it will end as Babel, slapped back to the ground. Sorry.</td>\n",
       "    </tr>\n",
       "  </tbody>\n",
       "</table>\n",
       "</div>"
      ],
      "text/plain": [
       "   free speech  buy stocks and crypto  free speech and buy crypto  thankful  \\\n",
       "0      0.01848                0.00896                    -0.01736   0.00253   \n",
       "1      0.03288                0.01181                    -0.03706  -0.00206   \n",
       "2      0.03728                0.01157                    -0.04579   0.02287   \n",
       "3      0.02432                0.00586                    -0.03148  -0.01549   \n",
       "4      0.03560                0.01433                    -0.04429   0.00233   \n",
       "\n",
       "                                                                                                                                                                                                                                                  Text  \n",
       "0                                                                                                                                                                                                               #SAFEMOON is the future Elon! Join us!  \n",
       "1                                                                                           They also juice the numbers because each death in a private hospital gets a subsidy check from the gov. Elon Musk said this, so take it for what its worth  \n",
       "2                                                                                                                                                                                 Elon is in Seattle too surely something big is happening at Starlink  \n",
       "3                                                                                                                                                                                elon musk because hes achieving so many things i aspire to accomplish  \n",
       "4  Today you witnessed an explosion. Wow. Sheltered much. Musk can throw anything into the atmosphere and we have to get emissions tests on our little cars cause of pollution. Hey AstroNOT, it will end as Babel, slapped back to the ground. Sorry.  "
      ]
     },
     "execution_count": 191,
     "metadata": {},
     "output_type": "execute_result"
    }
   ],
   "source": [
    "doc_topic_lsa_df.head()"
   ]
  },
  {
   "cell_type": "code",
   "execution_count": 192,
   "id": "23e04ea6-52d6-4c67-958f-ab1a9c6e65ac",
   "metadata": {},
   "outputs": [],
   "source": [
    "from wordcloud import WordCloud\n",
    "import matplotlib.pyplot as plt\n",
    "%matplotlib inline\n",
    "#from PIL import Image"
   ]
  },
  {
   "cell_type": "code",
   "execution_count": 193,
   "id": "22f89dec-9cc2-44dd-8f09-cffa54bd86da",
   "metadata": {},
   "outputs": [],
   "source": [
    "font_path = \"DINCondensed-Bold.ttf\"\n",
    "wc = WordCloud(background_color=\"white\",max_words=25,max_font_size=60, relative_scaling=.5,\n",
    "                          colormap='Dark2', scale=3, collocations=False, font_path=font_path)\n"
   ]
  },
  {
   "cell_type": "code",
   "execution_count": 344,
   "id": "6aababb0-92db-416b-9d8a-1aa741315241",
   "metadata": {
    "collapsed": false,
    "jupyter": {
     "outputs_hidden": false
    }
   },
   "outputs": [],
   "source": [
    "# Helper function for printing a given wordcloud\n",
    "def print_word_cloud(topic, num_of_tweets, title):\n",
    "    string = doc_topic_lsa_df.sort_values(topic, ascending=False).Text[:num_of_tweets].\\\n",
    "            str.cat(sep=' ').upper().replace('<URL>', ' ').replace('ELON', ' ').replace('MUSK', ' ').replace('ELONMUSK', ' ')\n",
    "    cloud = wc.generate(string)\n",
    "    fig = plt.figure()\n",
    "    fig.set_figwidth(14)\n",
    "    fig.set_figheight(18)\n",
    "    ax = plt.imshow(wc)\n",
    "    plt.title(title, size=30).set_position([.5, 1.05])\n",
    "    plt.axis('off')\n",
    "    \n",
    "    return fig"
   ]
  },
  {
   "cell_type": "code",
   "execution_count": 362,
   "id": "acf3288d-3fa4-4ad9-94dd-618f9c7d6e65",
   "metadata": {
    "collapsed": false,
    "jupyter": {
     "outputs_hidden": false
    }
   },
   "outputs": [
    {
     "data": {
      "image/png": "[encoded data removed]",
      "text/plain": [
       "<Figure size 1008x1296 with 1 Axes>"
      ]
     },
     "metadata": {},
     "output_type": "display_data"
    }
   ],
   "source": [
    "fig = print_word_cloud('free speech', 500, 'Twitter and Free Speech')\n",
    "fig.figure.savefig(\"topic_free_speech.png\",\n",
    "                      bbox_inches=\"tight\")"
   ]
  },
  {
   "cell_type": "code",
   "execution_count": 365,
   "id": "fb762de1-e5a0-4c50-8ff5-58916891f5d3",
   "metadata": {},
   "outputs": [
    {
     "data": {
      "image/png": "[encoded data removed]",
      "text/plain": [
       "<Figure size 1008x1296 with 1 Axes>"
      ]
     },
     "metadata": {},
     "output_type": "display_data"
    }
   ],
   "source": [
    "fig = print_word_cloud('buy stocks and crypto', 500, 'Buying Stocks and Crypto')\n",
    "fig.figure.savefig(\"topic_buy_stock.png\",\n",
    "                      bbox_inches=\"tight\")"
   ]
  },
  {
   "cell_type": "code",
   "execution_count": 373,
   "id": "9368efaa-95a6-4c96-a78c-ddfec5eee223",
   "metadata": {},
   "outputs": [
    {
     "data": {
      "image/png": "[encoded data removed]",
      "text/plain": [
       "<Figure size 1008x1296 with 1 Axes>"
      ]
     },
     "metadata": {},
     "output_type": "display_data"
    }
   ],
   "source": [
    "fig = print_word_cloud('thankful', 500, 'Thankful for Support during Myanmar Coup')\n",
    "fig.figure.savefig(\"topic_thankful.png\",\n",
    "                      bbox_inches=\"tight\")"
   ]
  },
  {
   "cell_type": "code",
   "execution_count": 240,
   "id": "458aa282-1089-47c0-b3b9-769b70db58c1",
   "metadata": {},
   "outputs": [
    {
     "data": {
      "image/png": "[encoded data removed]",
      "text/plain": [
       "<Figure size 1008x1296 with 1 Axes>"
      ]
     },
     "metadata": {
      "needs_background": "light"
     },
     "output_type": "display_data"
    }
   ],
   "source": [
    "print_word_cloud('free speech and buy crypto', 500, 'Free Speech and Buying Twitter')"
   ]
  }
 ],
 "metadata": {
  "kernelspec": {
   "display_name": "Python 3 (ipykernel)",
   "language": "python",
   "name": "python3"
  },
  "language_info": {
   "codemirror_mode": {
    "name": "ipython",
    "version": 3
   },
   "file_extension": ".py",
   "mimetype": "text/x-python",
   "name": "python",
   "nbconvert_exporter": "python",
   "pygments_lexer": "ipython3",
   "version": "3.8.8"
  }
 },
 "nbformat": 4,
 "nbformat_minor": 5
}
