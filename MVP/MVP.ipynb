{
 "cells": [
  {
   "cell_type": "markdown",
   "id": "318ca90c-4127-4b01-8519-10308d1141cd",
   "metadata": {},
   "source": [
    "# Tweepy\n",
    "Standard Twitter API limits search to the recent 7 days"
   ]
  },
  {
   "cell_type": "code",
   "execution_count": 41,
   "id": "77356cd4-bbb9-42af-a1e1-0440589cf995",
   "metadata": {},
   "outputs": [],
   "source": [
    "import tweepy\n",
    "import configparser\n",
    "import datetime"
   ]
  },
  {
   "cell_type": "code",
   "execution_count": 33,
   "id": "01ef1671-2eab-49e1-b8eb-7378658450b8",
   "metadata": {},
   "outputs": [
    {
     "data": {
      "text/plain": [
       "['../twitter_api/config.ini']"
      ]
     },
     "execution_count": 33,
     "metadata": {},
     "output_type": "execute_result"
    }
   ],
   "source": [
    "config = configparser.ConfigParser()\n",
    "config.read('../twitter_api/config.ini')"
   ]
  },
  {
   "cell_type": "code",
   "execution_count": 35,
   "id": "a807bf50-9551-4e68-b189-6dfe264595de",
   "metadata": {},
   "outputs": [],
   "source": [
    "#loading the keys\n",
    "api_key = config['twitter']['api_key']\n",
    "api_key_secret = config['twitter']['api_key_secret']\n",
    "access_token = config['twitter']['access_token']\n",
    "access_token_secret = config['twitter']['access_token_secret']"
   ]
  },
  {
   "cell_type": "code",
   "execution_count": 86,
   "id": "65abcb0e-1dd3-4be6-841b-7738b00c348e",
   "metadata": {},
   "outputs": [],
   "source": [
    "#authentication\n",
    "auth = tweepy.OAuthHandler(api_key, api_key_secret)\n",
    "auth.set_access_token(access_token, access_token_secret)\n",
    "api = tweepy.API(auth)"
   ]
  },
  {
   "cell_type": "code",
   "execution_count": 70,
   "id": "f8d9d0b9-1247-487d-9126-397cc912b6f1",
   "metadata": {},
   "outputs": [],
   "source": [
    "username = 'elonmusk'\n",
    "startDate = datetime.datetime(2022, 5, 1, 0, 0, 0)\n",
    "endDate =   datetime.datetime(2022, 5, 7, 0, 0, 0)"
   ]
  },
  {
   "cell_type": "code",
   "execution_count": 71,
   "id": "7d27af98-ee57-4cd7-9438-7acbf8e2b8af",
   "metadata": {},
   "outputs": [
    {
     "data": {
      "text/plain": [
       "datetime.date(2022, 5, 1)"
      ]
     },
     "execution_count": 71,
     "metadata": {},
     "output_type": "execute_result"
    }
   ],
   "source": [
    "startDate.date()"
   ]
  },
  {
   "cell_type": "code",
   "execution_count": 72,
   "id": "e25c97ba-7a2a-421e-b45e-4321793cc672",
   "metadata": {},
   "outputs": [],
   "source": [
    "tweets = []\n",
    "tmpTweets = api.user_timeline(screen_name=username)\n",
    "for tweet in tmpTweets:\n",
    "#     print(tweet.created_at)\n",
    "#     break\n",
    "    if tweet.created_at.timestamp() < endDate.timestamp() and tweet.created_at.timestamp() > startDate.timestamp():\n",
    "        tweets.append(tweet)"
   ]
  },
  {
   "cell_type": "code",
   "execution_count": 94,
   "id": "ab025a7f-82ff-4a61-8285-8134a337e8d7",
   "metadata": {},
   "outputs": [
    {
     "name": "stdout",
     "output_type": "stream",
     "text": [
      "1 jgebbia\n",
      "2 georgesoros\n",
      "3 historydefined\n",
      "4 neuralink\n",
      "5 beeple\n",
      "6 Grimezsz\n",
      "7 thesheetztweetz\n",
      "8 EvaFoxU\n",
      "9 planet\n",
      "10 Teslarati\n"
     ]
    }
   ],
   "source": [
    "#get who elonmusk is following\n",
    "i=0\n",
    "for friend in tweepy.Cursor(api.get_friends, screen_name=username).items(10):\n",
    "    i+=1\n",
    "    print(i,friend.screen_name)"
   ]
  },
  {
   "cell_type": "markdown",
   "id": "f3882780-6a4a-4bd8-b6d4-25a92fa38d02",
   "metadata": {},
   "source": [
    "# snscrape (Python wrapper)\n",
    "snscrape is good for scraping historical tweets. It uses Twitter's advanced search. Searching parameters can be found here: https://github.com/igorbrigadir/twitter-advanced-search"
   ]
  },
  {
   "cell_type": "code",
   "execution_count": 9,
   "id": "553ab159-5dba-417f-813d-0c22a81b2a0d",
   "metadata": {},
   "outputs": [],
   "source": [
    "import snscrape.modules.twitter as sntwitter\n",
    "import pandas as pd\n",
    "pd.set_option('display.max_colwidth', None)"
   ]
  },
  {
   "cell_type": "markdown",
   "id": "6f513f65-5134-48c3-bcc0-ee09215d6609",
   "metadata": {},
   "source": [
    "### Tweets by user"
   ]
  },
  {
   "cell_type": "code",
   "execution_count": 78,
   "id": "51aaff30-0ddb-48f2-a96a-5f95dfee9bd1",
   "metadata": {},
   "outputs": [],
   "source": [
    "maxTweets = 100\n",
    "\n",
    "tweets_list = []"
   ]
  },
  {
   "cell_type": "code",
   "execution_count": 80,
   "id": "48b8910f-23da-45c4-a88a-d0786b283792",
   "metadata": {},
   "outputs": [],
   "source": [
    "for i,tweet in enumerate(sntwitter.TwitterSearchScraper('from:elonmusk').get_items()):\n",
    "    if i>maxTweets:\n",
    "        break\n",
    "    tweets_list.append([tweet.date, tweet.id, tweet.content, tweet.user.username])"
   ]
  },
  {
   "cell_type": "code",
   "execution_count": 81,
   "id": "440cf76e-184e-466c-b6ad-0f365c5836c1",
   "metadata": {},
   "outputs": [],
   "source": [
    "tweets_df = pd.DataFrame(tweets_list, columns=['Datetime', 'Tweet Id', 'Text', 'Username'])"
   ]
  },
  {
   "cell_type": "code",
   "execution_count": 82,
   "id": "9e3ecd08-6758-443c-8fe3-1f3697b49ec5",
   "metadata": {},
   "outputs": [
    {
     "data": {
      "text/html": [
       "<div>\n",
       "<style scoped>\n",
       "    .dataframe tbody tr th:only-of-type {\n",
       "        vertical-align: middle;\n",
       "    }\n",
       "\n",
       "    .dataframe tbody tr th {\n",
       "        vertical-align: top;\n",
       "    }\n",
       "\n",
       "    .dataframe thead th {\n",
       "        text-align: right;\n",
       "    }\n",
       "</style>\n",
       "<table border=\"1\" class=\"dataframe\">\n",
       "  <thead>\n",
       "    <tr style=\"text-align: right;\">\n",
       "      <th></th>\n",
       "      <th>Datetime</th>\n",
       "      <th>Tweet Id</th>\n",
       "      <th>Text</th>\n",
       "      <th>Username</th>\n",
       "    </tr>\n",
       "  </thead>\n",
       "  <tbody>\n",
       "    <tr>\n",
       "      <th>0</th>\n",
       "      <td>2022-05-07 21:05:01+00:00</td>\n",
       "      <td>1523046265097158656</td>\n",
       "      <td>@SawyerMerritt Yes! Stop the outrageous false ...</td>\n",
       "      <td>elonmusk</td>\n",
       "    </tr>\n",
       "    <tr>\n",
       "      <th>1</th>\n",
       "      <td>2022-05-07 21:02:09+00:00</td>\n",
       "      <td>1523045544536723456</td>\n",
       "      <td>@WholeMarsBlog At risk of stating the obvious,...</td>\n",
       "      <td>elonmusk</td>\n",
       "    </tr>\n",
       "    <tr>\n",
       "      <th>2</th>\n",
       "      <td>2022-05-07 16:57:16+00:00</td>\n",
       "      <td>1522983920341594112</td>\n",
       "      <td>@lexfridman How to find secret doors in Elden ...</td>\n",
       "      <td>elonmusk</td>\n",
       "    </tr>\n",
       "    <tr>\n",
       "      <th>3</th>\n",
       "      <td>2022-05-07 12:37:25+00:00</td>\n",
       "      <td>1522918526520070144</td>\n",
       "      <td>Also, work ethic expectations would be extreme...</td>\n",
       "      <td>elonmusk</td>\n",
       "    </tr>\n",
       "    <tr>\n",
       "      <th>4</th>\n",
       "      <td>2022-05-07 11:47:14+00:00</td>\n",
       "      <td>1522905896040423425</td>\n",
       "      <td>@DavidSacks Sage advice in this thread …</td>\n",
       "      <td>elonmusk</td>\n",
       "    </tr>\n",
       "    <tr>\n",
       "      <th>...</th>\n",
       "      <td>...</td>\n",
       "      <td>...</td>\n",
       "      <td>...</td>\n",
       "      <td>...</td>\n",
       "    </tr>\n",
       "    <tr>\n",
       "      <th>96</th>\n",
       "      <td>2022-04-30 02:03:44+00:00</td>\n",
       "      <td>1520222336703598593</td>\n",
       "      <td>@PPathole @pmarca A friend just emailed me abo...</td>\n",
       "      <td>elonmusk</td>\n",
       "    </tr>\n",
       "    <tr>\n",
       "      <th>97</th>\n",
       "      <td>2022-04-30 01:47:28+00:00</td>\n",
       "      <td>1520218243922751488</td>\n",
       "      <td>@PPathole @pmarca I have not heard bad things ...</td>\n",
       "      <td>elonmusk</td>\n",
       "    </tr>\n",
       "    <tr>\n",
       "      <th>98</th>\n",
       "      <td>2022-04-30 01:19:21+00:00</td>\n",
       "      <td>1520211168979259393</td>\n",
       "      <td>@pmarca Wellbutrin is way worse than Adderall ...</td>\n",
       "      <td>elonmusk</td>\n",
       "    </tr>\n",
       "    <tr>\n",
       "      <th>99</th>\n",
       "      <td>2022-04-30 00:04:28+00:00</td>\n",
       "      <td>1520192322511724544</td>\n",
       "      <td>@WilliamShatner You will always be my Captain</td>\n",
       "      <td>elonmusk</td>\n",
       "    </tr>\n",
       "    <tr>\n",
       "      <th>100</th>\n",
       "      <td>2022-04-29 23:13:45+00:00</td>\n",
       "      <td>1520179558665887744</td>\n",
       "      <td>@pmarca Adderall is an anger amplifier. Avoid ...</td>\n",
       "      <td>elonmusk</td>\n",
       "    </tr>\n",
       "  </tbody>\n",
       "</table>\n",
       "<p>101 rows × 4 columns</p>\n",
       "</div>"
      ],
      "text/plain": [
       "                     Datetime             Tweet Id  \\\n",
       "0   2022-05-07 21:05:01+00:00  1523046265097158656   \n",
       "1   2022-05-07 21:02:09+00:00  1523045544536723456   \n",
       "2   2022-05-07 16:57:16+00:00  1522983920341594112   \n",
       "3   2022-05-07 12:37:25+00:00  1522918526520070144   \n",
       "4   2022-05-07 11:47:14+00:00  1522905896040423425   \n",
       "..                        ...                  ...   \n",
       "96  2022-04-30 02:03:44+00:00  1520222336703598593   \n",
       "97  2022-04-30 01:47:28+00:00  1520218243922751488   \n",
       "98  2022-04-30 01:19:21+00:00  1520211168979259393   \n",
       "99  2022-04-30 00:04:28+00:00  1520192322511724544   \n",
       "100 2022-04-29 23:13:45+00:00  1520179558665887744   \n",
       "\n",
       "                                                  Text  Username  \n",
       "0    @SawyerMerritt Yes! Stop the outrageous false ...  elonmusk  \n",
       "1    @WholeMarsBlog At risk of stating the obvious,...  elonmusk  \n",
       "2    @lexfridman How to find secret doors in Elden ...  elonmusk  \n",
       "3    Also, work ethic expectations would be extreme...  elonmusk  \n",
       "4             @DavidSacks Sage advice in this thread …  elonmusk  \n",
       "..                                                 ...       ...  \n",
       "96   @PPathole @pmarca A friend just emailed me abo...  elonmusk  \n",
       "97   @PPathole @pmarca I have not heard bad things ...  elonmusk  \n",
       "98   @pmarca Wellbutrin is way worse than Adderall ...  elonmusk  \n",
       "99       @WilliamShatner You will always be my Captain  elonmusk  \n",
       "100  @pmarca Adderall is an anger amplifier. Avoid ...  elonmusk  \n",
       "\n",
       "[101 rows x 4 columns]"
      ]
     },
     "execution_count": 82,
     "metadata": {},
     "output_type": "execute_result"
    }
   ],
   "source": [
    "tweets_df"
   ]
  },
  {
   "cell_type": "markdown",
   "id": "5e94d304-d0ee-401a-9e22-6a5fe2b7427b",
   "metadata": {},
   "source": [
    "### Tweets by text search"
   ]
  },
  {
   "cell_type": "code",
   "execution_count": 122,
   "id": "89943f22-bdfd-4317-8b27-3c250665a510",
   "metadata": {},
   "outputs": [],
   "source": [
    "from tqdm import tqdm"
   ]
  },
  {
   "cell_type": "code",
   "execution_count": 152,
   "id": "21a0fbde-7c6f-4299-9b52-473314d9317d",
   "metadata": {},
   "outputs": [],
   "source": [
    "keywords = [\n",
    "            '#TwitterTakeOver', '#ElonMusk', '#ElonMuskTwitter',\n",
    "            '#ElonMuskBuysTwitter', '@elonmusk', 'Elon Musk', '#Twitter',\n",
    "           ]"
   ]
  },
  {
   "cell_type": "code",
   "execution_count": 153,
   "id": "8d884d48-c80f-4f11-9ff7-94b6d94ef6ab",
   "metadata": {},
   "outputs": [
    {
     "name": "stderr",
     "output_type": "stream",
     "text": [
      "100%|████████████████████████████████████████████| 7/7 [04:04<00:00, 34.95s/it]\n"
     ]
    }
   ],
   "source": [
    "#tweets from when Elon made the offer on April 14th 2022m\n",
    "#1000 tweets for each keyword, ~8000 tweets in total\n",
    "\n",
    "maxTweets = 1000\n",
    "startdate='2022-04-14'\n",
    "enddate='2022-04-16'\n",
    "\n",
    "tweets_dic1={}\n",
    "\n",
    "for keyword in tqdm(keywords):\n",
    "    tweets_list = []\n",
    "    for i,tweet in enumerate(sntwitter.TwitterSearchScraper('{} since:{} until:{}'.format(keyword,startdate,enddate)).get_items()):\n",
    "        if i>maxTweets:\n",
    "            break\n",
    "        tweets_list.append([tweet.date, tweet.id, tweet.content, tweet.user.username, keyword])\n",
    "    \n",
    "    tweets_df = pd.DataFrame(tweets_list, columns=['Datetime', 'Tweet Id', 'Text', 'Username', 'Keyword'])\n",
    "    tweets_dic1[keyword]=tweets_df"
   ]
  },
  {
   "cell_type": "code",
   "execution_count": 239,
   "id": "22d97afc-6f74-486c-975a-411ca68dd851",
   "metadata": {},
   "outputs": [],
   "source": [
    "tweets041422=pd.concat(list(tweets_dic1.values())[:-1])  #dropping the #Twitter hashtag since most of it is irrelavent\n",
    "tweets041422.drop_duplicates(subset=['Tweet Id'], inplace=True)\n",
    "tweets041422.reset_index(drop=True, inplace=True)"
   ]
  },
  {
   "cell_type": "code",
   "execution_count": 240,
   "id": "b3f434ed-8866-49ca-b13d-d0f278237602",
   "metadata": {},
   "outputs": [
    {
     "data": {
      "text/html": [
       "<div>\n",
       "<style scoped>\n",
       "    .dataframe tbody tr th:only-of-type {\n",
       "        vertical-align: middle;\n",
       "    }\n",
       "\n",
       "    .dataframe tbody tr th {\n",
       "        vertical-align: top;\n",
       "    }\n",
       "\n",
       "    .dataframe thead th {\n",
       "        text-align: right;\n",
       "    }\n",
       "</style>\n",
       "<table border=\"1\" class=\"dataframe\">\n",
       "  <thead>\n",
       "    <tr style=\"text-align: right;\">\n",
       "      <th></th>\n",
       "      <th>Datetime</th>\n",
       "      <th>Tweet Id</th>\n",
       "      <th>Text</th>\n",
       "      <th>Username</th>\n",
       "      <th>Keyword</th>\n",
       "    </tr>\n",
       "  </thead>\n",
       "  <tbody>\n",
       "    <tr>\n",
       "      <th>0</th>\n",
       "      <td>2022-04-15 23:59:40+00:00</td>\n",
       "      <td>1515117687642509315</td>\n",
       "      <td>Elon Musk’s speaking to investors who could partner with to buy Twitter\\n\\n#TwitterTakeover  #ElonMuskTwitter https://t.co/LwkyEtojRm</td>\n",
       "      <td>TitterTakeover</td>\n",
       "      <td>#TwitterTakeOver</td>\n",
       "    </tr>\n",
       "    <tr>\n",
       "      <th>1</th>\n",
       "      <td>2022-04-15 23:59:35+00:00</td>\n",
       "      <td>1515117663781101577</td>\n",
       "      <td>Egos battle \\n\\n@mcuban @elonmusk #TwitterTakeover https://t.co/akFhtHUI4S</td>\n",
       "      <td>depressedinthe1</td>\n",
       "      <td>#TwitterTakeOver</td>\n",
       "    </tr>\n",
       "    <tr>\n",
       "      <th>2</th>\n",
       "      <td>2022-04-15 23:59:35+00:00</td>\n",
       "      <td>1515117663625826310</td>\n",
       "      <td>@BabyTrumpfan @seanhannity @Jim_Jordan @ClayTravis he shld be trying to fix that #Tesla that stopped on its own the other day #TwitterTakeover</td>\n",
       "      <td>LOVNLA</td>\n",
       "      <td>#TwitterTakeOver</td>\n",
       "    </tr>\n",
       "    <tr>\n",
       "      <th>3</th>\n",
       "      <td>2022-04-15 23:59:22+00:00</td>\n",
       "      <td>1515117610098114565</td>\n",
       "      <td>#TwitterTakeover by Musk opposed by the woke employees that are working for this current owner . https://t.co/v0ArTlFuY6</td>\n",
       "      <td>CBenetau</td>\n",
       "      <td>#TwitterTakeOver</td>\n",
       "    </tr>\n",
       "    <tr>\n",
       "      <th>4</th>\n",
       "      <td>2022-04-15 23:58:15+00:00</td>\n",
       "      <td>1515117330694561798</td>\n",
       "      <td>And they say Elon Musk is the problem..\\n\\n#TwitterTakeover #Elon #Musk #ElonMuskTwitter #poisonpill #TwitterTakeover #Corrupt https://t.co/IP586tHaVw</td>\n",
       "      <td>DrivingOnEmptyx</td>\n",
       "      <td>#TwitterTakeOver</td>\n",
       "    </tr>\n",
       "    <tr>\n",
       "      <th>...</th>\n",
       "      <td>...</td>\n",
       "      <td>...</td>\n",
       "      <td>...</td>\n",
       "      <td>...</td>\n",
       "      <td>...</td>\n",
       "    </tr>\n",
       "    <tr>\n",
       "      <th>3793</th>\n",
       "      <td>2022-04-15 23:54:42+00:00</td>\n",
       "      <td>1515116435286155267</td>\n",
       "      <td>queremos que todo el mundo sea libre menos rusia xq lo odio. elon musk</td>\n",
       "      <td>marcelitaokk</td>\n",
       "      <td>Elon Musk</td>\n",
       "    </tr>\n",
       "    <tr>\n",
       "      <th>3794</th>\n",
       "      <td>2022-04-15 23:54:40+00:00</td>\n",
       "      <td>1515116429540007939</td>\n",
       "      <td>Elon Musk is a greedy A$$hole</td>\n",
       "      <td>Stevenmwright05</td>\n",
       "      <td>Elon Musk</td>\n",
       "    </tr>\n",
       "    <tr>\n",
       "      <th>3795</th>\n",
       "      <td>2022-04-15 23:54:40+00:00</td>\n",
       "      <td>1515116428055171082</td>\n",
       "      <td>If Elon Musk is successful in buying Twitter, would you stay or would you go?</td>\n",
       "      <td>SansonJag</td>\n",
       "      <td>Elon Musk</td>\n",
       "    </tr>\n",
       "    <tr>\n",
       "      <th>3796</th>\n",
       "      <td>2022-04-15 23:54:39+00:00</td>\n",
       "      <td>1515116421654597637</td>\n",
       "      <td>Saudi Prince Gives Elon Musk Problems, So He STRIKES Back With 2 Simple ... https://t.co/Kf0bii5eH2 via @YouTube</td>\n",
       "      <td>lifeasitgoes12</td>\n",
       "      <td>Elon Musk</td>\n",
       "    </tr>\n",
       "    <tr>\n",
       "      <th>3797</th>\n",
       "      <td>2022-04-15 23:54:39+00:00</td>\n",
       "      <td>1515116421428092928</td>\n",
       "      <td>@DoctorPyanco @researcho @F_Cruz_F Amigo,Elon Musk esta poniendo en orbita satélites para internet gratuito ¿que mierda ha hecho Piñera, Delano, Ponce Lerou, Edwards y las otras plastas de mierda salvo robarse todo lo que han podido?</td>\n",
       "      <td>Cristia40840565</td>\n",
       "      <td>Elon Musk</td>\n",
       "    </tr>\n",
       "  </tbody>\n",
       "</table>\n",
       "<p>3798 rows × 5 columns</p>\n",
       "</div>"
      ],
      "text/plain": [
       "                      Datetime             Tweet Id  \\\n",
       "0    2022-04-15 23:59:40+00:00  1515117687642509315   \n",
       "1    2022-04-15 23:59:35+00:00  1515117663781101577   \n",
       "2    2022-04-15 23:59:35+00:00  1515117663625826310   \n",
       "3    2022-04-15 23:59:22+00:00  1515117610098114565   \n",
       "4    2022-04-15 23:58:15+00:00  1515117330694561798   \n",
       "...                        ...                  ...   \n",
       "3793 2022-04-15 23:54:42+00:00  1515116435286155267   \n",
       "3794 2022-04-15 23:54:40+00:00  1515116429540007939   \n",
       "3795 2022-04-15 23:54:40+00:00  1515116428055171082   \n",
       "3796 2022-04-15 23:54:39+00:00  1515116421654597637   \n",
       "3797 2022-04-15 23:54:39+00:00  1515116421428092928   \n",
       "\n",
       "                                                                                                                                                                                                                                           Text  \\\n",
       "0                                                                                                         Elon Musk’s speaking to investors who could partner with to buy Twitter\\n\\n#TwitterTakeover  #ElonMuskTwitter https://t.co/LwkyEtojRm   \n",
       "1                                                                                                                                                                    Egos battle \\n\\n@mcuban @elonmusk #TwitterTakeover https://t.co/akFhtHUI4S   \n",
       "2                                                                                                @BabyTrumpfan @seanhannity @Jim_Jordan @ClayTravis he shld be trying to fix that #Tesla that stopped on its own the other day #TwitterTakeover   \n",
       "3                                                                                                                      #TwitterTakeover by Musk opposed by the woke employees that are working for this current owner . https://t.co/v0ArTlFuY6   \n",
       "4                                                                                        And they say Elon Musk is the problem..\\n\\n#TwitterTakeover #Elon #Musk #ElonMuskTwitter #poisonpill #TwitterTakeover #Corrupt https://t.co/IP586tHaVw   \n",
       "...                                                                                                                                                                                                                                         ...   \n",
       "3793                                                                                                                                                                     queremos que todo el mundo sea libre menos rusia xq lo odio. elon musk   \n",
       "3794                                                                                                                                                                                                              Elon Musk is a greedy A$$hole   \n",
       "3795                                                                                                                                                              If Elon Musk is successful in buying Twitter, would you stay or would you go?   \n",
       "3796                                                                                                                           Saudi Prince Gives Elon Musk Problems, So He STRIKES Back With 2 Simple ... https://t.co/Kf0bii5eH2 via @YouTube   \n",
       "3797  @DoctorPyanco @researcho @F_Cruz_F Amigo,Elon Musk esta poniendo en orbita satélites para internet gratuito ¿que mierda ha hecho Piñera, Delano, Ponce Lerou, Edwards y las otras plastas de mierda salvo robarse todo lo que han podido?   \n",
       "\n",
       "             Username           Keyword  \n",
       "0      TitterTakeover  #TwitterTakeOver  \n",
       "1     depressedinthe1  #TwitterTakeOver  \n",
       "2              LOVNLA  #TwitterTakeOver  \n",
       "3            CBenetau  #TwitterTakeOver  \n",
       "4     DrivingOnEmptyx  #TwitterTakeOver  \n",
       "...               ...               ...  \n",
       "3793     marcelitaokk         Elon Musk  \n",
       "3794  Stevenmwright05         Elon Musk  \n",
       "3795        SansonJag         Elon Musk  \n",
       "3796   lifeasitgoes12         Elon Musk  \n",
       "3797  Cristia40840565         Elon Musk  \n",
       "\n",
       "[3798 rows x 5 columns]"
      ]
     },
     "execution_count": 240,
     "metadata": {},
     "output_type": "execute_result"
    }
   ],
   "source": [
    "tweets041422"
   ]
  },
  {
   "cell_type": "code",
   "execution_count": 156,
   "id": "6c56ea61-c3fc-4eef-ae73-5ee9709a4937",
   "metadata": {},
   "outputs": [
    {
     "name": "stderr",
     "output_type": "stream",
     "text": [
      "100%|████████████████████████████████████████████| 7/7 [04:04<00:00, 34.89s/it]\n"
     ]
    }
   ],
   "source": [
    "#tweets from when Twitter accepted Elon's offer\n",
    "#1000 tweets for each keyword, ~8000 tweets in total\n",
    "\n",
    "maxTweets = 1000\n",
    "startdate='2022-04-25'\n",
    "enddate='2022-04-27'\n",
    "\n",
    "tweets_dic2={}\n",
    "\n",
    "for keyword in tqdm(keywords):\n",
    "    tweets_list = []\n",
    "    for i,tweet in enumerate(sntwitter.TwitterSearchScraper('{} since:{} until:{}'.format(keyword,startdate,enddate)).get_items()):\n",
    "        if i>maxTweets:\n",
    "            break\n",
    "        tweets_list.append([tweet.date, tweet.id, tweet.content, tweet.user.username, keyword])\n",
    "    \n",
    "    tweets_df = pd.DataFrame(tweets_list, columns=['Datetime', 'Tweet Id', 'Text', 'Username', 'Keyword'])\n",
    "    tweets_dic2[keyword]=tweets_df\n",
    "    "
   ]
  },
  {
   "cell_type": "code",
   "execution_count": 241,
   "id": "7208492b-36ac-42e9-9ee2-f188644c6ed4",
   "metadata": {},
   "outputs": [],
   "source": [
    "tweets042522 = pd.concat(list(tweets_dic2.values())[:-1]) #dropping the #Twitter hashtag since most of it is irrelavent\n",
    "tweets042522.drop_duplicates(subset=['Tweet Id'], inplace=True)\n",
    "tweets042522.reset_index(drop=True, inplace=True)"
   ]
  },
  {
   "cell_type": "code",
   "execution_count": 242,
   "id": "d7b6d6c0-560e-4aa8-852d-7c99bd435200",
   "metadata": {},
   "outputs": [
    {
     "data": {
      "text/html": [
       "<div>\n",
       "<style scoped>\n",
       "    .dataframe tbody tr th:only-of-type {\n",
       "        vertical-align: middle;\n",
       "    }\n",
       "\n",
       "    .dataframe tbody tr th {\n",
       "        vertical-align: top;\n",
       "    }\n",
       "\n",
       "    .dataframe thead th {\n",
       "        text-align: right;\n",
       "    }\n",
       "</style>\n",
       "<table border=\"1\" class=\"dataframe\">\n",
       "  <thead>\n",
       "    <tr style=\"text-align: right;\">\n",
       "      <th></th>\n",
       "      <th>Datetime</th>\n",
       "      <th>Tweet Id</th>\n",
       "      <th>Text</th>\n",
       "      <th>Username</th>\n",
       "      <th>Keyword</th>\n",
       "    </tr>\n",
       "  </thead>\n",
       "  <tbody>\n",
       "    <tr>\n",
       "      <th>0</th>\n",
       "      <td>2022-04-26 23:59:51+00:00</td>\n",
       "      <td>1519103999030579200</td>\n",
       "      <td>You know,  instead of all the tweets of \"Elon Musk should end world hunger\"\\nYou should be asking why couldn't the world's governments solve it in the first place..\\n\"If you want to get rid of lung cancer, get rid of the lung.\"\\n#ElonMusk #TwitterTakeover #leavingtwitter</td>\n",
       "      <td>whatisKhaiki</td>\n",
       "      <td>#TwitterTakeOver</td>\n",
       "    </tr>\n",
       "    <tr>\n",
       "      <th>1</th>\n",
       "      <td>2022-04-26 23:59:16+00:00</td>\n",
       "      <td>1519103853324611584</td>\n",
       "      <td>Pssstttt I have a secret …. Turns out @elonmusk donated $5.7B dollars to end world hunger shhhhhhh don’t tell the left. Here’s the article. \\n\\nhttps://t.co/oJKlLxq7I0\\n\\n#TwitterTakeover</td>\n",
       "      <td>CoshJoulter</td>\n",
       "      <td>#TwitterTakeOver</td>\n",
       "    </tr>\n",
       "    <tr>\n",
       "      <th>2</th>\n",
       "      <td>2022-04-26 23:59:04+00:00</td>\n",
       "      <td>1519103801571135489</td>\n",
       "      <td>Twitter take over😂\\n\\n@elonmusk the kung fu is strong in you💪\\n\\n#Memes #Memesdaily #TwitterTakeover #Twitter #ChampionsLeague https://t.co/Th2tPq18JY</td>\n",
       "      <td>MrSotAman1</td>\n",
       "      <td>#TwitterTakeOver</td>\n",
       "    </tr>\n",
       "    <tr>\n",
       "      <th>3</th>\n",
       "      <td>2022-04-26 23:58:56+00:00</td>\n",
       "      <td>1519103769321033728</td>\n",
       "      <td>To the people who are so worked up about how @elonmusk chooses to spend his billions - just wait until you learn how the United States Government spends YOURS… 🤫 #twittersold #TwitterTakeover  #TwitterCEO #ElonMusk</td>\n",
       "      <td>soitweetyeah76</td>\n",
       "      <td>#TwitterTakeOver</td>\n",
       "    </tr>\n",
       "    <tr>\n",
       "      <th>4</th>\n",
       "      <td>2022-04-26 23:58:39+00:00</td>\n",
       "      <td>1519103694809100288</td>\n",
       "      <td>President Trump's next tweet; the world's most awaited comeback.\\n#TwitterTakeover #TRUMPBACKONTWITTER</td>\n",
       "      <td>dialecticum</td>\n",
       "      <td>#TwitterTakeOver</td>\n",
       "    </tr>\n",
       "    <tr>\n",
       "      <th>...</th>\n",
       "      <td>...</td>\n",
       "      <td>...</td>\n",
       "      <td>...</td>\n",
       "      <td>...</td>\n",
       "      <td>...</td>\n",
       "    </tr>\n",
       "    <tr>\n",
       "      <th>4723</th>\n",
       "      <td>2022-04-26 23:58:43+00:00</td>\n",
       "      <td>1519103713125806081</td>\n",
       "      <td>Mr Elon Musk for president 🤔🤔 https://t.co/BdLTqhRT46</td>\n",
       "      <td>consuleduc</td>\n",
       "      <td>Elon Musk</td>\n",
       "    </tr>\n",
       "    <tr>\n",
       "      <th>4724</th>\n",
       "      <td>2022-04-26 23:58:43+00:00</td>\n",
       "      <td>1519103712098201601</td>\n",
       "      <td>\"You could run a Hyperloop through the vacuum that is Elon Musk's knowledge of civics. A Dragon spacecraft could safely float in the void that is Elon Musk's understanding of the cultural and legal labyrinth of expression and identity in a free society.\"🔥\\nhttps://t.co/k1AsTP6aVZ</td>\n",
       "      <td>heymrbrad</td>\n",
       "      <td>Elon Musk</td>\n",
       "    </tr>\n",
       "    <tr>\n",
       "      <th>4725</th>\n",
       "      <td>2022-04-26 23:58:42+00:00</td>\n",
       "      <td>1519103707954176000</td>\n",
       "      <td>Elon Musk would have the world trade excessive dependence on Russian oil for total dependence on Chinese batteries.</td>\n",
       "      <td>LGKatzPhD</td>\n",
       "      <td>Elon Musk</td>\n",
       "    </tr>\n",
       "    <tr>\n",
       "      <th>4726</th>\n",
       "      <td>2022-04-26 23:58:41+00:00</td>\n",
       "      <td>1519103706674958336</td>\n",
       "      <td>If Elon #Musk starts charging for your #Twitter account, are you staying or leaving Twitter ??? 😎</td>\n",
       "      <td>BMW_Borger</td>\n",
       "      <td>Elon Musk</td>\n",
       "    </tr>\n",
       "    <tr>\n",
       "      <th>4727</th>\n",
       "      <td>2022-04-26 23:58:41+00:00</td>\n",
       "      <td>1519103706280648706</td>\n",
       "      <td>@TerriMichelle11 Marybeth Jeffries isn't my real name. I'm Susan B on your yt channel. I was actually banned from Twitter for using the \"F\" word during the Trump administration. Maybe Elon Musk will let me back in.  🤣🤣🤣</td>\n",
       "      <td>MarybethJeffr10</td>\n",
       "      <td>Elon Musk</td>\n",
       "    </tr>\n",
       "  </tbody>\n",
       "</table>\n",
       "<p>4728 rows × 5 columns</p>\n",
       "</div>"
      ],
      "text/plain": [
       "                      Datetime             Tweet Id  \\\n",
       "0    2022-04-26 23:59:51+00:00  1519103999030579200   \n",
       "1    2022-04-26 23:59:16+00:00  1519103853324611584   \n",
       "2    2022-04-26 23:59:04+00:00  1519103801571135489   \n",
       "3    2022-04-26 23:58:56+00:00  1519103769321033728   \n",
       "4    2022-04-26 23:58:39+00:00  1519103694809100288   \n",
       "...                        ...                  ...   \n",
       "4723 2022-04-26 23:58:43+00:00  1519103713125806081   \n",
       "4724 2022-04-26 23:58:43+00:00  1519103712098201601   \n",
       "4725 2022-04-26 23:58:42+00:00  1519103707954176000   \n",
       "4726 2022-04-26 23:58:41+00:00  1519103706674958336   \n",
       "4727 2022-04-26 23:58:41+00:00  1519103706280648706   \n",
       "\n",
       "                                                                                                                                                                                                                                                                                          Text  \\\n",
       "0              You know,  instead of all the tweets of \"Elon Musk should end world hunger\"\\nYou should be asking why couldn't the world's governments solve it in the first place..\\n\"If you want to get rid of lung cancer, get rid of the lung.\"\\n#ElonMusk #TwitterTakeover #leavingtwitter   \n",
       "1                                                                                                  Pssstttt I have a secret …. Turns out @elonmusk donated $5.7B dollars to end world hunger shhhhhhh don’t tell the left. Here’s the article. \\n\\nhttps://t.co/oJKlLxq7I0\\n\\n#TwitterTakeover   \n",
       "2                                                                                                                                       Twitter take over😂\\n\\n@elonmusk the kung fu is strong in you💪\\n\\n#Memes #Memesdaily #TwitterTakeover #Twitter #ChampionsLeague https://t.co/Th2tPq18JY   \n",
       "3                                                                       To the people who are so worked up about how @elonmusk chooses to spend his billions - just wait until you learn how the United States Government spends YOURS… 🤫 #twittersold #TwitterTakeover  #TwitterCEO #ElonMusk   \n",
       "4                                                                                                                                                                                       President Trump's next tweet; the world's most awaited comeback.\\n#TwitterTakeover #TRUMPBACKONTWITTER   \n",
       "...                                                                                                                                                                                                                                                                                        ...   \n",
       "4723                                                                                                                                                                                                                                     Mr Elon Musk for president 🤔🤔 https://t.co/BdLTqhRT46   \n",
       "4724  \"You could run a Hyperloop through the vacuum that is Elon Musk's knowledge of civics. A Dragon spacecraft could safely float in the void that is Elon Musk's understanding of the cultural and legal labyrinth of expression and identity in a free society.\"🔥\\nhttps://t.co/k1AsTP6aVZ   \n",
       "4725                                                                                                                                                                       Elon Musk would have the world trade excessive dependence on Russian oil for total dependence on Chinese batteries.   \n",
       "4726                                                                                                                                                                                         If Elon #Musk starts charging for your #Twitter account, are you staying or leaving Twitter ??? 😎   \n",
       "4727                                                               @TerriMichelle11 Marybeth Jeffries isn't my real name. I'm Susan B on your yt channel. I was actually banned from Twitter for using the \"F\" word during the Trump administration. Maybe Elon Musk will let me back in.  🤣🤣🤣   \n",
       "\n",
       "             Username           Keyword  \n",
       "0        whatisKhaiki  #TwitterTakeOver  \n",
       "1         CoshJoulter  #TwitterTakeOver  \n",
       "2          MrSotAman1  #TwitterTakeOver  \n",
       "3      soitweetyeah76  #TwitterTakeOver  \n",
       "4         dialecticum  #TwitterTakeOver  \n",
       "...               ...               ...  \n",
       "4723       consuleduc         Elon Musk  \n",
       "4724        heymrbrad         Elon Musk  \n",
       "4725        LGKatzPhD         Elon Musk  \n",
       "4726       BMW_Borger         Elon Musk  \n",
       "4727  MarybethJeffr10         Elon Musk  \n",
       "\n",
       "[4728 rows x 5 columns]"
      ]
     },
     "execution_count": 242,
     "metadata": {},
     "output_type": "execute_result"
    }
   ],
   "source": [
    "tweets042522"
   ]
  },
  {
   "cell_type": "code",
   "execution_count": 258,
   "id": "c6583ac1-a225-4dda-bfa1-0a379bef6b1f",
   "metadata": {},
   "outputs": [],
   "source": [
    "#new set of keywords for control\n",
    "keywords2 = [\n",
    "            '#ElonMusk', \n",
    "            '@elonmusk',\n",
    "            'Elon Musk'\n",
    "           ]"
   ]
  },
  {
   "cell_type": "code",
   "execution_count": 259,
   "id": "672bb125-f37e-4f0c-b0cb-3d83568d1554",
   "metadata": {},
   "outputs": [
    {
     "name": "stderr",
     "output_type": "stream",
     "text": [
      "100%|████████████████████████████████████████████| 3/3 [01:56<00:00, 38.91s/it]\n"
     ]
    }
   ],
   "source": [
    "#tweets about Elon from a year ago as control\n",
    "#1000 tweets for each keyword, ~8000 tweets in total\n",
    "\n",
    "maxTweets = 1000\n",
    "startdate='2021-04-05'\n",
    "enddate='2021-04-07'\n",
    "\n",
    "tweets_dic3={}\n",
    "\n",
    "for keyword in tqdm(keywords2):\n",
    "    tweets_list = []\n",
    "    for i,tweet in enumerate(sntwitter.TwitterSearchScraper('{} since:{} until:{}'.format(keyword,startdate,enddate)).get_items()):\n",
    "        if i>maxTweets:\n",
    "            break\n",
    "        tweets_list.append([tweet.date, tweet.id, tweet.content, tweet.user.username, keyword])\n",
    "    \n",
    "    tweets_df = pd.DataFrame(tweets_list, columns=['Datetime', 'Tweet Id', 'Text', 'Username', 'Keyword'])\n",
    "    tweets_dic3[keyword]=tweets_df"
   ]
  },
  {
   "cell_type": "code",
   "execution_count": 260,
   "id": "52c3864d-4d6c-40b5-86be-e9b8fa858dc1",
   "metadata": {},
   "outputs": [],
   "source": [
    "tweets040521 = pd.concat(list(tweets_dic3.values()))\n",
    "tweets040521.drop_duplicates(subset=['Tweet Id'], inplace=True)\n",
    "tweets040521.reset_index(drop=True, inplace=True)"
   ]
  },
  {
   "cell_type": "code",
   "execution_count": 3,
   "id": "5acdead4-2067-4e99-a185-f033145688c9",
   "metadata": {},
   "outputs": [],
   "source": [
    "import pickle"
   ]
  },
  {
   "cell_type": "code",
   "execution_count": 261,
   "id": "30a9b5e4-f778-4a34-8183-1ec05672109a",
   "metadata": {},
   "outputs": [],
   "source": [
    "#saving files as pickles\n",
    "\n",
    "with open('tweets_dic1.pkl', 'wb') as handle:\n",
    "    pickle.dump(tweets_dic1, handle, protocol=pickle.HIGHEST_PROTOCOL)\n",
    "\n",
    "with open('tweets_dic2.pkl', 'wb') as handle:\n",
    "    pickle.dump(tweets_dic2, handle, protocol=pickle.HIGHEST_PROTOCOL)\n",
    "\n",
    "with open('tweets041422.pkl', 'wb') as handle:\n",
    "    pickle.dump(tweets041422, handle, protocol=pickle.HIGHEST_PROTOCOL)\n",
    "\n",
    "with open('tweets042522.pkl', 'wb') as handle:\n",
    "    pickle.dump(tweets042522, handle, protocol=pickle.HIGHEST_PROTOCOL)\n",
    "    \n",
    "with open('tweets_dic3.pkl', 'wb') as handle:\n",
    "    pickle.dump(tweets_dic3, handle, protocol=pickle.HIGHEST_PROTOCOL)\n",
    "\n",
    "with open('tweets040521.pkl', 'wb') as handle:\n",
    "    pickle.dump(tweets040521, handle, protocol=pickle.HIGHEST_PROTOCOL)"
   ]
  },
  {
   "cell_type": "code",
   "execution_count": 5,
   "id": "d7817876-bb10-4969-9f17-e89449dfa562",
   "metadata": {},
   "outputs": [],
   "source": [
    "with open(r\"tweets040521.pkl\", \"rb\") as input_file:\n",
    "    tweets040521 = pickle.load(input_file)\n",
    "\n",
    "with open(r\"tweets041422.pkl\", \"rb\") as input_file:\n",
    "    tweets041422 = pickle.load(input_file)\n",
    "\n",
    "with open(r\"tweets042522.pkl\", \"rb\") as input_file:\n",
    "    tweets042522 = pickle.load(input_file)"
   ]
  },
  {
   "cell_type": "markdown",
   "id": "4e33d25a-ee9a-4663-8e16-45bf84e29d94",
   "metadata": {},
   "source": [
    "# Sentiment analysis using VADER"
   ]
  },
  {
   "cell_type": "code",
   "execution_count": 6,
   "id": "932dd28c-3e92-4036-9a5d-f12e4ce6308b",
   "metadata": {},
   "outputs": [],
   "source": [
    "from cleantext import clean\n",
    "from vaderSentiment.vaderSentiment import SentimentIntensityAnalyzer\n",
    "analyzer = SentimentIntensityAnalyzer()"
   ]
  },
  {
   "cell_type": "code",
   "execution_count": 7,
   "id": "19cbe0f5-5fb2-4e20-be3b-79dc8b2e39df",
   "metadata": {},
   "outputs": [],
   "source": [
    "#cleaning special characters from text\n",
    "tweets041422['CleanedText'] = tweets041422['Text'].\\\n",
    "        map(lambda x: clean(x, lower=False, no_line_breaks=True, no_urls=True))\n",
    "tweets041422['VADER_Compound'] = tweets041422['Text'].\\\n",
    "        map(lambda x: analyzer.polarity_scores(x)['compound'])\n",
    "\n",
    "tweets042522['CleanedText'] = tweets042522['Text'].\\\n",
    "        map(lambda x: clean(x, lower=False, no_line_breaks=True, no_urls=True))\n",
    "tweets042522['VADER_Compound'] = tweets042522['Text'].\\\n",
    "        map(lambda x: analyzer.polarity_scores(x)['compound'])\n",
    "\n",
    "tweets040521['CleanedText'] = tweets040521['Text'].\\\n",
    "        map(lambda x: clean(x, lower=False, no_line_breaks=True, no_urls=True))\n",
    "tweets040521['VADER_Compound'] = tweets040521['Text'].\\\n",
    "        map(lambda x: analyzer.polarity_scores(x)['compound'])"
   ]
  },
  {
   "cell_type": "code",
   "execution_count": 265,
   "id": "2b786f07-eef6-4cff-9a39-909ca61c0a44",
   "metadata": {},
   "outputs": [
    {
     "data": {
      "text/plain": [
       "0.09417985781990522"
      ]
     },
     "execution_count": 265,
     "metadata": {},
     "output_type": "execute_result"
    }
   ],
   "source": [
    "#all tweets about the Elon twitter buyout\n",
    "tweets041422.loc[:,'VADER_Compound'].mean()"
   ]
  },
  {
   "cell_type": "code",
   "execution_count": 266,
   "id": "03d371f9-62f7-46b3-b69b-972050cc9b03",
   "metadata": {},
   "outputs": [
    {
     "data": {
      "text/plain": [
       "0.12520541455160744"
      ]
     },
     "execution_count": 266,
     "metadata": {},
     "output_type": "execute_result"
    }
   ],
   "source": [
    "#all tweets about the Elon twitter buyout\n",
    "tweets042522.loc[:,'VADER_Compound'].mean()"
   ]
  },
  {
   "cell_type": "code",
   "execution_count": 271,
   "id": "05a3f782-61e5-4c79-89f4-fc76eb0cb24e",
   "metadata": {},
   "outputs": [
    {
     "data": {
      "text/plain": [
       "0.11340235178833905"
      ]
     },
     "execution_count": 271,
     "metadata": {},
     "output_type": "execute_result"
    }
   ],
   "source": [
    "#tweets about Elon Musk only\n",
    "tweets041422[tweets041422.loc[:,'Keyword'].isin(keywords2)].loc[:,'VADER_Compound'].mean()"
   ]
  },
  {
   "cell_type": "code",
   "execution_count": 272,
   "id": "0b7c8cf4-ce95-43e0-a423-4c6ab5d10d71",
   "metadata": {},
   "outputs": [
    {
     "data": {
      "text/plain": [
       "0.11558720763723149"
      ]
     },
     "execution_count": 272,
     "metadata": {},
     "output_type": "execute_result"
    }
   ],
   "source": [
    "#tweets about Elon Musk only\n",
    "tweets042522[tweets042522.loc[:,'Keyword'].isin(keywords2)].loc[:,'VADER_Compound'].mean()"
   ]
  },
  {
   "cell_type": "code",
   "execution_count": 267,
   "id": "038be1e7-78e3-4f81-883e-55dfa0f70f18",
   "metadata": {},
   "outputs": [
    {
     "data": {
      "text/plain": [
       "0.18077880794701986"
      ]
     },
     "execution_count": 267,
     "metadata": {},
     "output_type": "execute_result"
    }
   ],
   "source": [
    "#tweets about Elon Musk only (control)\n",
    "tweets040521.loc[:,'VADER_Compound'].mean()"
   ]
  },
  {
   "cell_type": "code",
   "execution_count": 11,
   "id": "4db5388f-46de-4507-9462-efe682f3305b",
   "metadata": {},
   "outputs": [
    {
     "data": {
      "text/html": [
       "<div>\n",
       "<style scoped>\n",
       "    .dataframe tbody tr th:only-of-type {\n",
       "        vertical-align: middle;\n",
       "    }\n",
       "\n",
       "    .dataframe tbody tr th {\n",
       "        vertical-align: top;\n",
       "    }\n",
       "\n",
       "    .dataframe thead th {\n",
       "        text-align: right;\n",
       "    }\n",
       "</style>\n",
       "<table border=\"1\" class=\"dataframe\">\n",
       "  <thead>\n",
       "    <tr style=\"text-align: right;\">\n",
       "      <th></th>\n",
       "      <th>CleanedText</th>\n",
       "      <th>VADER_Compound</th>\n",
       "    </tr>\n",
       "  </thead>\n",
       "  <tbody>\n",
       "    <tr>\n",
       "      <th>1313</th>\n",
       "      <td>Love this! #ElonMusk #ElonMuskBuyTwitter #freedom #FreeSpeech Free bird alas! 💙 💙💙💙💙 &lt;URL&gt;</td>\n",
       "      <td>0.9874</td>\n",
       "    </tr>\n",
       "    <tr>\n",
       "      <th>4086</th>\n",
       "      <td>@Kegan545 @mcgregorgirl1 @blitzer850 @Static_Waste @JimGagnon6 @jbsparky_2010 @Chopstress @DavidMAGAUSA @BVR58915778 @iamajax @KVincentWoods @ubwhoub @martuk56 @ShoumanZoe @Anti_Liberal3 @HappyCycler @chillpill1 @Sandmann143 @CNS15141 @tonykimble4 @ScreamngEagle @Bubbaflaco @IslesfaninFla @SandraSBreen @WasJimbo @Zegdie @elonmusk @American2Jr I did but to much drama, made me dislike the ppl I disliked even more😂😂😂😂😂😂😂😂😂😂</td>\n",
       "      <td>0.9863</td>\n",
       "    </tr>\n",
       "    <tr>\n",
       "      <th>4060</th>\n",
       "      <td>@laurenboebert @elonmusk You're the biggest Karen of them all 🤣🤣 #PerjuryTraitorGreene is also a huge Karen but she isn't here right now. I'm sure you'll have no problem covering for her while she's gone 🤣🤣🤣🤣</td>\n",
       "      <td>0.9816</td>\n",
       "    </tr>\n",
       "    <tr>\n",
       "      <th>3150</th>\n",
       "      <td>Listen to \"Podcast Episode 3 Are you Truly Happy? If not, How to Find your Joy?\" by Find Your Positivity Podcast - Coach Danyell. ⚓ &lt;URL&gt; #positivity #Motivation #JOY #meditation #inspirational #podcast #ElonMusk #ElonMuskBuysTwitter</td>\n",
       "      <td>0.9810</td>\n",
       "    </tr>\n",
       "    <tr>\n",
       "      <th>3963</th>\n",
       "      <td>@cafecomferri @elonmusk Sim claro, o bolsonaro ajudou com financiamentos do BNDES.🦄 🤦😂😂😂😂😂😂😂😂😂😂</td>\n",
       "      <td>0.9799</td>\n",
       "    </tr>\n",
       "  </tbody>\n",
       "</table>\n",
       "</div>"
      ],
      "text/plain": [
       "                                                                                                                                                                                                                                                                                                                                                                                                                                   CleanedText  \\\n",
       "1313                                                                                                                                                                                                                                                                                                                                                Love this! #ElonMusk #ElonMuskBuyTwitter #freedom #FreeSpeech Free bird alas! 💙 💙💙💙💙 <URL>   \n",
       "4086  @Kegan545 @mcgregorgirl1 @blitzer850 @Static_Waste @JimGagnon6 @jbsparky_2010 @Chopstress @DavidMAGAUSA @BVR58915778 @iamajax @KVincentWoods @ubwhoub @martuk56 @ShoumanZoe @Anti_Liberal3 @HappyCycler @chillpill1 @Sandmann143 @CNS15141 @tonykimble4 @ScreamngEagle @Bubbaflaco @IslesfaninFla @SandraSBreen @WasJimbo @Zegdie @elonmusk @American2Jr I did but to much drama, made me dislike the ppl I disliked even more😂😂😂😂😂😂😂😂😂😂   \n",
       "4060                                                                                                                                                                                                                          @laurenboebert @elonmusk You're the biggest Karen of them all 🤣🤣 #PerjuryTraitorGreene is also a huge Karen but she isn't here right now. I'm sure you'll have no problem covering for her while she's gone 🤣🤣🤣🤣   \n",
       "3150                                                                                                                                                                                                 Listen to \"Podcast Episode 3 Are you Truly Happy? If not, How to Find your Joy?\" by Find Your Positivity Podcast - Coach Danyell. ⚓ <URL> #positivity #Motivation #JOY #meditation #inspirational #podcast #ElonMusk #ElonMuskBuysTwitter   \n",
       "3963                                                                                                                                                                                                                                                                                                                                           @cafecomferri @elonmusk Sim claro, o bolsonaro ajudou com financiamentos do BNDES.🦄 🤦😂😂😂😂😂😂😂😂😂😂   \n",
       "\n",
       "      VADER_Compound  \n",
       "1313          0.9874  \n",
       "4086          0.9863  \n",
       "4060          0.9816  \n",
       "3150          0.9810  \n",
       "3963          0.9799  "
      ]
     },
     "execution_count": 11,
     "metadata": {},
     "output_type": "execute_result"
    }
   ],
   "source": [
    "#sample postive tweets right after the buyout was accepted\n",
    "tweets042522.sort_values(by=['VADER_Compound'], ascending=False)[['CleanedText','VADER_Compound']].head(5)"
   ]
  },
  {
   "cell_type": "code",
   "execution_count": 12,
   "id": "50591b29-c1fa-46d9-8382-4cf72216545f",
   "metadata": {},
   "outputs": [
    {
     "data": {
      "text/html": [
       "<div>\n",
       "<style scoped>\n",
       "    .dataframe tbody tr th:only-of-type {\n",
       "        vertical-align: middle;\n",
       "    }\n",
       "\n",
       "    .dataframe tbody tr th {\n",
       "        vertical-align: top;\n",
       "    }\n",
       "\n",
       "    .dataframe thead th {\n",
       "        text-align: right;\n",
       "    }\n",
       "</style>\n",
       "<table border=\"1\" class=\"dataframe\">\n",
       "  <thead>\n",
       "    <tr style=\"text-align: right;\">\n",
       "      <th></th>\n",
       "      <th>CleanedText</th>\n",
       "      <th>VADER_Compound</th>\n",
       "    </tr>\n",
       "  </thead>\n",
       "  <tbody>\n",
       "    <tr>\n",
       "      <th>353</th>\n",
       "      <td>Democrats: YoUr FrEe SpEeCh IsNt UnDeR AtTaCk 🥴🥴🥴🥴🥴. Also Democrats: free speech will ruin #Democracy! We must shut them down before America is destroyed. This is the darkest day in America. 😭😭😭😭😭 #freespeech #ElonMusk #TwitterTakeover #Lololol</td>\n",
       "      <td>-0.9504</td>\n",
       "    </tr>\n",
       "    <tr>\n",
       "      <th>2919</th>\n",
       "      <td>\"This is extremely dangerous to OUR democracy\" \"This is extremely dangerous to OUR democracy\" \"This is extremely dangerous to OUR democracy\" \"This is extremely dangerous to OUR democracy\" \"This is extremely dangerous to OUR democracy\" #ElonMusk #ElonMuskBuysTwitter &lt;URL&gt;</td>\n",
       "      <td>-0.9514</td>\n",
       "    </tr>\n",
       "    <tr>\n",
       "      <th>2028</th>\n",
       "      <td>Same as it ever was. Deplatform. Censor. Mob attack. Targeted harassment. Canceling. Getting conservatives fired. Swatting. The \"fun\" has just begun people. The more leftists lose the more violent will be the reaction. 🙄 #MattWalsh #ElonMusk #ElonMuskTwitter #TwitterSold &lt;URL&gt;</td>\n",
       "      <td>-0.9522</td>\n",
       "    </tr>\n",
       "    <tr>\n",
       "      <th>3868</th>\n",
       "      <td>@YourAnonNews @elonmusk Hate speech is illegal, isn't it? Bullying is wrong and should be illegal, growing up in this world is hard enough for kids these days. Terrorist and extremist groups should not be given a platform. False propaganda needs to be removed by social media providers i.e. trump.</td>\n",
       "      <td>-0.9535</td>\n",
       "    </tr>\n",
       "    <tr>\n",
       "      <th>2225</th>\n",
       "      <td>@TIME @billyperrigo WRONG, LIARS! Twitter admin is ALLOWING harassment &amp; bullying of white people including name-calling &amp; projecting false hatred (racism), fueling bigotry by left-wingers who hate anyone Bipartisan OR conservative. That's reverse discrimination. @elonmusk #ElonMuskTwitter</td>\n",
       "      <td>-0.9829</td>\n",
       "    </tr>\n",
       "  </tbody>\n",
       "</table>\n",
       "</div>"
      ],
      "text/plain": [
       "                                                                                                                                                                                                                                                                                                    CleanedText  \\\n",
       "353                                                        Democrats: YoUr FrEe SpEeCh IsNt UnDeR AtTaCk 🥴🥴🥴🥴🥴. Also Democrats: free speech will ruin #Democracy! We must shut them down before America is destroyed. This is the darkest day in America. 😭😭😭😭😭 #freespeech #ElonMusk #TwitterTakeover #Lololol   \n",
       "2919                            \"This is extremely dangerous to OUR democracy\" \"This is extremely dangerous to OUR democracy\" \"This is extremely dangerous to OUR democracy\" \"This is extremely dangerous to OUR democracy\" \"This is extremely dangerous to OUR democracy\" #ElonMusk #ElonMuskBuysTwitter <URL>   \n",
       "2028                      Same as it ever was. Deplatform. Censor. Mob attack. Targeted harassment. Canceling. Getting conservatives fired. Swatting. The \"fun\" has just begun people. The more leftists lose the more violent will be the reaction. 🙄 #MattWalsh #ElonMusk #ElonMuskTwitter #TwitterSold <URL>   \n",
       "3868  @YourAnonNews @elonmusk Hate speech is illegal, isn't it? Bullying is wrong and should be illegal, growing up in this world is hard enough for kids these days. Terrorist and extremist groups should not be given a platform. False propaganda needs to be removed by social media providers i.e. trump.   \n",
       "2225         @TIME @billyperrigo WRONG, LIARS! Twitter admin is ALLOWING harassment & bullying of white people including name-calling & projecting false hatred (racism), fueling bigotry by left-wingers who hate anyone Bipartisan OR conservative. That's reverse discrimination. @elonmusk #ElonMuskTwitter   \n",
       "\n",
       "      VADER_Compound  \n",
       "353          -0.9504  \n",
       "2919         -0.9514  \n",
       "2028         -0.9522  \n",
       "3868         -0.9535  \n",
       "2225         -0.9829  "
      ]
     },
     "execution_count": 12,
     "metadata": {},
     "output_type": "execute_result"
    }
   ],
   "source": [
    "#sample negative tweets right after the buyout was accepted\n",
    "tweets042522.sort_values(by=['VADER_Compound'], ascending=False)[['CleanedText','VADER_Compound']].tail(5)"
   ]
  },
  {
   "cell_type": "code",
   "execution_count": 287,
   "id": "49fddab9-6bc6-42ee-a366-d20d637463d5",
   "metadata": {},
   "outputs": [
    {
     "data": {
      "text/html": [
       "<div>\n",
       "<style scoped>\n",
       "    .dataframe tbody tr th:only-of-type {\n",
       "        vertical-align: middle;\n",
       "    }\n",
       "\n",
       "    .dataframe tbody tr th {\n",
       "        vertical-align: top;\n",
       "    }\n",
       "\n",
       "    .dataframe thead th {\n",
       "        text-align: right;\n",
       "    }\n",
       "</style>\n",
       "<table border=\"1\" class=\"dataframe\">\n",
       "  <thead>\n",
       "    <tr style=\"text-align: right;\">\n",
       "      <th></th>\n",
       "      <th>Keyword</th>\n",
       "      <th>VADER_Compound</th>\n",
       "      <th>Date</th>\n",
       "    </tr>\n",
       "  </thead>\n",
       "  <tbody>\n",
       "    <tr>\n",
       "      <th>0</th>\n",
       "      <td>#ElonMusk</td>\n",
       "      <td>0.115171</td>\n",
       "      <td>04/14/22</td>\n",
       "    </tr>\n",
       "    <tr>\n",
       "      <th>1</th>\n",
       "      <td>#ElonMuskBuysTwitter</td>\n",
       "      <td>0.412820</td>\n",
       "      <td>04/14/22</td>\n",
       "    </tr>\n",
       "    <tr>\n",
       "      <th>2</th>\n",
       "      <td>#ElonMuskTwitter</td>\n",
       "      <td>0.082294</td>\n",
       "      <td>04/14/22</td>\n",
       "    </tr>\n",
       "    <tr>\n",
       "      <th>3</th>\n",
       "      <td>#TwitterTakeOver</td>\n",
       "      <td>0.062312</td>\n",
       "      <td>04/14/22</td>\n",
       "    </tr>\n",
       "    <tr>\n",
       "      <th>4</th>\n",
       "      <td>@elonmusk</td>\n",
       "      <td>0.119598</td>\n",
       "      <td>04/14/22</td>\n",
       "    </tr>\n",
       "    <tr>\n",
       "      <th>5</th>\n",
       "      <td>Elon Musk</td>\n",
       "      <td>0.068326</td>\n",
       "      <td>04/14/22</td>\n",
       "    </tr>\n",
       "  </tbody>\n",
       "</table>\n",
       "</div>"
      ],
      "text/plain": [
       "                Keyword  VADER_Compound      Date\n",
       "0             #ElonMusk        0.115171  04/14/22\n",
       "1  #ElonMuskBuysTwitter        0.412820  04/14/22\n",
       "2      #ElonMuskTwitter        0.082294  04/14/22\n",
       "3      #TwitterTakeOver        0.062312  04/14/22\n",
       "4             @elonmusk        0.119598  04/14/22\n",
       "5             Elon Musk        0.068326  04/14/22"
      ]
     },
     "execution_count": 287,
     "metadata": {},
     "output_type": "execute_result"
    }
   ],
   "source": [
    "mean041422"
   ]
  },
  {
   "cell_type": "code",
   "execution_count": 284,
   "id": "ddeeadbf-9711-44eb-bc71-39d15cc47314",
   "metadata": {},
   "outputs": [],
   "source": [
    "mean041422 = tweets041422.groupby('Keyword')['VADER_Compound'].mean().reset_index()\n",
    "mean041422['Date'] = '04/14/22'"
   ]
  },
  {
   "cell_type": "code",
   "execution_count": 285,
   "id": "a0a6c93f-a6c1-48fa-b623-019187d9d04c",
   "metadata": {},
   "outputs": [],
   "source": [
    "mean042522 = tweets042522.groupby('Keyword')['VADER_Compound'].mean().reset_index()\n",
    "mean042522['Date'] = '04/25/22'"
   ]
  },
  {
   "cell_type": "code",
   "execution_count": 295,
   "id": "5a46c4de-8f94-4cb6-bc83-59efa94305a1",
   "metadata": {},
   "outputs": [],
   "source": [
    "import seaborn as sns\n",
    "import matplotlib.pyplot as plt"
   ]
  },
  {
   "cell_type": "code",
   "execution_count": 323,
   "id": "e224c6ce-9b20-42ec-81f5-30c7caca3629",
   "metadata": {},
   "outputs": [
    {
     "data": {
      "image/png": "[encoded data removed]",
      "text/plain": [
       "<Figure size 432x360 with 1 Axes>"
      ]
     },
     "metadata": {
      "needs_background": "light"
     },
     "output_type": "display_data"
    }
   ],
   "source": [
    "Dates = ['04/05/21','04/14/22', '04/25/22']\n",
    "elonmean040521 = tweets040521.loc[:,'VADER_Compound'].mean()\n",
    "elonmean041422 = tweets041422[tweets041422.loc[:,'Keyword'].isin(keywords2)].loc[:,'VADER_Compound'].mean()\n",
    "elonmean042522 = tweets042522[tweets042522.loc[:,'Keyword'].isin(keywords2)].loc[:,'VADER_Compound'].mean()\n",
    "values = [elonmean040521, elonmean041422, elonmean042522]\n",
    "Data = {'x':Dates, 'y':values}\n",
    "\n",
    "plt.figure(figsize = (6,5))\n",
    "ax = sns.barplot(x='x', y='y', data = Data)\n",
    "ax.set(xlabel='Date', ylabel='VADER_Compound')\n",
    "sns.set_context(\"talk\")\n",
    "\n",
    "ax.figure.savefig(\"040521_041422_042522.png\",\n",
    "                      bbox_inches=\"tight\")"
   ]
  },
  {
   "cell_type": "code",
   "execution_count": 318,
   "id": "3f52cecf-cf58-49e7-85c8-ffd7cbcd0661",
   "metadata": {},
   "outputs": [
    {
     "data": {
      "image/png": "[encoded data removed]",
      "text/plain": [
       "<Figure size 720x576 with 1 Axes>"
      ]
     },
     "metadata": {
      "needs_background": "light"
     },
     "output_type": "display_data"
    }
   ],
   "source": [
    "plt.figure(figsize = (10,8))\n",
    "ax = sns.barplot(x=\"Keyword\", y=\"VADER_Compound\", hue=\"Date\", data=pd.concat([mean041422, mean042522]))\n",
    "plt.xticks(rotation=45)\n",
    "sns.set_context(\"poster\")\n",
    "\n",
    "ax.figure.savefig(\"041422_042522.png\",\n",
    "                      bbox_inches=\"tight\")"
   ]
  }
 ],
 "metadata": {
  "kernelspec": {
   "display_name": "Python 3 (ipykernel)",
   "language": "python",
   "name": "python3"
  },
  "language_info": {
   "codemirror_mode": {
    "name": "ipython",
    "version": 3
   },
   "file_extension": ".py",
   "mimetype": "text/x-python",
   "name": "python",
   "nbconvert_exporter": "python",
   "pygments_lexer": "ipython3",
   "version": "3.8.8"
  }
 },
 "nbformat": 4,
 "nbformat_minor": 5
}
