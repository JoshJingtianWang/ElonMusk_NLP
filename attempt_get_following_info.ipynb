{
 "cells": [
  {
   "cell_type": "markdown",
   "id": "8eb82253-4d0b-4cfc-9dbb-e55a3e67ce22",
   "metadata": {},
   "source": [
    "# Divide tweets by following\n",
    "User must follow at least 3 political influencers, at least 80% of which must be left or right wing for the user to receive a label"
   ]
  },
  {
   "cell_type": "code",
   "execution_count": 33,
   "id": "374eaae4-c9f5-4425-b905-17ba337e962c",
   "metadata": {},
   "outputs": [],
   "source": [
    "import pickle"
   ]
  },
  {
   "cell_type": "code",
   "execution_count": 34,
   "id": "bddf3d1c-3546-4f27-8374-11a690ff098b",
   "metadata": {},
   "outputs": [],
   "source": [
    "with open(r\"leftdict.pkl\", \"rb\") as input_file:\n",
    "    leftdict = pickle.load(input_file)\n",
    "    \n",
    "with open(r\"rightdict.pkl\", \"rb\") as input_file:\n",
    "    rightdict = pickle.load(input_file)"
   ]
  },
  {
   "cell_type": "code",
   "execution_count": 49,
   "id": "cf659806-f54b-4915-a75d-8566ed6f6346",
   "metadata": {},
   "outputs": [],
   "source": [
    "import tweepy\n",
    "import configparser\n",
    "import datetime\n",
    "from tqdm import tqdm"
   ]
  },
  {
   "cell_type": "code",
   "execution_count": 42,
   "id": "ff6b0f15-a9ea-4e57-af5d-2d5e3e87c954",
   "metadata": {},
   "outputs": [
    {
     "data": {
      "text/plain": [
       "['../twitter_api/config.ini']"
      ]
     },
     "execution_count": 42,
     "metadata": {},
     "output_type": "execute_result"
    }
   ],
   "source": [
    "config = configparser.ConfigParser()\n",
    "config.read('../twitter_api/config.ini')"
   ]
  },
  {
   "cell_type": "code",
   "execution_count": 43,
   "id": "a36b4e58-bbe8-4cef-9d77-7aa506fadeb8",
   "metadata": {},
   "outputs": [],
   "source": [
    "#loading the keys\n",
    "api_key = config['twitter']['api_key']\n",
    "api_key_secret = config['twitter']['api_key_secret']\n",
    "access_token = config['twitter']['access_token']\n",
    "access_token_secret = config['twitter']['access_token_secret']"
   ]
  },
  {
   "cell_type": "code",
   "execution_count": 44,
   "id": "d6fe47e8-e3c3-441c-8232-e0dec1f26124",
   "metadata": {},
   "outputs": [],
   "source": [
    "#authentication\n",
    "auth = tweepy.OAuthHandler(api_key, api_key_secret)\n",
    "auth.set_access_token(access_token, access_token_secret)\n",
    "api = tweepy.API(auth, wait_on_rate_limit = True)"
   ]
  },
  {
   "cell_type": "code",
   "execution_count": 46,
   "id": "1c9a6110-f11d-411b-a71a-899c54fae359",
   "metadata": {},
   "outputs": [],
   "source": [
    "#top 177 left wing influencer IDs\n",
    "\n",
    "left_ids = []\n",
    "\n",
    "for handle in tqdm(list(leftdict.keys())[:177]):\n",
    "    \n",
    "    id = api.get_user(screen_name=handle).id_str\n",
    "    left_ids.append(id)"
   ]
  },
  {
   "cell_type": "code",
   "execution_count": 50,
   "id": "60af6b1e-dbe6-401d-999e-ab39ea00f83a",
   "metadata": {},
   "outputs": [
    {
     "name": "stderr",
     "output_type": "stream",
     "text": [
      "100%|████████████████████████████████████████| 177/177 [00:50<00:00,  3.49it/s]\n"
     ]
    }
   ],
   "source": [
    "#top 177 right wing influencer IDs\n",
    "\n",
    "right_ids = []\n",
    "\n",
    "for handle in tqdm(list(rightdict.keys())[:177]):\n",
    "    \n",
    "    id = api.get_user(screen_name=handle).id_str\n",
    "    right_ids.append(id)"
   ]
  },
  {
   "cell_type": "code",
   "execution_count": 59,
   "id": "1805d532-3005-4c26-befd-d1f95bc98f36",
   "metadata": {},
   "outputs": [],
   "source": [
    "intersect = list(set(left_ids) & set(right_ids))"
   ]
  },
  {
   "cell_type": "code",
   "execution_count": 60,
   "id": "dc70d705-7f66-4f6a-82d5-0d684eaf0bef",
   "metadata": {},
   "outputs": [],
   "source": [
    "#remove intersect between left and right\n",
    "left_ids = [x for x in left_ids if x not in intersect]\n",
    "right_ids = [x for x in right_ids if x not in intersect]"
   ]
  },
  {
   "cell_type": "markdown",
   "id": "fb73998e-432c-4729-b5b0-6af1f5993394",
   "metadata": {},
   "source": [
    "#### testing on example tweets"
   ]
  },
  {
   "cell_type": "code",
   "execution_count": 3,
   "id": "aadf18f7-2a62-4756-8027-71d7e5ae0dd2",
   "metadata": {},
   "outputs": [],
   "source": [
    "with open(r\"MVP/tweets042522.pkl\", \"rb\") as input_file:\n",
    "    tweets042522 = pickle.load(input_file)"
   ]
  },
  {
   "cell_type": "code",
   "execution_count": 4,
   "id": "d7d70367-4b13-4f80-8f26-33b29dd498c0",
   "metadata": {},
   "outputs": [
    {
     "data": {
      "text/html": [
       "<div>\n",
       "<style scoped>\n",
       "    .dataframe tbody tr th:only-of-type {\n",
       "        vertical-align: middle;\n",
       "    }\n",
       "\n",
       "    .dataframe tbody tr th {\n",
       "        vertical-align: top;\n",
       "    }\n",
       "\n",
       "    .dataframe thead th {\n",
       "        text-align: right;\n",
       "    }\n",
       "</style>\n",
       "<table border=\"1\" class=\"dataframe\">\n",
       "  <thead>\n",
       "    <tr style=\"text-align: right;\">\n",
       "      <th></th>\n",
       "      <th>Datetime</th>\n",
       "      <th>Tweet Id</th>\n",
       "      <th>Text</th>\n",
       "      <th>Username</th>\n",
       "      <th>Keyword</th>\n",
       "      <th>CleanedText</th>\n",
       "      <th>VADER_Compound</th>\n",
       "    </tr>\n",
       "  </thead>\n",
       "  <tbody>\n",
       "    <tr>\n",
       "      <th>0</th>\n",
       "      <td>2022-04-26 23:59:51+00:00</td>\n",
       "      <td>1519103999030579200</td>\n",
       "      <td>You know,  instead of all the tweets of \"Elon ...</td>\n",
       "      <td>whatisKhaiki</td>\n",
       "      <td>#TwitterTakeOver</td>\n",
       "      <td>You know, instead of all the tweets of \"Elon M...</td>\n",
       "      <td>-0.6486</td>\n",
       "    </tr>\n",
       "    <tr>\n",
       "      <th>1</th>\n",
       "      <td>2022-04-26 23:59:16+00:00</td>\n",
       "      <td>1519103853324611584</td>\n",
       "      <td>Pssstttt I have a secret …. Turns out @elonmus...</td>\n",
       "      <td>CoshJoulter</td>\n",
       "      <td>#TwitterTakeOver</td>\n",
       "      <td>Pssstttt I have a secret .... Turns out @elonm...</td>\n",
       "      <td>-0.2500</td>\n",
       "    </tr>\n",
       "    <tr>\n",
       "      <th>2</th>\n",
       "      <td>2022-04-26 23:59:04+00:00</td>\n",
       "      <td>1519103801571135489</td>\n",
       "      <td>Twitter take over😂\\n\\n@elonmusk the kung fu is...</td>\n",
       "      <td>MrSotAman1</td>\n",
       "      <td>#TwitterTakeOver</td>\n",
       "      <td>Twitter take over😂 @elonmusk the kung fu is st...</td>\n",
       "      <td>0.1280</td>\n",
       "    </tr>\n",
       "    <tr>\n",
       "      <th>3</th>\n",
       "      <td>2022-04-26 23:58:56+00:00</td>\n",
       "      <td>1519103769321033728</td>\n",
       "      <td>To the people who are so worked up about how @...</td>\n",
       "      <td>soitweetyeah76</td>\n",
       "      <td>#TwitterTakeOver</td>\n",
       "      <td>To the people who are so worked up about how @...</td>\n",
       "      <td>0.4215</td>\n",
       "    </tr>\n",
       "    <tr>\n",
       "      <th>4</th>\n",
       "      <td>2022-04-26 23:58:39+00:00</td>\n",
       "      <td>1519103694809100288</td>\n",
       "      <td>President Trump's next tweet; the world's most...</td>\n",
       "      <td>dialecticum</td>\n",
       "      <td>#TwitterTakeOver</td>\n",
       "      <td>President Trump's next tweet; the world's most...</td>\n",
       "      <td>-0.1010</td>\n",
       "    </tr>\n",
       "    <tr>\n",
       "      <th>...</th>\n",
       "      <td>...</td>\n",
       "      <td>...</td>\n",
       "      <td>...</td>\n",
       "      <td>...</td>\n",
       "      <td>...</td>\n",
       "      <td>...</td>\n",
       "      <td>...</td>\n",
       "    </tr>\n",
       "    <tr>\n",
       "      <th>4723</th>\n",
       "      <td>2022-04-26 23:58:43+00:00</td>\n",
       "      <td>1519103713125806081</td>\n",
       "      <td>Mr Elon Musk for president 🤔🤔 https://t.co/BdL...</td>\n",
       "      <td>consuleduc</td>\n",
       "      <td>Elon Musk</td>\n",
       "      <td>Mr Elon Musk for president 🤔🤔 &lt;URL&gt;</td>\n",
       "      <td>0.0000</td>\n",
       "    </tr>\n",
       "    <tr>\n",
       "      <th>4724</th>\n",
       "      <td>2022-04-26 23:58:43+00:00</td>\n",
       "      <td>1519103712098201601</td>\n",
       "      <td>\"You could run a Hyperloop through the vacuum ...</td>\n",
       "      <td>heymrbrad</td>\n",
       "      <td>Elon Musk</td>\n",
       "      <td>\"You could run a Hyperloop through the vacuum ...</td>\n",
       "      <td>0.6808</td>\n",
       "    </tr>\n",
       "    <tr>\n",
       "      <th>4725</th>\n",
       "      <td>2022-04-26 23:58:42+00:00</td>\n",
       "      <td>1519103707954176000</td>\n",
       "      <td>Elon Musk would have the world trade excessive...</td>\n",
       "      <td>LGKatzPhD</td>\n",
       "      <td>Elon Musk</td>\n",
       "      <td>Elon Musk would have the world trade excessive...</td>\n",
       "      <td>0.0000</td>\n",
       "    </tr>\n",
       "    <tr>\n",
       "      <th>4726</th>\n",
       "      <td>2022-04-26 23:58:41+00:00</td>\n",
       "      <td>1519103706674958336</td>\n",
       "      <td>If Elon #Musk starts charging for your #Twitte...</td>\n",
       "      <td>BMW_Borger</td>\n",
       "      <td>Elon Musk</td>\n",
       "      <td>If Elon #Musk starts charging for your #Twitte...</td>\n",
       "      <td>0.5484</td>\n",
       "    </tr>\n",
       "    <tr>\n",
       "      <th>4727</th>\n",
       "      <td>2022-04-26 23:58:41+00:00</td>\n",
       "      <td>1519103706280648706</td>\n",
       "      <td>@TerriMichelle11 Marybeth Jeffries isn't my re...</td>\n",
       "      <td>MarybethJeffr10</td>\n",
       "      <td>Elon Musk</td>\n",
       "      <td>@TerriMichelle11 Marybeth Jeffries isn't my re...</td>\n",
       "      <td>0.7650</td>\n",
       "    </tr>\n",
       "  </tbody>\n",
       "</table>\n",
       "<p>4728 rows × 7 columns</p>\n",
       "</div>"
      ],
      "text/plain": [
       "                      Datetime             Tweet Id  \\\n",
       "0    2022-04-26 23:59:51+00:00  1519103999030579200   \n",
       "1    2022-04-26 23:59:16+00:00  1519103853324611584   \n",
       "2    2022-04-26 23:59:04+00:00  1519103801571135489   \n",
       "3    2022-04-26 23:58:56+00:00  1519103769321033728   \n",
       "4    2022-04-26 23:58:39+00:00  1519103694809100288   \n",
       "...                        ...                  ...   \n",
       "4723 2022-04-26 23:58:43+00:00  1519103713125806081   \n",
       "4724 2022-04-26 23:58:43+00:00  1519103712098201601   \n",
       "4725 2022-04-26 23:58:42+00:00  1519103707954176000   \n",
       "4726 2022-04-26 23:58:41+00:00  1519103706674958336   \n",
       "4727 2022-04-26 23:58:41+00:00  1519103706280648706   \n",
       "\n",
       "                                                   Text         Username  \\\n",
       "0     You know,  instead of all the tweets of \"Elon ...     whatisKhaiki   \n",
       "1     Pssstttt I have a secret …. Turns out @elonmus...      CoshJoulter   \n",
       "2     Twitter take over😂\\n\\n@elonmusk the kung fu is...       MrSotAman1   \n",
       "3     To the people who are so worked up about how @...   soitweetyeah76   \n",
       "4     President Trump's next tweet; the world's most...      dialecticum   \n",
       "...                                                 ...              ...   \n",
       "4723  Mr Elon Musk for president 🤔🤔 https://t.co/BdL...       consuleduc   \n",
       "4724  \"You could run a Hyperloop through the vacuum ...        heymrbrad   \n",
       "4725  Elon Musk would have the world trade excessive...        LGKatzPhD   \n",
       "4726  If Elon #Musk starts charging for your #Twitte...       BMW_Borger   \n",
       "4727  @TerriMichelle11 Marybeth Jeffries isn't my re...  MarybethJeffr10   \n",
       "\n",
       "               Keyword                                        CleanedText  \\\n",
       "0     #TwitterTakeOver  You know, instead of all the tweets of \"Elon M...   \n",
       "1     #TwitterTakeOver  Pssstttt I have a secret .... Turns out @elonm...   \n",
       "2     #TwitterTakeOver  Twitter take over😂 @elonmusk the kung fu is st...   \n",
       "3     #TwitterTakeOver  To the people who are so worked up about how @...   \n",
       "4     #TwitterTakeOver  President Trump's next tweet; the world's most...   \n",
       "...                ...                                                ...   \n",
       "4723         Elon Musk                Mr Elon Musk for president 🤔🤔 <URL>   \n",
       "4724         Elon Musk  \"You could run a Hyperloop through the vacuum ...   \n",
       "4725         Elon Musk  Elon Musk would have the world trade excessive...   \n",
       "4726         Elon Musk  If Elon #Musk starts charging for your #Twitte...   \n",
       "4727         Elon Musk  @TerriMichelle11 Marybeth Jeffries isn't my re...   \n",
       "\n",
       "      VADER_Compound  \n",
       "0            -0.6486  \n",
       "1            -0.2500  \n",
       "2             0.1280  \n",
       "3             0.4215  \n",
       "4            -0.1010  \n",
       "...              ...  \n",
       "4723          0.0000  \n",
       "4724          0.6808  \n",
       "4725          0.0000  \n",
       "4726          0.5484  \n",
       "4727          0.7650  \n",
       "\n",
       "[4728 rows x 7 columns]"
      ]
     },
     "execution_count": 4,
     "metadata": {},
     "output_type": "execute_result"
    }
   ],
   "source": [
    "tweets042522"
   ]
  },
  {
   "cell_type": "markdown",
   "id": "3b113a38-a365-40a6-b0cb-bed2e8e65345",
   "metadata": {},
   "source": [
    "#### Trying scweet for scraping user following\n",
    "https://github.com/Altimis/Scweet"
   ]
  },
  {
   "cell_type": "code",
   "execution_count": 73,
   "id": "330626b3-23e4-4086-9e0f-5374961663f3",
   "metadata": {
    "collapsed": true,
    "jupyter": {
     "outputs_hidden": true
    },
    "tags": []
   },
   "outputs": [
    {
     "name": "stdout",
     "output_type": "stream",
     "text": [
      "Collecting Scweet==1.8\n",
      "  Downloading Scweet-1.8-py3-none-any.whl (14 kB)\n",
      "Requirement already satisfied: pandas in c:\\users\\josh_wang\\anaconda3\\lib\\site-packages (from Scweet==1.8) (1.3.5)\n",
      "Collecting chromedriver-autoinstaller\n",
      "  Downloading chromedriver_autoinstaller-0.3.1-py3-none-any.whl (6.3 kB)\n",
      "Collecting python-dotenv\n",
      "  Downloading python_dotenv-0.20.0-py3-none-any.whl (17 kB)\n",
      "Requirement already satisfied: urllib3 in c:\\users\\josh_wang\\anaconda3\\lib\\site-packages (from Scweet==1.8) (1.26.4)\n",
      "Requirement already satisfied: selenium in c:\\users\\josh_wang\\anaconda3\\lib\\site-packages (from Scweet==1.8) (4.1.0)\n",
      "Requirement already satisfied: pytz>=2017.3 in c:\\users\\josh_wang\\anaconda3\\lib\\site-packages (from pandas->Scweet==1.8) (2021.1)\n",
      "Requirement already satisfied: numpy>=1.17.3 in c:\\users\\josh_wang\\anaconda3\\lib\\site-packages (from pandas->Scweet==1.8) (1.22.3)\n",
      "Requirement already satisfied: python-dateutil>=2.7.3 in c:\\users\\josh_wang\\anaconda3\\lib\\site-packages (from pandas->Scweet==1.8) (2.8.1)\n",
      "Requirement already satisfied: trio~=0.17 in c:\\users\\josh_wang\\anaconda3\\lib\\site-packages (from selenium->Scweet==1.8) (0.19.0)\n",
      "Requirement already satisfied: trio-websocket~=0.9 in c:\\users\\josh_wang\\anaconda3\\lib\\site-packages (from selenium->Scweet==1.8) (0.9.2)\n",
      "Requirement already satisfied: six>=1.5 in c:\\users\\josh_wang\\anaconda3\\lib\\site-packages (from python-dateutil>=2.7.3->pandas->Scweet==1.8) (1.15.0)\n",
      "Requirement already satisfied: cffi>=1.14 in c:\\users\\josh_wang\\anaconda3\\lib\\site-packages (from trio~=0.17->selenium->Scweet==1.8) (1.14.5)\n",
      "Requirement already satisfied: async-generator>=1.9 in c:\\users\\josh_wang\\anaconda3\\lib\\site-packages (from trio~=0.17->selenium->Scweet==1.8) (1.10)\n",
      "Requirement already satisfied: outcome in c:\\users\\josh_wang\\anaconda3\\lib\\site-packages (from trio~=0.17->selenium->Scweet==1.8) (1.1.0)\n",
      "Requirement already satisfied: sortedcontainers in c:\\users\\josh_wang\\anaconda3\\lib\\site-packages (from trio~=0.17->selenium->Scweet==1.8) (2.3.0)\n",
      "Requirement already satisfied: attrs>=19.2.0 in c:\\users\\josh_wang\\anaconda3\\lib\\site-packages (from trio~=0.17->selenium->Scweet==1.8) (21.2.0)\n",
      "Requirement already satisfied: sniffio in c:\\users\\josh_wang\\anaconda3\\lib\\site-packages (from trio~=0.17->selenium->Scweet==1.8) (1.2.0)\n",
      "Requirement already satisfied: idna in c:\\users\\josh_wang\\anaconda3\\lib\\site-packages (from trio~=0.17->selenium->Scweet==1.8) (2.10)\n",
      "Requirement already satisfied: wsproto>=0.14 in c:\\users\\josh_wang\\anaconda3\\lib\\site-packages (from trio-websocket~=0.9->selenium->Scweet==1.8) (1.0.0)\n",
      "Requirement already satisfied: pyOpenSSL>=0.14 in c:\\users\\josh_wang\\anaconda3\\lib\\site-packages (from urllib3->Scweet==1.8) (20.0.1)\n",
      "Requirement already satisfied: certifi in c:\\users\\josh_wang\\anaconda3\\lib\\site-packages (from urllib3->Scweet==1.8) (2021.10.8)\n",
      "Requirement already satisfied: cryptography>=1.3.4 in c:\\users\\josh_wang\\anaconda3\\lib\\site-packages (from urllib3->Scweet==1.8) (3.4.7)\n",
      "Requirement already satisfied: pycparser in c:\\users\\josh_wang\\anaconda3\\lib\\site-packages (from cffi>=1.14->trio~=0.17->selenium->Scweet==1.8) (2.20)\n",
      "Requirement already satisfied: h11<1,>=0.9.0 in c:\\users\\josh_wang\\anaconda3\\lib\\site-packages (from wsproto>=0.14->trio-websocket~=0.9->selenium->Scweet==1.8) (0.13.0)\n",
      "Installing collected packages: python-dotenv, chromedriver-autoinstaller, Scweet\n",
      "Successfully installed Scweet-1.8 chromedriver-autoinstaller-0.3.1 python-dotenv-0.20.0\n"
     ]
    }
   ],
   "source": [
    "#!pip install Scweet==1.8"
   ]
  },
  {
   "cell_type": "code",
   "execution_count": 74,
   "id": "d0252b28-4d26-40f8-8b84-58ae5bc9c676",
   "metadata": {
    "collapsed": true,
    "jupyter": {
     "outputs_hidden": true
    },
    "tags": []
   },
   "outputs": [
    {
     "name": "stdout",
     "output_type": "stream",
     "text": [
      "Requirement already satisfied: certifi in c:\\users\\josh_wang\\anaconda3\\lib\\site-packages (2021.10.8)\n",
      "Requirement already satisfied: python-dotenv in c:\\users\\josh_wang\\anaconda3\\lib\\site-packages (0.20.0)\n",
      "Requirement already satisfied: chromedriver-autoinstaller in c:\\users\\josh_wang\\anaconda3\\lib\\site-packages (0.3.1)\n",
      "Collecting geckodriver-autoinstaller\n",
      "  Downloading geckodriver_autoinstaller-0.1.0-py3-none-any.whl (5.6 kB)\n",
      "Requirement already satisfied: urllib3 in c:\\users\\josh_wang\\anaconda3\\lib\\site-packages (1.26.4)\n",
      "Installing collected packages: geckodriver-autoinstaller\n",
      "Successfully installed geckodriver-autoinstaller-0.1.0\n"
     ]
    }
   ],
   "source": [
    "#!pip install certifi python-dotenv chromedriver-autoinstaller geckodriver-autoinstaller urllib3"
   ]
  },
  {
   "cell_type": "code",
   "execution_count": 76,
   "id": "26e1d964-081b-433f-9e07-9035e0d2a522",
   "metadata": {},
   "outputs": [],
   "source": [
    "from Scweet.scweet import scrape\n",
    "from Scweet.user import get_user_information, get_users_following, get_users_followers"
   ]
  },
  {
   "cell_type": "code",
   "execution_count": 80,
   "id": "b9cd7c8d-0df0-43da-b4d4-8f78b7489420",
   "metadata": {},
   "outputs": [],
   "source": []
  },
  {
   "cell_type": "code",
   "execution_count": 84,
   "id": "8e9e2deb-e349-4d91-bf91-f4d266d751a8",
   "metadata": {},
   "outputs": [
    {
     "name": "stdout",
     "output_type": "stream",
     "text": [
      "Scraping on headless mode.\n",
      "Crawling whatisKhaiki following\n",
      "Found 16 following\n",
      "Found 36 following\n",
      "Found 50 following\n",
      "Crawling CoshJoulter following\n",
      "Found 17 following\n",
      "Found 36 following\n",
      "Found 50 following\n",
      "file saved in outputs/whatisKhaiki_CoshJoulter_following.json\n"
     ]
    }
   ],
   "source": [
    "users=tweets042522.Username.unique()[:2]\n",
    "env_path='.env'\n",
    "following_info=get_users_following(users=users, env=env_path, verbose=0, headless=True, wait=2, limit=50, file_path=None)"
   ]
  },
  {
   "cell_type": "code",
   "execution_count": 71,
   "id": "ae743993-2d2a-43b5-b76c-de0258674293",
   "metadata": {
    "tags": []
   },
   "outputs": [
    {
     "name": "stderr",
     "output_type": "stream",
     "text": [
      "  5%|██                                        | 5/100 [00:01<00:25,  3.73it/s]Rate limit reached. Sleeping for: 868\n",
      " 17%|██████▋                                | 17/100 [14:34<1:11:10, 51.45s/it]\n"
     ]
    },
    {
     "ename": "NotFound",
     "evalue": "404 Not Found\n34 - Sorry, that page does not exist.",
     "output_type": "error",
     "traceback": [
      "\u001b[1;31m---------------------------------------------------------------------------\u001b[0m",
      "\u001b[1;31mNotFound\u001b[0m                                  Traceback (most recent call last)",
      "Input \u001b[1;32mIn [71]\u001b[0m, in \u001b[0;36m<cell line: 2>\u001b[1;34m()\u001b[0m\n\u001b[0;32m      1\u001b[0m outdict\u001b[38;5;241m=\u001b[39m{}\n\u001b[0;32m      2\u001b[0m \u001b[38;5;28;01mfor\u001b[39;00m user \u001b[38;5;129;01min\u001b[39;00m tqdm(tweets042522\u001b[38;5;241m.\u001b[39mUsername\u001b[38;5;241m.\u001b[39munique()[:\u001b[38;5;241m100\u001b[39m]):\n\u001b[1;32m----> 3\u001b[0m     friendlist\u001b[38;5;241m=\u001b[39m\u001b[43mapi\u001b[49m\u001b[38;5;241;43m.\u001b[39;49m\u001b[43mget_friend_ids\u001b[49m\u001b[43m(\u001b[49m\u001b[43mscreen_name\u001b[49m\u001b[38;5;241;43m=\u001b[39;49m\u001b[43muser\u001b[49m\u001b[43m)\u001b[49m\n\u001b[0;32m      4\u001b[0m     left_intersect \u001b[38;5;241m=\u001b[39m \u001b[38;5;28mlist\u001b[39m(\u001b[38;5;28mset\u001b[39m(friendlist) \u001b[38;5;241m&\u001b[39m \u001b[38;5;28mset\u001b[39m(left_ids))\n\u001b[0;32m      5\u001b[0m     right_intersect \u001b[38;5;241m=\u001b[39m \u001b[38;5;28mlist\u001b[39m(\u001b[38;5;28mset\u001b[39m(friendlist) \u001b[38;5;241m&\u001b[39m \u001b[38;5;28mset\u001b[39m(right_ids))\n",
      "File \u001b[1;32m~\\anaconda3\\lib\\site-packages\\tweepy\\api.py:33\u001b[0m, in \u001b[0;36mpagination.<locals>.decorator.<locals>.wrapper\u001b[1;34m(*args, **kwargs)\u001b[0m\n\u001b[0;32m     31\u001b[0m \u001b[38;5;129m@functools\u001b[39m\u001b[38;5;241m.\u001b[39mwraps(method)\n\u001b[0;32m     32\u001b[0m \u001b[38;5;28;01mdef\u001b[39;00m \u001b[38;5;21mwrapper\u001b[39m(\u001b[38;5;241m*\u001b[39margs, \u001b[38;5;241m*\u001b[39m\u001b[38;5;241m*\u001b[39mkwargs):\n\u001b[1;32m---> 33\u001b[0m     \u001b[38;5;28;01mreturn\u001b[39;00m \u001b[43mmethod\u001b[49m\u001b[43m(\u001b[49m\u001b[38;5;241;43m*\u001b[39;49m\u001b[43margs\u001b[49m\u001b[43m,\u001b[49m\u001b[43m \u001b[49m\u001b[38;5;241;43m*\u001b[39;49m\u001b[38;5;241;43m*\u001b[39;49m\u001b[43mkwargs\u001b[49m\u001b[43m)\u001b[49m\n",
      "File \u001b[1;32m~\\anaconda3\\lib\\site-packages\\tweepy\\api.py:46\u001b[0m, in \u001b[0;36mpayload.<locals>.decorator.<locals>.wrapper\u001b[1;34m(*args, **kwargs)\u001b[0m\n\u001b[0;32m     44\u001b[0m kwargs[\u001b[38;5;124m'\u001b[39m\u001b[38;5;124mpayload_list\u001b[39m\u001b[38;5;124m'\u001b[39m] \u001b[38;5;241m=\u001b[39m payload_list\n\u001b[0;32m     45\u001b[0m kwargs[\u001b[38;5;124m'\u001b[39m\u001b[38;5;124mpayload_type\u001b[39m\u001b[38;5;124m'\u001b[39m] \u001b[38;5;241m=\u001b[39m payload_type\n\u001b[1;32m---> 46\u001b[0m \u001b[38;5;28;01mreturn\u001b[39;00m \u001b[43mmethod\u001b[49m\u001b[43m(\u001b[49m\u001b[38;5;241;43m*\u001b[39;49m\u001b[43margs\u001b[49m\u001b[43m,\u001b[49m\u001b[43m \u001b[49m\u001b[38;5;241;43m*\u001b[39;49m\u001b[38;5;241;43m*\u001b[39;49m\u001b[43mkwargs\u001b[49m\u001b[43m)\u001b[49m\n",
      "File \u001b[1;32m~\\anaconda3\\lib\\site-packages\\tweepy\\api.py:2195\u001b[0m, in \u001b[0;36mAPI.get_friend_ids\u001b[1;34m(self, **kwargs)\u001b[0m\n\u001b[0;32m   2162\u001b[0m \u001b[38;5;129m@pagination\u001b[39m(mode\u001b[38;5;241m=\u001b[39m\u001b[38;5;124m'\u001b[39m\u001b[38;5;124mcursor\u001b[39m\u001b[38;5;124m'\u001b[39m)\n\u001b[0;32m   2163\u001b[0m \u001b[38;5;129m@payload\u001b[39m(\u001b[38;5;124m'\u001b[39m\u001b[38;5;124mids\u001b[39m\u001b[38;5;124m'\u001b[39m)\n\u001b[0;32m   2164\u001b[0m \u001b[38;5;28;01mdef\u001b[39;00m \u001b[38;5;21mget_friend_ids\u001b[39m(\u001b[38;5;28mself\u001b[39m, \u001b[38;5;241m*\u001b[39m\u001b[38;5;241m*\u001b[39mkwargs):\n\u001b[0;32m   2165\u001b[0m     \u001b[38;5;124;03m\"\"\"get_friend_ids(*, user_id, screen_name, cursor, stringify_ids, \\\u001b[39;00m\n\u001b[0;32m   2166\u001b[0m \u001b[38;5;124;03m                      count)\u001b[39;00m\n\u001b[0;32m   2167\u001b[0m \n\u001b[1;32m   (...)\u001b[0m\n\u001b[0;32m   2193\u001b[0m \u001b[38;5;124;03m    https://developer.twitter.com/en/docs/twitter-api/v1/accounts-and-users/follow-search-get-users/api-reference/get-friends-ids\u001b[39;00m\n\u001b[0;32m   2194\u001b[0m \u001b[38;5;124;03m    \"\"\"\u001b[39;00m\n\u001b[1;32m-> 2195\u001b[0m     \u001b[38;5;28;01mreturn\u001b[39;00m \u001b[38;5;28;43mself\u001b[39;49m\u001b[38;5;241;43m.\u001b[39;49m\u001b[43mrequest\u001b[49m\u001b[43m(\u001b[49m\n\u001b[0;32m   2196\u001b[0m \u001b[43m        \u001b[49m\u001b[38;5;124;43m'\u001b[39;49m\u001b[38;5;124;43mGET\u001b[39;49m\u001b[38;5;124;43m'\u001b[39;49m\u001b[43m,\u001b[49m\u001b[43m \u001b[49m\u001b[38;5;124;43m'\u001b[39;49m\u001b[38;5;124;43mfriends/ids\u001b[39;49m\u001b[38;5;124;43m'\u001b[39;49m\u001b[43m,\u001b[49m\u001b[43m \u001b[49m\u001b[43mendpoint_parameters\u001b[49m\u001b[38;5;241;43m=\u001b[39;49m\u001b[43m(\u001b[49m\n\u001b[0;32m   2197\u001b[0m \u001b[43m            \u001b[49m\u001b[38;5;124;43m'\u001b[39;49m\u001b[38;5;124;43muser_id\u001b[39;49m\u001b[38;5;124;43m'\u001b[39;49m\u001b[43m,\u001b[49m\u001b[43m \u001b[49m\u001b[38;5;124;43m'\u001b[39;49m\u001b[38;5;124;43mscreen_name\u001b[39;49m\u001b[38;5;124;43m'\u001b[39;49m\u001b[43m,\u001b[49m\u001b[43m \u001b[49m\u001b[38;5;124;43m'\u001b[39;49m\u001b[38;5;124;43mcursor\u001b[39;49m\u001b[38;5;124;43m'\u001b[39;49m\u001b[43m,\u001b[49m\u001b[43m \u001b[49m\u001b[38;5;124;43m'\u001b[39;49m\u001b[38;5;124;43mstringify_ids\u001b[39;49m\u001b[38;5;124;43m'\u001b[39;49m\u001b[43m,\u001b[49m\u001b[43m \u001b[49m\u001b[38;5;124;43m'\u001b[39;49m\u001b[38;5;124;43mcount\u001b[39;49m\u001b[38;5;124;43m'\u001b[39;49m\n\u001b[0;32m   2198\u001b[0m \u001b[43m        \u001b[49m\u001b[43m)\u001b[49m\u001b[43m,\u001b[49m\u001b[43m \u001b[49m\u001b[38;5;241;43m*\u001b[39;49m\u001b[38;5;241;43m*\u001b[39;49m\u001b[43mkwargs\u001b[49m\n\u001b[0;32m   2199\u001b[0m \u001b[43m    \u001b[49m\u001b[43m)\u001b[49m\n",
      "File \u001b[1;32m~\\anaconda3\\lib\\site-packages\\tweepy\\api.py:261\u001b[0m, in \u001b[0;36mAPI.request\u001b[1;34m(self, method, endpoint, endpoint_parameters, params, headers, json_payload, parser, payload_list, payload_type, post_data, files, require_auth, return_cursors, upload_api, use_cache, **kwargs)\u001b[0m\n\u001b[0;32m    259\u001b[0m     \u001b[38;5;28;01mraise\u001b[39;00m Forbidden(resp)\n\u001b[0;32m    260\u001b[0m \u001b[38;5;28;01mif\u001b[39;00m resp\u001b[38;5;241m.\u001b[39mstatus_code \u001b[38;5;241m==\u001b[39m \u001b[38;5;241m404\u001b[39m:\n\u001b[1;32m--> 261\u001b[0m     \u001b[38;5;28;01mraise\u001b[39;00m NotFound(resp)\n\u001b[0;32m    262\u001b[0m \u001b[38;5;28;01mif\u001b[39;00m resp\u001b[38;5;241m.\u001b[39mstatus_code \u001b[38;5;241m==\u001b[39m \u001b[38;5;241m429\u001b[39m:\n\u001b[0;32m    263\u001b[0m     \u001b[38;5;28;01mraise\u001b[39;00m TooManyRequests(resp)\n",
      "\u001b[1;31mNotFound\u001b[0m: 404 Not Found\n34 - Sorry, that page does not exist."
     ]
    }
   ],
   "source": [
    "outdict={}\n",
    "for user in tqdm(tweets042522.Username.unique()[:100]):\n",
    "    friendlist=api.get_friend_ids(screen_name=user)\n",
    "    left_intersect = list(set(friendlist) & set(left_ids))\n",
    "    right_intersect = list(set(friendlist) & set(right_ids))\n",
    "    totalcount = len(left_intersect + right_intersect)\n",
    "    if totalcount > 3 and (len(left_intersect)/totalcount) > 0.8:\n",
    "        outdict[user] = 'Left'\n",
    "    elif totalcount > 3 and (len(right_intersect)/totalcount) > 0.8:\n",
    "        outdict[user] = 'Right'\n",
    "    else:\n",
    "        outdict[user] = 'None'"
   ]
  },
  {
   "cell_type": "code",
   "execution_count": 72,
   "id": "75fa049c-4ade-467c-9115-848519e54ce1",
   "metadata": {},
   "outputs": [
    {
     "data": {
      "text/plain": [
       "{'whatisKhaiki': 'None',\n",
       " 'CoshJoulter': 'None',\n",
       " 'MrSotAman1': 'None',\n",
       " 'soitweetyeah76': 'None',\n",
       " 'dialecticum': 'None',\n",
       " 'Nagerharish': 'None',\n",
       " 'marmotadelaeco': 'None',\n",
       " 'copycat21c': 'None',\n",
       " 'TyMorrell': 'None',\n",
       " '1Brightway': 'None',\n",
       " 'nudge2409': 'None',\n",
       " 'gnickturner': 'None',\n",
       " 'realBlakeBeye': 'None',\n",
       " 'KKoomara': 'None',\n",
       " 'g1patnaik': 'None',\n",
       " 'GenDisdain': 'None',\n",
       " 'PUREWHITEDECO': 'None'}"
      ]
     },
     "execution_count": 72,
     "metadata": {},
     "output_type": "execute_result"
    }
   ],
   "source": [
    "outdict"
   ]
  },
  {
   "cell_type": "code",
   "execution_count": null,
   "id": "1dd78d61-485b-4241-a75a-875ab5053c5c",
   "metadata": {},
   "outputs": [],
   "source": []
  }
 ],
 "metadata": {
  "kernelspec": {
   "display_name": "Python 3 (ipykernel)",
   "language": "python",
   "name": "python3"
  },
  "language_info": {
   "codemirror_mode": {
    "name": "ipython",
    "version": 3
   },
   "file_extension": ".py",
   "mimetype": "text/x-python",
   "name": "python",
   "nbconvert_exporter": "python",
   "pygments_lexer": "ipython3",
   "version": "3.8.8"
  }
 },
 "nbformat": 4,
 "nbformat_minor": 5
}
